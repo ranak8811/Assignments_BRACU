{
  "nbformat": 4,
  "nbformat_minor": 0,
  "metadata": {
    "colab": {
      "provenance": [],
      "authorship_tag": "ABX9TyPlvFRrZO2eaaRNfjf+05mn",
      "include_colab_link": true
    },
    "kernelspec": {
      "name": "python3",
      "display_name": "Python 3"
    },
    "language_info": {
      "name": "python"
    }
  },
  "cells": [
    {
      "cell_type": "markdown",
      "metadata": {
        "id": "view-in-github",
        "colab_type": "text"
      },
      "source": [
        "<a href=\"https://colab.research.google.com/github/ANWAR8811/Assignments/blob/main/CSE_Lab_class_2_(11_6_23).ipynb\" target=\"_parent\"><img src=\"https://colab.research.google.com/assets/colab-badge.svg\" alt=\"Open In Colab\"/></a>"
      ]
    },
    {
      "cell_type": "code",
      "execution_count": null,
      "metadata": {
        "colab": {
          "base_uri": "https://localhost:8080/",
          "height": 240
        },
        "id": "16wNQiyV4kFc",
        "outputId": "3d5d1de4-7e70-4fdf-f36a-28cbc5b16535"
      },
      "outputs": [
        {
          "output_type": "error",
          "ename": "FileNotFoundError",
          "evalue": "ignored",
          "traceback": [
            "\u001b[0;31m---------------------------------------------------------------------------\u001b[0m",
            "\u001b[0;31mFileNotFoundError\u001b[0m                         Traceback (most recent call last)",
            "\u001b[0;32m<ipython-input-1-a040774f182e>\u001b[0m in \u001b[0;36m<cell line: 1>\u001b[0;34m()\u001b[0m\n\u001b[0;32m----> 1\u001b[0;31m \u001b[0mf1\u001b[0m \u001b[0;34m=\u001b[0m \u001b[0mopen\u001b[0m\u001b[0;34m(\u001b[0m\u001b[0;34m'input1_1.txt'\u001b[0m\u001b[0;34m,\u001b[0m \u001b[0;34m'r'\u001b[0m\u001b[0;34m)\u001b[0m\u001b[0;34m\u001b[0m\u001b[0;34m\u001b[0m\u001b[0m\n\u001b[0m\u001b[1;32m      2\u001b[0m \u001b[0mf2\u001b[0m \u001b[0;34m=\u001b[0m \u001b[0mopen\u001b[0m\u001b[0;34m(\u001b[0m\u001b[0;34m'output1_1.txt'\u001b[0m\u001b[0;34m,\u001b[0m \u001b[0;34m'w'\u001b[0m\u001b[0;34m)\u001b[0m\u001b[0;34m\u001b[0m\u001b[0;34m\u001b[0m\u001b[0m\n\u001b[1;32m      3\u001b[0m \u001b[0;34m\u001b[0m\u001b[0m\n\u001b[1;32m      4\u001b[0m \u001b[0mfline\u001b[0m \u001b[0;34m=\u001b[0m \u001b[0mf1\u001b[0m\u001b[0;34m.\u001b[0m\u001b[0mreadline\u001b[0m\u001b[0;34m(\u001b[0m\u001b[0;34m)\u001b[0m\u001b[0;34m.\u001b[0m\u001b[0mstrip\u001b[0m\u001b[0;34m(\u001b[0m\u001b[0;34m)\u001b[0m\u001b[0;34m.\u001b[0m\u001b[0msplit\u001b[0m\u001b[0;34m(\u001b[0m\u001b[0;34m)\u001b[0m\u001b[0;34m\u001b[0m\u001b[0;34m\u001b[0m\u001b[0m\n\u001b[1;32m      5\u001b[0m \u001b[0mN\u001b[0m \u001b[0;34m=\u001b[0m \u001b[0mint\u001b[0m\u001b[0;34m(\u001b[0m\u001b[0mfline\u001b[0m\u001b[0;34m[\u001b[0m\u001b[0;36m0\u001b[0m\u001b[0;34m]\u001b[0m\u001b[0;34m)\u001b[0m\u001b[0;34m\u001b[0m\u001b[0;34m\u001b[0m\u001b[0m\n",
            "\u001b[0;31mFileNotFoundError\u001b[0m: [Errno 2] No such file or directory: 'input1_1.txt'"
          ]
        }
      ],
      "source": [
        "f1 = open('input1_1.txt', 'r')\n",
        "f2 = open('output1_1.txt', 'w')\n",
        "\n",
        "fline = f1.readline().strip().split()\n",
        "N = int(fline[0])\n",
        "S = int(fline[1])\n",
        "\n",
        "nums = list(map(int, f1.readline().strip().split()))  ## [3, 7, 1, 5]\n",
        "flag = False\n",
        "for i in range(len(nums)):\n",
        "    for j in range(i+1, len(nums)):\n",
        "        # if i == j:\n",
        "        #     continue\n",
        "        # else:\n",
        "        if nums[i] + nums[j] == S:\n",
        "            f2.write(f\"{i} {j}\\n\")\n",
        "            # print(i,j)\n",
        "            flag = True\n",
        "            break\n",
        "\n",
        "if not flag:\n",
        "    f2.write(f\"IMPOSSIBLE\\n\")\n",
        "# print(nums)\n",
        "\n",
        "\n",
        "f1.close()\n",
        "f2.close()\n",
        "\n",
        "\n",
        "# f1 = open('input1_1.txt', 'r')\n",
        "# f2 = open('output1_1.txt', 'w')\n",
        "\n",
        "# fline = f1.readline().strip().split()\n",
        "# N = int(fline[0])\n",
        "# S = int(fline[1])\n",
        "\n",
        "# nums = list(map(int, f1.readline().strip().split()))  ## [3, 7, 1, 5]\n",
        "\n",
        "# found = False  # Flag to track if a pair has been found\n",
        "# for i in range(len(nums)):\n",
        "#     for j in range(i + 1, len(nums)):  # Start j loop from i + 1 to avoid duplicate pairs\n",
        "#         if nums[i] + nums[j] == S:\n",
        "#             f2.write(f\"{i} {j}\\n\")\n",
        "#             found = True\n",
        "#             break\n",
        "\n",
        "# if not found:\n",
        "#     f2.write(\"No pair found\\n\")\n",
        "\n",
        "# f1.close()\n",
        "# f2.close()\n"
      ]
    },
    {
      "cell_type": "code",
      "source": [
        "def find_pair(a, S):\n",
        "    n = len(a)\n",
        "    a = [(a[i], i+1) for i in range(n)]\n",
        "    a.sort()\n",
        "    left, right = 0, n-1\n",
        "    while left < right:                               ## Using O(NlogN)\n",
        "        if a[left][0] + a[right][0] == S:\n",
        "            return (a[left][1], a[right][1])\n",
        "        elif a[left][0] + a[right][0] < S:\n",
        "            left += 1\n",
        "        else:\n",
        "            right -= 1\n",
        "    return \"IMPOSSIBLE\"\n",
        "\n",
        "a = [3, 7, 1, 5]\n",
        "S = 10\n",
        "print(find_pair(a, S)) # Output: (1, 2)\n"
      ],
      "metadata": {
        "colab": {
          "base_uri": "https://localhost:8080/"
        },
        "id": "TMF4o_oM1X38",
        "outputId": "5abc6880-e608-4385-edda-d1255e6fca2c"
      },
      "execution_count": null,
      "outputs": [
        {
          "output_type": "stream",
          "name": "stdout",
          "text": [
            "(1, 2)\n"
          ]
        }
      ]
    },
    {
      "cell_type": "code",
      "source": [
        "def find_pair(a, S):\n",
        "    n = len(a)\n",
        "    d = {}\n",
        "    for i in range(n):                               ## Using O(N)\n",
        "        if S - a[i] in d:\n",
        "            return (d[S-a[i]]+1, i+1)\n",
        "        d[a[i]] = i\n",
        "    return \"IMPOSSIBLE\"\n",
        "\n",
        "a = [3, 7, 1, 5]\n",
        "S = 10\n",
        "print(find_pair(a, S)) # Output: (1, 2)\n"
      ],
      "metadata": {
        "colab": {
          "base_uri": "https://localhost:8080/"
        },
        "id": "MtYitJk01jWU",
        "outputId": "58300989-43f0-41c1-eae9-8db66c243d61"
      },
      "execution_count": null,
      "outputs": [
        {
          "output_type": "stream",
          "name": "stdout",
          "text": [
            "(1, 2)\n"
          ]
        }
      ]
    },
    {
      "cell_type": "code",
      "source": [
        "# Example 1: Add two numbers using a lambda function\n",
        "add_numbers = lambda x, y: x + y\n",
        "result = add_numbers(5, 3)\n",
        "print(result)  # Output: 8\n",
        "\n",
        "# Step-by-step explanation:\n",
        "# 1. The lambda keyword is used to define an anonymous function.\n",
        "# 2. After lambda, we specify the function parameters (x, y in this case).\n",
        "# 3. Then comes a colon (:) to separate the parameters from the function body.\n",
        "# 4. The function body is a single expression that is evaluated and returned.\n",
        "# 5. In this example, the lambda function adds the values of x and y and returns the result.\n",
        "# 6. The lambda function is assigned to the variable add_numbers.\n",
        "# 7. To use the lambda function, we call it like a regular function, passing the arguments (5 and 3).\n",
        "# 8. The result of the lambda function is stored in the variable result.\n",
        "# 9. Finally, we print the result, which is 8.\n",
        "\n",
        "# Example 2: Square a number using a lambda function\n",
        "square_number = lambda x: x ** 2\n",
        "result = square_number(4)\n",
        "print(result)  # Output: 16\n",
        "\n",
        "# Step-by-step explanation:\n",
        "# 1. Another lambda function is defined, this time with a single parameter (x).\n",
        "# 2. The function body squares the value of x using the ** operator (exponentiation).\n",
        "# 3. The squared value is returned as the result of the lambda function.\n",
        "# 4. The lambda function is assigned to the variable square_number.\n",
        "# 5. We call the lambda function by passing the argument 4.\n",
        "# 6. The result, which is 16, is stored in the variable result.\n",
        "# 7. Finally, we print the result.\n",
        "\n",
        "# Example 3: Sort a list of names using a lambda function\n",
        "names = ['Alice', 'Bob', 'Charlie', 'David', 'Eve']\n",
        "sorted_names = sorted(names, key=lambda x: len(x), reverse=True)\n",
        "print(sorted_names)  # Output: ['Bob', 'Eve', 'Alice', 'David', 'Charlie']\n",
        "\n",
        "# Step-by-step explanation:\n",
        "# 1. This example demonstrates the use of a lambda function as the key parameter in the sorted() function.\n",
        "# 2. The list names contains several names as strings.\n",
        "# 3. The sorted() function is used to sort the names list based on the length of each name.\n",
        "# 4. The key parameter is set to a lambda function that takes a name (x) and returns its length.\n",
        "# 5. The lambda function acts as a custom sorting criterion for the sorted() function.\n",
        "# 6. The sorted names are stored in the sorted_names list.\n",
        "# 7. Finally, we print the sorted_names list, which shows the names sorted by length.\n"
      ],
      "metadata": {
        "colab": {
          "base_uri": "https://localhost:8080/"
        },
        "id": "dPRj8YDoXscv",
        "outputId": "75c3e8cd-13e9-4d53-a637-8a00cd6790a8"
      },
      "execution_count": null,
      "outputs": [
        {
          "output_type": "stream",
          "name": "stdout",
          "text": [
            "8\n",
            "16\n",
            "['Charlie', 'Alice', 'David', 'Bob', 'Eve']\n"
          ]
        }
      ]
    },
    {
      "cell_type": "code",
      "source": [
        "sqre = lambda x, y: x**y\n",
        "\n",
        "res = sqre(2,10)\n",
        "print(res)"
      ],
      "metadata": {
        "colab": {
          "base_uri": "https://localhost:8080/"
        },
        "id": "eLCR9BQyX-tr",
        "outputId": "a059e7a3-6957-4aac-842c-837f824994b9"
      },
      "execution_count": null,
      "outputs": [
        {
          "output_type": "stream",
          "name": "stdout",
          "text": [
            "1024\n"
          ]
        }
      ]
    },
    {
      "cell_type": "code",
      "source": [
        "a = 'Rana'\n",
        "b = 'Anwar'\n",
        "if a > b:\n",
        "  print(a)\n",
        "else:\n",
        "  print(b)\n"
      ],
      "metadata": {
        "colab": {
          "base_uri": "https://localhost:8080/"
        },
        "id": "4ItQb_B8YXkz",
        "outputId": "f15edd6c-52df-4d49-8232-84729992d4d2"
      },
      "execution_count": null,
      "outputs": [
        {
          "output_type": "stream",
          "name": "stdout",
          "text": [
            "Rana\n"
          ]
        }
      ]
    },
    {
      "cell_type": "code",
      "source": [
        "names = ['Alice', 'Bob', 'Charlie', 'David', 'Eve']\n",
        "names.sort(reverse=True)\n",
        "print(names)"
      ],
      "metadata": {
        "colab": {
          "base_uri": "https://localhost:8080/"
        },
        "id": "OsgHCg53cfj3",
        "outputId": "ffcb9325-7cf7-4329-ea00-5d8701111f27"
      },
      "execution_count": null,
      "outputs": [
        {
          "output_type": "stream",
          "name": "stdout",
          "text": [
            "['Eve', 'David', 'Charlie', 'Bob', 'Alice']\n"
          ]
        }
      ]
    },
    {
      "cell_type": "code",
      "source": [
        "names = ['Alice', 'Bob', 'Charlie', 'David', 'Eve']\n",
        "# names.sorted(reverse=True)\n",
        "change = names.sorted()\n",
        "print(change)"
      ],
      "metadata": {
        "colab": {
          "base_uri": "https://localhost:8080/",
          "height": 222
        },
        "id": "IEF77-dWcm-q",
        "outputId": "dcc8c1bc-5e1d-4960-dddb-8c89c15ae0c0"
      },
      "execution_count": null,
      "outputs": [
        {
          "output_type": "error",
          "ename": "AttributeError",
          "evalue": "ignored",
          "traceback": [
            "\u001b[0;31m---------------------------------------------------------------------------\u001b[0m",
            "\u001b[0;31mAttributeError\u001b[0m                            Traceback (most recent call last)",
            "\u001b[0;32m<ipython-input-8-646cd7db2db1>\u001b[0m in \u001b[0;36m<cell line: 3>\u001b[0;34m()\u001b[0m\n\u001b[1;32m      1\u001b[0m \u001b[0mnames\u001b[0m \u001b[0;34m=\u001b[0m \u001b[0;34m[\u001b[0m\u001b[0;34m'Alice'\u001b[0m\u001b[0;34m,\u001b[0m \u001b[0;34m'Bob'\u001b[0m\u001b[0;34m,\u001b[0m \u001b[0;34m'Charlie'\u001b[0m\u001b[0;34m,\u001b[0m \u001b[0;34m'David'\u001b[0m\u001b[0;34m,\u001b[0m \u001b[0;34m'Eve'\u001b[0m\u001b[0;34m]\u001b[0m\u001b[0;34m\u001b[0m\u001b[0;34m\u001b[0m\u001b[0m\n\u001b[1;32m      2\u001b[0m \u001b[0;31m# names.sorted(reverse=True)\u001b[0m\u001b[0;34m\u001b[0m\u001b[0;34m\u001b[0m\u001b[0m\n\u001b[0;32m----> 3\u001b[0;31m \u001b[0mchange\u001b[0m \u001b[0;34m=\u001b[0m \u001b[0mnames\u001b[0m\u001b[0;34m.\u001b[0m\u001b[0msorted\u001b[0m\u001b[0;34m(\u001b[0m\u001b[0;34m)\u001b[0m\u001b[0;34m\u001b[0m\u001b[0;34m\u001b[0m\u001b[0m\n\u001b[0m\u001b[1;32m      4\u001b[0m \u001b[0mprint\u001b[0m\u001b[0;34m(\u001b[0m\u001b[0mchange\u001b[0m\u001b[0;34m)\u001b[0m\u001b[0;34m\u001b[0m\u001b[0;34m\u001b[0m\u001b[0m\n",
            "\u001b[0;31mAttributeError\u001b[0m: 'list' object has no attribute 'sorted'"
          ]
        }
      ]
    },
    {
      "cell_type": "code",
      "source": [
        "names = [2,87,4,23,1,44]\n",
        "a = sorted(names,reverse=True)\n",
        "print(a)"
      ],
      "metadata": {
        "colab": {
          "base_uri": "https://localhost:8080/"
        },
        "id": "UOPoZpmJd7hW",
        "outputId": "70b37117-b5f7-48a1-e0d6-4bfec96e33dc"
      },
      "execution_count": null,
      "outputs": [
        {
          "output_type": "stream",
          "name": "stdout",
          "text": [
            "[87, 44, 23, 4, 2, 1]\n"
          ]
        }
      ]
    },
    {
      "cell_type": "code",
      "source": [
        "numbers = [5, 2, 8, 1, 9]\n",
        "sorted_numbers = sorted(numbers)\n",
        "print(sorted_numbers)  # Output: [1, 2, 5, 8, 9]\n"
      ],
      "metadata": {
        "colab": {
          "base_uri": "https://localhost:8080/"
        },
        "id": "lkNd8iFaeTe2",
        "outputId": "f0d62553-7049-4b7a-a66f-1054dad52188"
      },
      "execution_count": null,
      "outputs": [
        {
          "output_type": "stream",
          "name": "stdout",
          "text": [
            "[1, 2, 5, 8, 9]\n"
          ]
        }
      ]
    },
    {
      "cell_type": "code",
      "source": [
        "def bubbleSort(a):\n",
        "  for i in range(len(a)-1):\n",
        "    for j in range(len(a)-i-1):\n",
        "      if a[j] > a[j+1]:\n",
        "        a[j], a[j+1] = a[j+1], a[j]\n",
        "\n",
        "a = [3, 7, 1, 5]\n",
        "bubbleSort(a)\n",
        "print(a)"
      ],
      "metadata": {
        "colab": {
          "base_uri": "https://localhost:8080/"
        },
        "id": "CJOxhJ_08AsF",
        "outputId": "bd125836-09f2-4e18-848b-1d3cfbcd5e30"
      },
      "execution_count": null,
      "outputs": [
        {
          "output_type": "stream",
          "name": "stdout",
          "text": [
            "[1, 3, 5, 7]\n"
          ]
        }
      ]
    },
    {
      "cell_type": "code",
      "source": [
        "def selectionSort(a):\n",
        "  for i in range(len(a)):\n",
        "    min_idx = i\n",
        "    for j in range(i+1, len(a)):\n",
        "      if a[j] < a[min_idx]:\n",
        "        min_idx = j\n",
        "    a[i], a[min_idx] = a[min_idx], a[i]\n",
        "\n",
        "a = [3, 7, -3, 1, 5]\n",
        "selectionSort(a)\n",
        "print(a)"
      ],
      "metadata": {
        "colab": {
          "base_uri": "https://localhost:8080/"
        },
        "id": "FOwgd95WCQ3n",
        "outputId": "8a21a83d-9dd3-4d2e-a48b-25709e2a8fa2"
      },
      "execution_count": null,
      "outputs": [
        {
          "output_type": "stream",
          "name": "stdout",
          "text": [
            "[-3, 1, 3, 5, 7]\n"
          ]
        }
      ]
    },
    {
      "cell_type": "code",
      "source": [
        "def insertionSort(a):\n",
        "  for i in range(1, len(a)):\n",
        "    key = a[i]\n",
        "    j = i - 1\n",
        "    while j >= 0 and a[j] > key:\n",
        "      a[j+1] = a[j]\n",
        "      j -= 1\n",
        "    a[j+1] = key\n",
        "\n",
        "a = [3, 7, -3, 48, 23, 2, 55, 1, 5]\n",
        "insertionSort(a)\n",
        "print(a)"
      ],
      "metadata": {
        "colab": {
          "base_uri": "https://localhost:8080/"
        },
        "id": "VPjRTk0fJVda",
        "outputId": "a7cc9dc2-7ab9-4371-fb22-02e4f9f444e5"
      },
      "execution_count": null,
      "outputs": [
        {
          "output_type": "stream",
          "name": "stdout",
          "text": [
            "[-3, 1, 2, 3, 5, 7, 23, 48, 55]\n"
          ]
        }
      ]
    },
    {
      "cell_type": "code",
      "source": [
        "def merge_sort(arr):\n",
        "  if len(arr)>1:\n",
        "    mid = len(arr)//2\n",
        "\n",
        "    left_half = arr[ : mid]\n",
        "    right_half = arr[mid : ]\n",
        "\n",
        "    merge_sort(left_half)\n",
        "    merge_sort(right_half)\n",
        "\n",
        "    i = j = k = 0\n",
        "    while i < len(left_half) and j < len(right_half):\n",
        "      if left_half[i] < right_half[j]:\n",
        "        arr[k] = left_half[i]\n",
        "        i += 1\n",
        "      else:\n",
        "        arr[k] = right_half[j]\n",
        "        j += 1\n",
        "      k += 1\n",
        "\n",
        "    while i < len(left_half):\n",
        "      arr[k] = left_half[i]\n",
        "      i += 1\n",
        "      k += 1\n",
        "\n",
        "    while j < len(right_half):\n",
        "      arr[k] = right_half[j]\n",
        "      j += 1\n",
        "      k += 1\n",
        "\n",
        "arr = [7,2,9,4,1,3,8,6,1]\n",
        "merge_sort(arr)\n",
        "print(arr)"
      ],
      "metadata": {
        "colab": {
          "base_uri": "https://localhost:8080/"
        },
        "id": "t0Jp8JSrJELC",
        "outputId": "28bb718c-38f0-444f-f0db-7f36619412ab"
      },
      "execution_count": null,
      "outputs": [
        {
          "output_type": "stream",
          "name": "stdout",
          "text": [
            "[1, 1, 2, 3, 4, 6, 7, 8, 9]\n"
          ]
        }
      ]
    },
    {
      "cell_type": "code",
      "source": [
        "a = []\n",
        "inp = input(\"Array item's number: \")\n",
        "for i in range(int(inp)):\n",
        "  a.append(input())\n",
        "print(a)"
      ],
      "metadata": {
        "colab": {
          "base_uri": "https://localhost:8080/"
        },
        "id": "pL9Ywx4YLB2z",
        "outputId": "53920afc-a55c-4ff2-edd1-6bbfb455bb2e"
      },
      "execution_count": null,
      "outputs": [
        {
          "output_type": "stream",
          "name": "stdout",
          "text": [
            "Array item's number: 3\n",
            "Rana\n",
            "Anwar\n",
            "Hossain\n",
            "['Rana', 'Anwar', 'Hossain']\n"
          ]
        }
      ]
    },
    {
      "cell_type": "code",
      "source": [
        "n = int(input())\n",
        "m = int(input())\n",
        "\n",
        "nl = []\n",
        "for i in range(n):\n",
        "  nl.append(int(input()))\n",
        "\n",
        "ml = []\n",
        "for i in range(m):\n",
        "  ml.append(int(input()))\n",
        "\n",
        "s = set()\n",
        "i = j = 0\n",
        "while i<n and j<m:\n",
        "  if nl[i] < ml[j]:\n",
        "    s.add(nl[i])\n",
        "    i += 1\n",
        "  else:\n",
        "    s.add(ml[j])\n",
        "    j += 1\n",
        "\n",
        "while i<n:\n",
        "  s.add(nl[i])\n",
        "  i += 1\n",
        "\n",
        "while j<m:\n",
        "  s.add(ml[j])\n",
        "  j += 1\n",
        "\n",
        "for i in s:\n",
        "  if i == max(s):\n",
        "    print(i)\n",
        "  else:\n",
        "    print(i , end = \" \")"
      ],
      "metadata": {
        "colab": {
          "base_uri": "https://localhost:8080/",
          "height": 347
        },
        "id": "PkJ8JyqDCFo7",
        "outputId": "64687033-375c-416e-8d2e-7fbd8606b11b"
      },
      "execution_count": null,
      "outputs": [
        {
          "name": "stdout",
          "output_type": "stream",
          "text": [
            "3\n",
            "3\n",
            "1\n",
            "2\n",
            "6\n",
            "1\n",
            "4\n",
            "6\n"
          ]
        },
        {
          "output_type": "error",
          "ename": "TypeError",
          "evalue": "ignored",
          "traceback": [
            "\u001b[0;31m---------------------------------------------------------------------------\u001b[0m",
            "\u001b[0;31mTypeError\u001b[0m                                 Traceback (most recent call last)",
            "\u001b[0;32m<ipython-input-8-a5325d2908ec>\u001b[0m in \u001b[0;36m<cell line: 30>\u001b[0;34m()\u001b[0m\n\u001b[1;32m     32\u001b[0m     \u001b[0mprint\u001b[0m\u001b[0;34m(\u001b[0m\u001b[0mi\u001b[0m\u001b[0;34m)\u001b[0m\u001b[0;34m\u001b[0m\u001b[0;34m\u001b[0m\u001b[0m\n\u001b[1;32m     33\u001b[0m   \u001b[0;32melse\u001b[0m\u001b[0;34m:\u001b[0m\u001b[0;34m\u001b[0m\u001b[0;34m\u001b[0m\u001b[0m\n\u001b[0;32m---> 34\u001b[0;31m     \u001b[0mprint\u001b[0m\u001b[0;34m(\u001b[0m\u001b[0mi\u001b[0m \u001b[0;34m+\u001b[0m \u001b[0;34m\" \"\u001b[0m\u001b[0;34m)\u001b[0m\u001b[0;34m\u001b[0m\u001b[0;34m\u001b[0m\u001b[0m\n\u001b[0m",
            "\u001b[0;31mTypeError\u001b[0m: unsupported operand type(s) for +: 'int' and 'str'"
          ]
        }
      ]
    },
    {
      "cell_type": "code",
      "source": [
        "v = {1, 2, 3, 4, 5, 7, 8, 9}\n",
        "for j in v:\n",
        "  print(j)"
      ],
      "metadata": {
        "colab": {
          "base_uri": "https://localhost:8080/"
        },
        "id": "6c5aCW95Fdui",
        "outputId": "9d6f3c2a-55c2-4bae-982b-b3687450e8d9"
      },
      "execution_count": null,
      "outputs": [
        {
          "output_type": "stream",
          "name": "stdout",
          "text": [
            "1\n",
            "2\n",
            "3\n",
            "4\n",
            "5\n",
            "7\n",
            "8\n",
            "9\n"
          ]
        }
      ]
    },
    {
      "cell_type": "code",
      "source": [
        "import time\n",
        "\n",
        "start_time = time.time()  # Get the current time before running the code\n",
        "\n",
        "# Your code here\n",
        "v = {1, 2, 3, 4, 5, 7, 8, 9}\n",
        "for j in v:\n",
        "  print(j)\n",
        "\n",
        "end_time = time.time()  # Get the current time after running the code\n",
        "runtime = end_time - start_time  # Calculate the runtime by subtracting start time from end time\n",
        "\n",
        "print(\"Runtime:\", runtime, \"seconds\")\n"
      ],
      "metadata": {
        "colab": {
          "base_uri": "https://localhost:8080/"
        },
        "id": "5dZqhKY4IMj9",
        "outputId": "5bfa9f01-e219-458b-8d21-b2c173ee8d4b"
      },
      "execution_count": null,
      "outputs": [
        {
          "output_type": "stream",
          "name": "stdout",
          "text": [
            "1\n",
            "2\n",
            "3\n",
            "4\n",
            "5\n",
            "7\n",
            "8\n",
            "9\n",
            "Runtime: 0.0032317638397216797 seconds\n"
          ]
        }
      ]
    },
    {
      "cell_type": "code",
      "source": [
        "a = 3.4\n",
        "b = round(a)\n",
        "print(b)"
      ],
      "metadata": {
        "colab": {
          "base_uri": "https://localhost:8080/"
        },
        "id": "ZeEMjLqK8rHG",
        "outputId": "03576926-41a9-4fa8-88e6-a105702ab1c1"
      },
      "execution_count": null,
      "outputs": [
        {
          "output_type": "stream",
          "name": "stdout",
          "text": [
            "3\n"
          ]
        }
      ]
    },
    {
      "cell_type": "code",
      "source": [
        "s = \"\"\n",
        "adds = \"+\" + s\n",
        "print(adds)"
      ],
      "metadata": {
        "colab": {
          "base_uri": "https://localhost:8080/"
        },
        "id": "mxlv0Te29iIA",
        "outputId": "2580af1b-2e3e-4162-e9f8-739df01dbac4"
      },
      "execution_count": null,
      "outputs": [
        {
          "output_type": "stream",
          "name": "stdout",
          "text": [
            "+\n"
          ]
        }
      ]
    },
    {
      "cell_type": "code",
      "source": [
        "n = 65//10\n",
        "print(n)"
      ],
      "metadata": {
        "colab": {
          "base_uri": "https://localhost:8080/"
        },
        "id": "W2ZB8dMi9tSl",
        "outputId": "583439e8-eabf-45de-b74e-64d732a26f45"
      },
      "execution_count": null,
      "outputs": [
        {
          "output_type": "stream",
          "name": "stdout",
          "text": [
            "6\n"
          ]
        }
      ]
    },
    {
      "cell_type": "code",
      "source": [
        "# Read the input percentage\n",
        "percentage = float(input())\n",
        "\n",
        "# Floor the percentage to the nearest 10\n",
        "floored_percentage = int(percentage // 10) * 10\n",
        "\n",
        "# Compute the number of completed blocks and remaining blocks\n",
        "completed_blocks = floored_percentage // 10\n",
        "remaining_blocks = 10 - completed_blocks\n",
        "\n",
        "# Print the ASCII progress bar\n",
        "progress_bar = \"[\" + \"+\" * completed_blocks + \".\" * remaining_blocks + \"]\"\n",
        "\n",
        "# Print the progress bar and floored percentage\n",
        "print(progress_bar, floored_percentage, \"%\")\n"
      ],
      "metadata": {
        "colab": {
          "base_uri": "https://localhost:8080/"
        },
        "id": "JsogA-1ALtxS",
        "outputId": "3d533837-13fb-40f1-9002-f96c5e7ed6f8"
      },
      "execution_count": null,
      "outputs": [
        {
          "output_type": "stream",
          "name": "stdout",
          "text": [
            "62.3\n",
            "[++++++....] 60 %\n"
          ]
        }
      ]
    },
    {
      "cell_type": "code",
      "source": [
        "n = float(input())\n",
        "\n",
        "s = \"\"\n",
        "m = int(n / 10)\n",
        "for i in range(12):\n",
        "    if i == 0:\n",
        "        s += \"[\"\n",
        "    elif i == 11:\n",
        "        s += \"]\"\n",
        "    elif i <= m:\n",
        "        s += \"+\"\n",
        "    else:\n",
        "        s += \".\"\n",
        "\n",
        "t = round(n)\n",
        "a = s + \" \" + str(t) + \"%\"\n",
        "print(a)\n"
      ],
      "metadata": {
        "id": "cQPoWc2MMVrh",
        "outputId": "c58f8cad-3391-433c-eb35-dde7212a5d32",
        "colab": {
          "base_uri": "https://localhost:8080/"
        }
      },
      "execution_count": null,
      "outputs": [
        {
          "output_type": "stream",
          "name": "stdout",
          "text": [
            "62.3\n",
            "[++++++....] 62%\n"
          ]
        }
      ]
    },
    {
      "cell_type": "code",
      "source": [
        "def partition(arr, low, high):\n",
        "  pivot = arr[high]\n",
        "  i = low - 1\n",
        "  for j in range(low, high):\n",
        "    if arr[j] <= pivot:\n",
        "      i += 1\n",
        "      temp = arr[j]\n",
        "      arr[j] = arr[i]\n",
        "      arr[i] = temp\n",
        "  temp = arr[i+1]\n",
        "  arr[i+1] = arr[high]\n",
        "  arr[high] = temp\n",
        "  return i+1\n",
        "\n",
        "def quick_sort(arr, low , high):\n",
        "  if low < high:\n",
        "    pivot_index = partition(arr, low, high)\n",
        "    quick_sort(arr, low, pivot_index-1)\n",
        "    quick_sort(arr, pivot_index+1, high)\n",
        "\n",
        "data = [1, 7, 4, 1, 10, 9, 1, -2]\n",
        "quick_sort(data, 0, len(data)-1)\n",
        "print(data)"
      ],
      "metadata": {
        "colab": {
          "base_uri": "https://localhost:8080/"
        },
        "id": "jV8U5DotUtJ1",
        "outputId": "84d9394c-74ff-4568-b1aa-f3b2beb8f4ed"
      },
      "execution_count": null,
      "outputs": [
        {
          "output_type": "stream",
          "name": "stdout",
          "text": [
            "[-2, 1, 1, 1, 4, 7, 9, 10]\n"
          ]
        }
      ]
    },
    {
      "cell_type": "code",
      "source": [
        "import numpy as np\n",
        "\n",
        "def count_sort(arr):\n",
        "  max_element = max(arr)\n",
        "  count = np.zeros(max_element+1, dtype = int)\n",
        "  for element in arr:\n",
        "    count[element] += 1\n",
        "  for i in range(1,len(count)):\n",
        "    count[i] += count[i-1]\n",
        "  output = np.zeros(len(arr), dtype = int)\n",
        "  for num in arr:\n",
        "    output[count[num]-1] = num\n",
        "    count[num] -= 1\n",
        "  return output\n",
        "\n",
        "data = [1, 7, 4, 1, 10, 9, -2]\n",
        "print(count_sort(data))"
      ],
      "metadata": {
        "colab": {
          "base_uri": "https://localhost:8080/"
        },
        "id": "1xfzX0NyYrB0",
        "outputId": "2bf71abf-1db5-4dcf-f6ed-aaba0bf7acad"
      },
      "execution_count": null,
      "outputs": [
        {
          "output_type": "stream",
          "name": "stdout",
          "text": [
            "[ 1  1  4  7 -2  9 10]\n"
          ]
        }
      ]
    },
    {
      "cell_type": "code",
      "source": [
        "def count_sort(arr):\n",
        "    max_element = max(arr) + 1\n",
        "    count = [0] * max_element\n",
        "    for element in arr:\n",
        "        count[element] += 1\n",
        "    for i in range(1, max_element):\n",
        "        count[i] += count[i - 1]\n",
        "    output = [0] * len(arr)\n",
        "    for num in arr:\n",
        "        output[count[num] - 1] = num\n",
        "        count[num] -= 1\n",
        "    return output\n",
        "\n",
        "data = [1, 7, 4, 1, 10, 9, -2]\n",
        "print(count_sort(data))\n"
      ],
      "metadata": {
        "colab": {
          "base_uri": "https://localhost:8080/"
        },
        "id": "vmwFSZGBc60g",
        "outputId": "2f2d29fb-e431-449d-9a5d-75fd3a87b962"
      },
      "execution_count": null,
      "outputs": [
        {
          "output_type": "stream",
          "name": "stdout",
          "text": [
            "[1, 1, 4, 7, -2, 9, 10]\n"
          ]
        }
      ]
    },
    {
      "cell_type": "code",
      "source": [
        "import numpy as np\n",
        "\n",
        "def count_sort(arr):\n",
        "  max_element = max(arr)\n",
        "  count = np.zeros(max_element+1, dtype=int)\n",
        "  for element in arr:\n",
        "    count[element] += 1\n",
        "  for i in range(1, len(count)):\n",
        "    count[i] += count[i-1]  # Adjust indexing here\n",
        "  output = np.zeros(len(arr), dtype=int)\n",
        "  for num in reversed(arr):  # Iterate in reverse order\n",
        "    output[count[num]-1] = num  # Adjust indexing here\n",
        "    count[num] -= 1\n",
        "  return output\n",
        "\n",
        "data = [1, 7, 4, 1, 10, 9, -2]\n",
        "print(count_sort(data))\n"
      ],
      "metadata": {
        "colab": {
          "base_uri": "https://localhost:8080/"
        },
        "id": "-DrZ7eOXdgSc",
        "outputId": "d1986beb-4820-4b1b-f6df-670d5a120c9e"
      },
      "execution_count": null,
      "outputs": [
        {
          "output_type": "stream",
          "name": "stdout",
          "text": [
            "[ 1  1  4  7  9 -2 10]\n"
          ]
        }
      ]
    },
    {
      "cell_type": "code",
      "source": [
        "import numpy as np\n",
        "\n",
        "def count_sort(arr):\n",
        "  max_element = max(arr)\n",
        "  count = np.zeros(max_element+1, dtype=int)\n",
        "  for element in arr:\n",
        "    count[element] += 1\n",
        "  for i in range(1, len(count)):\n",
        "    count[i] += count[i-1]\n",
        "  output = []\n",
        "  for num in arr:\n",
        "    output.append(num)\n",
        "    count[num] -= 1\n",
        "  return output\n",
        "\n",
        "data = [1, 7, 4, 1, 10, 9, -2]\n",
        "sorted_data = count_sort(data)\n",
        "print(' '.join(map(str, sorted_data)))\n"
      ],
      "metadata": {
        "colab": {
          "base_uri": "https://localhost:8080/"
        },
        "id": "sVwsKyBwfCRo",
        "outputId": "a99dff8e-49a3-4b53-8a0d-0e964028b61c"
      },
      "execution_count": null,
      "outputs": [
        {
          "output_type": "stream",
          "name": "stdout",
          "text": [
            "1 7 4 1 10 9 -2\n"
          ]
        }
      ]
    },
    {
      "cell_type": "code",
      "source": [
        "# Counting sort in Python programming\n",
        "\n",
        "\n",
        "def countingSort(array):\n",
        "    size = len(array)\n",
        "    output = [0] * size\n",
        "\n",
        "    # Initialize count array\n",
        "    count = [0] * 10\n",
        "\n",
        "    # Store the count of each elements in count array\n",
        "    for i in range(0, size):\n",
        "        count[array[i]] += 1\n",
        "\n",
        "    # Store the cummulative count\n",
        "    for i in range(1, 10):\n",
        "        count[i] += count[i - 1]\n",
        "\n",
        "    # Find the index of each element of the original array in count array\n",
        "    # place the elements in output array\n",
        "    i = size - 1\n",
        "    while i >= 0:\n",
        "        output[count[array[i]] - 1] = array[i]\n",
        "        count[array[i]] -= 1\n",
        "        i -= 1\n",
        "\n",
        "    # Copy the sorted elements into original array\n",
        "    for i in range(0, size):\n",
        "        array[i] = output[i]\n",
        "\n",
        "\n",
        "data = [4, 2, 2, 8, 3, 3, 1]\n",
        "countingSort(data)\n",
        "print(\"Sorted Array in Ascending Order: \")\n",
        "print(data)"
      ],
      "metadata": {
        "colab": {
          "base_uri": "https://localhost:8080/"
        },
        "id": "vRpkq3ZPfLVh",
        "outputId": "5f766075-6548-4ccb-cf70-76245c50264b"
      },
      "execution_count": null,
      "outputs": [
        {
          "output_type": "stream",
          "name": "stdout",
          "text": [
            "Sorted Array in Ascending Order: \n",
            "[1, 2, 2, 3, 3, 4, 8]\n"
          ]
        }
      ]
    },
    {
      "cell_type": "code",
      "source": [
        "import numpy as np\n",
        "\n",
        "def count_sort(arr):\n",
        "  min_element = min(arr)\n",
        "  max_element = max(arr)\n",
        "  count = np.zeros(max_element-min_element+1, dtype=int)\n",
        "  for element in arr:\n",
        "    count[element-min_element] += 1\n",
        "  for i in range(1, len(count)):\n",
        "    count[i] += count[i-1]\n",
        "  output = []\n",
        "  for num in arr:\n",
        "    output.append(num)\n",
        "    count[num-min_element] -= 1\n",
        "  return output\n",
        "\n",
        "data = [1, 7, 4, 1, 10, 9, -2]\n",
        "sorted_data = count_sort(data)\n",
        "print(' '.join(map(str, sorted_data)))\n"
      ],
      "metadata": {
        "colab": {
          "base_uri": "https://localhost:8080/"
        },
        "id": "HiNjHGnFfkbh",
        "outputId": "4f6b34b7-270d-44c5-92a7-7e3875918ded"
      },
      "execution_count": null,
      "outputs": [
        {
          "output_type": "stream",
          "name": "stdout",
          "text": [
            "1 7 4 1 10 9 -2\n"
          ]
        }
      ]
    },
    {
      "cell_type": "code",
      "source": [
        "# Python program for counting sort\n",
        "\n",
        "# The main function that sort the given string arr[] in\n",
        "# alphabetical order\n",
        "def countSort(arr):\n",
        "\n",
        "\t# The output character array that will have sorted arr\n",
        "\toutput = [0 for i in range(256)]\n",
        "\n",
        "\t# Create a count array to store count of individual\n",
        "\t# characters and initialize count array as 0\n",
        "\tcount = [0 for i in range(256)]\n",
        "\n",
        "\t# For storing the resulting answer since the\n",
        "\t# string is immutable\n",
        "\tans = [\"\" for _ in arr]\n",
        "\n",
        "\t# Store count of each character\n",
        "\tfor i in arr:\n",
        "\t\tcount[ord(i)] += 1\n",
        "\n",
        "\t# Change count[i] so that count[i] now contains actual\n",
        "\t# position of this character in output array\n",
        "\tfor i in range(256):\n",
        "\t\tcount[i] += count[i-1]\n",
        "\n",
        "\t# Build the output character array\n",
        "\tfor i in range(len(arr)):\n",
        "\t\toutput[count[ord(arr[i])]-1] = arr[i]\n",
        "\t\tcount[ord(arr[i])] -= 1\n",
        "\n",
        "\t# Copy the output array to arr, so that arr now\n",
        "\t# contains sorted characters\n",
        "\tfor i in range(len(arr)):\n",
        "\t\tans[i] = output[i]\n",
        "\treturn ans\n",
        "\n",
        "# Driver program to test above function\n",
        "# arr = \"geeksforgeeks\"\n",
        "arr = [1, 7, 4, 1, 10, 9, -2]\n",
        "\n",
        "ans = countSort(arr)\n",
        "print (\"Sorted character array is %s\" %(\"\".join(ans)))\n",
        "\n",
        "# This code is contributed by Nikhil Kumar Singh\n"
      ],
      "metadata": {
        "colab": {
          "base_uri": "https://localhost:8080/",
          "height": 365
        },
        "id": "GyCDQNhdgNG5",
        "outputId": "2dbf6bc8-e173-48c8-bb2a-1e268960882d"
      },
      "execution_count": null,
      "outputs": [
        {
          "output_type": "error",
          "ename": "TypeError",
          "evalue": "ignored",
          "traceback": [
            "\u001b[0;31m---------------------------------------------------------------------------\u001b[0m",
            "\u001b[0;31mTypeError\u001b[0m                                 Traceback (most recent call last)",
            "\u001b[0;32m<ipython-input-19-1e18eb18435d>\u001b[0m in \u001b[0;36m<cell line: 42>\u001b[0;34m()\u001b[0m\n\u001b[1;32m     40\u001b[0m \u001b[0marr\u001b[0m \u001b[0;34m=\u001b[0m \u001b[0;34m[\u001b[0m\u001b[0;36m1\u001b[0m\u001b[0;34m,\u001b[0m \u001b[0;36m7\u001b[0m\u001b[0;34m,\u001b[0m \u001b[0;36m4\u001b[0m\u001b[0;34m,\u001b[0m \u001b[0;36m1\u001b[0m\u001b[0;34m,\u001b[0m \u001b[0;36m10\u001b[0m\u001b[0;34m,\u001b[0m \u001b[0;36m9\u001b[0m\u001b[0;34m,\u001b[0m \u001b[0;34m-\u001b[0m\u001b[0;36m2\u001b[0m\u001b[0;34m]\u001b[0m\u001b[0;34m\u001b[0m\u001b[0;34m\u001b[0m\u001b[0m\n\u001b[1;32m     41\u001b[0m \u001b[0;34m\u001b[0m\u001b[0m\n\u001b[0;32m---> 42\u001b[0;31m \u001b[0mans\u001b[0m \u001b[0;34m=\u001b[0m \u001b[0mcountSort\u001b[0m\u001b[0;34m(\u001b[0m\u001b[0marr\u001b[0m\u001b[0;34m)\u001b[0m\u001b[0;34m\u001b[0m\u001b[0;34m\u001b[0m\u001b[0m\n\u001b[0m\u001b[1;32m     43\u001b[0m \u001b[0mprint\u001b[0m \u001b[0;34m(\u001b[0m\u001b[0;34m\"Sorted character array is %s\"\u001b[0m \u001b[0;34m%\u001b[0m\u001b[0;34m(\u001b[0m\u001b[0;34m\"\"\u001b[0m\u001b[0;34m.\u001b[0m\u001b[0mjoin\u001b[0m\u001b[0;34m(\u001b[0m\u001b[0mans\u001b[0m\u001b[0;34m)\u001b[0m\u001b[0;34m)\u001b[0m\u001b[0;34m)\u001b[0m\u001b[0;34m\u001b[0m\u001b[0;34m\u001b[0m\u001b[0m\n\u001b[1;32m     44\u001b[0m \u001b[0;34m\u001b[0m\u001b[0m\n",
            "\u001b[0;32m<ipython-input-19-1e18eb18435d>\u001b[0m in \u001b[0;36mcountSort\u001b[0;34m(arr)\u001b[0m\n\u001b[1;32m     18\u001b[0m         \u001b[0;31m# Store count of each character\u001b[0m\u001b[0;34m\u001b[0m\u001b[0;34m\u001b[0m\u001b[0m\n\u001b[1;32m     19\u001b[0m         \u001b[0;32mfor\u001b[0m \u001b[0mi\u001b[0m \u001b[0;32min\u001b[0m \u001b[0marr\u001b[0m\u001b[0;34m:\u001b[0m\u001b[0;34m\u001b[0m\u001b[0;34m\u001b[0m\u001b[0m\n\u001b[0;32m---> 20\u001b[0;31m                 \u001b[0mcount\u001b[0m\u001b[0;34m[\u001b[0m\u001b[0mord\u001b[0m\u001b[0;34m(\u001b[0m\u001b[0mi\u001b[0m\u001b[0;34m)\u001b[0m\u001b[0;34m]\u001b[0m \u001b[0;34m+=\u001b[0m \u001b[0;36m1\u001b[0m\u001b[0;34m\u001b[0m\u001b[0;34m\u001b[0m\u001b[0m\n\u001b[0m\u001b[1;32m     21\u001b[0m \u001b[0;34m\u001b[0m\u001b[0m\n\u001b[1;32m     22\u001b[0m         \u001b[0;31m# Change count[i] so that count[i] now contains actual\u001b[0m\u001b[0;34m\u001b[0m\u001b[0;34m\u001b[0m\u001b[0m\n",
            "\u001b[0;31mTypeError\u001b[0m: ord() expected string of length 1, but int found"
          ]
        }
      ]
    },
    {
      "cell_type": "code",
      "source": [
        "# python program for counting sort\n",
        "\n",
        "def countingSort(arr):\n",
        "    size = len(arr)\n",
        "    output = [0] * size\n",
        "\n",
        "    # count array initialization\n",
        "    count = [0] * 10\n",
        "\n",
        "    # storing the count of each element\n",
        "    for m in range(0, size):\n",
        "        count[arr[m]] += 1\n",
        "\n",
        "    # storing the cumulative count\n",
        "    for m in range(1, 10):\n",
        "        count[m] += count[m - 1]\n",
        "\n",
        "    # place the elements in output array after finding the index of each element of original array in count array\n",
        "    m = size - 1\n",
        "    while m >= 0:\n",
        "        output[count[arr[m]] - 1] = arr[m]\n",
        "        count[arr[m]] -= 1\n",
        "        m -= 1\n",
        "\n",
        "    for m in range(0, size):\n",
        "        arr[m] = output[m]\n",
        "\n",
        "data = [3,5,1,6,7,8,3]\n",
        "countingSort(data)\n",
        "print(\"Sorted Array: \")\n",
        "print(data)"
      ],
      "metadata": {
        "colab": {
          "base_uri": "https://localhost:8080/"
        },
        "id": "01KgjJ2dgngj",
        "outputId": "9fb35fbc-bcdc-43e0-cba5-401da90ecf27"
      },
      "execution_count": null,
      "outputs": [
        {
          "output_type": "stream",
          "name": "stdout",
          "text": [
            "Sorted Array: \n",
            "[3, 3, 5, 6, 7, 8, -1]\n"
          ]
        }
      ]
    },
    {
      "cell_type": "code",
      "source": [
        "def MergeSort(arr):\n",
        "  if len(arr) > 1:\n",
        "    mid = (len(arr))//2\n",
        "\n",
        "    left_half = arr[ : mid]\n",
        "    right_half = arr[mid :]\n",
        "\n",
        "    MergeSort(left_half)\n",
        "    MergeSort(right_half)\n",
        "\n",
        "    i = j = k = 0\n",
        "\n",
        "    while i < len(left_half) and j < len(right_half):\n",
        "      if left_half[i] < right_half[j]:\n",
        "        arr[k] = left_half[i]\n",
        "        i += 1\n",
        "      else:\n",
        "        arr[k] = right_half[j]\n",
        "        j += 1\n",
        "      k += 1\n",
        "\n",
        "    while i < len(left_half):\n",
        "      arr[k] = left_half[i]\n",
        "      i += 1\n",
        "      k += 1\n",
        "    while j < len(right_half):\n",
        "      arr[k] = right_half[j]\n",
        "      j += 1\n",
        "      k += 1\n",
        "\n",
        "data = [-3,5,1,6,7,8,3]\n",
        "MergeSort(data)\n",
        "print(data)"
      ],
      "metadata": {
        "colab": {
          "base_uri": "https://localhost:8080/"
        },
        "id": "g3FM1mhgIGfo",
        "outputId": "7d6ca1c6-4705-4c22-e5a0-8d0bb24f7b90"
      },
      "execution_count": null,
      "outputs": [
        {
          "output_type": "stream",
          "name": "stdout",
          "text": [
            "[-3, 1, 3, 5, 6, 7, 8]\n"
          ]
        }
      ]
    },
    {
      "cell_type": "code",
      "source": [
        "def partition(arr, low, high):\n",
        "  pivot = arr[high]\n",
        "  i = low - 1\n",
        "  for j in range(low, high):\n",
        "    if arr[j] <= pivot:\n",
        "      i += 1\n",
        "      temp = arr[j]\n",
        "      arr[j] = arr[i]\n",
        "      arr[i] = temp\n",
        "\n",
        "  temp = arr[i+1]\n",
        "  arr[i+1] = arr[high]\n",
        "  arr[high] = temp\n",
        "  return i+1\n",
        "\n",
        "def QuickSort(arr, low, high):\n",
        "  if low < high:\n",
        "    pivot_idx = partition(arr, low, high)\n",
        "    QuickSort(arr, low, pivot_idx-1)\n",
        "    QuickSort(arr, pivot_idx+1, high)\n",
        "\n",
        "data = [-3,5,1,65,7,8,3]\n",
        "QuickSort(data, 0, len(data)-1)\n",
        "print(data)"
      ],
      "metadata": {
        "colab": {
          "base_uri": "https://localhost:8080/"
        },
        "id": "2KOic54NQGVk",
        "outputId": "0907d61e-3457-4058-b136-41ffef50d089"
      },
      "execution_count": null,
      "outputs": [
        {
          "output_type": "stream",
          "name": "stdout",
          "text": [
            "[-3, 1, 3, 5, 7, 8, 65]\n"
          ]
        }
      ]
    },
    {
      "cell_type": "code",
      "source": [
        "import numpy as np\n",
        "\n",
        "def CountingSort(arr):\n",
        "  max_elem = max(arr)\n",
        "  count = np.zeros(max_elem+1, dtype = int)\n",
        "  for elem in arr:\n",
        "    count[elem] += 1\n",
        "  for i in range(1, len(count)):\n",
        "    count[i] += count[i-1]\n",
        "  output = np.zeros(len(arr), dtype = int)\n",
        "\n",
        "  for num in arr:\n",
        "    output[count[num]-1] = num\n",
        "    count[num] -= 1\n",
        "\n",
        "  return output\n",
        "\n",
        "data = [3,5,1,65,7,8,3]\n",
        "print(CountingSort(data))"
      ],
      "metadata": {
        "colab": {
          "base_uri": "https://localhost:8080/"
        },
        "id": "RCaIsUR-Retv",
        "outputId": "94b9fca0-d538-43e3-97c2-92885f98a22c"
      },
      "execution_count": null,
      "outputs": [
        {
          "output_type": "stream",
          "name": "stdout",
          "text": [
            "[ 1  3  3  5  7  8 65]\n"
          ]
        }
      ]
    },
    {
      "cell_type": "code",
      "source": [
        "# Step 1: Read the input values\n",
        "a11, a12 = map(int, input().split())\n",
        "a21, a22 = map(int, input().split())\n",
        "b11, b12 = map(int, input().split())\n",
        "b21, b22 = map(int, input().split())\n",
        "\n",
        "# Step 2: Compute the elements of the product matrix\n",
        "c11 = a11 * b11 + a12 * b21\n",
        "c12 = a11 * b12 + a12 * b22\n",
        "c21 = a21 * b11 + a22 * b21\n",
        "c22 = a21 * b12 + a22 * b22\n",
        "\n",
        "# Step 3: Print the product matrix\n",
        "print(c11, c12)\n",
        "print(c21, c22)\n"
      ],
      "metadata": {
        "id": "jtFq_2LWlnU7",
        "colab": {
          "base_uri": "https://localhost:8080/"
        },
        "outputId": "c6f47790-76b5-421a-fc6d-8674240832ed"
      },
      "execution_count": null,
      "outputs": [
        {
          "output_type": "stream",
          "name": "stdout",
          "text": [
            "2 3\n",
            "4 5\n",
            "5 6\n",
            "7 8\n",
            "31 36\n",
            "55 64\n"
          ]
        }
      ]
    },
    {
      "cell_type": "code",
      "source": [
        "# Step 1: Read the input number\n",
        "num = int(input())\n",
        "\n",
        "# Step 2: Define the helper function to count the number of 1s\n",
        "def count_ones(n):\n",
        "    binary = bin(n)[2:]  # Convert the number to binary representation\n",
        "    return binary.count('1')  # Count the number of 1s\n",
        "\n",
        "# Step 3: Find the smallest positive integer with the same number of 1s\n",
        "smallest = 1\n",
        "while count_ones(smallest) != count_ones(num):\n",
        "    smallest += 1\n",
        "\n",
        "# Step 4: Print the smallest positive integer\n",
        "print(smallest)\n"
      ],
      "metadata": {
        "id": "saGHRfeOvVJ-",
        "outputId": "c584cff6-96cc-49a0-fe84-87c56eb1e9aa",
        "colab": {
          "base_uri": "https://localhost:8080/"
        }
      },
      "execution_count": null,
      "outputs": [
        {
          "output_type": "stream",
          "name": "stdout",
          "text": [
            "37\n",
            "7\n"
          ]
        }
      ]
    },
    {
      "cell_type": "code",
      "source": [
        "count = 0\n",
        "\n",
        "def increment():\n",
        "    global count\n",
        "    count += 1\n",
        "\n",
        "increment()\n",
        "print(count)  # Output: 1\n"
      ],
      "metadata": {
        "colab": {
          "base_uri": "https://localhost:8080/"
        },
        "id": "gZ8QIXFNgygO",
        "outputId": "400a45bc-370d-4532-f201-7f8eec34ef9f"
      },
      "execution_count": null,
      "outputs": [
        {
          "output_type": "stream",
          "name": "stdout",
          "text": [
            "1\n"
          ]
        }
      ]
    },
    {
      "cell_type": "code",
      "source": [
        "from IPython.display import clear_output\n",
        "\n",
        "board = [[1, 2, 3], [4, 5, 6], [7, 8, 9]]\n",
        "current_player_char = 'X'\n",
        "next_player_char = 'O'\n",
        "totalInputs = 9\n",
        "winner = None\n",
        "\n",
        "def checkHorizontal():\n",
        "    global winner\n",
        "    for row in board:\n",
        "        if row[0] == row[1] == row[2]:\n",
        "            if row[0] == \"X\":\n",
        "                winner = \"Player1\"\n",
        "            else:\n",
        "                winner = \"Player2\"\n",
        "            return True\n",
        "    return False\n",
        "\n",
        "def checkVertical():\n",
        "    global winner\n",
        "    for col in range(3):\n",
        "        if board[0][col] == board[1][col] == board[2][col]:\n",
        "            if board[0][col] == 'X':\n",
        "                winner = \"Player1\"\n",
        "            else:\n",
        "                winner = \"Player2\"\n",
        "            return True\n",
        "    return False\n",
        "\n",
        "def checkDiagonal():\n",
        "    global winner\n",
        "    if (board[0][0] == board[1][1] == board[2][2]) or (board[0][2] == board[1][1] == board[2][0]):\n",
        "        if board[1][1] == 'X':\n",
        "            winner = \"Player1\"\n",
        "        else:\n",
        "            winner = \"Player2\"\n",
        "        return True\n",
        "    return False\n",
        "\n",
        "def checkBoard():\n",
        "    if checkHorizontal() or checkVertical() or checkDiagonal():\n",
        "        return True\n",
        "    if totalInputs == 9:\n",
        "        winner = None\n",
        "        return True\n",
        "    return False\n",
        "\n",
        "def placeCharacterOnBoard(pos):\n",
        "    row = (pos-1) // 3\n",
        "    col = (pos-1) % 3\n",
        "    if isinstance(board[row][col], int):\n",
        "        board[row][col] = current_player_char\n",
        "        return 1\n",
        "    else:\n",
        "        return 0\n",
        "\n",
        "def printCurrentBoard():\n",
        "    print(\"-------------\")\n",
        "    for eachRow in board:\n",
        "        print(\"|\", end=\"\")\n",
        "        for eachCol in eachRow:\n",
        "            print(f\" {eachCol} \", end=\"|\")\n",
        "        print()\n",
        "        print(\"-------------\")\n",
        "\n",
        "def runGame():\n",
        "    global current_player_char, next_player_char, winner, totalInputs\n",
        "    welcome_msg = '''Welcome to the TIC-TAC-TOE game. The first player to place a character on the board will be Player 1 (Character X) and the other player will be Player 2 (Character O).'''\n",
        "    print(welcome_msg)\n",
        "    inputCount = 0\n",
        "    while inputCount < totalInputs:\n",
        "        printCurrentBoard()\n",
        "        position = int(input(f\"Player {(inputCount % 2) + 1}, enter a position that does not contain any X or O:\"))\n",
        "        validityofInput = placeCharacterOnBoard(position)\n",
        "        if validityofInput:\n",
        "            inputCount += 1\n",
        "            if inputCount >= 5:\n",
        "                if checkBoard():\n",
        "                    clear_output()\n",
        "                    break\n",
        "            current_player_char, next_player_char = next_player_char, current_player_char\n",
        "        else:\n",
        "            print(\"Invalid input. Please try again.\")\n",
        "        clear_output()\n",
        "\n",
        "    printCurrentBoard()\n",
        "    if winner is not None:\n",
        "        print(f\"Well done, {winner}. You have won the game.\")\n",
        "    else:\n",
        "        print(\"The game ended in a draw.\")\n",
        "\n",
        "runGame()\n"
      ],
      "metadata": {
        "colab": {
          "base_uri": "https://localhost:8080/"
        },
        "id": "008BUmPPl1k3",
        "outputId": "13d533c7-1124-48d4-8a89-53000680bb57"
      },
      "execution_count": null,
      "outputs": [
        {
          "output_type": "stream",
          "name": "stdout",
          "text": [
            "-------------\n",
            "| 1 | 2 | 3 |\n",
            "-------------\n",
            "| 4 | X | O |\n",
            "-------------\n",
            "| X | O | X |\n",
            "-------------\n",
            "The game ended in a draw.\n"
          ]
        }
      ]
    },
    {
      "cell_type": "code",
      "source": [
        "def print_board(board):\n",
        "    print(\"-------------\")\n",
        "    for i in range(3):\n",
        "        print(\"|\", end=\" \")\n",
        "        for j in range(3):\n",
        "            print(board[i][j], end=\" | \")\n",
        "        print(\"\\n-------------\")\n",
        "\n",
        "def check_winner(board):\n",
        "    # Check rows\n",
        "    for i in range(3):\n",
        "        if board[i][0] == board[i][1] == board[i][2] != \" \":\n",
        "            return True\n",
        "\n",
        "    # Check columns\n",
        "    for i in range(3):\n",
        "        if board[0][i] == board[1][i] == board[2][i] != \" \":\n",
        "            return True\n",
        "\n",
        "    # Check diagonals\n",
        "    if (board[0][0] == board[1][1] == board[2][2] != \" \") or (board[0][2] == board[1][1] == board[2][0] != \" \"):\n",
        "        return True\n",
        "\n",
        "    return False\n",
        "\n",
        "def is_valid_move(position, board):\n",
        "    row = (position - 1) // 3\n",
        "    col = (position - 1) % 3\n",
        "    return board[row][col] == \" \"\n",
        "\n",
        "def make_move(position, board, current_player):\n",
        "    row = (position - 1) // 3\n",
        "    col = (position - 1) % 3\n",
        "    board[row][col] = current_player\n",
        "\n",
        "def run_game():\n",
        "    board = [[\" \", \" \", \" \"], [\" \", \" \", \" \"], [\" \", \" \", \" \"]]\n",
        "    current_player = \"X\"\n",
        "    total_moves = 0\n",
        "    print(\"Welcome to the TIC-TAC-TOE game. The first player to place a character on the board will be Player 1 (Character X) and the other player will be Player 2 (Character O).\")\n",
        "\n",
        "    while True:\n",
        "        print_board(board)\n",
        "        position = int(input(f\"Player {current_player}, enter a position that does not contain any X or O: \"))\n",
        "\n",
        "        if position < 1 or position > 9:\n",
        "            print(\"Invalid input. Please enter a number between 1 and 9.\")\n",
        "            continue\n",
        "\n",
        "        if not is_valid_move(position, board):\n",
        "            print(\"Invalid move. Please choose an empty position.\")\n",
        "            continue\n",
        "\n",
        "        make_move(position, board, current_player)\n",
        "        total_moves += 1\n",
        "\n",
        "        if check_winner(board):\n",
        "            print_board(board)\n",
        "            print(f\"Congratulations! Player {current_player} wins!\")\n",
        "            break\n",
        "\n",
        "        if total_moves == 9:\n",
        "            print_board(board)\n",
        "            print(\"It's a draw!\")\n",
        "            break\n",
        "\n",
        "        current_player = \"O\" if current_player == \"X\" else \"X\"\n",
        "\n",
        "run_game()\n"
      ],
      "metadata": {
        "colab": {
          "base_uri": "https://localhost:8080/"
        },
        "id": "8rESTqgjoxTR",
        "outputId": "8d25ae4d-49d7-4fb4-8c64-cc8e7d96bb94"
      },
      "execution_count": null,
      "outputs": [
        {
          "output_type": "stream",
          "name": "stdout",
          "text": [
            "Welcome to the TIC-TAC-TOE game. The first player to place a character on the board will be Player 1 (Character X) and the other player will be Player 2 (Character O).\n",
            "-------------\n",
            "|   |   |   | \n",
            "-------------\n",
            "|   |   |   | \n",
            "-------------\n",
            "|   |   |   | \n",
            "-------------\n",
            "Player X, enter a position that does not contain any X or O: 1\n",
            "-------------\n",
            "| X |   |   | \n",
            "-------------\n",
            "|   |   |   | \n",
            "-------------\n",
            "|   |   |   | \n",
            "-------------\n",
            "Player O, enter a position that does not contain any X or O: 2\n",
            "-------------\n",
            "| X | O |   | \n",
            "-------------\n",
            "|   |   |   | \n",
            "-------------\n",
            "|   |   |   | \n",
            "-------------\n",
            "Player X, enter a position that does not contain any X or O: 3\n",
            "-------------\n",
            "| X | O | X | \n",
            "-------------\n",
            "|   |   |   | \n",
            "-------------\n",
            "|   |   |   | \n",
            "-------------\n",
            "Player O, enter a position that does not contain any X or O: 4\n",
            "-------------\n",
            "| X | O | X | \n",
            "-------------\n",
            "| O |   |   | \n",
            "-------------\n",
            "|   |   |   | \n",
            "-------------\n",
            "Player X, enter a position that does not contain any X or O: 5\n",
            "-------------\n",
            "| X | O | X | \n",
            "-------------\n",
            "| O | X |   | \n",
            "-------------\n",
            "|   |   |   | \n",
            "-------------\n",
            "Player O, enter a position that does not contain any X or O: 6\n",
            "-------------\n",
            "| X | O | X | \n",
            "-------------\n",
            "| O | X | O | \n",
            "-------------\n",
            "|   |   |   | \n",
            "-------------\n",
            "Player X, enter a position that does not contain any X or O: 7\n",
            "-------------\n",
            "| X | O | X | \n",
            "-------------\n",
            "| O | X | O | \n",
            "-------------\n",
            "| X |   |   | \n",
            "-------------\n",
            "Congratulations! Player X wins!\n"
          ]
        }
      ]
    },
    {
      "cell_type": "code",
      "source": [
        "from IPython.display import clear_output\n",
        "\n",
        "board = [[1, 2, 3], [4, 5, 6], [7, 8, 9]]\n",
        "current_player_char = 'X'\n",
        "next_player_char = 'O'\n",
        "totalInputs = 9\n",
        "winner = None\n",
        "\n",
        "def checkHorizontal():\n",
        "    global winner\n",
        "    for row in board:\n",
        "        if row[0] == row[1] == row[2]:\n",
        "            winner = \"Player 1\" if row[0] == 'X' else \"Player 2\"\n",
        "            return True\n",
        "    return False\n",
        "\n",
        "def checkVertical():\n",
        "    global winner\n",
        "    for col in range(3):\n",
        "        if board[0][col] == board[1][col] == board[2][col]:\n",
        "            winner = \"Player 1\" if board[0][col] == 'X' else \"Player 2\"\n",
        "            return True\n",
        "    return False\n",
        "\n",
        "def checkDiagonal():\n",
        "    global winner\n",
        "    if (board[0][0] == board[1][1] == board[2][2]) or (board[0][2] == board[1][1] == board[2][0]):\n",
        "        winner = \"Player 1\" if board[1][1] == 'X' else \"Player 2\"\n",
        "        return True\n",
        "    return False\n",
        "\n",
        "def isGameOver():\n",
        "    return checkHorizontal() or checkVertical() or checkDiagonal() or totalInputs == 0\n",
        "\n",
        "def placeCharacterOnBoard(pos):\n",
        "    row = (pos - 1) // 3\n",
        "    col = (pos - 1) % 3\n",
        "    if isinstance(board[row][col], int):\n",
        "        board[row][col] = current_player_char\n",
        "        return 1\n",
        "    return 0\n",
        "\n",
        "def printCurrentBoard():\n",
        "    print(\"-------------\")\n",
        "    for row in board:\n",
        "        print(\"|\", end=\"\")\n",
        "        for col in row:\n",
        "            print(f\" {col} \", end=\"|\")\n",
        "        print()\n",
        "        print(\"-------------\")\n",
        "\n",
        "def runGame():\n",
        "    global current_player_char, next_player_char, winner, totalInputs\n",
        "    welcome_msg = \"Welcome to the TIC-TAC-TOE game. The first player to place a character on the board will be Player 1 (Character X) and the other player will be Player 2 (Character O).\"\n",
        "    print(welcome_msg)\n",
        "    inputCount = 0\n",
        "    while not isGameOver():\n",
        "        printCurrentBoard()\n",
        "        position = int(input(f\"Player {(inputCount % 2) + 1}, enter a position that does not contain any X or O: \"))\n",
        "        validityofInput = placeCharacterOnBoard(position)\n",
        "        inputCount += validityofInput\n",
        "        if validityofInput:\n",
        "            current_player_char, next_player_char = next_player_char, current_player_char\n",
        "            totalInputs -= 1\n",
        "        clear_output()\n",
        "    printCurrentBoard()\n",
        "    if winner is not None:\n",
        "        print(f\"Well done, {winner}. You have won the game.\")\n",
        "    else:\n",
        "        print(\"The game ended in a draw.\")\n",
        "\n",
        "runGame()\n"
      ],
      "metadata": {
        "colab": {
          "base_uri": "https://localhost:8080/"
        },
        "id": "eZzkn1A5sd54",
        "outputId": "f1310362-3e47-4c32-8add-d46abb8a4d02"
      },
      "execution_count": null,
      "outputs": [
        {
          "output_type": "stream",
          "name": "stdout",
          "text": [
            "-------------\n",
            "| X | O | O |\n",
            "-------------\n",
            "| X | 5 | O |\n",
            "-------------\n",
            "| X | X | 9 |\n",
            "-------------\n",
            "Well done, Player 1. You have won the game.\n"
          ]
        }
      ]
    },
    {
      "cell_type": "code",
      "source": [
        "from IPython.display import clear_output\n",
        "\n",
        "board = [[1, 2, 3], [4, 5, 6], [7, 8, 9]]\n",
        "current_player_char = 'X'\n",
        "next_player_char = 'O'\n",
        "totalInputs = 9\n",
        "winner = None\n",
        "\n",
        "def checkHorizontal():\n",
        "    global winner\n",
        "    for row in board:\n",
        "        if row[0] == row[1] == row[2] and isinstance(row[0], str):\n",
        "            winner = \"Player 1\" if row[0] == 'X' else \"Player 2\"\n",
        "            return True\n",
        "    return False\n",
        "\n",
        "def checkVertical():\n",
        "    global winner\n",
        "    for col in range(3):\n",
        "        if board[0][col] == board[1][col] == board[2][col] and isinstance(board[0][col], str):\n",
        "            winner = \"Player 1\" if board[0][col] == 'X' else \"Player 2\"\n",
        "            return True\n",
        "    return False\n",
        "\n",
        "def checkDiagonal():\n",
        "    global winner\n",
        "    if (board[0][0] == board[1][1] == board[2][2] or board[0][2] == board[1][1] == board[2][0]) and isinstance(board[1][1], str):\n",
        "        winner = \"Player 1\" if board[1][1] == 'X' else \"Player 2\"\n",
        "        return True\n",
        "    return False\n",
        "\n",
        "def checkBoard():\n",
        "    if checkHorizontal() or checkVertical() or checkDiagonal():\n",
        "        return True\n",
        "    elif totalInputs == 0:\n",
        "        winner = None\n",
        "        return True\n",
        "    return False\n",
        "\n",
        "def placeCharacterOnBoard(pos):\n",
        "    row = (pos - 1) // 3\n",
        "    col = (pos - 1) % 3\n",
        "    if isinstance(board[row][col], int):\n",
        "        board[row][col] = current_player_char\n",
        "        return 1\n",
        "    return 0\n",
        "\n",
        "def printCurrentBoard():\n",
        "    print(\"-------------\")\n",
        "    for row in board:\n",
        "        print(\"|\", end=\"\")\n",
        "        for col in row:\n",
        "            print(f\" {col} \", end=\"|\")\n",
        "        print()\n",
        "        print(\"-------------\")\n",
        "\n",
        "def runGame():\n",
        "    global current_player_char, next_player_char, winner\n",
        "    welcome_msg = \"Welcome to the TIC-TAC-TOE game. The first player to place a character on the board will be Player 1 (Character X) and the other player will be Player 2 (Character O).\"\n",
        "    print(welcome_msg)\n",
        "    inputCount = 0\n",
        "    while inputCount < totalInputs:\n",
        "        printCurrentBoard()\n",
        "        position = int(input(f\"Player {(inputCount%2)+1}, enter a position that does not contain any X or O:\"))\n",
        "        validityofInput = placeCharacterOnBoard(position)\n",
        "        inputCount += validityofInput\n",
        "        if inputCount >= 5:\n",
        "            if checkBoard():\n",
        "                clear_output()\n",
        "                break\n",
        "        if validityofInput:\n",
        "            current_player_char, next_player_char = next_player_char, current_player_char\n",
        "        clear_output()\n",
        "    printCurrentBoard()\n",
        "    if winner is not None:\n",
        "        print(f\"Well done, {winner}. You have won the game.\")\n",
        "    else:\n",
        "        print(\"The game ended in a draw.\")\n",
        "\n",
        "runGame()\n"
      ],
      "metadata": {
        "colab": {
          "base_uri": "https://localhost:8080/"
        },
        "id": "OhDyeEuDv4D5",
        "outputId": "6ade5db0-ad5f-4edf-ce2a-25ff40e39bda"
      },
      "execution_count": null,
      "outputs": [
        {
          "output_type": "stream",
          "name": "stdout",
          "text": [
            "-------------\n",
            "| X | O | X |\n",
            "-------------\n",
            "| O | X | O |\n",
            "-------------\n",
            "| O | X | X |\n",
            "-------------\n",
            "Well done, Player 1. You have won the game.\n"
          ]
        }
      ]
    },
    {
      "cell_type": "code",
      "source": [
        "def merge(a, b):\n",
        "    i = j = k = 0\n",
        "    while i < len(a) and j < len(b):\n",
        "        if a[i] < b[j]:\n",
        "            a[k] = a[i]\n",
        "            i += 1\n",
        "        else:\n",
        "            a[k] = b[j]\n",
        "            j += 1\n",
        "        k += 1\n",
        "    while i < len(a):\n",
        "        a[k] = a[i]\n",
        "        i += 1\n",
        "        k += 1\n",
        "    while j < len(b):\n",
        "        a[k] = b[j]\n",
        "        j += 1\n",
        "        k += 1\n",
        "    return a\n",
        "\n",
        "\n",
        "def mergeSort(arr):\n",
        "    if len(arr) <= 1:\n",
        "        return arr\n",
        "    else:\n",
        "        mid = len(arr) // 2\n",
        "        a1 = mergeSort(arr[:mid])\n",
        "        a2 = mergeSort(arr[mid:])\n",
        "        return merge(a1, a2)\n",
        "\n",
        "\n",
        "data = [-3, 5, 1, 6, 7, 8, 3]\n",
        "sorted_data = mergeSort(data)\n",
        "print(sorted_data)\n"
      ],
      "metadata": {
        "colab": {
          "base_uri": "https://localhost:8080/",
          "height": 371
        },
        "id": "1XvfHstMObkU",
        "outputId": "11d27c26-4499-4bcb-b3e3-b8a1b0cf28ed"
      },
      "execution_count": null,
      "outputs": [
        {
          "output_type": "error",
          "ename": "IndexError",
          "evalue": "ignored",
          "traceback": [
            "\u001b[0;31m---------------------------------------------------------------------------\u001b[0m",
            "\u001b[0;31mIndexError\u001b[0m                                Traceback (most recent call last)",
            "\u001b[0;32m<ipython-input-1-2540a77d96fa>\u001b[0m in \u001b[0;36m<cell line: 33>\u001b[0;34m()\u001b[0m\n\u001b[1;32m     31\u001b[0m \u001b[0;34m\u001b[0m\u001b[0m\n\u001b[1;32m     32\u001b[0m \u001b[0mdata\u001b[0m \u001b[0;34m=\u001b[0m \u001b[0;34m[\u001b[0m\u001b[0;34m-\u001b[0m\u001b[0;36m3\u001b[0m\u001b[0;34m,\u001b[0m \u001b[0;36m5\u001b[0m\u001b[0;34m,\u001b[0m \u001b[0;36m1\u001b[0m\u001b[0;34m,\u001b[0m \u001b[0;36m6\u001b[0m\u001b[0;34m,\u001b[0m \u001b[0;36m7\u001b[0m\u001b[0;34m,\u001b[0m \u001b[0;36m8\u001b[0m\u001b[0;34m,\u001b[0m \u001b[0;36m3\u001b[0m\u001b[0;34m]\u001b[0m\u001b[0;34m\u001b[0m\u001b[0;34m\u001b[0m\u001b[0m\n\u001b[0;32m---> 33\u001b[0;31m \u001b[0msorted_data\u001b[0m \u001b[0;34m=\u001b[0m \u001b[0mmergeSort\u001b[0m\u001b[0;34m(\u001b[0m\u001b[0mdata\u001b[0m\u001b[0;34m)\u001b[0m\u001b[0;34m\u001b[0m\u001b[0;34m\u001b[0m\u001b[0m\n\u001b[0m\u001b[1;32m     34\u001b[0m \u001b[0mprint\u001b[0m\u001b[0;34m(\u001b[0m\u001b[0msorted_data\u001b[0m\u001b[0;34m)\u001b[0m\u001b[0;34m\u001b[0m\u001b[0;34m\u001b[0m\u001b[0m\n",
            "\u001b[0;32m<ipython-input-1-2540a77d96fa>\u001b[0m in \u001b[0;36mmergeSort\u001b[0;34m(arr)\u001b[0m\n\u001b[1;32m     25\u001b[0m     \u001b[0;32melse\u001b[0m\u001b[0;34m:\u001b[0m\u001b[0;34m\u001b[0m\u001b[0;34m\u001b[0m\u001b[0m\n\u001b[1;32m     26\u001b[0m         \u001b[0mmid\u001b[0m \u001b[0;34m=\u001b[0m \u001b[0mlen\u001b[0m\u001b[0;34m(\u001b[0m\u001b[0marr\u001b[0m\u001b[0;34m)\u001b[0m \u001b[0;34m//\u001b[0m \u001b[0;36m2\u001b[0m\u001b[0;34m\u001b[0m\u001b[0;34m\u001b[0m\u001b[0m\n\u001b[0;32m---> 27\u001b[0;31m         \u001b[0ma1\u001b[0m \u001b[0;34m=\u001b[0m \u001b[0mmergeSort\u001b[0m\u001b[0;34m(\u001b[0m\u001b[0marr\u001b[0m\u001b[0;34m[\u001b[0m\u001b[0;34m:\u001b[0m\u001b[0mmid\u001b[0m\u001b[0;34m]\u001b[0m\u001b[0;34m)\u001b[0m\u001b[0;34m\u001b[0m\u001b[0;34m\u001b[0m\u001b[0m\n\u001b[0m\u001b[1;32m     28\u001b[0m         \u001b[0ma2\u001b[0m \u001b[0;34m=\u001b[0m \u001b[0mmergeSort\u001b[0m\u001b[0;34m(\u001b[0m\u001b[0marr\u001b[0m\u001b[0;34m[\u001b[0m\u001b[0mmid\u001b[0m\u001b[0;34m:\u001b[0m\u001b[0;34m]\u001b[0m\u001b[0;34m)\u001b[0m\u001b[0;34m\u001b[0m\u001b[0;34m\u001b[0m\u001b[0m\n\u001b[1;32m     29\u001b[0m         \u001b[0;32mreturn\u001b[0m \u001b[0mmerge\u001b[0m\u001b[0;34m(\u001b[0m\u001b[0ma1\u001b[0m\u001b[0;34m,\u001b[0m \u001b[0ma2\u001b[0m\u001b[0;34m)\u001b[0m\u001b[0;34m\u001b[0m\u001b[0;34m\u001b[0m\u001b[0m\n",
            "\u001b[0;32m<ipython-input-1-2540a77d96fa>\u001b[0m in \u001b[0;36mmergeSort\u001b[0;34m(arr)\u001b[0m\n\u001b[1;32m     26\u001b[0m         \u001b[0mmid\u001b[0m \u001b[0;34m=\u001b[0m \u001b[0mlen\u001b[0m\u001b[0;34m(\u001b[0m\u001b[0marr\u001b[0m\u001b[0;34m)\u001b[0m \u001b[0;34m//\u001b[0m \u001b[0;36m2\u001b[0m\u001b[0;34m\u001b[0m\u001b[0;34m\u001b[0m\u001b[0m\n\u001b[1;32m     27\u001b[0m         \u001b[0ma1\u001b[0m \u001b[0;34m=\u001b[0m \u001b[0mmergeSort\u001b[0m\u001b[0;34m(\u001b[0m\u001b[0marr\u001b[0m\u001b[0;34m[\u001b[0m\u001b[0;34m:\u001b[0m\u001b[0mmid\u001b[0m\u001b[0;34m]\u001b[0m\u001b[0;34m)\u001b[0m\u001b[0;34m\u001b[0m\u001b[0;34m\u001b[0m\u001b[0m\n\u001b[0;32m---> 28\u001b[0;31m         \u001b[0ma2\u001b[0m \u001b[0;34m=\u001b[0m \u001b[0mmergeSort\u001b[0m\u001b[0;34m(\u001b[0m\u001b[0marr\u001b[0m\u001b[0;34m[\u001b[0m\u001b[0mmid\u001b[0m\u001b[0;34m:\u001b[0m\u001b[0;34m]\u001b[0m\u001b[0;34m)\u001b[0m\u001b[0;34m\u001b[0m\u001b[0;34m\u001b[0m\u001b[0m\n\u001b[0m\u001b[1;32m     29\u001b[0m         \u001b[0;32mreturn\u001b[0m \u001b[0mmerge\u001b[0m\u001b[0;34m(\u001b[0m\u001b[0ma1\u001b[0m\u001b[0;34m,\u001b[0m \u001b[0ma2\u001b[0m\u001b[0;34m)\u001b[0m\u001b[0;34m\u001b[0m\u001b[0;34m\u001b[0m\u001b[0m\n\u001b[1;32m     30\u001b[0m \u001b[0;34m\u001b[0m\u001b[0m\n",
            "\u001b[0;32m<ipython-input-1-2540a77d96fa>\u001b[0m in \u001b[0;36mmergeSort\u001b[0;34m(arr)\u001b[0m\n\u001b[1;32m     27\u001b[0m         \u001b[0ma1\u001b[0m \u001b[0;34m=\u001b[0m \u001b[0mmergeSort\u001b[0m\u001b[0;34m(\u001b[0m\u001b[0marr\u001b[0m\u001b[0;34m[\u001b[0m\u001b[0;34m:\u001b[0m\u001b[0mmid\u001b[0m\u001b[0;34m]\u001b[0m\u001b[0;34m)\u001b[0m\u001b[0;34m\u001b[0m\u001b[0;34m\u001b[0m\u001b[0m\n\u001b[1;32m     28\u001b[0m         \u001b[0ma2\u001b[0m \u001b[0;34m=\u001b[0m \u001b[0mmergeSort\u001b[0m\u001b[0;34m(\u001b[0m\u001b[0marr\u001b[0m\u001b[0;34m[\u001b[0m\u001b[0mmid\u001b[0m\u001b[0;34m:\u001b[0m\u001b[0;34m]\u001b[0m\u001b[0;34m)\u001b[0m\u001b[0;34m\u001b[0m\u001b[0;34m\u001b[0m\u001b[0m\n\u001b[0;32m---> 29\u001b[0;31m         \u001b[0;32mreturn\u001b[0m \u001b[0mmerge\u001b[0m\u001b[0;34m(\u001b[0m\u001b[0ma1\u001b[0m\u001b[0;34m,\u001b[0m \u001b[0ma2\u001b[0m\u001b[0;34m)\u001b[0m\u001b[0;34m\u001b[0m\u001b[0;34m\u001b[0m\u001b[0m\n\u001b[0m\u001b[1;32m     30\u001b[0m \u001b[0;34m\u001b[0m\u001b[0m\n\u001b[1;32m     31\u001b[0m \u001b[0;34m\u001b[0m\u001b[0m\n",
            "\u001b[0;32m<ipython-input-1-2540a77d96fa>\u001b[0m in \u001b[0;36mmerge\u001b[0;34m(a, b)\u001b[0m\n\u001b[1;32m     10\u001b[0m         \u001b[0mk\u001b[0m \u001b[0;34m+=\u001b[0m \u001b[0;36m1\u001b[0m\u001b[0;34m\u001b[0m\u001b[0;34m\u001b[0m\u001b[0m\n\u001b[1;32m     11\u001b[0m     \u001b[0;32mwhile\u001b[0m \u001b[0mi\u001b[0m \u001b[0;34m<\u001b[0m \u001b[0mlen\u001b[0m\u001b[0;34m(\u001b[0m\u001b[0ma\u001b[0m\u001b[0;34m)\u001b[0m\u001b[0;34m:\u001b[0m\u001b[0;34m\u001b[0m\u001b[0;34m\u001b[0m\u001b[0m\n\u001b[0;32m---> 12\u001b[0;31m         \u001b[0ma\u001b[0m\u001b[0;34m[\u001b[0m\u001b[0mk\u001b[0m\u001b[0;34m]\u001b[0m \u001b[0;34m=\u001b[0m \u001b[0ma\u001b[0m\u001b[0;34m[\u001b[0m\u001b[0mi\u001b[0m\u001b[0;34m]\u001b[0m\u001b[0;34m\u001b[0m\u001b[0;34m\u001b[0m\u001b[0m\n\u001b[0m\u001b[1;32m     13\u001b[0m         \u001b[0mi\u001b[0m \u001b[0;34m+=\u001b[0m \u001b[0;36m1\u001b[0m\u001b[0;34m\u001b[0m\u001b[0;34m\u001b[0m\u001b[0m\n\u001b[1;32m     14\u001b[0m         \u001b[0mk\u001b[0m \u001b[0;34m+=\u001b[0m \u001b[0;36m1\u001b[0m\u001b[0;34m\u001b[0m\u001b[0;34m\u001b[0m\u001b[0m\n",
            "\u001b[0;31mIndexError\u001b[0m: list assignment index out of range"
          ]
        }
      ]
    },
    {
      "cell_type": "code",
      "source": [
        "def merge(a, b):\n",
        "    result = []\n",
        "    i = j = 0\n",
        "    while i < len(a) and j < len(b):\n",
        "        if a[i] < b[j]:\n",
        "            result.append(a[i])\n",
        "            i += 1\n",
        "        else:\n",
        "            result.append(b[j])\n",
        "            j += 1\n",
        "    while i < len(a):\n",
        "        result.append(a[i])\n",
        "        i += 1\n",
        "    while j < len(b):\n",
        "        result.append(b[j])\n",
        "        j += 1\n",
        "    return result\n",
        "\n",
        "\n",
        "def mergeSort(arr):\n",
        "    if len(arr) <= 1:\n",
        "        return arr\n",
        "    else:\n",
        "        mid = len(arr) // 2\n",
        "        a1 = mergeSort(arr[:mid])\n",
        "        a2 = mergeSort(arr[mid:])\n",
        "        return merge(a1, a2)\n",
        "\n",
        "\n",
        "data = [-3, 5, 1, 6, 7, 8, 3]\n",
        "sorted_data = mergeSort(data)\n",
        "print(sorted_data)\n"
      ],
      "metadata": {
        "colab": {
          "base_uri": "https://localhost:8080/"
        },
        "id": "wR51Yg_IOx34",
        "outputId": "ef6168c0-06a9-42e9-c076-180e9890ab2c"
      },
      "execution_count": null,
      "outputs": [
        {
          "output_type": "stream",
          "name": "stdout",
          "text": [
            "[-3, 1, 3, 5, 6, 7, 8]\n"
          ]
        }
      ]
    },
    {
      "cell_type": "code",
      "source": [
        "def find_max_value(arr):\n",
        "    # Base case: If the list contains only one element, return that element\n",
        "    if len(arr) == 1:\n",
        "        return arr[0]\n",
        "\n",
        "    # Divide the list into two halves\n",
        "    mid = len(arr) // 2\n",
        "    left_half = arr[:mid]\n",
        "    right_half = arr[mid:]\n",
        "\n",
        "    # Recursively find the maximum values from the left and right halves\n",
        "    left_max = find_max_value(left_half)\n",
        "    right_max = find_max_value(right_half)\n",
        "\n",
        "    # Compare the maximum values from the left and right halves\n",
        "    # Return the larger value as the overall maximum\n",
        "    if left_max > right_max:\n",
        "        return left_max\n",
        "    else:\n",
        "        return right_max\n",
        "\n",
        "\n",
        "# Read the input\n",
        "N = int(input())\n",
        "arr = list(map(int, input().split()))\n",
        "\n",
        "# Call the function to find the maximum value\n",
        "max_value = find_max_value(arr)\n",
        "\n",
        "# Print the result\n",
        "print(max_value)\n"
      ],
      "metadata": {
        "colab": {
          "base_uri": "https://localhost:8080/"
        },
        "id": "YSAPreJL7FdE",
        "outputId": "4b7f3f87-abd5-4e36-f48d-3401c4beb3a7"
      },
      "execution_count": null,
      "outputs": [
        {
          "output_type": "stream",
          "name": "stdout",
          "text": [
            "7\n",
            "5 15 2 3 10 1 9\n",
            "15\n"
          ]
        }
      ]
    },
    {
      "cell_type": "code",
      "source": [
        "def find_max_value(arr):\n",
        "    if len(arr) == 1:\n",
        "        return arr[0]\n",
        "\n",
        "    mid = len(arr) // 2\n",
        "    left_half = arr[:mid]\n",
        "    right_half = arr[mid:]\n",
        "\n",
        "    left_max = find_max_value(left_half)\n",
        "    right_max = find_max_value(right_half)\n",
        "\n",
        "    if left_max > right_max:\n",
        "        return left_max\n",
        "    else:\n",
        "        return right_max\n",
        "\n",
        "N = int(input())\n",
        "arr = list(map(int, input().split()))\n",
        "\n",
        "max_value = find_max_value(arr)\n",
        "\n",
        "print(max_value)"
      ],
      "metadata": {
        "colab": {
          "base_uri": "https://localhost:8080/"
        },
        "id": "V_WCcIP99CSH",
        "outputId": "6e33edee-6f53-4306-9b20-5c9bf350891b"
      },
      "execution_count": null,
      "outputs": [
        {
          "output_type": "stream",
          "name": "stdout",
          "text": [
            "8\n",
            "1 7 13 4 5 7 13 12\n",
            "13\n"
          ]
        }
      ]
    },
    {
      "cell_type": "code",
      "source": [
        "def merge(a, b):\n",
        "    result = []\n",
        "    i = j = 0\n",
        "    while i < len(a) and j < len(b):\n",
        "        if a[i] < b[j]:\n",
        "            result.append(a[i])\n",
        "            i += 1\n",
        "        else:\n",
        "            result.append(b[j])\n",
        "            j += 1\n",
        "    while i < len(a):\n",
        "        result.append(a[i])\n",
        "        i += 1\n",
        "    while j < len(b):\n",
        "        result.append(b[j])\n",
        "        j += 1\n",
        "    return result\n",
        "\n",
        "\n",
        "def mergeSort(arr):\n",
        "    if len(arr) <= 1:\n",
        "        return arr\n",
        "    else:\n",
        "        mid = len(arr) // 2\n",
        "        a1 = mergeSort(arr[:mid])\n",
        "        a2 = mergeSort(arr[mid:])\n",
        "        return merge(a1, a2)\n",
        "\n",
        "data = [-3, 5, 1, 6, 7, 8, 3]\n",
        "sorted_data = mergeSort(data)\n",
        "print(sorted_data)"
      ],
      "metadata": {
        "colab": {
          "base_uri": "https://localhost:8080/"
        },
        "id": "1aqe7n-c-a3k",
        "outputId": "0dcaedf9-50d5-4eb6-82f3-40c614b005b3"
      },
      "execution_count": null,
      "outputs": [
        {
          "output_type": "stream",
          "name": "stdout",
          "text": [
            "[-3, 1, 3, 5, 6, 7, 8]\n"
          ]
        }
      ]
    }
  ]
}