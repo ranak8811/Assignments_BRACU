{
  "nbformat": 4,
  "nbformat_minor": 0,
  "metadata": {
    "colab": {
      "provenance": [],
      "authorship_tag": "ABX9TyMpxtz33L9EJbUdUWlyAvt5",
      "include_colab_link": true
    },
    "kernelspec": {
      "name": "python3",
      "display_name": "Python 3"
    },
    "language_info": {
      "name": "python"
    }
  },
  "cells": [
    {
      "cell_type": "markdown",
      "metadata": {
        "id": "view-in-github",
        "colab_type": "text"
      },
      "source": [
        "<a href=\"https://colab.research.google.com/github/ANWAR8811/ANWAR8811/blob/main/Lab_6_Recursion_(6_12_22).ipynb\" target=\"_parent\"><img src=\"https://colab.research.google.com/assets/colab-badge.svg\" alt=\"Open In Colab\"/></a>"
      ]
    },
    {
      "cell_type": "code",
      "source": [
        "# Task-1 (a)\n",
        "\n",
        "def factorial(n):\n",
        "  if n<=1:\n",
        "    return n\n",
        "  else:\n",
        "    return n*factorial(n-1)\n",
        "\n",
        "print(factorial(int(input())))"
      ],
      "metadata": {
        "colab": {
          "base_uri": "https://localhost:8080/"
        },
        "id": "V7xoXyt6_TXg",
        "outputId": "7f9b8bb7-38c8-4744-db47-21a2a55d8339"
      },
      "execution_count": 18,
      "outputs": [
        {
          "output_type": "stream",
          "name": "stdout",
          "text": [
            "5\n",
            "120\n"
          ]
        }
      ]
    },
    {
      "cell_type": "code",
      "source": [
        "# Task-1 (b)\n",
        "\n",
        "def fibo(n):\n",
        "  if n<=1:\n",
        "    return 1\n",
        "  else:\n",
        "    return fibo(n-1) + fibo(n-2)\n",
        "\n",
        "print(fibo(int(input())))"
      ],
      "metadata": {
        "colab": {
          "base_uri": "https://localhost:8080/"
        },
        "id": "ERb0DuVA_XXB",
        "outputId": "63ec76e0-edb2-46be-81de-20e4e2ffb241"
      },
      "execution_count": 19,
      "outputs": [
        {
          "output_type": "stream",
          "name": "stdout",
          "text": [
            "6\n",
            "13\n"
          ]
        }
      ]
    },
    {
      "cell_type": "code",
      "source": [
        "# Task-1 (c)\n",
        "\n",
        "def printA(a,i):\n",
        "  if i == len(a):\n",
        "    return\n",
        "  else:\n",
        "    print(a[i])\n",
        "    printA(a, i+1)\n",
        "\n",
        "a = [2,16,8,1,10]\n",
        "printA(a, 0)"
      ],
      "metadata": {
        "colab": {
          "base_uri": "https://localhost:8080/"
        },
        "id": "TgQ9afTO_iNx",
        "outputId": "f6bf9973-e686-47d5-ce80-57ab0ac57f3a"
      },
      "execution_count": 20,
      "outputs": [
        {
          "output_type": "stream",
          "name": "stdout",
          "text": [
            "2\n",
            "16\n",
            "8\n",
            "1\n",
            "10\n"
          ]
        }
      ]
    },
    {
      "cell_type": "code",
      "source": [
        "# Task-1 (d)\n",
        "\n",
        "def powerN(base, n):\n",
        "  if n == 0:\n",
        "    return 1\n",
        "  else:\n",
        "    return base*powerN(base, n-1)\n",
        "\n",
        "print(powerN(int(input(\"Enter base: \")), int(input(\"Enter power: \"))))"
      ],
      "metadata": {
        "colab": {
          "base_uri": "https://localhost:8080/"
        },
        "id": "oE9O96Yf_w08",
        "outputId": "1292d3ff-6d7f-484b-cddf-c30bee6b82c7"
      },
      "execution_count": 21,
      "outputs": [
        {
          "output_type": "stream",
          "name": "stdout",
          "text": [
            "Enter base: 5\n",
            "Enter power: 5\n",
            "3125\n"
          ]
        }
      ]
    },
    {
      "cell_type": "code",
      "source": [
        "# Task-2 (a)\n",
        "\n",
        "def binaryConversion(n, es):\n",
        "  if n==0:\n",
        "    return f\"Binary number: {es}\"\n",
        "  else:\n",
        "    return binaryConversion(n//2, (str(n%2)+es))\n",
        "\n",
        "print(binaryConversion(int(input(\"Enter decimal number: \")), \"\"))"
      ],
      "metadata": {
        "colab": {
          "base_uri": "https://localhost:8080/"
        },
        "id": "XHDgyXrI_8nn",
        "outputId": "046348b6-2ff8-493b-add7-4ae7bca269d6"
      },
      "execution_count": 22,
      "outputs": [
        {
          "output_type": "stream",
          "name": "stdout",
          "text": [
            "Enter decimal number: 87\n",
            "Binary number: 1010111\n"
          ]
        }
      ]
    },
    {
      "cell_type": "code",
      "source": [
        "# Task-2 (b)\n",
        "\n",
        "class Node:\n",
        "  def __init__(self,e,n):\n",
        "    self.elem = e\n",
        "    self.next = n\n",
        "\n",
        "class LinkedList:\n",
        "  def __init__(self,a):\n",
        "    self.head = None\n",
        "\n",
        "    if type(a)== list:\n",
        "      nN = Node(a[0],None)\n",
        "      self.head = nN\n",
        "      tail = nN\n",
        "\n",
        "      for i in range(1,len(a)):\n",
        "        nN = Node(a[i], None)\n",
        "        tail.next = nN\n",
        "        tail = nN\n",
        "    else:\n",
        "      self.head = a\n",
        "\n",
        "a = [5,2,-1,8,-6,-5,6,54]\n",
        "h = LinkedList(a)\n",
        "\n",
        "def sumList(n, sum):\n",
        "  if n==None:\n",
        "    return 0\n",
        "  else:\n",
        "    return n.elem+sumList(n.next, sum)\n",
        "\n",
        "print(sumList(h.head, 0))"
      ],
      "metadata": {
        "colab": {
          "base_uri": "https://localhost:8080/"
        },
        "id": "XutXqee02QwC",
        "outputId": "73afac98-b1d2-484f-f68e-e5216afe331e"
      },
      "execution_count": 6,
      "outputs": [
        {
          "output_type": "stream",
          "name": "stdout",
          "text": [
            "63\n"
          ]
        }
      ]
    },
    {
      "cell_type": "code",
      "source": [
        "def pattern(n, i=1):\n",
        "  if n == 0:\n",
        "    print(printP(i , \"\"))\n",
        "  else:\n",
        "    print(printP(i , \"\"))\n",
        "    pattern(n-1, i+1)\n",
        "\n",
        "\n",
        "def printP(n, s):\n",
        "  if n == 0:\n",
        "    return s\n",
        "  else:\n",
        "    s = str(n)+s\n",
        "    return printP(n-1, s)\n",
        "    \n",
        "pattern(14)"
      ],
      "metadata": {
        "colab": {
          "base_uri": "https://localhost:8080/"
        },
        "id": "j8Gk2Pli3Wzj",
        "outputId": "d80a283e-babb-462b-aa68-65c6085a23ea"
      },
      "execution_count": 13,
      "outputs": [
        {
          "output_type": "stream",
          "name": "stdout",
          "text": [
            "1\n",
            "12\n",
            "123\n",
            "1234\n",
            "12345\n",
            "123456\n",
            "1234567\n",
            "12345678\n",
            "123456789\n",
            "12345678910\n",
            "1234567891011\n",
            "123456789101112\n",
            "12345678910111213\n",
            "1234567891011121314\n",
            "123456789101112131415\n"
          ]
        }
      ]
    },
    {
      "cell_type": "code",
      "source": [
        "# Task-2 (c)\n",
        "\n",
        "class Node:\n",
        "  def __init__(self,e,n):\n",
        "    self.elem = e\n",
        "    self.next = n\n",
        "\n",
        "class LinkedList:\n",
        "  def __init__(self,a):\n",
        "    self.head = None\n",
        "\n",
        "    if type(a)== list:\n",
        "      nN = Node(a[0],None)\n",
        "      self.head = nN\n",
        "      tail = nN\n",
        "\n",
        "      for i in range(1,len(a)):\n",
        "        nN = Node(a[i], None)\n",
        "        tail.next = nN\n",
        "        tail = nN\n",
        "    else:\n",
        "      self.head = a\n",
        "\n",
        "a = [5,2,1,8,6]\n",
        "h = LinkedList(a)\n",
        "\n",
        "def reverseList(n):\n",
        "  if n==None:\n",
        "    return \n",
        "  else:\n",
        "    reverseList(n.next)\n",
        "    print(n.elem, end=\" --> \")\n",
        "\n",
        "reverseList(h.head)"
      ],
      "metadata": {
        "colab": {
          "base_uri": "https://localhost:8080/"
        },
        "id": "U309sm4aAb1V",
        "outputId": "7971ea6f-4317-4bfe-f03b-47278321d0d4"
      },
      "execution_count": 28,
      "outputs": [
        {
          "output_type": "stream",
          "name": "stdout",
          "text": [
            "6 --> 8 --> 1 --> 2 --> 5 --> "
          ]
        }
      ]
    },
    {
      "cell_type": "code",
      "source": [
        "# Task-3\n",
        "\n",
        "def hocBuilder(height): \n",
        "  if height == 1:\n",
        "    return 8\n",
        "  else:\n",
        "    return 5 + hocBuilder(height-1)\n",
        "\n",
        "print(hocBuilder(int(input(\"Enter the height of the house: \"))))"
      ],
      "metadata": {
        "colab": {
          "base_uri": "https://localhost:8080/"
        },
        "id": "nsVkBTR-AlhP",
        "outputId": "372b0b3c-24b7-4d65-c778-a6879ba8c2b8"
      },
      "execution_count": 24,
      "outputs": [
        {
          "output_type": "stream",
          "name": "stdout",
          "text": [
            "Enter the height of the house: 6\n",
            "33\n"
          ]
        }
      ]
    },
    {
      "cell_type": "code",
      "source": [
        "# Task-4(a)\n",
        "\n",
        "def pattern(n, i=1):\n",
        "  if n == 0:\n",
        "    print(printP(i , \"\"))\n",
        "  else:\n",
        "    print(printP(i , \"\"))\n",
        "    pattern(n-1, i+1)\n",
        "\n",
        "\n",
        "def printP(n, s):\n",
        "  if n == 0:\n",
        "    return s\n",
        "  else:\n",
        "    s = str(n)+s\n",
        "    return printP(n-1, s)\n",
        "    \n",
        "pattern(int(input()))"
      ],
      "metadata": {
        "colab": {
          "base_uri": "https://localhost:8080/"
        },
        "id": "j8iTvlwVBDvz",
        "outputId": "a39bd6e2-bdd8-45a8-ebfa-ffb6edcd0a98"
      },
      "execution_count": 29,
      "outputs": [
        {
          "output_type": "stream",
          "name": "stdout",
          "text": [
            "33\n",
            "1\n",
            "12\n",
            "123\n",
            "1234\n",
            "12345\n",
            "123456\n",
            "1234567\n",
            "12345678\n",
            "123456789\n",
            "12345678910\n",
            "1234567891011\n",
            "123456789101112\n",
            "12345678910111213\n",
            "1234567891011121314\n",
            "123456789101112131415\n",
            "12345678910111213141516\n",
            "1234567891011121314151617\n",
            "123456789101112131415161718\n",
            "12345678910111213141516171819\n",
            "1234567891011121314151617181920\n",
            "123456789101112131415161718192021\n",
            "12345678910111213141516171819202122\n",
            "1234567891011121314151617181920212223\n",
            "123456789101112131415161718192021222324\n",
            "12345678910111213141516171819202122232425\n",
            "1234567891011121314151617181920212223242526\n",
            "123456789101112131415161718192021222324252627\n",
            "12345678910111213141516171819202122232425262728\n",
            "1234567891011121314151617181920212223242526272829\n",
            "123456789101112131415161718192021222324252627282930\n",
            "12345678910111213141516171819202122232425262728293031\n",
            "1234567891011121314151617181920212223242526272829303132\n",
            "123456789101112131415161718192021222324252627282930313233\n",
            "12345678910111213141516171819202122232425262728293031323334\n"
          ]
        }
      ]
    },
    {
      "cell_type": "code",
      "execution_count": 30,
      "metadata": {
        "colab": {
          "base_uri": "https://localhost:8080/"
        },
        "id": "B25KmQJDzh8c",
        "outputId": "f2846786-175b-417a-c0bb-21dfedef1e56"
      },
      "outputs": [
        {
          "output_type": "stream",
          "name": "stdout",
          "text": [
            "22\n",
            "                     1\n",
            "                    12\n",
            "                   123\n",
            "                  1234\n",
            "                 12345\n",
            "                123456\n",
            "               1234567\n",
            "              12345678\n",
            "             123456789\n",
            "            12345678910\n",
            "           1234567891011\n",
            "          123456789101112\n",
            "         12345678910111213\n",
            "        1234567891011121314\n",
            "       123456789101112131415\n",
            "      12345678910111213141516\n",
            "     1234567891011121314151617\n",
            "    123456789101112131415161718\n",
            "   12345678910111213141516171819\n",
            "  1234567891011121314151617181920\n",
            " 123456789101112131415161718192021\n",
            "12345678910111213141516171819202122\n"
          ]
        }
      ],
      "source": [
        "# Task-4(b)\n",
        "\n",
        "def pattern(n, i=1):\n",
        "  if n == i:\n",
        "    print(printP(i))\n",
        "  else:\n",
        "    print(space(n-i,\"\") + printP(i))\n",
        "    pattern(n, i+1)\n",
        "\n",
        "def space(n,s):\n",
        "  if n == 0:\n",
        "    return s\n",
        "  else:\n",
        "    s = \" \" + s\n",
        "    return space(n-1,s)\n",
        "\n",
        "def printP(n):\n",
        "  if n == 1:\n",
        "    return str(1)\n",
        "  else:\n",
        "    return printP(n-1)+str(n)\n",
        "    \n",
        "pattern(int(input()))"
      ]
    },
    {
      "cell_type": "code",
      "source": [
        "# Task-5\n",
        "\n",
        "class FinalQ: \n",
        " def print(self,array,idx): \n",
        "  if(idx<len(array)): \n",
        "    profit = self.calcProfit(array[idx])  \n",
        "    #TO DO \n",
        "\n",
        "    print(f\"{idx+1}. Investment: {array[idx]}; Profit: {profit}\")\n",
        "    self.print(array, idx+1)\n",
        "  \n",
        " def calcProfit(self,investment): \n",
        "  #TO DO \n",
        "\n",
        "  if investment <= 25000:\n",
        "    return 0.0\n",
        "  elif 25000<investment<=100000:\n",
        "    return 45 + self.calcProfit(investment-1000)\n",
        "  elif investment>100000:\n",
        "    return 80 + self.calcProfit(investment-1000)\n",
        "\n",
        "  \n",
        "#Tester \n",
        "array=[25000,100000,250000,350000,400000,450000,500000] \n",
        "f = FinalQ() \n",
        "f.print(array,0)"
      ],
      "metadata": {
        "colab": {
          "base_uri": "https://localhost:8080/"
        },
        "id": "N1B0F5Lq1IUH",
        "outputId": "354ed2d2-417c-4058-c761-9f90dfdd7133"
      },
      "execution_count": 1,
      "outputs": [
        {
          "output_type": "stream",
          "name": "stdout",
          "text": [
            "1. Investment: 25000; Profit: 0.0\n",
            "2. Investment: 100000; Profit: 3375.0\n",
            "3. Investment: 250000; Profit: 15375.0\n",
            "4. Investment: 350000; Profit: 23375.0\n",
            "5. Investment: 400000; Profit: 27375.0\n",
            "6. Investment: 450000; Profit: 31375.0\n",
            "7. Investment: 500000; Profit: 35375.0\n"
          ]
        }
      ]
    },
    {
      "cell_type": "code",
      "source": [
        "# copied\n",
        "\n",
        "#task 5\n",
        "class FinalQ: \n",
        " def print(self,array,idx): \n",
        "   if(idx<len(array)): \n",
        "     profit = self.calcProfit(array[idx])\n",
        "     if idx == len(array)-1:\n",
        "       print(idx+1,\". Investment: \",array[idx],\"; Profit:\",profit)\n",
        "     else:\n",
        "       print(idx+1,\". Investment: \",array[idx],\"; Profit:\",profit)\n",
        "       self.print(array,idx+1)\n",
        "  \n",
        " def calcProfit(self,investment): \n",
        "   if investment == 25000:\n",
        "     return 0.0\n",
        "   else:\n",
        "     man = 75000/100\n",
        "     res1 = man + man + man + man + man/2\n",
        "     inv = investment - 100000\n",
        "     inv = inv/100\n",
        "     res2 = inv + inv + inv + inv + inv + inv + inv + inv\n",
        "     res = res1 + res2\n",
        "     return float(res) \n",
        "\n",
        "#Tester\n",
        "array=[25000,100000,250000,350000,400000,450000,500000,2000000000,50000000000000,10**23] \n",
        "f = FinalQ() \n",
        "f.print(array,0)\n"
      ],
      "metadata": {
        "colab": {
          "base_uri": "https://localhost:8080/"
        },
        "id": "7gvnIC_Q-Nc0",
        "outputId": "cbd433e5-1863-4504-b7c0-95dd35530376"
      },
      "execution_count": 31,
      "outputs": [
        {
          "output_type": "stream",
          "name": "stdout",
          "text": [
            "1 . Investment:  25000 ; Profit: 0.0\n",
            "2 . Investment:  100000 ; Profit: 3375.0\n",
            "3 . Investment:  250000 ; Profit: 15375.0\n",
            "4 . Investment:  350000 ; Profit: 23375.0\n",
            "5 . Investment:  400000 ; Profit: 27375.0\n",
            "6 . Investment:  450000 ; Profit: 31375.0\n",
            "7 . Investment:  500000 ; Profit: 35375.0\n",
            "8 . Investment:  2000000000 ; Profit: 159995375.0\n",
            "9 . Investment:  50000000000000 ; Profit: 3999999995375.0\n",
            "10 . Investment:  100000000000000000000000 ; Profit: 8e+21\n"
          ]
        }
      ]
    }
  ]
}