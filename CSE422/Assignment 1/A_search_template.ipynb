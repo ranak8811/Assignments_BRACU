{
  "nbformat": 4,
  "nbformat_minor": 0,
  "metadata": {
    "colab": {
      "provenance": []
    },
    "kernelspec": {
      "name": "python3",
      "display_name": "Python 3"
    },
    "language_info": {
      "name": "python"
    }
  },
  "cells": [
    {
      "cell_type": "code",
      "execution_count": null,
      "metadata": {
        "id": "87wM1GXkl8jF"
      },
      "outputs": [],
      "source": [
        "graph = {\n",
        "    'S': {'A': 3, 'D': 4},\n",
        "    'A': {'S': 3, 'D': 5, 'B': 4},\n",
        "    'B': {'A': 4, 'C': 4},\n",
        "    'C': {'B': 4},\n",
        "    'D': {'S': 4,'A':5,'E':2},\n",
        "    'E': {'D': 2,'F':4},\n",
        "    'F': {'E': 4,'G':3.5},\n",
        "    'G': {'F':3.5}\n",
        "}\n",
        "\n",
        "heuristic = {\n",
        "    'S':11.5,\n",
        "    'A': 10.1,\n",
        "    'B': 5.8,\n",
        "    'C': 3.4,\n",
        "    'D': 9.2,\n",
        "    'E': 7.1,\n",
        "    'F': 3.5,\n",
        "    'G': 0\n",
        "}"
      ]
    }
  ]
}