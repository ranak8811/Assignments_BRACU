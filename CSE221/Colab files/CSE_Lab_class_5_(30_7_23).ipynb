{
  "nbformat": 4,
  "nbformat_minor": 0,
  "metadata": {
    "colab": {
      "provenance": [],
      "authorship_tag": "ABX9TyMT8rPTqm4+6nXl7bpVNf2a",
      "include_colab_link": true
    },
    "kernelspec": {
      "name": "python3",
      "display_name": "Python 3"
    },
    "language_info": {
      "name": "python"
    }
  },
  "cells": [
    {
      "cell_type": "markdown",
      "metadata": {
        "id": "view-in-github",
        "colab_type": "text"
      },
      "source": [
        "<a href=\"https://colab.research.google.com/github/ANWAR8811/Assignments/blob/main/CSE_Lab_class_5_(30_7_23).ipynb\" target=\"_parent\"><img src=\"https://colab.research.google.com/assets/colab-badge.svg\" alt=\"Open In Colab\"/></a>"
      ]
    },
    {
      "cell_type": "code",
      "execution_count": null,
      "metadata": {
        "colab": {
          "base_uri": "https://localhost:8080/"
        },
        "id": "-V_inhq6Bt9-",
        "outputId": "e12a67e8-3bda-4391-daac-658ef0113741"
      },
      "outputs": [
        {
          "output_type": "stream",
          "name": "stdout",
          "text": [
            "8\n",
            "9\n"
          ]
        }
      ],
      "source": [
        "from math import floor, ceil\n",
        "\n",
        "x = floor((5+12)/2)\n",
        "print(x)\n",
        "\n",
        "y = ceil((5+12)/2)\n",
        "print(y)"
      ]
    },
    {
      "cell_type": "code",
      "source": [
        "A = [1,3, 4, 5, 9, 6, 2, -1]\n",
        "\n",
        "def find_max(A):\n",
        "  for x in range(len(A)-1):\n",
        "    if A[x+1] < A[x]:\n",
        "      return A[x]\n",
        "  return A[-1]\n",
        "\n",
        "print(find_max(A))"
      ],
      "metadata": {
        "colab": {
          "base_uri": "https://localhost:8080/"
        },
        "id": "XIHgOBM1HP7q",
        "outputId": "14a5c828-649d-4660-8f1f-861f6e833f72"
      },
      "execution_count": null,
      "outputs": [
        {
          "output_type": "stream",
          "name": "stdout",
          "text": [
            "9\n"
          ]
        }
      ]
    },
    {
      "cell_type": "code",
      "source": [
        "txt = \"ABCDEFGHIJKLMNOPQRSTUVWXYZ\"\n",
        "print(\"The length of the txt string is:\", len(txt))\n"
      ],
      "metadata": {
        "id": "fbz8WKHWivzv"
      },
      "execution_count": null,
      "outputs": []
    },
    {
      "cell_type": "code",
      "source": [
        "def bubbleSort(arr):\n",
        "    for i in range(len(arr)-1):\n",
        "        is_swapped = False\n",
        "        for j in range(len(arr)-i-1):\n",
        "            if arr[j] > arr[j+1]:\n",
        "                arr[j], arr[j+1] = arr[j+1], arr[j]\n",
        "                is_swapped = True\n",
        "        if not is_swapped:\n",
        "            break\n",
        "\n",
        "arr = [5,2,3,1,4]\n",
        "bubbleSort(arr)\n",
        "print(arr)"
      ],
      "metadata": {
        "colab": {
          "base_uri": "https://localhost:8080/"
        },
        "id": "hBwpWkzKglyg",
        "outputId": "b5179eaf-e57e-48c1-edba-99d4a9d26d77"
      },
      "execution_count": null,
      "outputs": [
        {
          "output_type": "stream",
          "name": "stdout",
          "text": [
            "[1, 2, 3, 4, 5]\n"
          ]
        }
      ]
    },
    {
      "cell_type": "code",
      "source": [
        "# Counting sort in Python programming\n",
        "\n",
        "\n",
        "def countingSort(array):\n",
        "    size = len(array)\n",
        "    output = [0] * size\n",
        "\n",
        "    # Initialize count array\n",
        "    count = [0] * 10\n",
        "\n",
        "    # Store the count of each elements in count array\n",
        "    for i in range(0, size):\n",
        "        count[array[i]] += 1\n",
        "\n",
        "    # Store the cummulative count\n",
        "    for i in range(1, 10):\n",
        "        count[i] += count[i - 1]\n",
        "\n",
        "    # Find the index of each element of the original array in count array\n",
        "    # place the elements in output array\n",
        "    i = size - 1\n",
        "    while i >= 0:\n",
        "        output[count[array[i]] - 1] = array[i]\n",
        "        count[array[i]] -= 1\n",
        "        i -= 1\n",
        "\n",
        "    # Copy the sorted elements into original array\n",
        "    for i in range(0, size):\n",
        "        array[i] = output[i]\n",
        "\n",
        "\n",
        "data = [4, 2, 2, 8, 3, 3, 1]\n",
        "countingSort(data)\n",
        "print(\"Sorted Array in Ascending Order: \")\n",
        "print(data)"
      ],
      "metadata": {
        "colab": {
          "base_uri": "https://localhost:8080/"
        },
        "id": "QLvwIM-_kX6X",
        "outputId": "e7241b5b-059a-4c4f-e59e-40e623ea0d7a"
      },
      "execution_count": null,
      "outputs": [
        {
          "output_type": "stream",
          "name": "stdout",
          "text": [
            "Sorted Array in Ascending Order: \n",
            "[1, 2, 2, 3, 3, 4, 8]\n"
          ]
        }
      ]
    },
    {
      "cell_type": "code",
      "source": [
        "def count_sort(arr):\n",
        "    max_element = max(arr) + 1\n",
        "    count = [0] * max_element\n",
        "    for element in arr:\n",
        "        count[element] += 1           # This count sort just works for positive value in input array\n",
        "\n",
        "    print('First count: ', count)\n",
        "\n",
        "    for i in range(1, max_element):\n",
        "        count[i] += count[i - 1]\n",
        "\n",
        "    print('Second count: ', count)\n",
        "\n",
        "    output = [0] * len(arr)\n",
        "    for num in arr:\n",
        "        output[count[num] - 1] = num\n",
        "        count[num] -= 1\n",
        "    return output\n",
        "\n",
        "data = [1, 7, 4, 1, 10, 9, 2]\n",
        "print(count_sort(data))"
      ],
      "metadata": {
        "colab": {
          "base_uri": "https://localhost:8080/"
        },
        "id": "-xEmL7Wrmr-B",
        "outputId": "30ab5514-4c1b-4d73-91c6-f9c98c136dab"
      },
      "execution_count": null,
      "outputs": [
        {
          "output_type": "stream",
          "name": "stdout",
          "text": [
            "First count:  [0, 2, 1, 0, 1, 0, 0, 1, 0, 1, 1]\n",
            "Second count:  [0, 2, 3, 3, 4, 4, 4, 5, 5, 6, 7]\n",
            "[1, 1, 2, 4, 7, 9, 10]\n"
          ]
        }
      ]
    },
    {
      "cell_type": "code",
      "source": [
        "def count_sort(arr):\n",
        "    min_element = min(arr)\n",
        "    adjusted_arr = [num - min_element for num in arr]\n",
        "\n",
        "    print(adjusted_arr)               # This count sort also works for negative value in input array\n",
        "\n",
        "    max_element = max(adjusted_arr) + 1\n",
        "    count = [0] * max_element\n",
        "\n",
        "    for element in adjusted_arr:\n",
        "        count[element] += 1\n",
        "\n",
        "    for i in range(1, max_element):\n",
        "        count[i] += count[i - 1]\n",
        "\n",
        "    output = [0] * len(arr)\n",
        "\n",
        "    for num in adjusted_arr:\n",
        "        output[count[num] - 1] = num\n",
        "        count[num] -= 1\n",
        "\n",
        "    sorted_arr = [num + min_element for num in output]\n",
        "\n",
        "    return sorted_arr\n",
        "\n",
        "data = [1, 7, 4, 1, 10, 9, -2]\n",
        "print(count_sort(data))\n"
      ],
      "metadata": {
        "colab": {
          "base_uri": "https://localhost:8080/"
        },
        "id": "6Nyiz11eq0w5",
        "outputId": "b90fcca2-c4a1-439f-da24-c551315e2f7d"
      },
      "execution_count": null,
      "outputs": [
        {
          "output_type": "stream",
          "name": "stdout",
          "text": [
            "[3, 9, 6, 3, 12, 11, 0]\n",
            "[-2, 1, 1, 4, 7, 9, 10]\n"
          ]
        }
      ]
    },
    {
      "cell_type": "code",
      "source": [
        "def counting_sort(arr):\n",
        "    # Find the maximum element in the array\n",
        "    max_element = int(max(arr))\n",
        "\n",
        "    # Create a counting array of size max_element+1\n",
        "    counts = [0] * (max_element + 1)\n",
        "\n",
        "    # Count the occurrences of each element in the array\n",
        "    for num in arr:\n",
        "        counts[int(num)] += 1\n",
        "\n",
        "    # Modify the counting array to store cumulative sums\n",
        "    for i in range(1, max_element + 1):\n",
        "        counts[i] += counts[i - 1]\n",
        "\n",
        "    # Create a new output array to store the sorted elements\n",
        "    output = [0] * len(arr)\n",
        "\n",
        "    # Traverse the original array in reverse order\n",
        "    for num in reversed(arr):\n",
        "        # Place each element at its correct position\n",
        "        output[counts[int(num)] - 1] = num\n",
        "        counts[int(num)] -= 1\n",
        "\n",
        "    return output\n",
        "\n",
        "# Test the counting_sort function\n",
        "data = [2, 5, 1.2, 6.7, 1.7, 9.3, 2.2, 7.7, 0, -4, -5.1, 2, 5, 5.2]\n",
        "sorted_data = counting_sort(data)\n",
        "print(sorted_data)\n"
      ],
      "metadata": {
        "colab": {
          "base_uri": "https://localhost:8080/"
        },
        "id": "mBXA8ekjspqY",
        "outputId": "95189942-4a42-43d7-c277-dce19c108323"
      },
      "execution_count": null,
      "outputs": [
        {
          "output_type": "stream",
          "name": "stdout",
          "text": [
            "[0, 1.2, 1.7, 2, 2.2, 2, 5, -5.1, 5, 5.2, 6.7, -4, 7.7, 9.3]\n"
          ]
        }
      ]
    },
    {
      "cell_type": "code",
      "source": [
        "# Iterative Binary Search Function\n",
        "# It returns index of x in given array arr if present,\n",
        "# else returns -1\n",
        "def binary_search(arr, x):\n",
        "\tlow = 0\n",
        "\thigh = len(arr) - 1\n",
        "\tmid = 0\n",
        "\n",
        "\twhile low <= high:\n",
        "\n",
        "\t\tmid = (high + low) // 2\n",
        "\n",
        "\t\t# If x is greater, ignore left half\n",
        "\t\tif arr[mid] < x:\n",
        "\t\t\tlow = mid + 1\n",
        "\n",
        "\t\t# If x is smaller, ignore right half\n",
        "\t\telif arr[mid] > x:\n",
        "\t\t\thigh = mid - 1\n",
        "\n",
        "\t\t# means x is present at mid\n",
        "\t\telse:\n",
        "\t\t\treturn mid\n",
        "\n",
        "\t# If we reach here, then the element was not present\n",
        "\treturn -1\n",
        "\n",
        "\n",
        "# Test array\n",
        "arr = [ 2, 3, 4, 10, 40 ]\n",
        "x = 10\n",
        "\n",
        "# Function call\n",
        "result = binary_search(arr, x)\n",
        "\n",
        "if result != -1:\n",
        "\tprint(\"Element is present at index\", str(result))\n",
        "else:\n",
        "\tprint(\"Element is not present in array\")\n"
      ],
      "metadata": {
        "colab": {
          "base_uri": "https://localhost:8080/"
        },
        "id": "Kswkqx1gwzeL",
        "outputId": "15633469-852b-4272-9d82-7801119ba0ad"
      },
      "execution_count": null,
      "outputs": [
        {
          "output_type": "stream",
          "name": "stdout",
          "text": [
            "Element is present at index 3\n"
          ]
        }
      ]
    },
    {
      "cell_type": "code",
      "source": [
        "print(7//2)"
      ],
      "metadata": {
        "id": "Tq6xcfQaxRs6",
        "outputId": "f589d996-980c-494f-a109-44b62e1ca6b1",
        "colab": {
          "base_uri": "https://localhost:8080/"
        }
      },
      "execution_count": null,
      "outputs": [
        {
          "output_type": "stream",
          "name": "stdout",
          "text": [
            "3\n"
          ]
        }
      ]
    },
    {
      "cell_type": "code",
      "source": [
        "def quick_sort(arr, low, high):\n",
        "    if low < high:\n",
        "        pivot_index = partition(arr, low, high)\n",
        "        quick_sort(arr, low, pivot_index - 1)\n",
        "        quick_sort(arr, pivot_index + 1, high)\n",
        "\n",
        "def partition(arr, low, high):\n",
        "    pivot = arr[low]\n",
        "    i = low + 1\n",
        "    j = high\n",
        "\n",
        "    while True:\n",
        "        while i <= j and arr[i] <= pivot:\n",
        "            i += 1\n",
        "        while i <= j and arr[j] > pivot:\n",
        "            j -= 1\n",
        "\n",
        "        if i <= j:\n",
        "            arr[i], arr[j] = arr[j], arr[i]\n",
        "        else:\n",
        "            break\n",
        "\n",
        "    arr[low], arr[j] = arr[j], arr[low]\n",
        "    return j\n",
        "\n",
        "# Example usage:\n",
        "arr = [4, 2, 6, 8, 1, -3, 7, 5]\n",
        "quick_sort(arr, 0, len(arr) - 1)\n",
        "print(arr)\n"
      ],
      "metadata": {
        "colab": {
          "base_uri": "https://localhost:8080/"
        },
        "id": "qY6SVqwwc8h2",
        "outputId": "8c64dcf9-adc9-45ae-b86d-ae7f07c6cf00"
      },
      "execution_count": null,
      "outputs": [
        {
          "output_type": "stream",
          "name": "stdout",
          "text": [
            "[-3, 1, 2, 4, 5, 6, 7, 8]\n"
          ]
        }
      ]
    },
    {
      "cell_type": "code",
      "source": [
        "# Python program for implementation of Insertion Sort\n",
        "\n",
        "# Function to do insertion sort\n",
        "def insertionSort(arr):\n",
        "\n",
        "\t# Traverse through 1 to len(arr)\n",
        "\tfor i in range(1, len(arr)):\n",
        "\n",
        "\t\tkey = arr[i]\n",
        "\n",
        "\t\t# Move elements of arr[0..i-1], that are\n",
        "\t\t# greater than key, to one position ahead\n",
        "\t\t# of their current position\n",
        "\t\tj = i-1\n",
        "\t\twhile j >= 0 and key > arr[j] :\n",
        "\t\t\t\tarr[j + 1] = arr[j]\n",
        "\t\t\t\tj -= 1\n",
        "\t\tarr[j + 1] = key\n",
        "\n",
        "\n",
        "# Driver code to test above\n",
        "arr = [12, 11, 13, 5, 6]\n",
        "insertionSort(arr)\n",
        "for i in range(len(arr)):\n",
        "\tprint (\"% d\" % arr[i])\n",
        "\n",
        "# This code is contributed by Mohit Kumra\n"
      ],
      "metadata": {
        "colab": {
          "base_uri": "https://localhost:8080/"
        },
        "id": "fyXtBsYEVowf",
        "outputId": "c1c45fd4-8b78-499e-c332-f7127ed81ea4"
      },
      "execution_count": null,
      "outputs": [
        {
          "output_type": "stream",
          "name": "stdout",
          "text": [
            " 13\n",
            " 12\n",
            " 11\n",
            " 6\n",
            " 5\n"
          ]
        }
      ]
    },
    {
      "cell_type": "code",
      "source": [
        "def dfs(node, graph, visited, sorted_nodes):\n",
        "    visited[node] = True\n",
        "    for neighbor in graph[node]:\n",
        "        if not visited[neighbor]:\n",
        "            dfs(neighbor, graph, visited, sorted_nodes)\n",
        "    sorted_nodes.insert(0, node)\n",
        "\n",
        "def topological_sort(graph):\n",
        "    num_nodes = len(graph)\n",
        "    visited = [False] * num_nodes\n",
        "    sorted_nodes = []\n",
        "\n",
        "    for node in range(num_nodes):\n",
        "        if not visited[node]:\n",
        "            dfs(node, graph, visited, sorted_nodes)\n",
        "\n",
        "    return sorted_nodes\n",
        "\n",
        "\n",
        "# Example usage:\n",
        "if __name__ == \"__main__\":\n",
        "    # Sample graph represented as an adjacency list\n",
        "    graph = {\n",
        "        0: [1, 2],\n",
        "        1: [3],\n",
        "        2: [3],\n",
        "        3: [4],\n",
        "        4: []\n",
        "    }\n",
        "\n",
        "    result = topological_sort(graph)\n",
        "    print(result)  # Output: [0, 2, 1, 3, 4]"
      ],
      "metadata": {
        "colab": {
          "base_uri": "https://localhost:8080/"
        },
        "id": "3hzrfohQ6mVx",
        "outputId": "c69aa24e-49c4-41e0-d5d7-7ae3ce3665df"
      },
      "execution_count": null,
      "outputs": [
        {
          "output_type": "stream",
          "name": "stdout",
          "text": [
            "[0, 2, 1, 3, 4]\n"
          ]
        }
      ]
    },
    {
      "cell_type": "code",
      "source": [
        "def dfs(node, graph, visited, sorted_nodes):\n",
        "  visited[node] = True\n",
        "  for neighbor in graph[node]:\n",
        "    if not visited[neighbor]:\n",
        "      dfs(neighbor, graph, visited, sorted_nodes)\n",
        "  sorted_nodes.insert(0, node)\n",
        "\n",
        "  def topological_sort(graph):\n",
        "    num_nodes = len(graph)\n",
        "    visited = [False]*num_nodes\n",
        "    sorted_nodes = []\n",
        "\n",
        "    for node in range(num_nodes):\n",
        "      if not visited[node]:\n",
        "        dfs(node, graph, visited, sorted_nodes)\n",
        "\n",
        "    return sorted_nodes\n",
        "\n",
        "# Example usage:\n",
        "if __name__ == \"__main__\":\n",
        "    # Sample graph represented as an adjacency list\n",
        "    graph = {\n",
        "        0: [1, 2],\n",
        "        1: [3],\n",
        "        2: [3],\n",
        "        3: [4],\n",
        "        4: []\n",
        "    }\n",
        "\n",
        "    result = topological_sort(graph)\n",
        "    print(result)  # Output: [0, 2, 1, 3, 4]"
      ],
      "metadata": {
        "colab": {
          "base_uri": "https://localhost:8080/"
        },
        "id": "N04_EXwr65-h",
        "outputId": "912a29bb-2971-4ed1-e9ff-4f70ee312cca"
      },
      "execution_count": null,
      "outputs": [
        {
          "output_type": "stream",
          "name": "stdout",
          "text": [
            "[0, 2, 1, 3, 4]\n"
          ]
        }
      ]
    },
    {
      "cell_type": "code",
      "source": [
        "def dfs(course, graph, visited, stack):\n",
        "    visited[course] = True\n",
        "    for neighbor in graph[course]:\n",
        "        if not visited[neighbor]:\n",
        "            dfs(neighbor, graph, visited, stack)\n",
        "    stack.append(course)\n",
        "\n",
        "def find_course_order(num_courses, prerequisites):\n",
        "    graph = {i: [] for i in range(1, num_courses + 1)}\n",
        "    for course, prerequisite in prerequisites:\n",
        "        graph[prerequisite].append(course)\n",
        "\n",
        "    visited = {i: False for i in range(1, num_courses + 1)}\n",
        "    stack = []\n",
        "\n",
        "    for course in range(1, num_courses + 1):\n",
        "        if not visited[course]:\n",
        "            dfs(course, graph, visited, stack)\n",
        "\n",
        "    return stack[::-1] if len(stack) == num_courses else \"IMPOSSIBLE\"\n",
        "\n",
        "# Sample Input 1\n",
        "num_courses_1 = 5\n",
        "prerequisites_1 = [(3, 1), (1, 2), (4, 5)]\n",
        "print(find_course_order(num_courses_1, prerequisites_1))  # Output: [3, 4, 1, 5, 2]\n",
        "\n",
        "# Sample Input 2\n",
        "num_courses_2 = 6\n",
        "prerequisites_2 = [(1, 2), (2, 3), (4, 3), (4, 5), (5, 6), (6, 4)]\n",
        "print(find_course_order(num_courses_2, prerequisites_2))  # Output: \"IMPOSSIBLE\"\n"
      ],
      "metadata": {
        "colab": {
          "base_uri": "https://localhost:8080/"
        },
        "id": "EgOx7Bc6AvzJ",
        "outputId": "5da77e40-366e-4f30-d387-caea4f39046e"
      },
      "execution_count": null,
      "outputs": [
        {
          "output_type": "stream",
          "name": "stdout",
          "text": [
            "[5, 4, 2, 1, 3]\n",
            "[3, 4, 6, 5, 2, 1]\n"
          ]
        }
      ]
    },
    {
      "cell_type": "code",
      "source": [
        "def dfs(course, graph, visited, stack):\n",
        "    visited[course] = True\n",
        "    for neighbor in graph[course]:\n",
        "        if not visited[neighbor]:\n",
        "            dfs(neighbor, graph, visited, stack)\n",
        "    stack.append(course)\n",
        "\n",
        "def find_course_order(num_courses, prerequisites):\n",
        "    graph = {i: [] for i in range(1, num_courses + 1)}\n",
        "    for course, prerequisite in prerequisites:\n",
        "        graph[course].append(prerequisite)\n",
        "\n",
        "    visited = {i: False for i in range(1, num_courses + 1)}\n",
        "    stack = []\n",
        "\n",
        "    for course in range(1, num_courses + 1):\n",
        "        if not visited[course]:\n",
        "            dfs(course, graph, visited, stack)\n",
        "\n",
        "    return stack[::-1] if len(stack) == num_courses else \"IMPOSSIBLE\"\n",
        "\n",
        "# Sample Input 1\n",
        "num_courses_1 = 5\n",
        "prerequisites_1 = [(3, 1), (1, 2), (4, 5)]\n",
        "print(find_course_order(num_courses_1, prerequisites_1))  # Output: [3, 4, 1, 5, 2]\n",
        "\n",
        "# Sample Input 2\n",
        "num_courses_2 = 6\n",
        "prerequisites_2 = [(1, 2), (2, 3), (4, 3), (4, 5), (5, 6), (6, 4)]\n",
        "print(find_course_order(num_courses_2, prerequisites_2))  # Output: \"IMPOSSIBLE\"\n"
      ],
      "metadata": {
        "id": "iSxbyS5mCnvs",
        "outputId": "524d8302-e867-47e8-ba68-d8be0ff092b3",
        "colab": {
          "base_uri": "https://localhost:8080/"
        }
      },
      "execution_count": null,
      "outputs": [
        {
          "output_type": "stream",
          "name": "stdout",
          "text": [
            "[4, 5, 3, 1, 2]\n",
            "[4, 5, 6, 1, 2, 3]\n"
          ]
        }
      ]
    },
    {
      "cell_type": "code",
      "source": [
        "def dfs_visit(node, graph, visited, stack):\n",
        "    visited[node] = True\n",
        "    for neighbor in graph[node]:\n",
        "        if not visited[neighbor]:\n",
        "            dfs_visit(neighbor, graph, visited, stack)\n",
        "    stack.append(node)\n",
        "\n",
        "def dfs_scc(node, graph, visited, scc):\n",
        "    visited[node] = True\n",
        "    scc.append(node)\n",
        "    for neighbor in graph[node]:\n",
        "        if not visited[neighbor]:\n",
        "            dfs_scc(neighbor, graph, visited, scc)\n",
        "\n",
        "def transpose_graph(graph):\n",
        "    transposed_graph = {node: [] for node in graph}\n",
        "    for node in graph:\n",
        "        for neighbor in graph[node]:\n",
        "            transposed_graph[neighbor].append(node)\n",
        "    return transposed_graph\n",
        "\n",
        "def strongly_connected_components(graph):\n",
        "    num_nodes = len(graph)\n",
        "    visited = [False] * num_nodes\n",
        "    stack = []\n",
        "    for node in range(num_nodes):\n",
        "        if not visited[node]:\n",
        "            dfs_visit(node, graph, visited, stack)\n",
        "\n",
        "    transposed_graph = transpose_graph(graph)\n",
        "    visited = [False] * num_nodes\n",
        "    strongly_connected_components = []\n",
        "\n",
        "    while stack:\n",
        "        node = stack.pop()\n",
        "        if not visited[node]:\n",
        "            scc = []\n",
        "            dfs_scc(node, transposed_graph, visited, scc)\n",
        "            strongly_connected_components.append(scc)\n",
        "\n",
        "    return strongly_connected_components\n",
        "\n",
        "# Example usage:\n",
        "if __name__ == \"__main__\":\n",
        "    # Sample graph represented as an adjacency list\n",
        "    graph = {\n",
        "        0: [1],\n",
        "        1: [2],\n",
        "        2: [0, 3],\n",
        "        3: [4],\n",
        "        4: [3]\n",
        "    }\n",
        "\n",
        "    result = strongly_connected_components(graph)\n",
        "    print(result)  # Output: [[4, 3], [2, 1, 0]]"
      ],
      "metadata": {
        "colab": {
          "base_uri": "https://localhost:8080/"
        },
        "id": "PID62GeFAWPA",
        "outputId": "cd4f726b-e6d9-4b46-e113-ec43d9f1b010"
      },
      "execution_count": null,
      "outputs": [
        {
          "output_type": "stream",
          "name": "stdout",
          "text": [
            "[[0, 2, 1], [3, 4]]\n"
          ]
        }
      ]
    },
    {
      "cell_type": "code",
      "source": [
        "\n",
        "# Python3 program for Bellman-Ford's single source\n",
        "# shortest path algorithm.\n",
        "\n",
        "# Class to represent a graph\n",
        "\n",
        "class Graph:\n",
        "\n",
        "\tdef __init__(self, vertices):\n",
        "\t\tself.V = vertices # No. of vertices\n",
        "\t\tself.graph = []\n",
        "\n",
        "\t# function to add an edge to graph\n",
        "\tdef addEdge(self, u, v, w):\n",
        "\t\tself.graph.append([u, v, w])\n",
        "\n",
        "\t# utility function used to print the solution\n",
        "\tdef printArr(self, dist):\n",
        "\t\tprint(\"Vertex Distance from Source\")\n",
        "\t\tfor i in range(self.V):\n",
        "\t\t\tprint(\"{0}\\t\\t{1}\".format(i, dist[i]))\n",
        "\n",
        "\t# The main function that finds shortest distances from src to\n",
        "\t# all other vertices using Bellman-Ford algorithm. The function\n",
        "\t# also detects negative weight cycle\n",
        "\tdef BellmanFord(self, src):\n",
        "\n",
        "\t\t# Step 1: Initialize distances from src to all other vertices\n",
        "\t\t# as INFINITE\n",
        "\t\tdist = [float(\"Inf\")] * self.V\n",
        "\t\tdist[src] = 0\n",
        "\n",
        "\t\t# Step 2: Relax all edges |V| - 1 times. A simple shortest\n",
        "\t\t# path from src to any other vertex can have at-most |V| - 1\n",
        "\t\t# edges\n",
        "\t\tfor _ in range(self.V - 1):\n",
        "\t\t\t# Update dist value and parent index of the adjacent vertices of\n",
        "\t\t\t# the picked vertex. Consider only those vertices which are still in\n",
        "\t\t\t# queue\n",
        "\t\t\tfor u, v, w in self.graph:\n",
        "\t\t\t\tif dist[u] != float(\"Inf\") and dist[u] + w < dist[v]:\n",
        "\t\t\t\t\tdist[v] = dist[u] + w\n",
        "\n",
        "\t\t# Step 3: check for negative-weight cycles. The above step\n",
        "\t\t# guarantees shortest distances if graph doesn't contain\n",
        "\t\t# negative weight cycle. If we get a shorter path, then there\n",
        "\t\t# is a cycle.\n",
        "\n",
        "\t\tfor u, v, w in self.graph:\n",
        "\t\t\tif dist[u] != float(\"Inf\") and dist[u] + w < dist[v]:\n",
        "\t\t\t\tprint(\"Graph contains negative weight cycle\")\n",
        "\t\t\t\treturn\n",
        "\n",
        "\t\t# print all distance\n",
        "\t\tself.printArr(dist)\n",
        "\n",
        "\n",
        "# Driver's code\n",
        "if __name__ == '__main__':\n",
        "\tg = Graph(5)\n",
        "\tg.addEdge(0, 1, -1)\n",
        "\tg.addEdge(0, 2, 4)\n",
        "\tg.addEdge(1, 2, 3)\n",
        "\tg.addEdge(1, 3, 2)\n",
        "\tg.addEdge(1, 4, 2)\n",
        "\tg.addEdge(3, 2, 5)\n",
        "\tg.addEdge(3, 1, 1)\n",
        "\tg.addEdge(4, 3, -3)\n",
        "\n",
        "\t# function call\n",
        "\tg.BellmanFord(0)"
      ],
      "metadata": {
        "id": "GuIzYjyiMGYz",
        "outputId": "9cdad490-ca70-472b-c2b1-a821386b3154",
        "colab": {
          "base_uri": "https://localhost:8080/"
        }
      },
      "execution_count": null,
      "outputs": [
        {
          "output_type": "stream",
          "name": "stdout",
          "text": [
            "Vertex Distance from Source\n",
            "0\t\t0\n",
            "1\t\t-1\n",
            "2\t\t2\n",
            "3\t\t-2\n",
            "4\t\t1\n"
          ]
        }
      ]
    },
    {
      "cell_type": "code",
      "source": [
        "# task-1\n",
        "from collections import deque\n",
        "\n",
        "def read_input(file_name):\n",
        "    with open(file_name, 'r') as file:\n",
        "        N, M = map(int, file.readline().split())\n",
        "        prerequisites = [tuple(map(int, file.readline().split())) for _ in range(M)]\n",
        "    return N, prerequisites\n",
        "\n",
        "def dfs(course, graph, visited, stack):\n",
        "    visited[course] = True\n",
        "    for neighbor in graph[course]:\n",
        "        if not visited[neighbor]:\n",
        "            dfs(neighbor, graph, visited, stack)\n",
        "    stack.append(course)\n",
        "\n",
        "def dfs_order(N, prerequisites):\n",
        "    graph = {i: [] for i in range(1, N + 1)}\n",
        "    for A, B in prerequisites:\n",
        "        graph[A].append(B)\n",
        "    visited = [False] * (N + 1)\n",
        "    stack = []\n",
        "    for i in range(1, N + 1):\n",
        "        if not visited[i]:\n",
        "            dfs(i, graph, visited, stack)\n",
        "    return stack[::-1] if len(stack) == N else []\n",
        "\n",
        "def bfs_order(N, prerequisites):\n",
        "    graph = {i: [] for i in range(1, N + 1)}\n",
        "    in_degree = {i: 0 for i in range(1, N + 1)}\n",
        "    for A, B in prerequisites:\n",
        "        graph[A].append(B)\n",
        "        in_degree[B] += 1\n",
        "    queue = deque()\n",
        "    result = []\n",
        "    for i in range(1, N + 1):\n",
        "        if in_degree[i] == 0:\n",
        "            queue.append(i)\n",
        "    while queue:\n",
        "        course = queue.popleft()\n",
        "        result.append(course)\n",
        "        for neighbor in graph[course]:\n",
        "            in_degree[neighbor] -= 1\n",
        "            if in_degree[neighbor] == 0:\n",
        "                queue.append(neighbor)\n",
        "    return result if len(result) == N else []\n",
        "\n",
        "def main():\n",
        "    file_name = \"input.txt\"\n",
        "    N, prerequisites = read_input(file_name)\n",
        "\n",
        "    order_dfs = dfs_order(N, prerequisites)\n",
        "    print(\"DFS order:\", \" \".join(map(str, order_dfs)) if order_dfs else \"IMPOSSIBLE\")\n",
        "\n",
        "    order_bfs = bfs_order(N, prerequisites)\n",
        "    print(\"BFS order:\", \" \".join(map(str, order_bfs)) if order_bfs else \"IMPOSSIBLE\")\n",
        "\n",
        "if __name__ == \"__main__\":\n",
        "    main()"
      ],
      "metadata": {
        "id": "cEXtdwp4L9ir"
      },
      "execution_count": null,
      "outputs": []
    },
    {
      "cell_type": "code",
      "source": [
        "from collections import deque\n",
        "\n",
        "def read_input(file_name):\n",
        "    with open(file_name, 'r') as file:\n",
        "        N, M = map(int, file.readline().split())\n",
        "        prerequisites = [tuple(map(int, file.readline().split())) for _ in range(M)]\n",
        "    return N, prerequisites\n",
        "\n",
        "def bfs_order(N, prerequisites):\n",
        "    graph = {i: [] for i in range(1, N + 1)}\n",
        "    in_degree = {i: 0 for i in range(1, N + 1)}\n",
        "    for A, B in prerequisites:\n",
        "        graph[A].append(B)\n",
        "        in_degree[B] += 1\n",
        "    queue = deque()\n",
        "    result = []\n",
        "    for i in range(1, N + 1):\n",
        "        if in_degree[i] == 0:\n",
        "            queue.append(i)\n",
        "    while queue:\n",
        "        course = queue.popleft()\n",
        "        result.append(course)\n",
        "        for neighbor in graph[course]:\n",
        "            in_degree[neighbor] -= 1\n",
        "            if in_degree[neighbor] == 0:\n",
        "                queue.append(neighbor)\n",
        "    return result if len(result) == N else []\n",
        "\n",
        "def main():\n",
        "    file_name = \"input.txt\"\n",
        "    N, prerequisites = read_input(file_name)\n",
        "\n",
        "    order_bfs = bfs_order(N, prerequisites)\n",
        "    print(\"BFS order:\", \" \".join(map(str, order_bfs)) if order_bfs else \"IMPOSSIBLE\")\n",
        "\n",
        "if __name__ == \"__main__\":\n",
        "    main()"
      ],
      "metadata": {
        "id": "v1vWZ7MXS0j5"
      },
      "execution_count": null,
      "outputs": []
    },
    {
      "cell_type": "code",
      "source": [
        "def dfs(course, graph, visited, stack):\n",
        "    visited[course] = True\n",
        "    for neighbor in graph[course]:\n",
        "        if not visited[neighbor]:\n",
        "            dfs(neighbor, graph, visited, stack)\n",
        "    stack.append(course)\n",
        "\n",
        "def dfs_order(N, prerequisites):\n",
        "    graph = {i: [] for i in range(1, N + 1)}\n",
        "    for A, B in prerequisites:\n",
        "        graph[A].append(B)\n",
        "    visited = [False] * (N + 1)\n",
        "    stack = []\n",
        "    for i in range(1, N + 1):\n",
        "        if not visited[i]:\n",
        "            dfs(i, graph, visited, stack)\n",
        "    return stack[::-1] if len(stack) == N else []\n",
        "\n",
        "def read_input(file_name):\n",
        "    with open(file_name, 'r') as file:\n",
        "        N, M = map(int, file.readline().split())\n",
        "        prerequisites = [tuple(map(int, file.readline().split())) for _ in range(M)]\n",
        "    return N, prerequisites\n",
        "\n",
        "def main():\n",
        "    file_name = \"input.txt\"\n",
        "    N, prerequisites = read_input(file_name)\n",
        "\n",
        "    order_dfs = dfs_order(N, prerequisites)\n",
        "    print(\"DFS order:\", \" \".join(map(str, order_dfs)) if order_dfs else \"IMPOSSIBLE\")\n",
        "\n",
        "if __name__ == \"__main__\":\n",
        "    main()"
      ],
      "metadata": {
        "id": "wz2ksnaqYqed"
      },
      "execution_count": null,
      "outputs": []
    },
    {
      "cell_type": "code",
      "source": [
        "from collections import defaultdict\n",
        "\n",
        "class Graph:\n",
        "    def __init__(self, vertices):\n",
        "        self.V = vertices\n",
        "        self.graph = defaultdict(list)\n",
        "\n",
        "    def addEdge(self, u, v):\n",
        "        self.graph[u].append(v)\n",
        "\n",
        "    def DFSUtil(self, v, visited, stack):\n",
        "        visited[v] = True\n",
        "        for i in self.graph[v]:\n",
        "            if not visited[i]:\n",
        "                self.DFSUtil(i, visited, stack)\n",
        "        stack.append(v)\n",
        "\n",
        "    def fillOrder(self, v, visited, stack):\n",
        "        visited[v] = True\n",
        "        for i in self.graph[v]:\n",
        "            if not visited[i]:\n",
        "                self.fillOrder(i, visited, stack)\n",
        "        stack.append(v)\n",
        "\n",
        "    def getTranspose(self):\n",
        "        g = Graph(self.V)\n",
        "        for i in self.graph:\n",
        "            for j in self.graph[i]:\n",
        "                g.addEdge(j, i)\n",
        "        return g\n",
        "\n",
        "    def printSCCs(self):\n",
        "        stack = []\n",
        "        visited = [False] * (self.V)\n",
        "        for i in range(self.V):\n",
        "            if not visited[i]:\n",
        "                self.DFSUtil(i, visited, stack)\n",
        "\n",
        "        gr = self.getTranspose()\n",
        "        visited = [False] * (self.V)\n",
        "\n",
        "        while stack:\n",
        "            i = stack.pop()\n",
        "            if not visited[i]:\n",
        "                gr.DFSUtil(i, visited, [])\n",
        "                print(\" \".join(str(x) for x in gr.stack))\n",
        "                gr.stack = []\n",
        "\n",
        "# Driver code\n",
        "if __name__ == '__main__':\n",
        "    # Read input from the file\n",
        "    with open(\"input3_1.txt\", \"r\") as f:\n",
        "        N, M = map(int, f.readline().split())\n",
        "        g = Graph(N)\n",
        "        for _ in range(M):\n",
        "            u, v = map(int, f.readline().split())\n",
        "            g.addEdge(u, v)\n",
        "\n",
        "    # Write output to the file\n",
        "    with open(\"output3_1.txt\", \"w\") as f:\n",
        "        g.printSCCs()"
      ],
      "metadata": {
        "id": "6KysxwD3QbeZ"
      },
      "execution_count": null,
      "outputs": []
    },
    {
      "cell_type": "code",
      "source": [
        "def dfs_stack(graph, vertex, visited, stack):\n",
        "    visited[vertex] = True\n",
        "    for neighbor in graph[vertex]:\n",
        "        if not visited[neighbor]:\n",
        "            dfs_stack(graph, neighbor, visited, stack)\n",
        "    stack.append(vertex)\n",
        "\n",
        "def fill_stack(graph, n):\n",
        "    stack = []\n",
        "    visited = [False] * (n + 1)\n",
        "    for vertex in range(1, n + 1):\n",
        "        if not visited[vertex]:\n",
        "            dfs_stack(graph, vertex, visited, stack)\n",
        "    return stack\n",
        "\n",
        "def dfs_scc(graph, vertex, visited, scc):\n",
        "    visited[vertex] = True\n",
        "    scc.append(vertex)\n",
        "    for neighbor in graph[vertex]:\n",
        "        if not visited[neighbor]:\n",
        "            dfs_scc(graph, neighbor, visited, scc)\n",
        "\n",
        "def find_scc(graph, n, stack):\n",
        "    scc_list = []\n",
        "    visited = [False] * (n + 1)\n",
        "    while stack:\n",
        "        vertex = stack.pop()\n",
        "        if not visited[vertex]:\n",
        "            scc = []\n",
        "            dfs_scc(graph, vertex, visited, scc)\n",
        "            scc_list.append(scc)\n",
        "    return scc_list\n",
        "\n",
        "def main():\n",
        "    with open(\"input3.txt\", \"r\") as f:\n",
        "        N, M = map(int, f.readline().split())\n",
        "        graph = {i: [] for i in range(1, N + 1)}\n",
        "        for _ in range(M):\n",
        "            u, v = map(int, f.readline().split())\n",
        "            graph[u].append(v)\n",
        "\n",
        "    stack = fill_stack(graph, N)\n",
        "    scc_components = find_scc(graph, N, stack)\n",
        "\n",
        "    with open(\"output3.txt\", \"w\") as f:\n",
        "        for scc in scc_components:\n",
        "            f.write(\" \".join(map(str, scc)) + \"\\n\")\n",
        "\n",
        "if __name__ == \"__main__\":\n",
        "    main()\n"
      ],
      "metadata": {
        "id": "2qJcwUhYQfk1"
      },
      "execution_count": null,
      "outputs": []
    },
    {
      "cell_type": "code",
      "source": [
        "def dfs_stack(graph, vertex, visited, stack):\n",
        "    visited[vertex] = True\n",
        "    for neighbor in graph[vertex]:\n",
        "        if not visited[neighbor]:\n",
        "            dfs_stack(graph, neighbor, visited, stack)\n",
        "    stack.append(vertex)\n",
        "\n",
        "def fill_stack(graph, n):\n",
        "    stack = []\n",
        "    visited = [False] * (n + 1)\n",
        "    for vertex in range(1, n + 1):\n",
        "        if not visited[vertex]:\n",
        "            dfs_stack(graph, vertex, visited, stack)\n",
        "    return stack\n",
        "\n",
        "def dfs_scc(graph, vertex, visited, scc):\n",
        "    visited[vertex] = True\n",
        "    scc.append(vertex)\n",
        "    for neighbor in graph[vertex]:\n",
        "        if not visited[neighbor]:\n",
        "            dfs_scc(graph, neighbor, visited, scc)\n",
        "\n",
        "def find_scc(graph, n, stack):\n",
        "    scc_list = []\n",
        "    visited = [False] * (n + 1)\n",
        "    while stack:\n",
        "        vertex = stack.pop()\n",
        "        if not visited[vertex]:\n",
        "            scc = []\n",
        "            dfs_scc(graph, vertex, visited, scc)\n",
        "            scc_list.append(scc)\n",
        "    return scc_list\n",
        "\n",
        "def read_input(file_name):\n",
        "    with open(file_name, 'r') as file:\n",
        "        N, M = map(int, file.readline().split())\n",
        "        graph = {i: [] for i in range(1, N + 1)}\n",
        "        for _ in range(M):\n",
        "            u, v = map(int, file.readline().split())\n",
        "            graph[u].append(v)\n",
        "    return N, graph\n",
        "\n",
        "def write_output(file_name, scc_components):\n",
        "    with open(file_name, 'w') as file:\n",
        "        for scc in scc_components:\n",
        "            file.write(\" \".join(map(str, scc)) + \"\\n\")\n",
        "\n",
        "def main():\n",
        "    input_file = \"input3.txt\"\n",
        "    output_file = \"output3.txt\"\n",
        "\n",
        "    N, graph = read_input(input_file)\n",
        "    stack = fill_stack(graph, N)\n",
        "    transposed_graph = {i: [] for i in range(1, N + 1)}\n",
        "    for u in graph:\n",
        "        for v in graph[u]:\n",
        "            transposed_graph[v].append(u)\n",
        "\n",
        "    scc_components = find_scc(transposed_graph, N, stack)\n",
        "    write_output(output_file, scc_components)\n",
        "\n",
        "if __name__ == \"__main__\":\n",
        "    main()\n"
      ],
      "metadata": {
        "id": "XnYeXCrZRTkN"
      },
      "execution_count": null,
      "outputs": []
    },
    {
      "cell_type": "code",
      "source": [
        "from collections import deque\n",
        "\n",
        "def read_input(file_name):\n",
        "    with open(file_name, 'r') as file:\n",
        "        N, M = map(int, file.readline().split())\n",
        "        prerequisites = [tuple(map(int, file.readline().split())) for _ in range(M)]\n",
        "    return N, prerequisites\n",
        "\n",
        "def bfs_order(N, prerequisites):\n",
        "    graph = {i: [] for i in range(1, N + 1)}\n",
        "    in_degree = {i: 0 for i in range(1, N + 1)}\n",
        "    for A, B in prerequisites:\n",
        "        graph[A].append(B)\n",
        "        in_degree[B] += 1\n",
        "    queue = deque()\n",
        "    result = []\n",
        "    for i in range(1, N + 1):\n",
        "        if in_degree[i] == 0:\n",
        "            queue.append(i)\n",
        "    while queue:\n",
        "        course = queue.popleft()\n",
        "        result.append(course)\n",
        "        for neighbor in graph[course]:\n",
        "            in_degree[neighbor] -= 1\n",
        "            if in_degree[neighbor] == 0:\n",
        "                queue.append(neighbor)\n",
        "    return result if len(result) == N else []\n",
        "\n",
        "input_file = 'input1.txt'\n",
        "output_file = 'output1.txt'\n",
        "\n",
        "N, prerequisites = read_input(input_file)\n",
        "\n",
        "order_bfs = bfs_order(N, prerequisites)\n",
        "\n",
        "with open(output_file, 'w') as out:\n",
        "    out.write(\" \".join(map(str, order_bfs)) if order_bfs else \"IMPOSSIBLE\")\n"
      ],
      "metadata": {
        "id": "G7rRMle_drFM"
      },
      "execution_count": null,
      "outputs": []
    },
    {
      "cell_type": "code",
      "source": [
        "def dfs(course, graph, visited, stack):\n",
        "    visited[course] = True\n",
        "    for neighbor in graph[course]:\n",
        "        if not visited[neighbor]:\n",
        "            dfs(neighbor, graph, visited, stack)\n",
        "    stack.append(course)\n",
        "\n",
        "def dfs_order(N, prerequisites):\n",
        "    graph = {i: [] for i in range(1, N + 1)}\n",
        "    for A, B in prerequisites:\n",
        "        graph[A].append(B)\n",
        "    visited = [False] * (N + 1)\n",
        "    stack = []\n",
        "    for i in range(1, N + 1):\n",
        "        if not visited[i]:\n",
        "            dfs(i, graph, visited, stack)\n",
        "    return stack[::-1] if len(stack) == N else []\n",
        "\n",
        "def read_input(file_name):\n",
        "    with open(file_name, 'r') as file:\n",
        "        N, M = map(int, file.readline().split())\n",
        "        prerequisites = [tuple(map(int, file.readline().split())) for _ in range(M)]\n",
        "    return N, prerequisites\n",
        "\n",
        "input_file = 'input1.txt'\n",
        "output_file = 'output1.txt'\n",
        "\n",
        "N, prerequisites = read_input(input_file)\n",
        "\n",
        "order_dfs = dfs_order(N, prerequisites)\n",
        "\n",
        "with open(output_file, 'w') as out:\n",
        "    out.write(\" \".join(map(str, order_dfs)) if order_dfs else \"IMPOSSIBLE\")"
      ],
      "metadata": {
        "id": "Lx51MKZefyCq"
      },
      "execution_count": null,
      "outputs": []
    },
    {
      "cell_type": "code",
      "source": [
        "inp = open('input1.txt', 'r')\n",
        "out = open('output1.txt', 'w')\n",
        "\n",
        "N, M = map(int, inp.readline().split())\n",
        "prerequisites = [tuple(map(int, inp.readline().split())) for _ in range(M)]\n",
        "\n",
        "def dfs(course, graph, visited, stack):\n",
        "    visited[course] = True\n",
        "    for neighbor in graph[course]:\n",
        "        if not visited[neighbor]:\n",
        "            dfs(neighbor, graph, visited, stack)\n",
        "    stack.append(course)\n",
        "\n",
        "def dfs_order(N, prerequisites):\n",
        "    graph = {i: [] for i in range(1, N + 1)}\n",
        "    for A, B in prerequisites:\n",
        "        graph[A].append(B)\n",
        "    visited = [False] * (N + 1)\n",
        "    stack = []\n",
        "    for i in range(1, N + 1):\n",
        "        if not visited[i]:\n",
        "            dfs(i, graph, visited, stack)\n",
        "\n",
        "    print(stack)\n",
        "    return stack[::-1] if len(stack) == N else []\n",
        "\n",
        "\n",
        "order_dfs = dfs_order(N, prerequisites)\n",
        "\n",
        "out.write(\" \".join(map(str, order_dfs)) if order_dfs else \"IMPOSSIBLE\")\n",
        "\n",
        "inp.close()\n",
        "out.close()"
      ],
      "metadata": {
        "id": "eBMxuVXlqTtl"
      },
      "execution_count": null,
      "outputs": []
    }
  ]
}