{
  "nbformat": 4,
  "nbformat_minor": 0,
  "metadata": {
    "colab": {
      "provenance": []
    },
    "kernelspec": {
      "name": "python3",
      "display_name": "Python 3"
    },
    "language_info": {
      "name": "python"
    }
  },
  "cells": [
    {
      "cell_type": "code",
      "execution_count": null,
      "metadata": {
        "id": "tNUXPkcohNOK",
        "colab": {
          "base_uri": "https://localhost:8080/"
        },
        "outputId": "c4edbdac-8f76-4e61-f3ae-75c2cd0de4cb"
      },
      "outputs": [
        {
          "output_type": "stream",
          "name": "stdout",
          "text": [
            "3\n"
          ]
        }
      ],
      "source": [
        "a = [3,2]\n",
        "m,n = a\n",
        "print(m)"
      ]
    },
    {
      "cell_type": "code",
      "source": [
        "inp = open('input1.txt', 'r')\n",
        "out = open('output1.txt', 'w')\n",
        "\n",
        "n = int(inp.readline().strip())\n",
        "print(n)\n",
        "\n",
        "\n",
        "# l = [tuple(map(int, inp.readline().strip().split())) for _ in range(n)]\n",
        "l = [list(map(int, inp.readline().strip().split())) for _ in range(n)]\n",
        "\n",
        "print(l)\n",
        "# print(l.sort(key = lambda x : x[1]))                                # why this line printing None\n",
        "l.sort(key = lambda x : x[1])\n",
        "print(l)\n",
        "\n",
        "res = []\n",
        "end = 0\n",
        "for i in l:\n",
        "    if end <= i[0]:\n",
        "        res.append(i)\n",
        "        end = i[1]\n",
        "print(len(res))\n",
        "print(res)\n",
        "\n",
        "final_output = f\"{len(res)}\\n\"\n",
        "for x in res:\n",
        "    s, e = x\n",
        "    final_output += f\"{s} {e}\\n\"\n",
        "out.write(final_output)\n",
        "\n",
        "inp.close()\n",
        "out.close()"
      ],
      "metadata": {
        "id": "Vx5Cjl7-6FnT"
      },
      "execution_count": null,
      "outputs": []
    },
    {
      "cell_type": "code",
      "source": [
        "# lab 7 task-3 hints\n",
        "# x = find()\n",
        "# union()"
      ],
      "metadata": {
        "id": "EJ9ml3t60ZIj"
      },
      "execution_count": null,
      "outputs": []
    },
    {
      "cell_type": "code",
      "source": [
        "a = [1,2,3]\n",
        "b = [1,3,2]\n",
        "\n",
        "print(a[:-1])\n",
        "\n",
        "print(a == b)\n",
        "\n",
        "x = [1,2]\n",
        "\n",
        "if x in a:\n",
        "  print(\"yes\")\n",
        "else:\n",
        "  print('no')"
      ],
      "metadata": {
        "colab": {
          "base_uri": "https://localhost:8080/"
        },
        "id": "GQC09urcFu_T",
        "outputId": "6eff260e-836e-400c-cacd-481e37d5b308"
      },
      "execution_count": null,
      "outputs": [
        {
          "output_type": "stream",
          "name": "stdout",
          "text": [
            "[1, 2]\n",
            "False\n",
            "no\n"
          ]
        }
      ]
    },
    {
      "cell_type": "code",
      "source": [
        "v = [1,2,3,4]\n",
        "print(v.index(3))"
      ],
      "metadata": {
        "colab": {
          "base_uri": "https://localhost:8080/"
        },
        "id": "KtQdPQvYL1RK",
        "outputId": "25f0d03a-d699-433d-8ce1-134c092f75db"
      },
      "execution_count": null,
      "outputs": [
        {
          "output_type": "stream",
          "name": "stdout",
          "text": [
            "2\n"
          ]
        }
      ]
    },
    {
      "cell_type": "code",
      "source": [
        "my_list = [1, 2, 3, 4, 5]\n",
        "index_to_delete = 2  # Index of the element you want to delete\n",
        "\n",
        "del my_list[index_to_delete]\n",
        "print(my_list)\n"
      ],
      "metadata": {
        "colab": {
          "base_uri": "https://localhost:8080/"
        },
        "id": "0iJvJcCjOIOP",
        "outputId": "29f3e81d-ce04-431a-a11f-d541fd60b6b5"
      },
      "execution_count": null,
      "outputs": [
        {
          "output_type": "stream",
          "name": "stdout",
          "text": [
            "[1, 2, 4, 5]\n"
          ]
        }
      ]
    },
    {
      "cell_type": "code",
      "source": [
        "inp = open('input1.txt', 'r')\n",
        "out = open('output1.txt', 'w')\n",
        "\n",
        "n, m = map(int, inp.readline().strip().split())\n",
        "l = [list(map(int, inp.readline().strip().split())) for _ in range(m)]\n",
        "\n",
        "l.sort(key=lambda x: x[2])\n",
        "\n",
        "x = [[i + 1] for i in range(n)]\n",
        "\n",
        "s = 0\n",
        "for i in range(len(l)):\n",
        "    a, b, c = l[i]\n",
        "    m = -1\n",
        "    n = -1\n",
        "\n",
        "    for j in range(len(x)):\n",
        "        if a in x[j]:\n",
        "            m = j\n",
        "        if b in x[j]:\n",
        "            n = j\n",
        "\n",
        "    if m != n:\n",
        "        t = x[m] + x[n]\n",
        "        del x[max(m, n)]\n",
        "        del x[min(m, n)]\n",
        "        x.append(t)\n",
        "        s += c\n",
        "\n",
        "out.write(str(s))\n",
        "\n",
        "inp.close()\n",
        "out.close()\n"
      ],
      "metadata": {
        "id": "vod1BBC0PEYO"
      },
      "execution_count": null,
      "outputs": []
    },
    {
      "cell_type": "code",
      "source": [
        "inp = open('input1.txt', 'r')\n",
        "out = open('output1.txt', 'w')\n",
        "\n",
        "n, m = map(int, inp.readline().strip().split())\n",
        "# print(n,m)\n",
        "l = [list(map(int, inp.readline().strip().split())) for _ in range(m)]\n",
        "print(l)\n",
        "\n",
        "l.sort(key = lambda x: x[2])\n",
        "print(l)\n",
        "\n",
        "x = [[i+1] for i in range(n)]\n",
        "print(x)\n",
        "\n",
        "s = 0\n",
        "for i in range(len(x)):\n",
        "    a, b, c = l[i]\n",
        "\n",
        "    m = x.index([a])\n",
        "    n = x.index([b])\n",
        "    if m != n:\n",
        "        t = x[m] + x[n]\n",
        "        del x[m]\n",
        "        del x[n]\n",
        "        x.append(t)\n",
        "        s += c\n",
        "\n",
        "\n",
        "\n",
        "# f = []\n",
        "# for i in l:\n",
        "#     a, b, c = i\n",
        "#     if a not in f:\n",
        "#         f.append(a)\n",
        "#         s += c\n",
        "#     else:\n",
        "#         if b not in f:\n",
        "#             f.append(b)\n",
        "#             s += c\n",
        "\n",
        "print(s)\n",
        "\n",
        "inp.close()\n",
        "out.close()"
      ],
      "metadata": {
        "id": "rXpfGArrPGXW"
      },
      "execution_count": null,
      "outputs": []
    },
    {
      "cell_type": "code",
      "source": [
        "inp = open('input2.txt', 'r')\n",
        "out = open('output2.txt', 'w')\n",
        "\n",
        "n, m = map(int, inp.readline().strip().split())\n",
        "l = [list(map(int, inp.readline().strip().split())) for _ in range(n)]\n",
        "l.sort(key = lambda x : x[1])\n",
        "print(l)\n",
        "\n",
        "res = []\n",
        "end = 0\n",
        "for i in l:\n",
        "    if end <= i[0]:\n",
        "        res.append(i)\n",
        "        end = i[1]\n",
        "\n",
        "final_output = f\"{len(res)}\\n\"\n",
        "for x in res:\n",
        "    s, e = x\n",
        "    final_output += f\"{s} {e}\\n\"\n",
        "out.write(final_output)\n",
        "\n",
        "inp.close()\n",
        "out.close()\n"
      ],
      "metadata": {
        "id": "8lfU9arHAyos"
      },
      "execution_count": null,
      "outputs": []
    },
    {
      "cell_type": "code",
      "source": [
        "# it's giving wrong output for sample input 3\n",
        "\n",
        "inp = open('input2.txt', 'r')\n",
        "out = open('output2.txt', 'w')\n",
        "\n",
        "def schedule_activities(s, f, m):\n",
        "    n = len(f)\n",
        "    answer = 1\n",
        "    y = 1\n",
        "    persons = [[0]]\n",
        "\n",
        "    for j in range(1, n):\n",
        "        flag = False\n",
        "        for person in persons:\n",
        "            if s[j] >= f[person[-1]]:\n",
        "                person.append(j)\n",
        "                flag = True\n",
        "                answer = answer + 1\n",
        "                break\n",
        "        if flag == False and y < m:\n",
        "            persons.append([j])\n",
        "            answer = answer + 1\n",
        "            y = y + 1\n",
        "\n",
        "    return answer\n",
        "\n",
        "n, m = map(int, inp.readline().strip().split())\n",
        "s = []\n",
        "f = []\n",
        "\n",
        "for i in range(n):\n",
        "    x, y = map(int, inp.readline().strip().split())\n",
        "    s.append(x)\n",
        "    f.append(y)\n",
        "\n",
        "s, f = zip(*sorted(zip(s, f)))\n",
        "result = schedule_activities(s, f, m)\n",
        "out.write(str(result))\n",
        "\n",
        "inp.close()\n",
        "out.close()\n"
      ],
      "metadata": {
        "id": "mUVNy-9qLyMF"
      },
      "execution_count": null,
      "outputs": []
    },
    {
      "cell_type": "code",
      "source": [
        "# it's giving wrong output for sample input 3\n",
        "\n",
        "inp = open('input2.txt', 'r')\n",
        "out = open('output2.txt', 'w')\n",
        "\n",
        "n, m = map(int, inp.readline().strip().split())\n",
        "tot_activities = 0\n",
        "\n",
        "time_interval = []\n",
        "\n",
        "last_ft_m = [0] * m\n",
        "\n",
        "for _ in range(n):\n",
        "    st, ft = map(int, inp.readline().strip().split())\n",
        "    time_interval.append((st, ft))\n",
        "\n",
        "time_interval.sort()\n",
        "\n",
        "for i in range(n):\n",
        "    for j in range(m):\n",
        "        if last_ft_m[j] > time_interval[i][0]:\n",
        "            continue\n",
        "        else:\n",
        "            tot_activities += 1\n",
        "            last_ft_m[j] = time_interval[i][1]\n",
        "            break\n",
        "\n",
        "out.write(str(tot_activities))\n",
        "\n",
        "inp.close()\n",
        "out.close()\n"
      ],
      "metadata": {
        "id": "pdMN_i1HL4OT"
      },
      "execution_count": null,
      "outputs": []
    },
    {
      "cell_type": "code",
      "source": [
        "v = [1,2,3,4]\n",
        "if 2 in v:\n",
        "  print('ase')"
      ],
      "metadata": {
        "colab": {
          "base_uri": "https://localhost:8080/"
        },
        "id": "TYvafu1iSOCL",
        "outputId": "817590db-bfe0-40ce-e52c-df0090ec91e3"
      },
      "execution_count": null,
      "outputs": [
        {
          "output_type": "stream",
          "name": "stdout",
          "text": [
            "ase\n"
          ]
        }
      ]
    },
    {
      "cell_type": "code",
      "source": [
        "# it doesn't give right answer      😑\n",
        "\n",
        "inp = open('input3.txt', 'r')\n",
        "out = open('output3.txt', 'w')\n",
        "\n",
        "n, k = map(int, inp.readline().split())\n",
        "tasks = []\n",
        "for _ in range(k):\n",
        "    start, end = map(int, inp.readline().split())\n",
        "    tasks.append((start, end))\n",
        "# print(tasks)\n",
        "\n",
        "x = [[i+1] for i in range(n)]\n",
        "# print(x)\n",
        "\n",
        "t = []\n",
        "for i in tasks:\n",
        "    a, b = i\n",
        "    if a not in t:\n",
        "        t.append(a)\n",
        "    if b not in t:\n",
        "        t.append(b)\n",
        "    out.write(str(len(t))+'\\n')\n",
        "\n",
        "inp.close()\n",
        "out.close()"
      ],
      "metadata": {
        "id": "w5ttY4OlSZeR"
      },
      "execution_count": null,
      "outputs": []
    },
    {
      "cell_type": "code",
      "source": [
        "def find_friend_circle(n, m, l):\n",
        "    \"\"\"\n",
        "    Finds the size of the friend circle for each query.\n",
        "\n",
        "    Args:\n",
        "        n: The number of people in the village.\n",
        "        m: The number of queries.\n",
        "        l: A list of queries, where each query is represented by two or three integers, Ai, Bi, and Ci,\n",
        "            denoting the two people who become friends as a result of the query, and the size of the friend circle.\n",
        "\n",
        "    Returns:\n",
        "        A list of the sizes of the friend circles.\n",
        "    \"\"\"\n",
        "\n",
        "    x = [[i + 1] for i in range(n)]\n",
        "    s = []\n",
        "    for i in range(m):\n",
        "        a, b = l[i]\n",
        "        c = 1\n",
        "        if len(l[i]) == 3:\n",
        "            c = l[i][2]\n",
        "        m = -1\n",
        "        n = -1\n",
        "\n",
        "        for j in range(len(x)):\n",
        "            if a in x[j]:\n",
        "                m = j\n",
        "            if b in x[j]:\n",
        "                n = j\n",
        "\n",
        "        if m != n:\n",
        "            t = x[m] + x[n]\n",
        "            del x[max(m, n)]\n",
        "            del x[min(m, n)]\n",
        "            x.append(t)\n",
        "            s.append(c + len(t) - 1)\n",
        "\n",
        "    return s\n",
        "\n",
        "\n",
        "if __name__ == \"__main__\":\n",
        "    inp = open('input3.txt', 'r')\n",
        "    out = open('output3.txt', 'w')\n",
        "\n",
        "    n, m = map(int, inp.readline().strip().split())\n",
        "    l = [list(map(int, inp.readline().strip().split())) for _ in range(m)]\n",
        "\n",
        "    s = find_friend_circle(n, m, l)\n",
        "\n",
        "    out.write(str(s))\n",
        "\n",
        "    inp.close()\n",
        "    out.close()\n"
      ],
      "metadata": {
        "id": "m6dayze_eJoD"
      },
      "execution_count": null,
      "outputs": []
    },
    {
      "cell_type": "code",
      "source": [
        "# this code is correct\n",
        "\n",
        "inp = open('input3.txt', 'r')\n",
        "out = open('output3.txt', 'w')\n",
        "\n",
        "def find(parent, i):\n",
        "    if parent[i] == i:\n",
        "        return i\n",
        "    return find(parent, parent[i])\n",
        "\n",
        "def union(parent, size, a, b):\n",
        "    root_a = find(parent, a)\n",
        "    root_b = find(parent, b)\n",
        "\n",
        "    if root_a != root_b:\n",
        "        if size[root_a] < size[root_b]:\n",
        "            root_a, root_b = root_b, root_a\n",
        "        parent[root_b] = root_a\n",
        "        size[root_a] += size[root_b]\n",
        "\n",
        "n, k = map(int, inp.readline().strip().split())\n",
        "parent = [i for i in range(n+1)]\n",
        "size = [1] * (n+1)\n",
        "\n",
        "for _ in range(k):\n",
        "    a, b = map(int, inp.readline().strip().split())\n",
        "    union(parent, size, a, b)\n",
        "    out.write(str(size[find(parent, a)]) + '\\n')\n",
        "\n",
        "inp.close()\n",
        "out.close()"
      ],
      "metadata": {
        "id": "2hbvlL9yhU5N"
      },
      "execution_count": null,
      "outputs": []
    },
    {
      "cell_type": "code",
      "source": [
        "# this code is correct\n",
        "\n",
        "def find_friend_circle(n, m, l):\n",
        "    x = [[i + 1] for i in range(n)]\n",
        "    s = []\n",
        "    for i in range(m):\n",
        "        a, b = l[i]\n",
        "        c = 1\n",
        "        if len(l[i]) == 3:\n",
        "            c = l[i][2]\n",
        "        m = -1\n",
        "        n = -1\n",
        "\n",
        "        for j in range(len(x)):\n",
        "            if a in x[j]:\n",
        "                m = j\n",
        "            if b in x[j]:\n",
        "                n = j\n",
        "\n",
        "        if m != n:\n",
        "            t = x[m] + x[n]\n",
        "            del x[max(m, n)]\n",
        "            del x[min(m, n)]\n",
        "            x.append(t)\n",
        "            s.append(c + len(t) - 1)\n",
        "        else:\n",
        "            s.append(c + len(x[m]) - 1)  # Append the size of the existing circle\n",
        "\n",
        "    return s\n",
        "\n",
        "\n",
        "if __name__ == \"__main__\":\n",
        "    inp = open('input3.txt', 'r')\n",
        "    out = open('output3.txt', 'w')\n",
        "\n",
        "    n, m = map(int, inp.readline().strip().split())\n",
        "    l = [list(map(int, inp.readline().strip().split())) for _ in range(m)]\n",
        "\n",
        "    s = find_friend_circle(n, m, l)\n",
        "\n",
        "    for i in s:\n",
        "        out.write(str(i) + '\\n')\n",
        "\n",
        "    inp.close()\n",
        "    out.close()\n"
      ],
      "metadata": {
        "id": "KbN13HHCiDgi"
      },
      "execution_count": null,
      "outputs": []
    },
    {
      "cell_type": "code",
      "source": [
        "class MyClass:\n",
        "    class_variable = \"I am a class variable\"\n",
        "\n",
        "    def __init__(self, value):\n",
        "        self.value = value\n",
        "\n",
        "    @classmethod\n",
        "    def print_class_variable(cls):\n",
        "        print(cls.class_variable)\n",
        "\n",
        "    def print_instance_value(self):\n",
        "        print(self.value)\n",
        "\n",
        "\n",
        "# Creating an instance of the class\n",
        "obj = MyClass(42)\n",
        "\n",
        "# Accessing class variable using the class method\n",
        "MyClass.print_class_variable()  # Output: I am a class variable\n",
        "\n",
        "# Accessing instance value using the instance method\n",
        "obj.print_instance_value()  # Output: 42\n",
        "\n",
        "# Accessing class variable using the instance method (not recommended)\n",
        "obj.print_class_variable()  # Output: I am a class variable\n"
      ],
      "metadata": {
        "colab": {
          "base_uri": "https://localhost:8080/"
        },
        "id": "Mw2YCU4AHqng",
        "outputId": "1e800dbf-9fa0-4ce1-87c4-a5ee4374f01b"
      },
      "execution_count": null,
      "outputs": [
        {
          "output_type": "stream",
          "name": "stdout",
          "text": [
            "I am a class variable\n",
            "42\n",
            "I am a class variable\n"
          ]
        }
      ]
    },
    {
      "cell_type": "code",
      "source": [
        "inp = open('input3.txt', 'r')\n",
        "out = open('output3.txt', 'w')\n",
        "\n",
        "n, m = map(int, inp.readline().strip().split())\n",
        "l = [list(map(int, inp.readline().strip().split())) for _ in range(m)]\n",
        "print(l)\n",
        "x = [[i + 1] for i in range(n)]\n",
        "print(x)\n",
        "s = []\n",
        "\n",
        "for i in range(m):\n",
        "    a, b = l[i]\n",
        "    c = 1\n",
        "    if len(l[i]) == 3:\n",
        "        c = l[i][2]\n",
        "    m = -1\n",
        "    n = -1\n",
        "\n",
        "    for j in range(len(x)):\n",
        "        if a in x[j]:\n",
        "            m = j\n",
        "        if b in x[j]:\n",
        "            n = j\n",
        "\n",
        "    if m != n:\n",
        "        t = x[m] + x[n]\n",
        "        del x[max(m, n)]\n",
        "        del x[min(m, n)]\n",
        "        x.append(t)\n",
        "        s.append(c + len(t) - 1)\n",
        "    else:\n",
        "        s.append(c + len(x[m]) - 1)\n",
        "\n",
        "    print(x)\n",
        "\n",
        "for i in s:\n",
        "    out.write(str(i) + '\\n')\n",
        "\n",
        "inp.close()\n",
        "out.close()\n"
      ],
      "metadata": {
        "id": "oknT0yBtswKe"
      },
      "execution_count": null,
      "outputs": []
    },
    {
      "cell_type": "code",
      "source": [
        "\n",
        "inp = open('input3.txt', 'r')\n",
        "out = open('output3.txt', 'w')\n",
        "\n",
        "n, m = map(int, inp.readline().strip().split())\n",
        "l = [list(map(int, inp.readline().strip().split())) for _ in range(m)]\n",
        "\n",
        "x = [[i + 1] for i in range(n)]\n",
        "s = []\n",
        "\n",
        "for i in range(m):\n",
        "    a, b = l[i]\n",
        "    c = 1\n",
        "    if len(l[i]) == 3:\n",
        "        c = l[i][2]\n",
        "    m = -1\n",
        "    n = -1\n",
        "\n",
        "    for j in range(len(x)):\n",
        "        if a in x[j]:\n",
        "            m = j\n",
        "        if b in x[j]:\n",
        "            n = j\n",
        "\n",
        "    if m != n:\n",
        "        t = x[m] + x[n]\n",
        "        del x[max(m, n)]\n",
        "        del x[min(m, n)]\n",
        "        x.append(t)\n",
        "        s.append(c + len(t) - 1)\n",
        "    else:\n",
        "        s.append(c + len(x[m]) - 1)\n",
        "\n",
        "for i in s:\n",
        "    out.write(str(i) + '\\n')\n",
        "\n",
        "inp.close()\n",
        "out.close()"
      ],
      "metadata": {
        "id": "Qx1YOhFlvoLq"
      },
      "execution_count": null,
      "outputs": []
    },
    {
      "cell_type": "code",
      "source": [
        "inp = open('input2.txt', 'r')\n",
        "out = open('output2.txt', 'w')\n",
        "\n",
        "# Read input\n",
        "n, m = map(int, inp.readline().split())\n",
        "tasks = []\n",
        "for _ in range(n):\n",
        "    start, end = map(int, inp.readline().split())\n",
        "    tasks.append((start, end))\n",
        "\n",
        "# Sort tasks by their end times\n",
        "tasks.sort(key=lambda x: x[1])\n",
        "# print(tasks)\n",
        "\n",
        "# Implement the greedy algorithm\n",
        "completed_tasks = [0] * m\n",
        "assigned_tasks = 0\n",
        "\n",
        "for task in tasks:\n",
        "    assigned = False\n",
        "    for i in range(m):\n",
        "        if not assigned and task[0] >= completed_tasks[i]:\n",
        "            completed_tasks[i] = task[1]\n",
        "            assigned = True\n",
        "            assigned_tasks += 1\n",
        "            break\n",
        "\n",
        "# Write the result to the output file\n",
        "out.write(str(assigned_tasks))\n",
        "\n",
        "# Close input and output files\n",
        "inp.close()\n",
        "out.close()\n"
      ],
      "metadata": {
        "id": "0_HKbTa41EsM"
      },
      "execution_count": null,
      "outputs": []
    }
  ]
}