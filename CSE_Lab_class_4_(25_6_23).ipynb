{
  "nbformat": 4,
  "nbformat_minor": 0,
  "metadata": {
    "colab": {
      "provenance": [],
      "authorship_tag": "ABX9TyNfZFz8AmIuAgFNL2pDuVLT",
      "include_colab_link": true
    },
    "kernelspec": {
      "name": "python3",
      "display_name": "Python 3"
    },
    "language_info": {
      "name": "python"
    }
  },
  "cells": [
    {
      "cell_type": "markdown",
      "metadata": {
        "id": "view-in-github",
        "colab_type": "text"
      },
      "source": [
        "<a href=\"https://colab.research.google.com/github/ANWAR8811/Assignments/blob/main/CSE_Lab_class_4_(25_6_23).ipynb\" target=\"_parent\"><img src=\"https://colab.research.google.com/assets/colab-badge.svg\" alt=\"Open In Colab\"/></a>"
      ]
    },
    {
      "cell_type": "code",
      "execution_count": null,
      "metadata": {
        "colab": {
          "base_uri": "https://localhost:8080/"
        },
        "id": "9fQduDA8zvU8",
        "outputId": "45fd571f-c802-4fab-9c62-c02f0d6a8694"
      },
      "outputs": [
        {
          "output_type": "stream",
          "name": "stdout",
          "text": [
            "////// Test 01 //////\n",
            "10, 20, 30, 40 \n",
            "4\n"
          ]
        }
      ],
      "source": [
        "class Node:\n",
        "  def __init__(self, e, n):\n",
        "    self.element = e\n",
        "    self.next = n\n",
        "\n",
        "\n",
        "class LinkedList:\n",
        "\n",
        "  def __init__(self, a):\n",
        "  #  Design the constructor based on data type of a. If 'a' is built in python list then\n",
        "  #  Creates a linked list using the values from the given array. head will refer\n",
        "  #  to the Node that contains the element from a[0]\n",
        "  #  Else Sets the value of head. head will refer\n",
        "  # to the given LinkedList\n",
        "\n",
        "  # Hint: Use the type() function to determine the data type of a\n",
        "    self.head = None\n",
        "    # To Do\n",
        "    #\n",
        "    #pass # Remove this line\n",
        "\n",
        "    if type(a) == list:\n",
        "      head = Node(a[0], None)\n",
        "      self.head = head\n",
        "      tail = self.head\n",
        "      for i in range(1, len(a)):\n",
        "        newNode = Node(a[i], None)\n",
        "        tail.next = newNode\n",
        "        tail = tail.next\n",
        "    else:\n",
        "      self.head = a\n",
        "\n",
        "  # Count the number of nodes in the list\n",
        "  def countNode(self):\n",
        "    # To Do\n",
        "    #pass # Remove this line\n",
        "\n",
        "    temp = self.head\n",
        "    c = 0\n",
        "    while temp != None:\n",
        "      c += 1\n",
        "      temp = temp.next\n",
        "    return c\n",
        "\n",
        "  # Print elements in the list\n",
        "  def printList(self):\n",
        "    # To Do\n",
        "    #pass # Remove this line\n",
        "\n",
        "    temp = self.head\n",
        "    while temp != None:\n",
        "      if temp.next == None:\n",
        "        print(temp.element, end=' ')\n",
        "      else:\n",
        "        print(temp.element, end=', ')\n",
        "      temp = temp.next\n",
        "    print()\n",
        "\n",
        "  # returns the reference of the Node at the given index. For invalid index return None.\n",
        "  def nodeAt(self, idx):\n",
        "    # To Do\n",
        "    #pass # Remove this line\n",
        "\n",
        "    temp = self.head\n",
        "    c = 0\n",
        "    while temp != None:\n",
        "      if c == idx:\n",
        "        return temp\n",
        "      else:\n",
        "        c += 1\n",
        "        temp = temp.next\n",
        "    return None\n",
        "\n",
        "  # returns the element of the Node at the given index. For invalid idx return None.\n",
        "  def get(self, idx):\n",
        "    # To Do\n",
        "    #pass # Remove this line\n",
        "\n",
        "    temp = self.head\n",
        "    c = 0\n",
        "    while temp != None:\n",
        "      if c == idx:\n",
        "        return temp.element\n",
        "      else:\n",
        "        c += 1\n",
        "        temp = temp.next\n",
        "    return None\n",
        "\n",
        "  # updates the element of the Node at the given index.\n",
        "  # Returns the old element that was replaced. For invalid index return None.\n",
        "  # parameter: index, element\n",
        "  def set(self, idx, elem):\n",
        "    # To Do\n",
        "    #pass # Remove this line\n",
        "\n",
        "    temp = self.head\n",
        "    c = 0\n",
        "    while temp != None:\n",
        "      if c == idx:\n",
        "        old_elem = temp.element\n",
        "        temp.element = elem\n",
        "        return old_elem\n",
        "      else:\n",
        "        c += 1\n",
        "        temp = temp.next\n",
        "    return None\n",
        "\n",
        "  # returns the index of the Node containing the given element.\n",
        "  # if the element does not exist in the List, return -1.\n",
        "  def indexOf(self, elem):\n",
        "    # To Do\n",
        "    #pass # Remove this line\n",
        "\n",
        "    temp = self.head\n",
        "    c = 0\n",
        "    while temp != None:\n",
        "      if temp.element == elem:\n",
        "        return c\n",
        "      else:\n",
        "        c += 1\n",
        "        temp = temp.next\n",
        "    return -1\n",
        "\n",
        "  # returns true if the element exists in the List, return false otherwise.\n",
        "  def contains(self, elem):\n",
        "    # To Do\n",
        "    #pass # Remove this line\n",
        "\n",
        "    temp = self.head\n",
        "    c = 0\n",
        "    while temp != None:\n",
        "      if temp.element == elem:\n",
        "        return True\n",
        "      else:\n",
        "        c += 1\n",
        "        temp = temp.next\n",
        "    return False\n",
        "\n",
        "  # Makes a duplicate copy of the given List. Returns the reference of the duplicate list.\n",
        "  def copyList(self):\n",
        "    # To Do\n",
        "    #pass # Remove this line\n",
        "\n",
        "    newHead = None\n",
        "    copyTail = None\n",
        "    temp = self.head\n",
        "    while temp != None:\n",
        "      newNode = Node(temp.element, None)\n",
        "      if newHead == None:\n",
        "        newHead = newNode\n",
        "        copyTail = newNode\n",
        "      else:\n",
        "        copyTail.next = newNode\n",
        "        copyTail = newNode\n",
        "      temp = temp.next\n",
        "    return newHead\n",
        "\n",
        "  # Makes a reversed copy of the given List. Returns the head reference of the reversed list.\n",
        "  def reverseList(self):\n",
        "    # To Do\n",
        "    #pass # Remove this line\n",
        "\n",
        "    newHead = None\n",
        "    newNode = None\n",
        "    temp = self.head\n",
        "    while temp != None:\n",
        "      newNode = temp.next\n",
        "      temp.next = newHead\n",
        "      newHead = temp\n",
        "      temp = newNode\n",
        "    return newHead\n",
        "\n",
        "\n",
        "  # inserts Node containing the given element at the given index\n",
        "  # Check validity of index.\n",
        "  def insert(self, elem, idx):\n",
        "    # To Do\n",
        "    #pass # Remove this line\n",
        "\n",
        "    if idx<0 or idx>self.countNode():\n",
        "      print('Invalid')\n",
        "      return\n",
        "    newNode = Node(elem, None)\n",
        "    if idx == 0:\n",
        "      newNode.next = self.head\n",
        "      self.head = newNode\n",
        "    else:\n",
        "      pred = self.nodeAt(idx-1)\n",
        "      newNode.next = pred.next\n",
        "      pred.next = newNode\n",
        "\n",
        "  # removes Node at the given index. returns element of the removed node.\n",
        "  # Check validity of index. return None if index is invalid.\n",
        "  def remove(self, idx):\n",
        "    # To Do\n",
        "    #pass # Remove this line\n",
        "\n",
        "    if idx<0 or idx>self.countNode():\n",
        "      print('Invalid')\n",
        "      return\n",
        "    removedHead = None\n",
        "    if idx == 0:\n",
        "      removedHead = self.head\n",
        "      self.head = self.head.next\n",
        "      return removedHead.element\n",
        "    else:\n",
        "      pred = self.nodeAt(idx-1)\n",
        "      removedHead = pred.next\n",
        "      pred.next = removedHead.next\n",
        "      return removedHead.element\n",
        "    removedHead.element = None\n",
        "    removedHead.next = None\n",
        "    removedHead = None\n",
        "\n",
        "  # Rotates the list to the left by 1 position.\n",
        "  def rotateLeft(self):\n",
        "    # To Do\n",
        "    #pass # Remove this line\n",
        "\n",
        "    # temp = self.head\n",
        "    # self.head = self.head.next\n",
        "    # temp.next = None\n",
        "    # while temp.next != None:\n",
        "    #   temp = temp.next\n",
        "    # temp.next = temp\n",
        "\n",
        "    # p = self.head\n",
        "    # tail = None\n",
        "    # n = self.head\n",
        "    # while (n.next != None):\n",
        "    #   n = n.next\n",
        "    # tail = n\n",
        "    # tail.next = self.head\n",
        "    # self.head = self.head.next\n",
        "    # p.next = None\n",
        "\n",
        "    p = self.head\n",
        "    #tail = None\n",
        "    n = self.head\n",
        "    while (n.next != None):\n",
        "      n = n.next\n",
        "    #tail = n\n",
        "    n.next = self.head\n",
        "    self.head = self.head.next\n",
        "    p.next = None\n",
        "\n",
        "\n",
        "\n",
        "\n",
        "  # Rotates the list to the right by 1 position.\n",
        "  def rotateRight(self):\n",
        "    # To Do\n",
        "    #pass # Remove this line\n",
        "\n",
        "    p = self.head\n",
        "    tail = None\n",
        "    n = self.head\n",
        "    while (n.next != None):\n",
        "      tail = n\n",
        "      n = n.next\n",
        "    n.next = self.head\n",
        "    self.head = n\n",
        "    tail.next = None\n",
        "\n",
        "\n",
        "\n",
        "\n",
        "print(\"////// Test 01 //////\")\n",
        "a1 = [10, 20, 30, 40]\n",
        "h1 = LinkedList(a1) # Creates a linked list using the values from the array\n",
        "# head will refer to the Node that contains the element from a[0]\n",
        "\n",
        "h1.printList() # This should print: 10,20,30,40\n",
        "print(h1.countNode()) # This should print: 4\n"
      ]
    },
    {
      "cell_type": "code",
      "source": [
        "class Node:\n",
        "  def __init__(self, ...):\n",
        "    ...\n",
        "\n",
        "\n",
        "class shuffle_on_index:\n",
        "\n",
        "  def __init__(self, ...):\n",
        "    ...\n",
        "\n",
        "\n",
        "\n",
        "# write driver code here\n"
      ],
      "metadata": {
        "id": "r3FLNDWV0UAX"
      },
      "execution_count": null,
      "outputs": []
    },
    {
      "cell_type": "code",
      "source": [
        "class Node:\n",
        "    def __init__(self, data=None):\n",
        "        self.data = data\n",
        "        self.next = None\n",
        "\n",
        "def shuffle_on_index(playlist):\n",
        "    # Separate the even-indexed and odd-indexed songs\n",
        "    even_head = Node()\n",
        "    odd_head = Node()\n",
        "    even_current = even_head\n",
        "    odd_current = odd_head\n",
        "    current = playlist\n",
        "\n",
        "    index = 0\n",
        "    while current is not None:\n",
        "        if index % 2 == 0:\n",
        "            even_current.next = current\n",
        "            even_current = even_current.next\n",
        "        else:\n",
        "            odd_current.next = current\n",
        "            odd_current = odd_current.next\n",
        "        current = current.next\n",
        "        index += 1\n",
        "\n",
        "    # Combine the even-indexed and odd-indexed songs\n",
        "    even_current.next = odd_head.next\n",
        "    odd_current.next = None\n",
        "\n",
        "    # Return the shuffled playlist\n",
        "    return even_head.next\n",
        "\n",
        "# Create the linked list for the playlist\n",
        "playlist = Node('S')\n",
        "playlist.next = Node('E')\n",
        "playlist.next.next = Node('N')\n",
        "playlist.next.next.next = Node('P')\n",
        "playlist.next.next.next.next = Node('A')\n",
        "playlist.next.next.next.next.next = Node('I')\n",
        "\n",
        "# Call the shuffle_on_index function\n",
        "shuffled_playlist = shuffle_on_index(playlist)\n",
        "\n",
        "# Print the shuffled playlist\n",
        "current = shuffled_playlist\n",
        "while current is not None:\n",
        "    print(current.data, end=\" -> \")\n",
        "    current = current.next\n"
      ],
      "metadata": {
        "colab": {
          "base_uri": "https://localhost:8080/"
        },
        "id": "7giNffV62FZ5",
        "outputId": "6a341085-146a-4c1c-f8e2-b504da7ebad0"
      },
      "execution_count": null,
      "outputs": [
        {
          "output_type": "stream",
          "name": "stdout",
          "text": [
            "S -> N -> A -> E -> P -> I -> None\n"
          ]
        }
      ]
    },
    {
      "cell_type": "code",
      "source": [
        "class Node:\n",
        "    def __init__(self, data=None):\n",
        "        self.data = data\n",
        "        self.next = None\n",
        "\n",
        "\n",
        "class ShuffleOnIndex:\n",
        "    def __init__(self):\n",
        "        pass\n",
        "\n",
        "    def shuffle_playlist(self, playlist):\n",
        "        # Separate the even-indexed and odd-indexed songs\n",
        "        even_head = Node()\n",
        "        odd_head = Node()\n",
        "        even_current = even_head\n",
        "        odd_current = odd_head\n",
        "        current = playlist\n",
        "\n",
        "        index = 0\n",
        "        while current is not None:\n",
        "            if index % 2 == 0:\n",
        "                even_current.next = current\n",
        "                even_current = even_current.next\n",
        "            else:\n",
        "                odd_current.next = current\n",
        "                odd_current = odd_current.next\n",
        "            current = current.next\n",
        "            index += 1\n",
        "\n",
        "        # Combine the even-indexed and odd-indexed songs\n",
        "        even_current.next = odd_head.next\n",
        "        odd_current.next = None\n",
        "\n",
        "        # Return the shuffled playlist\n",
        "        return even_head.next\n",
        "\n",
        "\n",
        "# Create the linked list for the playlist\n",
        "playlist = Node('S')\n",
        "playlist.next = Node('E')\n",
        "playlist.next.next = Node('N')\n",
        "playlist.next.next.next = Node('P')\n",
        "playlist.next.next.next.next = Node('A')\n",
        "playlist.next.next.next.next.next = Node('I')\n",
        "\n",
        "# Create an instance of ShuffleOnIndex\n",
        "shuffle_player = ShuffleOnIndex()\n",
        "\n",
        "# Call the shuffle_playlist method\n",
        "shuffled_playlist = shuffle_player.shuffle_playlist(playlist)\n",
        "\n",
        "# Print the shuffled playlist\n",
        "current = shuffled_playlist\n",
        "while current is not None:\n",
        "    print(current.data, end=\" -> \")\n",
        "    current = current.next"
      ],
      "metadata": {
        "colab": {
          "base_uri": "https://localhost:8080/"
        },
        "id": "SD1wEGkJ3-tW",
        "outputId": "34c0d349-e512-4f9f-edd4-9e5aff2ddc33"
      },
      "execution_count": null,
      "outputs": [
        {
          "output_type": "stream",
          "name": "stdout",
          "text": [
            "S -> N -> A -> E -> P -> I -> "
          ]
        }
      ]
    },
    {
      "cell_type": "code",
      "source": [
        "class Node:\n",
        "    def __init__(self, data=None):\n",
        "        self.data = data\n",
        "        self.next = None\n",
        "\n",
        "\n",
        "class ShuffleOnIndex:\n",
        "    def __init__(self):\n",
        "        pass\n",
        "\n",
        "    def shuffle_playlist(self, playlist):\n",
        "        # Separate the even-indexed and odd-indexed songs\n",
        "        even_head = Node()\n",
        "        odd_head = Node()\n",
        "        even_current = even_head\n",
        "        odd_current = odd_head\n",
        "        current = playlist\n",
        "\n",
        "        index = 0\n",
        "        while current is not None:\n",
        "            if index % 2 == 0:\n",
        "                even_current.next = current\n",
        "                even_current = even_current.next\n",
        "            else:\n",
        "                odd_current.next = current\n",
        "                odd_current = odd_current.next\n",
        "            current = current.next\n",
        "            index += 1\n",
        "\n",
        "        # Combine the even-indexed and odd-indexed songs\n",
        "        even_current.next = odd_head.next\n",
        "        odd_current.next = None\n",
        "\n",
        "        # Return the shuffled playlist\n",
        "        return even_head.next\n",
        "\n",
        "\n",
        "# Create the song names list\n",
        "song_names = ['S', 'E', 'N', 'P', 'A', 'I']\n",
        "\n",
        "# Create the linked list for the playlist\n",
        "head = Node(song_names[0])\n",
        "current = head\n",
        "for name in song_names[1:]:\n",
        "    current.next = Node(name)\n",
        "    current = current.next\n",
        "\n",
        "# Print the linked list\n",
        "current = head\n",
        "while current is not None:\n",
        "    print(current.data, end=\" -> \")\n",
        "    current = current.next"
      ],
      "metadata": {
        "colab": {
          "base_uri": "https://localhost:8080/"
        },
        "id": "qcCemcld4hMM",
        "outputId": "fc235623-2afd-4cde-9e6d-ae9c6804f4b6"
      },
      "execution_count": null,
      "outputs": [
        {
          "output_type": "stream",
          "name": "stdout",
          "text": [
            "S -> E -> N -> P -> A -> I -> "
          ]
        }
      ]
    },
    {
      "cell_type": "code",
      "source": [
        "class Node:\n",
        "    def __init__(self, data):\n",
        "        self.data = data\n",
        "        self.next = None\n",
        "\n",
        "\n",
        "class ShuffleOnIndex:\n",
        "    def __init__(self):\n",
        "        self.head = None\n",
        "\n",
        "    def create_playlist(self, song_names):\n",
        "        if len(song_names) < 2:\n",
        "            print(\"Playlist should contain at least two songs.\")\n",
        "            return\n",
        "\n",
        "        self.head = Node(song_names[0])\n",
        "        current = self.head\n",
        "        for name in song_names[1:]:\n",
        "            current.next = Node(name)\n",
        "            current = current.next\n",
        "\n",
        "    def shuffle(self):\n",
        "        if not self.head or not self.head.next:\n",
        "            return\n",
        "\n",
        "        even_head = self.head\n",
        "        odd_head = self.head.next\n",
        "\n",
        "        even_current = even_head\n",
        "        odd_current = odd_head\n",
        "\n",
        "        while even_current.next and odd_current.next:\n",
        "            even_current.next = odd_current.next\n",
        "            even_current = even_current.next\n",
        "\n",
        "            odd_current.next = even_current.next\n",
        "            odd_current = odd_current.next\n",
        "\n",
        "        even_current.next = odd_head\n",
        "\n",
        "    def print_playlist(self):\n",
        "        if not self.head:\n",
        "            print(\"Playlist is empty.\")\n",
        "            return\n",
        "\n",
        "        current = self.head\n",
        "        while current:\n",
        "            print(current.data, end=\" -> \")\n",
        "            current = current.next\n",
        "        # print(\"None\")\n",
        "\n",
        "\n",
        "# Create the song names list\n",
        "song_names = ['S', 'E', 'N', 'P', 'A', 'I']\n",
        "\n",
        "# Create the ShuffleOnIndex object\n",
        "shuffle_obj = ShuffleOnIndex()\n",
        "\n",
        "# Create the playlist\n",
        "shuffle_obj.create_playlist(song_names)\n",
        "\n",
        "# Print the original playlist\n",
        "print(\"Original Playlist:\")\n",
        "shuffle_obj.print_playlist()\n",
        "\n",
        "# Shuffle the playlist\n",
        "shuffle_obj.shuffle()\n",
        "\n",
        "# Print the shuffled playlist\n",
        "print(\"Shuffled Playlist:\")\n",
        "shuffle_obj.print_playlist()\n"
      ],
      "metadata": {
        "colab": {
          "base_uri": "https://localhost:8080/"
        },
        "id": "D_L6etq75QSB",
        "outputId": "927116a3-246c-4ae8-fe03-65c6e11123c7"
      },
      "execution_count": null,
      "outputs": [
        {
          "output_type": "stream",
          "name": "stdout",
          "text": [
            "Original Playlist:\n",
            "S -> E -> N -> P -> A -> I -> Shuffled Playlist:\n",
            "S -> N -> A -> E -> P -> I -> "
          ]
        }
      ]
    },
    {
      "cell_type": "code",
      "source": [
        "class Node:\n",
        "    def __init__(self, data):\n",
        "        self.data = data\n",
        "        self.next = None\n",
        "\n",
        "\n",
        "class ShuffleOnIndex:\n",
        "    def __init__(self):\n",
        "        self.head = None\n",
        "\n",
        "    def create_playlist(self, song_names):\n",
        "        if len(song_names) < 2:\n",
        "            print(\"Playlist should contain at least two songs.\")\n",
        "            return\n",
        "\n",
        "        self.head = Node(song_names[0])\n",
        "        current = self.head\n",
        "        for name in song_names[1:]:\n",
        "            current.next = Node(name)\n",
        "            current = current.next\n",
        "\n",
        "    def shuffle(self):\n",
        "        if not self.head or not self.head.next:\n",
        "            return\n",
        "\n",
        "        even_head = self.head\n",
        "        odd_head = self.head.next\n",
        "\n",
        "        even_current = even_head\n",
        "        odd_current = odd_head\n",
        "\n",
        "        while even_current.next and odd_current.next:\n",
        "            even_current.next = odd_current.next\n",
        "            even_current = even_current.next\n",
        "\n",
        "            odd_current.next = even_current.next\n",
        "            odd_current = odd_current.next\n",
        "\n",
        "        even_current.next = odd_head\n",
        "\n",
        "    def print_playlist(self):\n",
        "        if not self.head:\n",
        "            print(\"Playlist is empty.\")\n",
        "            return\n",
        "\n",
        "        current = self.head\n",
        "        while current:\n",
        "            if current.next:\n",
        "                print(current.data, end=\" -> \")\n",
        "            else:\n",
        "                print(current.data, end=\"\")\n",
        "            current = current.next\n",
        "        print()\n",
        "\n",
        "\n",
        "# Driver code:\n",
        "\n",
        "# song_names = ['S', 'E', 'N', 'P', 'A', 'I']\n",
        "song_names = ['N', 'I', 'S', 'H', 'I', 'N', 'O', 'Y', 'A']\n",
        "\n",
        "shuffle_obj = ShuffleOnIndex()\n",
        "\n",
        "shuffle_obj.create_playlist(song_names)\n",
        "\n",
        "print(\"Original Playlist:\")\n",
        "shuffle_obj.print_playlist()\n",
        "\n",
        "shuffle_obj.shuffle()\n",
        "\n",
        "print(\"Shuffled Playlist:\")\n",
        "shuffle_obj.print_playlist()\n"
      ],
      "metadata": {
        "colab": {
          "base_uri": "https://localhost:8080/"
        },
        "id": "Q0HeCcTh5rKB",
        "outputId": "beeb168b-d6c5-451c-bfc8-b5c04bed1dc8"
      },
      "execution_count": null,
      "outputs": [
        {
          "output_type": "stream",
          "name": "stdout",
          "text": [
            "Original Playlist:\n",
            "N -> I -> S -> H -> I -> N -> O -> Y -> A\n",
            "Shuffled Playlist:\n",
            "N -> S -> I -> O -> A -> I -> H -> N -> Y\n"
          ]
        }
      ]
    },
    {
      "cell_type": "code",
      "source": [
        "# task-6 dfs"
      ],
      "metadata": {
        "id": "HVGHEewWahl1"
      },
      "execution_count": null,
      "outputs": []
    },
    {
      "cell_type": "code",
      "source": [
        "v, e = map(int, input().split())\n",
        "# print(e)\n",
        "\n",
        "a = []\n",
        "for i in range(e):\n",
        "    # print(i)\n",
        "    row = list(map(int, input().split()))\n",
        "    a.append(row)\n",
        "\n",
        "print(a)"
      ],
      "metadata": {
        "id": "zsvbugSdqPDt"
      },
      "execution_count": null,
      "outputs": []
    },
    {
      "cell_type": "code",
      "source": [
        "b = [[1, 3, 8], [3, 2, 5], [1, 4, 2]]\n",
        "\n",
        "print(b[0])"
      ],
      "metadata": {
        "colab": {
          "base_uri": "https://localhost:8080/"
        },
        "id": "iT5F0GbcqipY",
        "outputId": "cbe4c444-f3dc-4366-bb2e-5a3279a6fb3a"
      },
      "execution_count": null,
      "outputs": [
        {
          "output_type": "stream",
          "name": "stdout",
          "text": [
            "[1, 3, 8]\n"
          ]
        }
      ]
    },
    {
      "cell_type": "code",
      "source": [
        "a = 'Rna'\n",
        "a = a.upper()\n",
        "print(a)"
      ],
      "metadata": {
        "colab": {
          "base_uri": "https://localhost:8080/"
        },
        "id": "ehn7wt6xa1Vb",
        "outputId": "62eb50c5-4ab4-4b49-9fc5-8621da928aa7"
      },
      "execution_count": null,
      "outputs": [
        {
          "output_type": "stream",
          "name": "stdout",
          "text": [
            "RNA\n"
          ]
        }
      ]
    },
    {
      "cell_type": "code",
      "source": [
        "print(a.lower)"
      ],
      "metadata": {
        "colab": {
          "base_uri": "https://localhost:8080/"
        },
        "id": "TpBBjL9xa9I6",
        "outputId": "e081ea75-6490-44ac-84ca-0f71e40fd25f"
      },
      "execution_count": null,
      "outputs": [
        {
          "output_type": "stream",
          "name": "stdout",
          "text": [
            "<built-in method lower of str object at 0x7f9bf804faf0>\n"
          ]
        }
      ]
    },
    {
      "cell_type": "code",
      "source": [
        "print(a.lower())"
      ],
      "metadata": {
        "colab": {
          "base_uri": "https://localhost:8080/"
        },
        "id": "HQ76u19VbA6c",
        "outputId": "c28ddc77-ee77-486a-d03a-7e7201b8602d"
      },
      "execution_count": null,
      "outputs": [
        {
          "output_type": "stream",
          "name": "stdout",
          "text": [
            "rna\n"
          ]
        }
      ]
    },
    {
      "cell_type": "code",
      "source": [
        "l = [4,3,6,2,4,1,5]\n",
        "l.sort()\n",
        "print(l)"
      ],
      "metadata": {
        "colab": {
          "base_uri": "https://localhost:8080/"
        },
        "id": "J8CpuLn0bE2r",
        "outputId": "670495cc-17ea-4f82-d448-ed6505f94c3c"
      },
      "execution_count": null,
      "outputs": [
        {
          "output_type": "stream",
          "name": "stdout",
          "text": [
            "[1, 2, 3, 4, 4, 5, 6]\n"
          ]
        }
      ]
    },
    {
      "cell_type": "code",
      "source": [
        "a = 'Rana Ahamed'\n",
        "for i in range(0,len(a),2):\n",
        "  print(a[i])"
      ],
      "metadata": {
        "colab": {
          "base_uri": "https://localhost:8080/"
        },
        "id": "lS6H4n8tf2Q0",
        "outputId": "db3f2953-6d9e-4306-b22b-407bfe22bc3e"
      },
      "execution_count": null,
      "outputs": [
        {
          "output_type": "stream",
          "name": "stdout",
          "text": [
            "R\n",
            "n\n",
            " \n",
            "h\n",
            "m\n",
            "d\n"
          ]
        }
      ]
    },
    {
      "cell_type": "code",
      "source": [
        "a = 'Rana Ahamed'\n",
        "l = []\n",
        "for x in a:\n",
        "  if (x not in l): l.append(x)\n",
        "print(l)"
      ],
      "metadata": {
        "colab": {
          "base_uri": "https://localhost:8080/"
        },
        "id": "wOz6Nw92hTnC",
        "outputId": "d450073b-da9b-4d56-b481-a12868077501"
      },
      "execution_count": null,
      "outputs": [
        {
          "output_type": "stream",
          "name": "stdout",
          "text": [
            "['R', 'a', 'n', ' ', 'A', 'h', 'm', 'e', 'd']\n"
          ]
        }
      ]
    },
    {
      "cell_type": "code",
      "source": [
        "a = 'Rana Ahamed'\n",
        "a.remove(2)\n",
        "print(a)"
      ],
      "metadata": {
        "id": "2QVH5YkArFAg",
        "colab": {
          "base_uri": "https://localhost:8080/",
          "height": 204
        },
        "outputId": "244cf1d6-0b73-4af7-97bd-9d08242b1e86"
      },
      "execution_count": null,
      "outputs": [
        {
          "output_type": "error",
          "ename": "AttributeError",
          "evalue": "ignored",
          "traceback": [
            "\u001b[0;31m---------------------------------------------------------------------------\u001b[0m",
            "\u001b[0;31mAttributeError\u001b[0m                            Traceback (most recent call last)",
            "\u001b[0;32m<ipython-input-8-2c04779b1b83>\u001b[0m in \u001b[0;36m<cell line: 2>\u001b[0;34m()\u001b[0m\n\u001b[1;32m      1\u001b[0m \u001b[0ma\u001b[0m \u001b[0;34m=\u001b[0m \u001b[0;34m'Rana Ahamed'\u001b[0m\u001b[0;34m\u001b[0m\u001b[0;34m\u001b[0m\u001b[0m\n\u001b[0;32m----> 2\u001b[0;31m \u001b[0ma\u001b[0m\u001b[0;34m.\u001b[0m\u001b[0mremove\u001b[0m\u001b[0;34m(\u001b[0m\u001b[0;36m2\u001b[0m\u001b[0;34m)\u001b[0m\u001b[0;34m\u001b[0m\u001b[0;34m\u001b[0m\u001b[0m\n\u001b[0m\u001b[1;32m      3\u001b[0m \u001b[0mprint\u001b[0m\u001b[0;34m(\u001b[0m\u001b[0ma\u001b[0m\u001b[0;34m)\u001b[0m\u001b[0;34m\u001b[0m\u001b[0;34m\u001b[0m\u001b[0m\n",
            "\u001b[0;31mAttributeError\u001b[0m: 'str' object has no attribute 'remove'"
          ]
        }
      ]
    },
    {
      "cell_type": "code",
      "source": [
        "b = [[1, 3, 8], [3, 2, 5], [1, 4, 2]]\n",
        "\n",
        "c = 0\n",
        "for i in range(len(b)):\n",
        "  c += b[i][0]\n",
        "print(c)"
      ],
      "metadata": {
        "colab": {
          "base_uri": "https://localhost:8080/"
        },
        "id": "WXTiSMNgGt_m",
        "outputId": "1a7b2f08-458d-44d5-b1a2-f4a2d1eb2cf7"
      },
      "execution_count": null,
      "outputs": [
        {
          "output_type": "stream",
          "name": "stdout",
          "text": [
            "5\n"
          ]
        }
      ]
    },
    {
      "cell_type": "code",
      "source": [
        "print(112%10)"
      ],
      "metadata": {
        "colab": {
          "base_uri": "https://localhost:8080/"
        },
        "id": "AQ227LgOyjiZ",
        "outputId": "dee72845-60b4-43b2-e3dc-ccdbc32f8017"
      },
      "execution_count": null,
      "outputs": [
        {
          "output_type": "stream",
          "name": "stdout",
          "text": [
            "2\n"
          ]
        }
      ]
    },
    {
      "cell_type": "code",
      "source": [
        "# B\n",
        "input1 = open(\"/content/drive/MyDrive/221/lab5/input1b_2.txt\", \"r\")\n",
        "output1 = open(\"/content/drive/MyDrive/221/lab5/output1b_2.txt\", \"w\")\n",
        "\n",
        "\n",
        "x = input1.readline().strip().split()\n",
        "row = int(x[0])\n",
        "column = int(x[1])\n",
        "\n",
        "dict_z = {}\n",
        "\n",
        "x = input1.readlines()\n",
        "# print(x)\n",
        "x = [i.strip() for i in x]\n",
        "# print(x)\n",
        "\n",
        "\n",
        "listGraph = [[] for i in range(int(row)+1)]\n",
        "# print(listGraph)\n",
        "\n",
        "for i in x:\n",
        "    f = i.split()\n",
        "    listGraph[int(f[0])].append((int(f[1]), int(f[2])))\n",
        "\n",
        "print(listGraph)\n",
        "\n",
        "for i in range(len(listGraph)):\n",
        "    dict_z[i] = listGraph[i]\n",
        "\n",
        "# print(dict_z)\n",
        "out = \"\"\n",
        "for key, val in dict_z.items():\n",
        "    # print(val)\n",
        "    if len(val) == 0:\n",
        "        # print(key)\n",
        "        out += str(key) + \" :\"\n",
        "        out += \"\\n\"\n",
        "    else:\n",
        "        # pass\n",
        "        out += str(key) + \" : \"\n",
        "        # print(len(val))\n",
        "        for z in range(len(val)):\n",
        "            # print(z)\n",
        "            if z == len(val)-1:\n",
        "                # print(val[z])\n",
        "                out += str(val[z])\n",
        "            else:\n",
        "                out += str(val[z]) + \", \"\n",
        "        out += \"\\n\"\n",
        "\n",
        "# print(out)\n",
        "output1.write(out)\n",
        "\n",
        "input1.close()\n",
        "output1.close()\n"
      ],
      "metadata": {
        "id": "Fsanig2h162R"
      },
      "execution_count": null,
      "outputs": []
    },
    {
      "cell_type": "code",
      "source": [
        "# Task 2\n",
        "input2 = open(\"/content/drive/MyDrive/221/lab5/input2_4.txt\", \"r\")\n",
        "output2 = open(\"/content/drive/MyDrive/221/lab5/output2_4.txt\", \"w\")\n",
        "\n",
        "x = input2.readline().strip().split()\n",
        "row = int(x[0])\n",
        "column = int(x[1])\n",
        "y = input2.readlines()\n",
        "\n",
        "listGraph = [[] for i in range(int(row)+1)]\n",
        "# print(list_Graph)\n",
        "for i in y:\n",
        "    # print(i)\n",
        "    f = i.split()\n",
        "    # print(f)\n",
        "\n",
        "    listGraph[int(f[0])].append(int(f[1]))\n",
        "    listGraph[int(f[1])].append(int(f[0]))\n",
        "\n",
        "# print(listGraph)\n",
        "\n",
        "from queue import Queue\n",
        "def BFS(G,s):\n",
        "    a = [0 for i in range(len(G))]\n",
        "    q = Queue()\n",
        "    q.put(s)\n",
        "    a[s] = 1\n",
        "    list_x = str(s)+\" \"\n",
        "    while not q.empty():\n",
        "        u = q.get()\n",
        "        for i in G[u]:\n",
        "            if a[i] == 0:\n",
        "                q.put(i)\n",
        "                a[i] = 1\n",
        "                list_x += str(i)+\" \"\n",
        "\n",
        "\n",
        "    print(list_x)\n",
        "\n",
        "    output2.write(list_x)\n",
        "\n",
        "\n",
        "BFS(listGraph, 1)\n",
        "\n",
        "input2.close()\n",
        "output2.close()"
      ],
      "metadata": {
        "id": "quixw2ldw5RB"
      },
      "execution_count": null,
      "outputs": []
    },
    {
      "cell_type": "code",
      "source": [
        "# Task 3\n",
        "input3 = open(\"/content/drive/MyDrive/221/lab5/input3_4.txt\", \"r\")\n",
        "output3 = open(\"/content/drive/MyDrive/221/lab5/output3_4.txt\", \"w\")\n",
        "\n",
        "x = input3.readline().strip().split()\n",
        "row = int(x[0])\n",
        "column = int(x[1])\n",
        "y = input3.readlines()\n",
        "\n",
        "listGraph = [[] for i in range(int(row)+1)]\n",
        "\n",
        "for i in y:\n",
        "\n",
        "    f = i.split()\n",
        "    listGraph[int(f[0])].append(int(f[1]))\n",
        "    listGraph[int(f[1])].append(int(f[0]))\n",
        "\n",
        "\n",
        "def DFS(G,n,a,out):\n",
        "\n",
        "    a[n] = 1\n",
        "\n",
        "    # print(n)\n",
        "    out += str(n) + \" \"\n",
        "    for i in G[n]:\n",
        "        if a[i] == 0:\n",
        "            out = DFS(G,i,a,out)\n",
        "    return out\n",
        "\n",
        "graph = listGraph\n",
        "# print(graph)\n",
        "a = [0 for i in range(len(graph))]\n",
        "a[1] = 1\n",
        "out = \"\"\n",
        "result = DFS(graph, 1, a, out)\n",
        "output3.write(result)\n",
        "\n",
        "input3.close()\n",
        "output3.close()\n",
        "\n"
      ],
      "metadata": {
        "id": "qads8f1s3wq5"
      },
      "execution_count": null,
      "outputs": []
    },
    {
      "cell_type": "code",
      "source": [
        "graph = {\n",
        "  '5' : ['3','7'],\n",
        "  '3' : ['2', '4'],\n",
        "  '7' : ['8'],\n",
        "  '2' : [],\n",
        "  '4' : ['8'],\n",
        "  '8' : []\n",
        "}\n",
        "\n",
        "visited = []\n",
        "queue = []\n",
        "\n",
        "def bfs(visited, graph, node):\n",
        "  visited.append(node)\n",
        "  queue.append(node)\n",
        "\n",
        "  while queue:\n",
        "    m = queue.pop(0)\n",
        "    print(m, end = \" \")\n",
        "\n",
        "    for neighbour in graph[m]:\n",
        "      if neighbour not in visited:\n",
        "        visited.append(neighbour)\n",
        "        queue.append(neighbour)\n",
        "\n",
        "bfs(visited, graph, '5')"
      ],
      "metadata": {
        "colab": {
          "base_uri": "https://localhost:8080/"
        },
        "id": "VH_ZSvLk9kZt",
        "outputId": "6e39f308-e047-44fa-b5d9-846ea7904118"
      },
      "execution_count": null,
      "outputs": [
        {
          "output_type": "stream",
          "name": "stdout",
          "text": [
            "5 3 7 2 4 8 "
          ]
        }
      ]
    },
    {
      "cell_type": "code",
      "source": [
        "b = [1, 2, 3, 4, 5]\n",
        "x = b.pop()\n",
        "print(x)"
      ],
      "metadata": {
        "colab": {
          "base_uri": "https://localhost:8080/"
        },
        "id": "fxWQBo5v-N6o",
        "outputId": "ba8534ca-1880-47c0-9af0-595ada9ecf63"
      },
      "execution_count": null,
      "outputs": [
        {
          "output_type": "stream",
          "name": "stdout",
          "text": [
            "5\n"
          ]
        }
      ]
    },
    {
      "cell_type": "code",
      "source": [
        "b = [1, 2, 3, 4, 5]\n",
        "x = b.pop(0)\n",
        "print(x)"
      ],
      "metadata": {
        "colab": {
          "base_uri": "https://localhost:8080/"
        },
        "id": "OODJoqL5-X-0",
        "outputId": "6f39b04a-2c16-413e-90e2-ba83018866db"
      },
      "execution_count": null,
      "outputs": [
        {
          "output_type": "stream",
          "name": "stdout",
          "text": [
            "1\n"
          ]
        }
      ]
    },
    {
      "cell_type": "code",
      "source": [
        "graph = {\n",
        "  '5' : ['3','7'],\n",
        "  '3' : ['2', '4'],\n",
        "  '7' : ['8'],\n",
        "  '2' : [],\n",
        "  '4' : ['8'],\n",
        "  '8' : []\n",
        "}\n",
        "\n",
        "visited = set()\n",
        "\n",
        "def dfs(visited, graph, node):\n",
        "  if node not in visited:\n",
        "    print(node)\n",
        "    visited.add(node)\n",
        "\n",
        "    for neighbour in graph[node]:\n",
        "      dfs(visited, graph, neighbour)\n",
        "\n",
        "dfs(visited, graph, '5')"
      ],
      "metadata": {
        "colab": {
          "base_uri": "https://localhost:8080/"
        },
        "id": "nVRY8RWmEIf6",
        "outputId": "bbe65f33-48a3-4b13-969e-ae150e731bb6"
      },
      "execution_count": null,
      "outputs": [
        {
          "output_type": "stream",
          "name": "stdout",
          "text": [
            "5\n",
            "3\n",
            "2\n",
            "4\n",
            "8\n",
            "7\n"
          ]
        }
      ]
    },
    {
      "cell_type": "code",
      "source": [
        "from collections import deque\n",
        "\n",
        "def BFS(G, s):\n",
        "    # Initialize vertices\n",
        "    for v in G:\n",
        "        v['color'] = 'WHITE'\n",
        "        v['d'] = float('inf')\n",
        "        v['p'] = None\n",
        "\n",
        "    # Initialize the starting vertex\n",
        "    s['color'] = 'GREY'\n",
        "    s['d'] = 0\n",
        "    s['p'] = None\n",
        "\n",
        "    # Create a queue and enqueue the starting vertex\n",
        "    Q = deque()\n",
        "    Q.append(s)\n",
        "\n",
        "    while Q:\n",
        "        u = Q.popleft()\n",
        "\n",
        "        for v in u['adj']:\n",
        "            if v['color'] == 'WHITE':\n",
        "                v['color'] = 'GREY'\n",
        "                v['d'] = u['d'] + 1\n",
        "                v['p'] = u\n",
        "                Q.append(v)\n",
        "\n",
        "        u['color'] = 'BLACK'\n",
        "\n",
        "\n",
        "# Create the graph\n",
        "G = [\n",
        "    {'adj': [1, 2], 'color': 'WHITE', 'd': float('inf'), 'p': None},\n",
        "    {'adj': [0, 3], 'color': 'WHITE', 'd': float('inf'), 'p': None},\n",
        "    {'adj': [0, 3, 4], 'color': 'WHITE', 'd': float('inf'), 'p': None},\n",
        "    {'adj': [1, 2, 4], 'color': 'WHITE', 'd': float('inf'), 'p': None},\n",
        "    {'adj': [2, 3], 'color': 'WHITE', 'd': float('inf'), 'p': None}\n",
        "]\n",
        "\n",
        "# Choose the starting vertex\n",
        "start_vertex = G[0]\n",
        "\n",
        "# Call the BFS function\n",
        "BFS(G, start_vertex)\n",
        "\n",
        "# Print the BFS traversal results\n",
        "for v in G:\n",
        "    print(\"Vertex:\", v, \"Distance:\", v['d'], \"Predecessor:\", v['p'])\n"
      ],
      "metadata": {
        "colab": {
          "base_uri": "https://localhost:8080/",
          "height": 365
        },
        "id": "2nIXsJpZFcN0",
        "outputId": "7117e8b0-d605-474d-832d-ed77f2ff2121"
      },
      "execution_count": null,
      "outputs": [
        {
          "output_type": "error",
          "ename": "TypeError",
          "evalue": "ignored",
          "traceback": [
            "\u001b[0;31m---------------------------------------------------------------------------\u001b[0m",
            "\u001b[0;31mTypeError\u001b[0m                                 Traceback (most recent call last)",
            "\u001b[0;32m<ipython-input-6-fabb783c8c7b>\u001b[0m in \u001b[0;36m<cell line: 45>\u001b[0;34m()\u001b[0m\n\u001b[1;32m     43\u001b[0m \u001b[0;34m\u001b[0m\u001b[0m\n\u001b[1;32m     44\u001b[0m \u001b[0;31m# Call the BFS function\u001b[0m\u001b[0;34m\u001b[0m\u001b[0;34m\u001b[0m\u001b[0m\n\u001b[0;32m---> 45\u001b[0;31m \u001b[0mBFS\u001b[0m\u001b[0;34m(\u001b[0m\u001b[0mG\u001b[0m\u001b[0;34m,\u001b[0m \u001b[0mstart_vertex\u001b[0m\u001b[0;34m)\u001b[0m\u001b[0;34m\u001b[0m\u001b[0;34m\u001b[0m\u001b[0m\n\u001b[0m\u001b[1;32m     46\u001b[0m \u001b[0;34m\u001b[0m\u001b[0m\n\u001b[1;32m     47\u001b[0m \u001b[0;31m# Print the BFS traversal results\u001b[0m\u001b[0;34m\u001b[0m\u001b[0;34m\u001b[0m\u001b[0m\n",
            "\u001b[0;32m<ipython-input-6-fabb783c8c7b>\u001b[0m in \u001b[0;36mBFS\u001b[0;34m(G, s)\u001b[0m\n\u001b[1;32m     21\u001b[0m \u001b[0;34m\u001b[0m\u001b[0m\n\u001b[1;32m     22\u001b[0m         \u001b[0;32mfor\u001b[0m \u001b[0mv\u001b[0m \u001b[0;32min\u001b[0m \u001b[0mu\u001b[0m\u001b[0;34m[\u001b[0m\u001b[0;34m'adj'\u001b[0m\u001b[0;34m]\u001b[0m\u001b[0;34m:\u001b[0m\u001b[0;34m\u001b[0m\u001b[0;34m\u001b[0m\u001b[0m\n\u001b[0;32m---> 23\u001b[0;31m             \u001b[0;32mif\u001b[0m \u001b[0mv\u001b[0m\u001b[0;34m[\u001b[0m\u001b[0;34m'color'\u001b[0m\u001b[0;34m]\u001b[0m \u001b[0;34m==\u001b[0m \u001b[0;34m'WHITE'\u001b[0m\u001b[0;34m:\u001b[0m\u001b[0;34m\u001b[0m\u001b[0;34m\u001b[0m\u001b[0m\n\u001b[0m\u001b[1;32m     24\u001b[0m                 \u001b[0mv\u001b[0m\u001b[0;34m[\u001b[0m\u001b[0;34m'color'\u001b[0m\u001b[0;34m]\u001b[0m \u001b[0;34m=\u001b[0m \u001b[0;34m'GREY'\u001b[0m\u001b[0;34m\u001b[0m\u001b[0;34m\u001b[0m\u001b[0m\n\u001b[1;32m     25\u001b[0m                 \u001b[0mv\u001b[0m\u001b[0;34m[\u001b[0m\u001b[0;34m'd'\u001b[0m\u001b[0;34m]\u001b[0m \u001b[0;34m=\u001b[0m \u001b[0mu\u001b[0m\u001b[0;34m[\u001b[0m\u001b[0;34m'd'\u001b[0m\u001b[0;34m]\u001b[0m \u001b[0;34m+\u001b[0m \u001b[0;36m1\u001b[0m\u001b[0;34m\u001b[0m\u001b[0;34m\u001b[0m\u001b[0m\n",
            "\u001b[0;31mTypeError\u001b[0m: 'int' object is not subscriptable"
          ]
        }
      ]
    },
    {
      "cell_type": "code",
      "source": [
        "from collections import deque\n",
        "\n",
        "def BFS(G, s):\n",
        "    # Initialize vertices\n",
        "    for v in G.values():\n",
        "        v['color'] = 'WHITE'\n",
        "        v['d'] = float('inf')\n",
        "        v['p'] = None\n",
        "\n",
        "    # Initialize the starting vertex\n",
        "    s['color'] = 'GREY'\n",
        "    s['d'] = 0\n",
        "    s['p'] = None\n",
        "\n",
        "    # Create a queue and enqueue the starting vertex\n",
        "    Q = deque()\n",
        "    Q.append(s)\n",
        "\n",
        "    while Q:\n",
        "        u = Q.popleft()\n",
        "\n",
        "        for v_key in u['adj']:\n",
        "            v = G[v_key]\n",
        "            if v['color'] == 'WHITE':\n",
        "                v['color'] = 'GREY'\n",
        "                v['d'] = u['d'] + 1\n",
        "                v['p'] = u\n",
        "                Q.append(v)\n",
        "\n",
        "        u['color'] = 'BLACK'\n",
        "\n",
        "\n",
        "# Create the graph\n",
        "G = {\n",
        "    1: {'adj': [3], 'color': 'WHITE', 'd': float('inf'), 'p': None},\n",
        "    2: {'adj': [3], 'color': 'WHITE', 'd': float('inf'), 'p': None},\n",
        "    3: {'adj': [1, 2, 4], 'color': 'WHITE', 'd': float('inf'), 'p': None},\n",
        "    4: {'adj': [3], 'color': 'WHITE', 'd': float('inf'), 'p': None}\n",
        "}\n",
        "\n",
        "# Choose the starting vertex\n",
        "start_vertex = G[1]\n",
        "\n",
        "# Call the BFS function\n",
        "BFS(G, start_vertex)\n",
        "\n",
        "# Print the BFS traversal results\n",
        "for v_key, v in G.items():\n",
        "    print(\"Vertex:\", v_key, \"Distance:\", v['d'], \"Predecessor:\", v['p'])\n"
      ],
      "metadata": {
        "colab": {
          "base_uri": "https://localhost:8080/"
        },
        "id": "GONbYeEcF3HZ",
        "outputId": "97f56c2f-ea6a-4166-f8e3-d842c71635c8"
      },
      "execution_count": null,
      "outputs": [
        {
          "output_type": "stream",
          "name": "stdout",
          "text": [
            "Vertex: 1 Distance: 0 Predecessor: None\n",
            "Vertex: 2 Distance: 2 Predecessor: {'adj': [1, 2, 4], 'color': 'BLACK', 'd': 1, 'p': {'adj': [3], 'color': 'BLACK', 'd': 0, 'p': None}}\n",
            "Vertex: 3 Distance: 1 Predecessor: {'adj': [3], 'color': 'BLACK', 'd': 0, 'p': None}\n",
            "Vertex: 4 Distance: 2 Predecessor: {'adj': [1, 2, 4], 'color': 'BLACK', 'd': 1, 'p': {'adj': [3], 'color': 'BLACK', 'd': 0, 'p': None}}\n"
          ]
        }
      ]
    },
    {
      "cell_type": "code",
      "source": [
        "from collections import defaultdict\n",
        "\n",
        "# Create a defaultdict with int as the default factory\n",
        "counter = defaultdict(int)\n",
        "\n",
        "# Increment the count for each element\n",
        "lst = [1, 2, 3, 2, 1, 3, 2, 4, 4, 5]\n",
        "for num in lst:\n",
        "    counter[num] += 1\n",
        "\n",
        "# Print the counts\n",
        "print(counter)\n"
      ],
      "metadata": {
        "colab": {
          "base_uri": "https://localhost:8080/"
        },
        "id": "g7bl6Wq_bnSO",
        "outputId": "eb6d7f1e-25d6-44a6-e048-f6be421ed2d8"
      },
      "execution_count": null,
      "outputs": [
        {
          "output_type": "stream",
          "name": "stdout",
          "text": [
            "defaultdict(<class 'int'>, {1: 2, 2: 3, 3: 2, 4: 2, 5: 1})\n"
          ]
        }
      ]
    },
    {
      "cell_type": "code",
      "source": [
        "from collections import defaultdict\n",
        "\n",
        "# Create a defaultdict with list as the default factory\n",
        "groups = defaultdict(list)\n",
        "\n",
        "# Group words by their lengths\n",
        "words = ['apple', 'banana', 'pear', 'kiwi', 'orange']\n",
        "for word in words:\n",
        "    groups[len(word)].append(word)\n",
        "\n",
        "# Print the groups\n",
        "print(groups)\n"
      ],
      "metadata": {
        "colab": {
          "base_uri": "https://localhost:8080/"
        },
        "id": "FVxqs6shcm27",
        "outputId": "93116404-f51e-4a93-ab96-dc3c1a4ac370"
      },
      "execution_count": null,
      "outputs": [
        {
          "output_type": "stream",
          "name": "stdout",
          "text": [
            "defaultdict(<class 'list'>, {5: ['apple'], 6: ['banana', 'orange'], 4: ['pear', 'kiwi']})\n"
          ]
        }
      ]
    },
    {
      "cell_type": "code",
      "source": [
        "from collections import defaultdict, deque\n",
        "\n",
        "# Function to perform BFS traversal\n",
        "def BFS(graph, start):\n",
        "    visited = set()\n",
        "    queue = deque([start])\n",
        "    visited.add(start)\n",
        "\n",
        "    while queue:\n",
        "        node = queue.popleft()\n",
        "        print(node, end=\" \")\n",
        "\n",
        "        for neighbor in graph[node]:\n",
        "            if neighbor not in visited:\n",
        "                queue.append(neighbor)\n",
        "                visited.add(neighbor)\n",
        "\n",
        "# Read the input\n",
        "N, M = map(int, input().split())\n",
        "graph = defaultdict(list)\n",
        "\n",
        "# Construct the graph\n",
        "for _ in range(M):\n",
        "    u, v = map(int, input().split())\n",
        "    graph[u].append(v)\n",
        "    graph[v].append(u)\n",
        "\n",
        "# Perform BFS traversal starting from city 1\n",
        "BFS(graph, 1)\n"
      ],
      "metadata": {
        "colab": {
          "base_uri": "https://localhost:8080/"
        },
        "id": "h7kbgkmKd5of",
        "outputId": "059c910e-46cc-4eb5-cf9a-d600125adeb7"
      },
      "execution_count": null,
      "outputs": [
        {
          "output_type": "stream",
          "name": "stdout",
          "text": [
            "4 3\n",
            "1 3\n",
            "3 2\n",
            "1 4\n",
            "1 3 4 2 "
          ]
        }
      ]
    },
    {
      "cell_type": "code",
      "source": [
        "x = float('inf') + 3\n",
        "\n",
        "print(x)"
      ],
      "metadata": {
        "colab": {
          "base_uri": "https://localhost:8080/"
        },
        "id": "btSrnc8knjYt",
        "outputId": "4521aba4-7a99-49f8-e1c9-dedfe6384e49"
      },
      "execution_count": null,
      "outputs": [
        {
          "output_type": "stream",
          "name": "stdout",
          "text": [
            "inf\n"
          ]
        }
      ]
    },
    {
      "cell_type": "code",
      "source": [],
      "metadata": {
        "id": "sJ8QmELknsgd"
      },
      "execution_count": null,
      "outputs": []
    }
  ]
}