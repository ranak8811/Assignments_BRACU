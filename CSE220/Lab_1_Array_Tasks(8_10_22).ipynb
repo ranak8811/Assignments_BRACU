{
  "nbformat": 4,
  "nbformat_minor": 0,
  "metadata": {
    "colab": {
      "provenance": [],
      "authorship_tag": "ABX9TyMPHftiL3avo4xgHIVD5Vny",
      "include_colab_link": true
    },
    "kernelspec": {
      "name": "python3",
      "display_name": "Python 3"
    },
    "language_info": {
      "name": "python"
    }
  },
  "cells": [
    {
      "cell_type": "markdown",
      "metadata": {
        "id": "view-in-github",
        "colab_type": "text"
      },
      "source": [
        "<a href=\"https://colab.research.google.com/github/ANWAR8811/ANWAR8811/blob/main/Lab_1_Array_Tasks(8_10_22).ipynb\" target=\"_parent\"><img src=\"https://colab.research.google.com/assets/colab-badge.svg\" alt=\"Open In Colab\"/></a>"
      ]
    },
    {
      "cell_type": "code",
      "execution_count": null,
      "metadata": {
        "colab": {
          "base_uri": "https://localhost:8080/"
        },
        "id": "PIsE0BHu78Aj",
        "outputId": "9829193a-bf9d-467c-bb8a-ff15faf1c7fb"
      },
      "outputs": [
        {
          "output_type": "stream",
          "name": "stdout",
          "text": [
            "[40, 50, 60, 0, 0, 0]\n"
          ]
        }
      ],
      "source": [
        "# Task-1\n",
        "\n",
        "source=[10,20,30,40,50,60]\n",
        "\n",
        "def shiftLeft(s,k):\n",
        "  for j in range(k):\n",
        "    for i in range(len(s)-1):\n",
        "      s[i] = s[i+1]\n",
        "    s[len(s)-1] = 0\n",
        "  print(s)\n",
        "shiftLeft(source,3)"
      ]
    },
    {
      "cell_type": "code",
      "source": [
        "# Task-2\n",
        "\n",
        "source=[10,20,30,40,50,60]\n",
        "\n",
        "def rotateLeft(s,k):\n",
        "  for j in range(k):\n",
        "    a = s[0]\n",
        "    for i in range(len(s)-1):\n",
        "      s[i] = s[i+1]\n",
        "    s[len(s)-1] = a\n",
        "  print(s) \n",
        "rotateLeft(source,3)"
      ],
      "metadata": {
        "colab": {
          "base_uri": "https://localhost:8080/"
        },
        "id": "srR50dbd8mYD",
        "outputId": "a2ccfd40-dce2-4c7c-d918-5235b85fefdb"
      },
      "execution_count": null,
      "outputs": [
        {
          "output_type": "stream",
          "name": "stdout",
          "text": [
            "[40, 50, 60, 10, 20, 30]\n"
          ]
        }
      ]
    },
    {
      "cell_type": "code",
      "source": [
        "# Task-3\n",
        "\n",
        "source=[10,20,30,40,50,60]\n",
        "\n",
        "def shiftRight(s,k):\n",
        "  for j in range(k):\n",
        "    for i in range(len(s)-1,-1,-1):\n",
        "      s[i] = s[i-1]\n",
        "    s[0] = 0\n",
        "  print(s)\n",
        "shiftRight(source,3)"
      ],
      "metadata": {
        "colab": {
          "base_uri": "https://localhost:8080/"
        },
        "id": "eHvuPTwZ83sv",
        "outputId": "b82d226f-18b2-4b8c-8e11-292cd812756b"
      },
      "execution_count": null,
      "outputs": [
        {
          "output_type": "stream",
          "name": "stdout",
          "text": [
            "[0, 0, 0, 10, 20, 30]\n"
          ]
        }
      ]
    },
    {
      "cell_type": "code",
      "source": [
        "# Task-4\n",
        "\n",
        "source=[10,20,30,40,50,60]\n",
        "\n",
        "def rotateRight(s,k):\n",
        "  for j in range(k):\n",
        "    x = s[len(s)-1]\n",
        "    for i in range(len(s)-1,-1,-1):\n",
        "      s[i] = s[i-1]\n",
        "    s[0] = x\n",
        "  print(s)\n",
        "rotateRight(source,3)"
      ],
      "metadata": {
        "colab": {
          "base_uri": "https://localhost:8080/"
        },
        "id": "DUrCJvIk8-2j",
        "outputId": "778b7210-4aab-42e4-9584-204b5b5db09d"
      },
      "execution_count": null,
      "outputs": [
        {
          "output_type": "stream",
          "name": "stdout",
          "text": [
            "[40, 50, 60, 10, 20, 30]\n"
          ]
        }
      ]
    },
    {
      "cell_type": "code",
      "source": [
        "# Task-5\n",
        "\n",
        "source=[10,20,30,40,50,0,0]\n",
        "\n",
        "def remove(s,si,idx):\n",
        "  for i in range(idx, si):\n",
        "    s[i] = s[i+1]\n",
        "  print(s)\n",
        "remove(source,5,2)"
      ],
      "metadata": {
        "colab": {
          "base_uri": "https://localhost:8080/"
        },
        "id": "FWc_iLHy9PQm",
        "outputId": "31d0ebaf-1b99-4233-849f-d34be29e64b1"
      },
      "execution_count": null,
      "outputs": [
        {
          "output_type": "stream",
          "name": "stdout",
          "text": [
            "[10, 20, 40, 50, 0, 0, 0]\n"
          ]
        }
      ]
    },
    {
      "cell_type": "code",
      "source": [
        "# Task-6\n",
        "\n",
        "source=[10,2,30,2,50,2,2,0,0]\n",
        "\n",
        "def removeAll(s,si,e):\n",
        "  i = 0\n",
        "  while i<=si:\n",
        "    if s[i] == e:\n",
        "      for j in range(i, len(s)-1):\n",
        "        s[j] = s[j+1]\n",
        "    else:\n",
        "      i += 1\n",
        "  print(s)\n",
        "removeAll(source,7,2)"
      ],
      "metadata": {
        "colab": {
          "base_uri": "https://localhost:8080/"
        },
        "id": "TIi4n8jP9IbL",
        "outputId": "61494f77-3266-4143-c7d7-4e8a2c7c9b4b"
      },
      "execution_count": null,
      "outputs": [
        {
          "output_type": "stream",
          "name": "stdout",
          "text": [
            "[10, 30, 50, 0, 0, 0, 0, 0, 0]\n"
          ]
        }
      ]
    },
    {
      "cell_type": "code",
      "source": [
        "# Task-7\n",
        "\n",
        "#source= [1, 1, 1, 2, 1]\n",
        "source = [2, 1, 1, 2, 1]\n",
        "\n",
        "def splittingArray(s):\n",
        "  s1 = 0\n",
        "  s2 = 0\n",
        "  flag = 'false'\n",
        "  for i in range(len(s)):\n",
        "    for j in range(i+1):\n",
        "      s1 += s[j]\n",
        "    for k in range(i+1, len(s)):\n",
        "      s2 += s[k]\n",
        "    if s1 == s2:\n",
        "      flag = 'true'\n",
        "    s1 = 0\n",
        "    s2 = 0\n",
        "  return flag\n",
        "x = splittingArray(source)\n",
        "print(x)"
      ],
      "metadata": {
        "colab": {
          "base_uri": "https://localhost:8080/"
        },
        "id": "W8AAuzIi_xuv",
        "outputId": "86241f18-d29a-4d30-c625-b8772c7c16bb"
      },
      "execution_count": null,
      "outputs": [
        {
          "output_type": "stream",
          "name": "stdout",
          "text": [
            "false\n"
          ]
        }
      ]
    },
    {
      "cell_type": "code",
      "source": [
        "# Task-8\n",
        "\n",
        "def sequnce(n):\n",
        "  na = [0]*(n*n)\n",
        "  c = 0\n",
        "  for i in range(1,n+1):\n",
        "    for j in range(n-i):\n",
        "      na[c] = 0\n",
        "      c += 1\n",
        "    for k in range(i, 0, -1):\n",
        "      na[c] = k\n",
        "      c += 1\n",
        "  return na\n",
        "num = int(input())\n",
        "print(sequnce(num))"
      ],
      "metadata": {
        "id": "Q_0FF6uM_0KM"
      },
      "execution_count": null,
      "outputs": []
    },
    {
      "cell_type": "code",
      "source": [
        "# Task-9\n",
        "\n",
        "arr = [1,1,2, 2, 1, 1,1,1] \n",
        "\n",
        "def MaxBunchCount(arr):\n",
        "  c = 0\n",
        "  max = 0\n",
        "  temp = arr[0]\n",
        "  for i in range(len(arr)):\n",
        "    if arr[i] == temp:\n",
        "      c += 1\n",
        "      if max<c:\n",
        "        max = c\n",
        "    else:\n",
        "      temp = arr[i]\n",
        "      c = 1\n",
        "  return max\n",
        "x = MaxBunchCount(arr)\n",
        "print(x)"
      ],
      "metadata": {
        "colab": {
          "base_uri": "https://localhost:8080/"
        },
        "id": "3gjkA2S4AHXd",
        "outputId": "7ba0398a-30e5-4aa3-c427-db281af2ca71"
      },
      "execution_count": null,
      "outputs": [
        {
          "output_type": "stream",
          "name": "stdout",
          "text": [
            "4\n"
          ]
        }
      ]
    },
    {
      "cell_type": "code",
      "source": [
        "# Task-10\n",
        "\n",
        "arr = [3,4,6,3,4,7,4,6,8,6,6]\n",
        "\n",
        "def Repetition(arr):\n",
        "  narr1 = [0]*len(arr)\n",
        "  narr2 = [0]*len(arr)\n",
        "  c1 = 0\n",
        "  c2 = 0\n",
        "  for i in range(len(arr)):\n",
        "    if arr[i] not in narr1:\n",
        "      narr1[c1] = arr[i]\n",
        "      for j in range(len(arr)):\n",
        "        if arr[j] == arr[i]:\n",
        "          c2 += 1\n",
        "      narr2[c1] = c2\n",
        "      c1 += 1\n",
        "      c2 = 0\n",
        "  for k in range(len(narr2)):\n",
        "     if narr2[k]!=0  and narr2[k]!=1:\n",
        "      for a in range(k+1, len(narr2)):\n",
        "          if narr2[k]==narr2[a]:\n",
        "            print(narr1)\n",
        "            print(narr2)\n",
        "            return 'True'\n",
        "  #print(narr1)\n",
        "  #print(narr2)\n",
        "  return 'False'\n",
        "\n",
        "x = Repetition(arr)\n",
        "print(x)"
      ],
      "metadata": {
        "colab": {
          "base_uri": "https://localhost:8080/"
        },
        "id": "rGVmNkMkNLQ3",
        "outputId": "5903276e-bcd8-49fc-bcd2-47d9c320b822"
      },
      "execution_count": null,
      "outputs": [
        {
          "output_type": "stream",
          "name": "stdout",
          "text": [
            "[3, 4, 6, 7, 8, 0, 0, 0, 0, 0, 0]\n",
            "[2, 3, 4, 1, 1, 0, 0, 0, 0, 0, 0]\n",
            "False\n"
          ]
        }
      ]
    },
    {
      "cell_type": "code",
      "source": [
        "# Task-10\n",
        "\n",
        "arr = [3,4,6,3,4,7,4,6,8,6,6]\n",
        "\n",
        "def Repetition(arr):\n",
        "  narr1 = [0]*len(arr)\n",
        "  narr2 = [0]*len(arr)\n",
        "  c1 = 0\n",
        "  c2 = 0\n",
        "  for i in arr:\n",
        "    if i not in narr1:\n",
        "      narr1[c1] = i\n",
        "      for j in range(len(arr)):\n",
        "        if arr[j] == i:\n",
        "          c2 += 1\n",
        "      narr2[c1] = c2\n",
        "      c1 += 1\n",
        "      c2 = 0\n",
        "  for k in range(len(narr2)):\n",
        "     if narr2[k]!=0  and narr2[k]!=1:\n",
        "      for a in range(k+1, len(narr2)):\n",
        "          if narr2[k]==narr2[a]:\n",
        "            print(narr1)\n",
        "            print(narr2)\n",
        "            return 'True'\n",
        "  print(narr1)\n",
        "  print(narr2)\n",
        "  return 'False'\n",
        "\n",
        "x = Repetition(arr)\n",
        "print(x)"
      ],
      "metadata": {
        "colab": {
          "base_uri": "https://localhost:8080/"
        },
        "id": "tDw3IP7qA9ja",
        "outputId": "a10e80f7-43e3-4275-b9f6-f8f576fd149a"
      },
      "execution_count": null,
      "outputs": [
        {
          "output_type": "stream",
          "name": "stdout",
          "text": [
            "[3, 4, 6, 7, 8, 0, 0, 0, 0, 0, 0]\n",
            "[2, 3, 4, 1, 1, 0, 0, 0, 0, 0, 0]\n",
            "False\n"
          ]
        }
      ]
    },
    {
      "cell_type": "code",
      "source": [
        "# Python3 program for Bubble Sort Algorithm Implementation\n",
        "def bubbleSort(arr):\n",
        "     \n",
        "    n = len(arr)\n",
        " \n",
        "    # For loop to traverse through all\n",
        "    # element in an array\n",
        "    for i in range(n):\n",
        "        for j in range(0, n - i - 1):\n",
        "             \n",
        "            # Range of the array is from 0 to n-i-1\n",
        "            # Swap the elements if the element found\n",
        "            #is greater than the adjacent element\n",
        "            if arr[j] > arr[j + 1]:\n",
        "                arr[j], arr[j + 1] = arr[j + 1], arr[j]\n",
        "                 \n",
        "# Driver code\n",
        " \n",
        "# Example to test the above code\n",
        "arr = [ 2, 1, 10, 23 ]\n",
        " \n",
        "bubbleSort(arr)\n",
        " \n",
        "print(\"Sorted array is:\")\n",
        "for i in range(len(arr)):\n",
        "    print(\"%d\" % arr[i])"
      ],
      "metadata": {
        "colab": {
          "base_uri": "https://localhost:8080/"
        },
        "id": "2mlTsNj4OcM-",
        "outputId": "007fd458-c661-4d3f-ddf8-8c2ade09c085"
      },
      "execution_count": null,
      "outputs": [
        {
          "output_type": "stream",
          "name": "stdout",
          "text": [
            "Sorted array is:\n",
            "1\n",
            "2\n",
            "10\n",
            "23\n"
          ]
        }
      ]
    },
    {
      "cell_type": "code",
      "source": [
        "# Selection Sort algorithm in Python\n",
        "def selectionSort(array, size):\n",
        "     \n",
        "    for s in range(size):\n",
        "        min_idx = s\n",
        "         \n",
        "        for i in range(s + 1, size):\n",
        "             \n",
        "            # For sorting in descending order\n",
        "            # for minimum element in each loop\n",
        "            if array[i] < array[min_idx]:\n",
        "                min_idx = i\n",
        " \n",
        "        # Arranging min at the correct position\n",
        "        (array[s], array[min_idx]) = (array[min_idx], array[s])\n",
        " \n",
        "# Driver code\n",
        "data = [ 7, 2, 1, 6 ]\n",
        "size = len(data)\n",
        "selectionSort(data, size)\n",
        " \n",
        "print('Sorted Array in Ascending Order is :')\n",
        "print(data)"
      ],
      "metadata": {
        "id": "vU4WN2mVO3Wu",
        "outputId": "9432810d-33e2-4f5d-e5d2-47ea1b215c92",
        "colab": {
          "base_uri": "https://localhost:8080/"
        }
      },
      "execution_count": null,
      "outputs": [
        {
          "output_type": "stream",
          "name": "stdout",
          "text": [
            "Sorted Array in Ascending Order is :\n",
            "[1, 2, 6, 7]\n"
          ]
        }
      ]
    }
  ]
}