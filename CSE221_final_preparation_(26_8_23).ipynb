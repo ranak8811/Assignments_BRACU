{
  "nbformat": 4,
  "nbformat_minor": 0,
  "metadata": {
    "colab": {
      "provenance": [],
      "authorship_tag": "ABX9TyM+iZ/p1gCpNmZ0STAEf7yl",
      "include_colab_link": true
    },
    "kernelspec": {
      "name": "python3",
      "display_name": "Python 3"
    },
    "language_info": {
      "name": "python"
    }
  },
  "cells": [
    {
      "cell_type": "markdown",
      "metadata": {
        "id": "view-in-github",
        "colab_type": "text"
      },
      "source": [
        "<a href=\"https://colab.research.google.com/github/ranak8811/Assignments_BRACU/blob/main/CSE221_final_preparation_(26_8_23).ipynb\" target=\"_parent\"><img src=\"https://colab.research.google.com/assets/colab-badge.svg\" alt=\"Open In Colab\"/></a>"
      ]
    },
    {
      "cell_type": "code",
      "execution_count": null,
      "metadata": {
        "id": "KAwl3Xx5f0Nh"
      },
      "outputs": [],
      "source": [
        "# Lab - 8    -----> Task - 3\n",
        "\n",
        "inp = open('input.txt', 'r')\n",
        "out = open('output.txt', 'w')\n",
        "\n",
        "n, x = map(int, inp.readline().strip().split())\n",
        "c_d = list(map(int, inp.readline().strip().split()))\n",
        "\n",
        "min_c = [float('inf')] * (x+1)\n",
        "min_c[0] = 0\n",
        "\n",
        "for c in c_d:\n",
        "    for a in range(c, x+1):\n",
        "        if min_c[a - c] + 1 < min_c[a]:\n",
        "            min_c[a] = min_c[a-c] + 1\n",
        "\n",
        "res = '-1' if min_c[x] == float('inf') else min_c[x]\n",
        "out.write(str(res))\n",
        "\n",
        "\n",
        "inp.close()\n",
        "out.close()\n"
      ]
    },
    {
      "cell_type": "code",
      "source": [
        "# Lab - 8    -----> Task - 1\n",
        "\n",
        "inp = open('input.txt', 'r')\n",
        "out = open('output.txt', 'w')\n",
        "\n",
        "n, m = map(int, inp.readline().strip().split())\n",
        "l = [list(map(int, inp.readline().strip().split())) for _ in range(m)]\n",
        "\n",
        "l.sort(key=lambda x: x[2])\n",
        "x = [[i+1] for i in range(n)]\n",
        "mtmc = 0\n",
        "\n",
        "for i in range(len(l)):\n",
        "    a, b, c = l[i]\n",
        "    m = -1\n",
        "    n = -1\n",
        "\n",
        "    for j in range(len(x)):\n",
        "        if a in x[j]:\n",
        "            m = j\n",
        "        if b in x[j]:\n",
        "            n = j\n",
        "\n",
        "    if m != n:\n",
        "        t = x[m] + x[n]\n",
        "        del x[max(m, n)]\n",
        "        del x[min(m, n)]\n",
        "        x.append(t)\n",
        "        mtmc += c\n",
        "\n",
        "out.write(str(mtmc))\n",
        "\n",
        "\n",
        "inp.close()\n",
        "out.close()\n"
      ],
      "metadata": {
        "id": "qKdRAo8J1B85"
      },
      "execution_count": null,
      "outputs": []
    },
    {
      "cell_type": "code",
      "source": [
        "# Lab - 8    -----> Task - 2\n",
        "\n",
        "inp = open('input.txt', 'r')\n",
        "out = open('output.txt', 'w')\n",
        "\n",
        "n = int(inp.readline().strip())\n",
        "\n",
        "memo = {}\n",
        "\n",
        "\n",
        "def find_the_path(n):\n",
        "    if n in memo:\n",
        "        return memo[n]\n",
        "    if n == 0 or n == 1:\n",
        "        return 1\n",
        "    x = find_the_path(n-1) + find_the_path(n-2)\n",
        "    memo[n] = x\n",
        "    return x\n",
        "\n",
        "\n",
        "res = find_the_path(n)\n",
        "out.write(str(res))\n",
        "\n",
        "\n",
        "inp.close()\n",
        "out.close()\n"
      ],
      "metadata": {
        "id": "XN4YTvvu5LI_"
      },
      "execution_count": null,
      "outputs": []
    },
    {
      "cell_type": "code",
      "source": [
        "# Lab - 8    -----> Task - 2\n",
        "\n",
        "inp = open('input.txt', 'r')\n",
        "out = open('output.txt', 'w')\n",
        "\n",
        "n = int(inp.readline().strip())\n",
        "\n",
        "memo = {}\n",
        "\n",
        "def find_the_path(n):\n",
        "    if n in memo:\n",
        "        return memo[n]\n",
        "    if n == 0:\n",
        "        return 1\n",
        "    if n == 1:\n",
        "        return 1\n",
        "    if n == 2:\n",
        "        return 2\n",
        "    x = find_the_path(n-1) + find_the_path(n-2)\n",
        "    memo[n] = x\n",
        "    return x\n",
        "\n",
        "res = find_the_path(n)\n",
        "out.write(str(res))\n",
        "\n",
        "inp.close()\n",
        "out.close()\n"
      ],
      "metadata": {
        "id": "YMWws2FV5NLE"
      },
      "execution_count": null,
      "outputs": []
    },
    {
      "cell_type": "code",
      "source": [
        "# Lab - 7    -----> Task - 1\n",
        "\n",
        "inp = open('input.txt', 'r')\n",
        "out = open('output.txt', 'w')\n",
        "\n",
        "n = int(inp.readline().strip())\n",
        "l = [list(map(int, inp.readline().strip().split())) for _ in range(n)]\n",
        "l.sort(key=lambda x: x[1])\n",
        "\n",
        "res = []\n",
        "end = 0\n",
        "for i in l:\n",
        "    if end <= i[0]:\n",
        "        res.append(i)\n",
        "        end = i[1]\n",
        "f_out = f\"{len(res)}\\n\"\n",
        "for x in res:\n",
        "    s, e = x\n",
        "    f_out += f\"{s} {e}\\n\"\n",
        "\n",
        "out.write(f_out)\n",
        "\n",
        "inp.close()\n",
        "out.close()\n"
      ],
      "metadata": {
        "id": "v1QG1hwEGlsh"
      },
      "execution_count": null,
      "outputs": []
    },
    {
      "cell_type": "code",
      "source": [
        "# Lab - 7    -----> Task - 2\n",
        "\n",
        "inp = open('input.txt', 'r')\n",
        "out = open('output.txt', 'w')\n",
        "\n",
        "n, m = map(int, inp.readline().strip().split())\n",
        "l = [list(map(int, inp.readline().strip().split())) for _ in range(n)]\n",
        "l.sort(key=lambda x: x[1])\n",
        "\n",
        "ct = [0] * m\n",
        "at = 0\n",
        "\n",
        "for x in l:\n",
        "    a = False\n",
        "    for i in range(m):\n",
        "        if not a and ct[i] <= x[0]:\n",
        "            ct[i] = x[1]\n",
        "            a = True\n",
        "            at += 1\n",
        "            break\n",
        "\n",
        "out.write(str(at))\n",
        "\n",
        "\n",
        "inp.close()\n",
        "out.close()\n"
      ],
      "metadata": {
        "id": "ebSSCvZLGwJN"
      },
      "execution_count": null,
      "outputs": []
    },
    {
      "cell_type": "code",
      "source": [
        "# Lab - 7    -----> Task - 3\n",
        "\n",
        "inp = open('input.txt', 'r')\n",
        "out = open('output.txt', 'w')\n",
        "\n",
        "n, m = map(int, inp.readline().strip().split())\n",
        "l = [list(map(int, inp.readline().strip().split())) for _ in range(m)]\n",
        "\n",
        "x = [[i+1] for i in range(n)]\n",
        "s = []\n",
        "\n",
        "for i in range(m):\n",
        "    a, b = l[i]\n",
        "    m = -1\n",
        "    n = -1\n",
        "\n",
        "    for j in range(len(x)):\n",
        "        if a in x[j]:\n",
        "            m = j\n",
        "        if b in x[j]:\n",
        "            n = j\n",
        "\n",
        "    if m != n:\n",
        "        t = x[m] + x[n]\n",
        "        del x[max(m, n)]\n",
        "        del x[min(m, n)]\n",
        "        x.append(t)\n",
        "        s.append(len(t))\n",
        "    else:\n",
        "        s.append(len(x[m]))\n",
        "\n",
        "\n",
        "for i in s:\n",
        "    out.write(str(i)+'\\n')\n",
        "\n",
        "inp.close()\n",
        "out.close()\n"
      ],
      "metadata": {
        "id": "XfVHvcA1Kae5"
      },
      "execution_count": null,
      "outputs": []
    },
    {
      "cell_type": "code",
      "source": [
        "# Lab - 6    -----> Task - 1\n",
        "\n",
        "import heapq\n",
        "\n",
        "inp = open('input.txt', 'r')\n",
        "out = open('output.txt', 'w')\n",
        "\n",
        "n, m = map(int, inp.readline().strip().split())\n",
        "g = {i: {} for i in range(1, n+1)}\n",
        "for _ in range(m):\n",
        "    u, v, w = map(int, inp.readline().strip().split())\n",
        "    g[u][v] = w\n",
        "\n",
        "s = int(inp.readline().strip())\n",
        "\n",
        "\n",
        "def dijkstra(g, s):\n",
        "    d = {v: float('inf') for v in g}\n",
        "    d[s] = 0\n",
        "    p_q = [(0, s)]\n",
        "\n",
        "    while p_q:\n",
        "        cd, cv = heapq.heappop(p_q)\n",
        "\n",
        "        if cd > d[cv]:\n",
        "            continue\n",
        "\n",
        "        for nb, w in g[cv].items():\n",
        "            distance = cd + w\n",
        "\n",
        "            if distance < d[nb]:\n",
        "                d[nb] = distance\n",
        "                heapq.heappush(p_q, (distance, nb))\n",
        "\n",
        "    return d\n",
        "\n",
        "\n",
        "s_d = dijkstra(g, s)\n",
        "\n",
        "for d in s_d.values():\n",
        "    out.write(str(d if d < float('inf') else -1) + ' ')\n",
        "\n",
        "inp.close()\n",
        "out.close()\n"
      ],
      "metadata": {
        "id": "7wdjWsrdUEBZ"
      },
      "execution_count": null,
      "outputs": []
    },
    {
      "cell_type": "code",
      "source": [
        "def mincoins(coins, X):\n",
        "    dp = [float('inf')] * (X + 1)\n",
        "    dp[0] = 0\n",
        "    for i in coins:\n",
        "        for j in range(i, X + 1):\n",
        "            dp[j] = min(dp[j], dp[j - i] + 1)\n",
        "    return dp[X] if dp[X] != float('inf') else -1\n",
        "\n",
        "with open(\"input3.txt\", \"r\") as in3, open(\"Output3.txt\", \"w\") as out3:\n",
        "    N, X = map(int, in3.readline().split())\n",
        "    coins = list(map(int, in3.readline().split()))\n",
        "    out3.write(str(mincoins(coins, X)))\n"
      ],
      "metadata": {
        "id": "2ca2vRLc09BE"
      },
      "execution_count": null,
      "outputs": []
    },
    {
      "cell_type": "code",
      "source": [
        "with open('input1_1.txt', 'r') as iFile, open('output1_1.txt', 'w') as oFile:\n",
        "    n, m = map(int, iFile.readline().split())\n",
        "    coins = list(map(int, iFile.readline().split()))\n",
        "    dp = [float('inf')] * (m + 1)\n",
        "    dp[0] = 0\n",
        "\n",
        "    for i in range(1, m + 1):\n",
        "        for coin in coins:\n",
        "            if i - coin >= 0:\n",
        "                dp[i] = min(dp[i], dp[i - coin] + 1)\n",
        "\n",
        "    if dp[m] == float('inf'):\n",
        "        oFile.write('-1')\n",
        "    else:\n",
        "        oFile.write(str(dp[m]))\n"
      ],
      "metadata": {
        "id": "uo2pIugy1RMt"
      },
      "execution_count": null,
      "outputs": []
    },
    {
      "cell_type": "code",
      "source": [
        "graph = {\n",
        "    0: [1, 2],\n",
        "    1: [3],\n",
        "    2: [3],\n",
        "    3: [4],\n",
        "    4: []\n",
        "}\n",
        "\n",
        "print(len(graph))"
      ],
      "metadata": {
        "colab": {
          "base_uri": "https://localhost:8080/"
        },
        "id": "Ec3U9sdSVUy7",
        "outputId": "18623869-fa02-449c-fc7a-d5eea54f489c"
      },
      "execution_count": null,
      "outputs": [
        {
          "output_type": "stream",
          "name": "stdout",
          "text": [
            "5\n"
          ]
        }
      ]
    },
    {
      "cell_type": "code",
      "source": [
        "graph = {\n",
        "    \"A\": {\"B\": 9, \"D\": 7},\n",
        "    \"B\": {\"C\": 10, \"E\": 9, \"D\": 11},\n",
        "    \"C\": {\"D\": 9, \"E\": 4},\n",
        "    \"D\": {\"F\": 11, \"G\": 12},\n",
        "    \"E\": {\"F\": 8},\n",
        "    \"F\": {\"G\": 7},\n",
        "}\n"
      ],
      "metadata": {
        "id": "DEawVhp6W9Wh"
      },
      "execution_count": null,
      "outputs": []
    },
    {
      "cell_type": "code",
      "source": [
        "def min_coins_to_make_change(n, coin_denominations):\n",
        "    # Initialize M and S arrays\n",
        "    M = [0] * (n + 1)\n",
        "    S = [0] * (n + 1)\n",
        "\n",
        "    for p in range(1, n + 1):\n",
        "        min_coins = float('inf')\n",
        "        coin_used = 0\n",
        "\n",
        "        for i in range(len(coin_denominations)):\n",
        "            coin = coin_denominations[i]\n",
        "            if coin <= p and 1 + M[p - coin] < min_coins:\n",
        "                min_coins = 1 + M[p - coin]\n",
        "                coin_used = i\n",
        "\n",
        "        M[p] = min_coins\n",
        "        S[p] = coin_used\n",
        "\n",
        "    return M, S\n",
        "\n",
        "# Example usage:\n",
        "n = 10  # The amount to make change for\n",
        "coin_denominations = [1, 2, 5]  # Coin denominations available\n",
        "M, S = min_coins_to_make_change(n, coin_denominations)\n",
        "print(\"Minimum number of coins needed to make change:\", M[n])\n",
        "print(\"Coins used for change (0-based index):\", S[1:])\n"
      ],
      "metadata": {
        "colab": {
          "base_uri": "https://localhost:8080/"
        },
        "id": "4eJUjOJI5Faq",
        "outputId": "39a78ca8-b28a-4771-9bf2-fdef47ba0dbd"
      },
      "execution_count": null,
      "outputs": [
        {
          "output_type": "stream",
          "name": "stdout",
          "text": [
            "Minimum number of coins needed to make change: 2\n",
            "Coins used for change (0-based index): [0, 1, 0, 1, 2, 0, 1, 0, 1, 2]\n"
          ]
        }
      ]
    },
    {
      "cell_type": "code",
      "source": [
        "def min_coins_to_make_change(n, coin_denominations):\n",
        "    # Initialize M and S arrays\n",
        "    M = [0] * (n + 1)\n",
        "    S = [0] * (n + 1)\n",
        "\n",
        "    for p in range(1, n + 1):\n",
        "        min_coins = float('inf')\n",
        "        coin_used = 0\n",
        "\n",
        "        for i in range(len(coin_denominations)):\n",
        "            coin = coin_denominations[i]\n",
        "            if coin <= p and 1 + M[p - coin] < min_coins:\n",
        "                min_coins = 1 + M[p - coin]\n",
        "                coin_used = i\n",
        "\n",
        "        M[p] = min_coins\n",
        "        S[p] = coin_used\n",
        "\n",
        "    # Backtrack to find the coins used\n",
        "    used_coins = []\n",
        "    while n > 0:\n",
        "        coin_index = S[n]\n",
        "        used_coins.append(coin_denominations[coin_index])\n",
        "        n -= coin_denominations[coin_index]\n",
        "\n",
        "    return M, used_coins\n",
        "\n",
        "# Example usage:\n",
        "n = 10  # The amount to make change for\n",
        "coin_denominations = [1, 2, 5]  # Coin denominations available\n",
        "M, used_coins = min_coins_to_make_change(n, coin_denominations)\n",
        "print(\"Minimum number of coins needed to make change:\", M[n])\n",
        "print(\"Coins used for change:\", used_coins)\n"
      ],
      "metadata": {
        "colab": {
          "base_uri": "https://localhost:8080/"
        },
        "id": "BzE9ue7p5gwZ",
        "outputId": "d25e0539-4380-49c5-c801-1f2c56a41b83"
      },
      "execution_count": null,
      "outputs": [
        {
          "output_type": "stream",
          "name": "stdout",
          "text": [
            "Minimum number of coins needed to make change: 2\n",
            "Coins used for change: [5, 5]\n"
          ]
        }
      ]
    },
    {
      "cell_type": "code",
      "source": [
        "def min_coins_to_make_change(n, coin_denominations):\n",
        "    # Initialize M and S arrays\n",
        "    M = [0] * (n + 1)\n",
        "    S = [0] * (n + 1)\n",
        "\n",
        "    for p in range(1, n + 1):\n",
        "        min_coins = float('inf')\n",
        "        coin_used = 0\n",
        "\n",
        "        for i in range(len(coin_denominations)):\n",
        "            coin = coin_denominations[i]\n",
        "            if coin <= p and 1 + M[p - coin] < min_coins:\n",
        "                min_coins = 1 + M[p - coin]\n",
        "                coin_used = i\n",
        "\n",
        "        M[p] = min_coins\n",
        "        S[p] = coin_used\n",
        "\n",
        "    # Backtrack to find the coins used\n",
        "    used_coins = []\n",
        "    while n > 0:\n",
        "        coin_index = S[n]\n",
        "        used_coins.append(coin_denominations[coin_index])\n",
        "        n -= coin_denominations[coin_index]\n",
        "\n",
        "    return M[n], used_coins\n",
        "\n",
        "# Example usage:\n",
        "n = 10  # The amount to make change for\n",
        "coin_denominations = [1, 2, 5]  # Coin denominations available\n",
        "min_coins, used_coins = min_coins_to_make_change(n, coin_denominations)\n",
        "print(\"Minimum number of coins needed to make change:\", min_coins)\n",
        "print(\"Coins used for change:\", used_coins)\n"
      ],
      "metadata": {
        "colab": {
          "base_uri": "https://localhost:8080/"
        },
        "id": "3DeiU7E66Lxx",
        "outputId": "3552140d-8a71-4a84-d5cc-573aa9c8a747"
      },
      "execution_count": null,
      "outputs": [
        {
          "output_type": "stream",
          "name": "stdout",
          "text": [
            "Minimum number of coins needed to make change: 0\n",
            "Coins used for change: [5, 5]\n"
          ]
        }
      ]
    },
    {
      "cell_type": "code",
      "source": [
        "def min_coins_to_make_change(n, coin_denominations):\n",
        "    # Initialize M array\n",
        "    M = [0] * (n + 1)\n",
        "\n",
        "    for p in range(1, n + 1):\n",
        "        min_coins = float('inf')\n",
        "\n",
        "        for coin in coin_denominations:\n",
        "            if coin <= p and 1 + M[p - coin] < min_coins:\n",
        "                min_coins = 1 + M[p - coin]\n",
        "\n",
        "        M[p] = min_coins\n",
        "\n",
        "    # Backtrack to find the coins used\n",
        "    used_coins = []\n",
        "    while n > 0:\n",
        "        for coin in coin_denominations:\n",
        "            if n - coin >= 0 and M[n] == 1 + M[n - coin]:\n",
        "                used_coins.append(coin)\n",
        "                n -= coin\n",
        "                break\n",
        "\n",
        "    return M[n], used_coins\n",
        "\n",
        "# Example usage:\n",
        "n = 10  # The amount to make change for\n",
        "coin_denominations = [1, 2, 5]  # Coin denominations available\n",
        "min_coins, used_coins = min_coins_to_make_change(n, coin_denominations)\n",
        "print(\"Minimum number of coins needed to make change:\", min_coins)\n",
        "print(\"Coins used for change:\", used_coins)"
      ],
      "metadata": {
        "colab": {
          "base_uri": "https://localhost:8080/"
        },
        "id": "ure0ssPA7D4H",
        "outputId": "f806ffb4-33ec-42d2-91ef-e862aa8243ca"
      },
      "execution_count": null,
      "outputs": [
        {
          "output_type": "stream",
          "name": "stdout",
          "text": [
            "Minimum number of coins needed to make change: 0\n",
            "Coins used for change: [5, 5]\n"
          ]
        }
      ]
    },
    {
      "cell_type": "code",
      "source": [
        "def min_coins_to_make_change(n, coin_denominations):\n",
        "    # Initialize M array\n",
        "    M = [0] * (n + 1)\n",
        "\n",
        "    for p in range(1, n + 1):\n",
        "        min_coins = float('inf')\n",
        "        coin_used = None\n",
        "\n",
        "        for coin in coin_denominations:\n",
        "            if coin <= p and 1 + M[p - coin] < min_coins:\n",
        "                min_coins = 1 + M[p - coin]\n",
        "                coin_used = coin\n",
        "\n",
        "        M[p] = min_coins\n",
        "\n",
        "    # Backtrack to find the coins used\n",
        "    used_coins = []\n",
        "    while n > 0:\n",
        "        used_coins.append(coin_used)\n",
        "        n -= coin_used\n",
        "        coin_used = None\n",
        "        for coin in coin_denominations:\n",
        "            if n - coin >= 0 and M[n] == 1 + M[n - coin]:\n",
        "                coin_used = coin\n",
        "                break\n",
        "\n",
        "    return M[-1], used_coins\n",
        "\n",
        "# Example usage:\n",
        "n = 10  # The amount to make change for\n",
        "coin_denominations = [1, 2, 5]  # Coin denominations available\n",
        "min_coins, used_coins = min_coins_to_make_change(n, coin_denominations)\n",
        "print(\"Minimum number of coins needed to make change:\", min_coins)\n",
        "print(\"Coins used for change:\", used_coins)\n"
      ],
      "metadata": {
        "id": "0VUZcRFbATrS",
        "outputId": "8af2d6c7-d543-4e7d-ab06-d098bbce357e",
        "colab": {
          "base_uri": "https://localhost:8080/"
        }
      },
      "execution_count": null,
      "outputs": [
        {
          "output_type": "stream",
          "name": "stdout",
          "text": [
            "Minimum number of coins needed to make change: 2\n",
            "Coins used for change: [5, 5]\n"
          ]
        }
      ]
    }
  ]
}