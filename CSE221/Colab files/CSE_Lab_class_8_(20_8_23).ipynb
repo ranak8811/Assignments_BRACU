{
  "nbformat": 4,
  "nbformat_minor": 0,
  "metadata": {
    "colab": {
      "provenance": [],
      "authorship_tag": "ABX9TyP0rC1duDd8AQ/2p9cQgEQ2",
      "include_colab_link": true
    },
    "kernelspec": {
      "name": "python3",
      "display_name": "Python 3"
    },
    "language_info": {
      "name": "python"
    }
  },
  "cells": [
    {
      "cell_type": "markdown",
      "metadata": {
        "id": "view-in-github",
        "colab_type": "text"
      },
      "source": [
        "<a href=\"https://colab.research.google.com/github/ranak8811/Assignments_BRACU/blob/main/CSE_Lab_class_8_(20_8_23).ipynb\" target=\"_parent\"><img src=\"https://colab.research.google.com/assets/colab-badge.svg\" alt=\"Open In Colab\"/></a>"
      ]
    },
    {
      "cell_type": "code",
      "execution_count": null,
      "metadata": {
        "id": "SPg2Bh-C6rz-",
        "colab": {
          "base_uri": "https://localhost:8080/"
        },
        "outputId": "09763a35-8888-402f-adff-a3e01b3a1fd9"
      },
      "outputs": [
        {
          "output_type": "stream",
          "name": "stdout",
          "text": [
            "Dynamic programming\n"
          ]
        }
      ],
      "source": [
        "print(\"Dynamic programming\")"
      ]
    },
    {
      "cell_type": "code",
      "source": [
        "def schedule_intervals(intervals):\n",
        "    n = len(intervals)\n",
        "\n",
        "    # Sort intervals in order of finishing times\n",
        "    sorted_intervals = sorted(intervals, key=lambda x: x[1])\n",
        "\n",
        "    # Create an array S with starting times\n",
        "    S = [interval[0] for interval in sorted_intervals]\n",
        "\n",
        "    A = [0]  # Store the selected intervals\n",
        "    f = sorted_intervals[0][1]  # Initialize finish time\n",
        "\n",
        "    for j in range(1, n):\n",
        "        if S[j] >= f:\n",
        "            A.append(j)\n",
        "            f = sorted_intervals[j][1]\n",
        "\n",
        "    return A\n",
        "\n",
        "# Example usage\n",
        "intervals = [(1, 4), (2, 5), (6, 7), (4, 8), (3, 6)]\n",
        "result = schedule_intervals(intervals)\n",
        "print(result)  # Output: [0, 1, 2]\n"
      ],
      "metadata": {
        "colab": {
          "base_uri": "https://localhost:8080/"
        },
        "id": "8hGi0LdNsu3L",
        "outputId": "503ac285-1da8-44ab-ba49-03353c18358c"
      },
      "execution_count": null,
      "outputs": [
        {
          "output_type": "stream",
          "name": "stdout",
          "text": [
            "[0, 3]\n"
          ]
        }
      ]
    },
    {
      "cell_type": "code",
      "source": [
        "def schedule_intervals(intervals):\n",
        "    n = len(intervals)\n",
        "\n",
        "    # Sort intervals in order of starting times\n",
        "    sorted_intervals = sorted(intervals, key=lambda x: x[0])\n",
        "\n",
        "    resources = [[] for _ in range(n)]  # List of resources, each containing scheduled intervals\n",
        "\n",
        "    m = 0  # Number of resources used\n",
        "\n",
        "    for req in sorted_intervals:\n",
        "        scheduled = False\n",
        "        for j in range(m):\n",
        "            conflict = False\n",
        "            for interval in resources[j]:\n",
        "                if interval[1] > req[0] and req[1] > interval[0]:\n",
        "                    conflict = True\n",
        "                    break\n",
        "            if not conflict:\n",
        "                resources[j].append(req)\n",
        "                scheduled = True\n",
        "                break\n",
        "\n",
        "        if not scheduled:\n",
        "            resources[m].append(req)\n",
        "            m += 1\n",
        "\n",
        "    return resources\n",
        "\n",
        "# Example usage\n",
        "intervals = [(1, 4), (2, 5), (6, 7), (4, 8), (3, 6)]\n",
        "result = schedule_intervals(intervals)\n",
        "for i, resource in enumerate(result):\n",
        "    print(f\"Resource {i+1}: {resource}\")\n"
      ],
      "metadata": {
        "colab": {
          "base_uri": "https://localhost:8080/"
        },
        "id": "RMUYUrrOtKxl",
        "outputId": "4b312fb1-3aa1-4a9b-9622-11d34cf38bfa"
      },
      "execution_count": null,
      "outputs": [
        {
          "output_type": "stream",
          "name": "stdout",
          "text": [
            "Resource 1: [(1, 4), (4, 8)]\n",
            "Resource 2: [(2, 5), (6, 7)]\n",
            "Resource 3: [(3, 6)]\n",
            "Resource 4: []\n",
            "Resource 5: []\n"
          ]
        }
      ]
    },
    {
      "cell_type": "code",
      "source": [
        "def schedule_intervals(intervals):\n",
        "    n = len(intervals)\n",
        "\n",
        "    # Sort intervals in order of finishing times\n",
        "    sorted_intervals = sorted(intervals, key=lambda x: x[1])\n",
        "\n",
        "    # Create an array S with starting times\n",
        "    S = [interval[0] for interval in sorted_intervals]\n",
        "\n",
        "    A = [0]  # Store the selected intervals\n",
        "    f = sorted_intervals[0][1]  # Initialize finish time\n",
        "\n",
        "    for j in range(1, n):\n",
        "        if S[j] >= f:\n",
        "            A.append(j)  # Corrected index\n",
        "            f = sorted_intervals[j][1]\n",
        "\n",
        "    return A\n",
        "\n",
        "# Example usage\n",
        "intervals = [(1, 4), (2, 5), (6, 7), (4, 8), (3, 6)]\n",
        "result = schedule_intervals(intervals)\n",
        "print(result)  # Output: [0, 1, 2]\n"
      ],
      "metadata": {
        "colab": {
          "base_uri": "https://localhost:8080/"
        },
        "id": "94c9A_bYtx_M",
        "outputId": "f05afbe8-9ea5-45e2-8db1-1c5edaca4236"
      },
      "execution_count": null,
      "outputs": [
        {
          "output_type": "stream",
          "name": "stdout",
          "text": [
            "[0, 3]\n"
          ]
        }
      ]
    },
    {
      "cell_type": "code",
      "source": [
        "import heapq\n",
        "\n",
        "numbers = [4, 2, 8, 1, 5, 7]\n",
        "smallest = heapq.nsmallest(3, numbers)\n",
        "largest = heapq.nlargest(2, numbers)\n",
        "\n",
        "print(smallest)  # Output: [1, 2, 4]\n",
        "print(largest)   # Output: [8, 7]\n"
      ],
      "metadata": {
        "colab": {
          "base_uri": "https://localhost:8080/"
        },
        "id": "bpYNPE69HwJG",
        "outputId": "edbc3b1d-514f-406f-85fe-11f3f75b0700"
      },
      "execution_count": null,
      "outputs": [
        {
          "output_type": "stream",
          "name": "stdout",
          "text": [
            "[1, 2, 4]\n",
            "[8, 7]\n"
          ]
        }
      ]
    },
    {
      "cell_type": "code",
      "source": [
        "import heapq\n",
        "\n",
        "sequence1 = [1, 4, 7]\n",
        "sequence2 = [2, 5, 6]\n",
        "sequence3 = [3, 8, 9]\n",
        "\n",
        "merged = heapq.merge(sequence1, sequence2, sequence3)\n",
        "\n",
        "print(list(merged))  # Output: [1, 2, 3, 4, 5, 6, 7, 8, 9]\n"
      ],
      "metadata": {
        "colab": {
          "base_uri": "https://localhost:8080/"
        },
        "id": "M_xM8onNH-jV",
        "outputId": "07c07e4d-cb18-4439-e591-cab93f5b5b32"
      },
      "execution_count": null,
      "outputs": [
        {
          "output_type": "stream",
          "name": "stdout",
          "text": [
            "[1, 2, 3, 4, 5, 6, 7, 8, 9]\n"
          ]
        }
      ]
    },
    {
      "cell_type": "code",
      "source": [
        "import heapq\n",
        "\n",
        "class PriorityQueue:\n",
        "    def __init__(self):\n",
        "        self._queue = []\n",
        "\n",
        "    def push(self, item, priority):\n",
        "        heapq.heappush(self._queue, (priority, item))\n",
        "\n",
        "    def pop(self):\n",
        "        return heapq.heappop(self._queue)[1]\n",
        "\n",
        "pq = PriorityQueue()\n",
        "pq.push(\"task1\", 3)\n",
        "pq.push(\"task2\", 1)\n",
        "pq.push(\"task3\", 2)\n",
        "\n",
        "print(pq.pop())  # Output: \"task2\"\n",
        "\n",
        "print(pq._queue)\n",
        "\n",
        "print(pq.pop())"
      ],
      "metadata": {
        "colab": {
          "base_uri": "https://localhost:8080/"
        },
        "id": "15xgH_fuIULD",
        "outputId": "3a61ea8e-6a60-4452-927c-e57a0e3612d0"
      },
      "execution_count": null,
      "outputs": [
        {
          "output_type": "stream",
          "name": "stdout",
          "text": [
            "task2\n",
            "[(2, 'task3'), (3, 'task1')]\n",
            "task3\n"
          ]
        }
      ]
    },
    {
      "cell_type": "code",
      "source": [
        "import heapq\n",
        "\n",
        "numbers = [4, 2, 8, 1, 5, 7]\n",
        "heapq.heapify(numbers)  # Convert the list into a min heap\n",
        "\n",
        "smallest = heapq.heappop(numbers)\n",
        "\n",
        "print(smallest)  # Output: 1\n"
      ],
      "metadata": {
        "colab": {
          "base_uri": "https://localhost:8080/"
        },
        "id": "4OmXKhbAJGPl",
        "outputId": "c6abaa90-91b2-49f9-becb-6bdb0bb4b270"
      },
      "execution_count": null,
      "outputs": [
        {
          "output_type": "stream",
          "name": "stdout",
          "text": [
            "1\n"
          ]
        }
      ]
    },
    {
      "cell_type": "code",
      "source": [
        "# Sample graph\n",
        "graph = ['A', 'B', 'C', 'D']\n",
        "\n",
        "# Initialize distances dictionary with all distances set to positive infinity\n",
        "distances = {vertex: float('infinity') for vertex in graph}\n",
        "\n",
        "print(distances)\n"
      ],
      "metadata": {
        "colab": {
          "base_uri": "https://localhost:8080/"
        },
        "id": "EDOhoL6pKM7h",
        "outputId": "11b8306b-445f-4c19-ae68-cc2230d56d61"
      },
      "execution_count": null,
      "outputs": [
        {
          "output_type": "stream",
          "name": "stdout",
          "text": [
            "{'A': inf, 'B': inf, 'C': inf, 'D': inf}\n"
          ]
        }
      ]
    },
    {
      "cell_type": "code",
      "source": [
        "import heapq\n",
        "\n",
        "class PriorityQueue:\n",
        "    def __init__(self):\n",
        "        self.elements = []\n",
        "\n",
        "    def put(self, item, priority):\n",
        "        heapq.heappush(self.elements, (priority, item))\n",
        "\n",
        "    def get(self):\n",
        "        return heapq.heappop(self.elements)[1]\n",
        "\n",
        "    def empty(self):\n",
        "        return len(self.elements) == 0\n",
        "\n",
        "# Sample graph represented as an adjacency list\n",
        "graph = {\n",
        "    'A': [('B', 5), ('C', 3)],\n",
        "    'B': [('A', 5), ('C', 2), ('D', 8)],\n",
        "    'C': [('A', 3), ('B', 2), ('D', 6)],\n",
        "    'D': [('B', 8), ('C', 6)]\n",
        "}\n",
        "\n",
        "# Dijkstra's algorithm using Priority Queue\n",
        "def dijkstra(graph, start):\n",
        "    distances = {vertex: float('infinity') for vertex in graph}\n",
        "    distances[start] = 0\n",
        "    priority_queue = PriorityQueue()\n",
        "    priority_queue.put(start, 0)\n",
        "\n",
        "    while not priority_queue.empty():\n",
        "        current_vertex = priority_queue.get()\n",
        "\n",
        "        for neighbor, weight in graph[current_vertex]:\n",
        "            new_distance = distances[current_vertex] + weight\n",
        "            if new_distance < distances[neighbor]:\n",
        "                distances[neighbor] = new_distance\n",
        "                priority_queue.put(neighbor, new_distance)\n",
        "\n",
        "    return distances\n",
        "\n",
        "# Calculate shortest distances from vertex 'A'\n",
        "shortest_distances = dijkstra(graph, 'A')\n",
        "\n",
        "for vertex, distance in shortest_distances.items():\n",
        "    print(f\"Shortest distance from A to {vertex}: {distance}\")"
      ],
      "metadata": {
        "colab": {
          "base_uri": "https://localhost:8080/"
        },
        "id": "Kdon_8N7Lste",
        "outputId": "488fc7c1-53c7-4a7e-f957-1a24d384bba9"
      },
      "execution_count": null,
      "outputs": [
        {
          "output_type": "stream",
          "name": "stdout",
          "text": [
            "Shortest distance from A to A: 0\n",
            "Shortest distance from A to B: 5\n",
            "Shortest distance from A to C: 3\n",
            "Shortest distance from A to D: 9\n"
          ]
        }
      ]
    },
    {
      "cell_type": "code",
      "source": [
        "import heapq\n",
        "\n",
        "# Creating a list of elements\n",
        "data = [3, 1, 4, 1, 5, 9, 2, 6, 5, 3, 5]\n",
        "\n",
        "# Converting the list into a min-heap\n",
        "heapq.heapify(data)\n",
        "\n",
        "print(data)"
      ],
      "metadata": {
        "colab": {
          "base_uri": "https://localhost:8080/"
        },
        "id": "vAZD4J8rPNvT",
        "outputId": "bbbccbab-720a-4eb1-99e2-08b67dc4569f"
      },
      "execution_count": null,
      "outputs": [
        {
          "output_type": "stream",
          "name": "stdout",
          "text": [
            "[1, 1, 2, 3, 3, 9, 4, 6, 5, 5, 5]\n"
          ]
        }
      ]
    },
    {
      "cell_type": "code",
      "source": [
        "import heapq\n",
        "\n",
        "# Creating a list of elements\n",
        "data = [3, 1, 4, 1, 5, 9, 2, 6, 5, 3, 5]\n",
        "\n",
        "# Converting the list into a min-heap\n",
        "heapq.heapify(data)\n",
        "\n",
        "# Pop elements from the heap in ascending order (min-heap property)\n",
        "while data:\n",
        "    smallest = heapq.heappop(data)\n",
        "    print(smallest)\n"
      ],
      "metadata": {
        "colab": {
          "base_uri": "https://localhost:8080/"
        },
        "id": "hkmLnNd0PPy2",
        "outputId": "9cf70eb2-2825-4331-98e1-c7ba18d34176"
      },
      "execution_count": null,
      "outputs": [
        {
          "output_type": "stream",
          "name": "stdout",
          "text": [
            "1\n",
            "1\n",
            "2\n",
            "3\n",
            "3\n",
            "4\n",
            "5\n",
            "5\n",
            "5\n",
            "6\n",
            "9\n"
          ]
        }
      ]
    },
    {
      "cell_type": "code",
      "source": [
        "import heapq\n",
        "\n",
        "# Create an empty list to serve as a priority queue\n",
        "priority_queue = []\n",
        "\n",
        "# Add elements to the priority queue\n",
        "heapq.heappush(priority_queue, 10)\n",
        "heapq.heappush(priority_queue, 5)\n",
        "heapq.heappush(priority_queue, 15)\n",
        "heapq.heappush(priority_queue, 3)\n",
        "\n",
        "print(priority_queue)"
      ],
      "metadata": {
        "colab": {
          "base_uri": "https://localhost:8080/"
        },
        "id": "MqAs7YU-Pykk",
        "outputId": "676dc1d9-3182-4164-e4e6-c8084743a085"
      },
      "execution_count": null,
      "outputs": [
        {
          "output_type": "stream",
          "name": "stdout",
          "text": [
            "[3, 5, 15, 10]\n"
          ]
        }
      ]
    },
    {
      "cell_type": "code",
      "source": [
        "import heapq\n",
        "\n",
        "# Create an empty list to serve as a priority queue\n",
        "priority_queue = []\n",
        "\n",
        "# Add elements to the priority queue\n",
        "heapq.heappush(priority_queue, 10)\n",
        "heapq.heappush(priority_queue, 5)\n",
        "heapq.heappush(priority_queue, 15)\n",
        "heapq.heappush(priority_queue, 3)\n",
        "\n",
        "# Keep the priority queue limited to a fixed size\n",
        "MAX_SIZE = 3\n",
        "\n",
        "if len(priority_queue) > MAX_SIZE:\n",
        "    heapq.heappop(priority_queue)\n",
        "\n",
        "print(priority_queue)  # Output: [5, 10, 15]\n"
      ],
      "metadata": {
        "colab": {
          "base_uri": "https://localhost:8080/"
        },
        "id": "XAWXy9xoQFBT",
        "outputId": "e53c2b19-e5c4-4685-f86b-affa82409588"
      },
      "execution_count": null,
      "outputs": [
        {
          "output_type": "stream",
          "name": "stdout",
          "text": [
            "[5, 10, 15]\n"
          ]
        }
      ]
    },
    {
      "cell_type": "code",
      "source": [
        "import heapq\n",
        "\n",
        "priority_queue = []\n",
        "\n",
        "# Add items with priorities to the priority queue\n",
        "start = \"A\"\n",
        "data1 = (\"B\", 3)\n",
        "data2 = (\"C\", 1)\n",
        "data3 = (\"D\", 5)\n",
        "data4 = (\"E\", 2)\n",
        "\n",
        "heapq.heappush(priority_queue, (0, start))\n",
        "heapq.heappush(priority_queue, (data1[1], data1[0]))  # Use data1[1] as the priority\n",
        "heapq.heappush(priority_queue, (data2[1], data2[0]))  # Use data2[1] as the priority\n",
        "heapq.heappush(priority_queue, (data3[1], data3[0]))  # Use data3[1] as the priority\n",
        "heapq.heappush(priority_queue, (data4[1], data4[0]))  # Use data4[1] as the priority\n",
        "\n",
        "while priority_queue:\n",
        "    priority, item = heapq.heappop(priority_queue)\n",
        "    print(f\"Item: {item}, Priority: {priority}\")\n"
      ],
      "metadata": {
        "colab": {
          "base_uri": "https://localhost:8080/"
        },
        "id": "PzSM0YZlQ33t",
        "outputId": "28b763e6-4fb7-4f3a-c5a1-9bf34229b999"
      },
      "execution_count": null,
      "outputs": [
        {
          "output_type": "stream",
          "name": "stdout",
          "text": [
            "Item: A, Priority: 0\n",
            "Item: C, Priority: 1\n",
            "Item: E, Priority: 2\n",
            "Item: B, Priority: 3\n",
            "Item: D, Priority: 5\n"
          ]
        }
      ]
    },
    {
      "cell_type": "code",
      "source": [
        "# Suppose you have a graph represented as a dictionary\n",
        "graph = {\n",
        "    'A': {'B': 2, 'C': 5},\n",
        "    'B': {'C': 1, 'D': 3},\n",
        "    'C': {'D': 2},\n",
        "    'D': {}\n",
        "}\n",
        "\n",
        "# Initialize distances with positive infinity for all nodes\n",
        "distances = {node: float('inf') for node in graph}\n",
        "print(distances)\n",
        "# Output: {'A': inf, 'B': inf, 'C': inf, 'D': inf}\n"
      ],
      "metadata": {
        "colab": {
          "base_uri": "https://localhost:8080/"
        },
        "id": "W568cBUOXilp",
        "outputId": "2a26d8c7-9aac-4920-9741-dcbecadaec2a"
      },
      "execution_count": null,
      "outputs": [
        {
          "output_type": "stream",
          "name": "stdout",
          "text": [
            "{'A': inf, 'B': inf, 'C': inf, 'D': inf}\n"
          ]
        }
      ]
    },
    {
      "cell_type": "code",
      "source": [
        "import heapq\n",
        "\n",
        "# Suppose you want to create a priority queue for nodes with associated priorities\n",
        "nodes = ['A', 'B', 'C', 'D']\n",
        "priority_queue = [(float('inf'), node) for node in nodes]\n",
        "print(priority_queue)\n",
        "# Output: [(inf, 'A'), (inf, 'B'), (inf, 'C'), (inf, 'D')]\n"
      ],
      "metadata": {
        "colab": {
          "base_uri": "https://localhost:8080/"
        },
        "id": "IgouG2rRXsou",
        "outputId": "69723cfd-3ef2-47ef-ab45-8fe7c65c8705"
      },
      "execution_count": null,
      "outputs": [
        {
          "output_type": "stream",
          "name": "stdout",
          "text": [
            "[(inf, 'A'), (inf, 'B'), (inf, 'C'), (inf, 'D')]\n"
          ]
        }
      ]
    },
    {
      "cell_type": "code",
      "source": [
        "# Suppose you're working with a 2D grid and you want to initialize distances for cells\n",
        "grid = [\n",
        "    [0, 1, 0, 0],\n",
        "    [0, 0, 1, 0],\n",
        "    [1, 0, 0, 0],\n",
        "    [0, 0, 0, 0]\n",
        "]\n",
        "\n",
        "# Initialize distances with positive infinity for all cells\n",
        "distances = {(row, col): float('inf') for row in range(len(grid)) for col in range(len(grid[0]))}\n",
        "print(distances)\n",
        "# Output: {(0, 0): inf, (0, 1): inf, (0, 2): inf, ...}\n"
      ],
      "metadata": {
        "colab": {
          "base_uri": "https://localhost:8080/"
        },
        "id": "NLLHGS5OX5ZI",
        "outputId": "576a7e36-ff42-47c2-baf6-2e8bd0ccf48f"
      },
      "execution_count": null,
      "outputs": [
        {
          "output_type": "stream",
          "name": "stdout",
          "text": [
            "{(0, 0): inf, (0, 1): inf, (0, 2): inf, (0, 3): inf, (1, 0): inf, (1, 1): inf, (1, 2): inf, (1, 3): inf, (2, 0): inf, (2, 1): inf, (2, 2): inf, (2, 3): inf, (3, 0): inf, (3, 1): inf, (3, 2): inf, (3, 3): inf}\n"
          ]
        }
      ]
    },
    {
      "cell_type": "code",
      "source": [
        "N = 4\n",
        "prerequisites = [(1, 2), (2, 3), (4, 3)]\n",
        "\n",
        "graph = {i: [] for i in range(1, N + 1)}\n",
        "for A, B in prerequisites:\n",
        "    graph[A].append(B)\n",
        "\n",
        "# Print the graph\n",
        "for node, neighbors in graph.items():\n",
        "    print(f\"Node {node}: {neighbors}\")\n"
      ],
      "metadata": {
        "colab": {
          "base_uri": "https://localhost:8080/"
        },
        "id": "W4kCEkGUgLUN",
        "outputId": "1b8560a3-f99c-4c64-c0e9-80eb5d45e12f"
      },
      "execution_count": null,
      "outputs": [
        {
          "output_type": "stream",
          "name": "stdout",
          "text": [
            "Node 1: [2]\n",
            "Node 2: [3]\n",
            "Node 3: []\n",
            "Node 4: [3]\n"
          ]
        }
      ]
    },
    {
      "cell_type": "code",
      "source": [
        "print(\"nai\")\n",
        "print(\"nai\")\n",
        "print(\"nai\")"
      ],
      "metadata": {
        "id": "mhnYaZKphyCr"
      },
      "execution_count": null,
      "outputs": []
    },
    {
      "cell_type": "code",
      "source": [
        "class Person:\n",
        "    def __init__(self, name, age):\n",
        "        self.name = name\n",
        "        self.age = age\n",
        "\n",
        "people = [Person('Alice', 25), Person('Bob', 30), Person('Charlie', 22)]\n",
        "result = ', '.join([person.name for person in people])  # Join person names with a comma and space separator\n",
        "print(result)  # Output: Alice, Bob, Charlie\n"
      ],
      "metadata": {
        "id": "gazR_fUNjS4o",
        "outputId": "f3d54374-c07d-44cb-a4ee-8f12405e0235",
        "colab": {
          "base_uri": "https://localhost:8080/"
        }
      },
      "execution_count": null,
      "outputs": [
        {
          "output_type": "stream",
          "name": "stdout",
          "text": [
            "Alice, Bob, Charlie\n"
          ]
        }
      ]
    },
    {
      "cell_type": "code",
      "source": [
        "#task2 of lab 7\n",
        "\n",
        "ip = open(\"input2_4.txt\", \"r\")\n",
        "op = open(\"output2_4.txt\", \"w\")\n",
        "n,m = map(int,ip.readline().split())\n",
        "\n",
        "def max_task(n,m,schedule):\n",
        "  end = [0]*m\n",
        "  task = 0\n",
        "\n",
        "  for i in range(0,len(schedule)):\n",
        "    for j in range(i+1, len(schedule)):\n",
        "      if schedule[i][1] >= schedule[j][1]:\n",
        "        schedule[i], schedule[j] = schedule[j] , schedule[i]\n",
        "\n",
        "  for i in range(n):\n",
        "    for j in range(m):\n",
        "      if end[j] <= schedule[i][0]:\n",
        "        end[j] = schedule[i][1]\n",
        "        task+=1\n",
        "        break\n",
        "  return task\n",
        "\n",
        "\n",
        "schedule = []\n",
        "for task in range(n):\n",
        "  start,end = map(int,ip.readline().split())\n",
        "  schedule.append((start,end))\n",
        "x = max_task(n,m, schedule)\n",
        "\n",
        "print(schedule)\n",
        "\n",
        "print(x, file = op)\n",
        "op.close()\n"
      ],
      "metadata": {
        "id": "GmZkjAsqcy54"
      },
      "execution_count": null,
      "outputs": []
    },
    {
      "cell_type": "code",
      "source": [
        "inp = open('input3.txt', 'r')\n",
        "out = open('output3.txt', 'w')\n",
        "\n",
        "n, x = map(int, inp.readline().strip().split())\n",
        "cl = list(map(int, inp.readline().strip().split()))\n",
        "\n",
        "# Initialize an array to store minimum number of coins for each amount\n",
        "dp = [float('inf')] * (x + 1)\n",
        "dp[0] = 0\n",
        "\n",
        "for coin in cl:\n",
        "    for amount in range(coin, x + 1):\n",
        "        dp[amount] = min(dp[amount], dp[amount - coin] + 1)\n",
        "\n",
        "if dp[x] == float('inf'):\n",
        "    out.write(\"-1\")\n",
        "else:\n",
        "    out.write(str(dp[x]))\n",
        "\n",
        "inp.close()\n",
        "out.close()\n"
      ],
      "metadata": {
        "id": "woKvpF_RtTf8"
      },
      "execution_count": null,
      "outputs": []
    },
    {
      "cell_type": "code",
      "source": [
        "# giving wrong answer\n",
        "\n",
        "inp = open('input3.txt', 'r')\n",
        "out = open('output3.txt', 'w')\n",
        "\n",
        "n, x = map(int, inp.readline().strip().split())\n",
        "cl = list(map(int, inp.readline().strip().split()))\n",
        "cl.sort(reverse=True)\n",
        "\n",
        "c = 0\n",
        "i = 0\n",
        "\n",
        "while x > 0 and i < n:\n",
        "    if x >= cl[i]:\n",
        "        num_coins = x // cl[i]\n",
        "        c += num_coins\n",
        "        x -= num_coins * cl[i]\n",
        "    i += 1\n",
        "\n",
        "if x == 0:\n",
        "    out.write(str(c))\n",
        "else:\n",
        "    out.write(\"-1\")\n",
        "\n",
        "inp.close()\n",
        "out.close()\n"
      ],
      "metadata": {
        "id": "AFGFl58btVTd"
      },
      "execution_count": null,
      "outputs": []
    },
    {
      "cell_type": "code",
      "source": [
        "def greedy_coin_change(coin_denominations, target_amount):\n",
        "    coin_denominations.sort(reverse=True)  # Sort in descending order\n",
        "    num_coins = 0\n",
        "\n",
        "    for coin in coin_denominations:\n",
        "        while target_amount >= coin:\n",
        "            target_amount -= coin\n",
        "            num_coins += 1\n",
        "\n",
        "    if target_amount == 0:\n",
        "        return num_coins\n",
        "    else:\n",
        "        return -1\n",
        "\n",
        "n, x = map(int, input().split())  # Read n and x\n",
        "coin_denominations = list(map(int, input().split()))  # Read coin denominations\n",
        "result = greedy_coin_change(coin_denominations, x)  # Call the greedy solution\n",
        "\n",
        "if result == -1:\n",
        "    print(\"It's not possible to make the target amount.\")\n",
        "else:\n",
        "    print(\"Minimum coins needed:\", result)\n"
      ],
      "metadata": {
        "colab": {
          "base_uri": "https://localhost:8080/"
        },
        "id": "xnP2R5F4Hf2I",
        "outputId": "658a71d1-cfb7-4427-b0a0-3daa72cedfb8"
      },
      "execution_count": null,
      "outputs": [
        {
          "output_type": "stream",
          "name": "stdout",
          "text": [
            "3 11\n",
            "1 2 5\n",
            "Minimum coins needed: 3\n"
          ]
        }
      ]
    },
    {
      "cell_type": "code",
      "source": [
        "def dynamic_coin_change(coin_denominations, target_amount):\n",
        "    dp = [float('inf')] * (target_amount + 1)\n",
        "    dp[0] = 0\n",
        "\n",
        "    for amount in range(1, target_amount + 1):\n",
        "        for coin in coin_denominations:\n",
        "            if amount >= coin:\n",
        "                dp[amount] = min(dp[amount], dp[amount - coin] + 1)\n",
        "\n",
        "    return dp[target_amount]\n",
        "\n",
        "n, x = map(int, input().split())  # Read n and x\n",
        "coin_denominations = list(map(int, input().split()))  # Read coin denominations\n",
        "result = dynamic_coin_change(coin_denominations, x)  # Call the dynamic programming solution\n",
        "\n",
        "if result == float('inf'):\n",
        "    print(\"It's not possible to make the target amount.\")\n",
        "else:\n",
        "    print(\"Minimum coins needed:\", result)\n"
      ],
      "metadata": {
        "colab": {
          "base_uri": "https://localhost:8080/"
        },
        "id": "291Xn0yYIBPI",
        "outputId": "cc21a2b1-fa98-4bd8-b8b5-a418700d8d60"
      },
      "execution_count": null,
      "outputs": [
        {
          "output_type": "stream",
          "name": "stdout",
          "text": [
            "2 11\n",
            "2 5\n",
            "Minimum coins needed: 4\n"
          ]
        }
      ]
    },
    {
      "cell_type": "code",
      "source": [
        "# Dictionary to store the results of already computed Fibonacci numbers\n",
        "memo = {}\n",
        "\n",
        "def fibonacci(n):           # Top-down technique\n",
        "    if n in memo:\n",
        "        return memo[n]\n",
        "\n",
        "    if n <= 1:\n",
        "        return n\n",
        "\n",
        "    # Calculate and store the result in the memo dictionary\n",
        "    memo[n] = fibonacci(n - 1) + fibonacci(n - 2)\n",
        "    return memo[n]\n",
        "\n",
        "# Input the desired Fibonacci number\n",
        "n = int(input(\"Enter the value of n: \"))\n",
        "\n",
        "# Calculate and output the Fibonacci number\n",
        "result = fibonacci(n)\n",
        "print(f\"Fibonacci({n}) =\", result)\n"
      ],
      "metadata": {
        "colab": {
          "base_uri": "https://localhost:8080/"
        },
        "id": "dRe5sPL40sOA",
        "outputId": "6edb3fa9-7bd6-4cd5-a04f-883852e4efef"
      },
      "execution_count": null,
      "outputs": [
        {
          "output_type": "stream",
          "name": "stdout",
          "text": [
            "Enter the value of n: 7\n",
            "Fibonacci(7) = 13\n"
          ]
        }
      ]
    },
    {
      "cell_type": "code",
      "source": [
        "def fibonacci(n):           # Bottom-up technique\n",
        "    if n <= 1:\n",
        "        return n\n",
        "\n",
        "    # Create an array to store Fibonacci numbers\n",
        "    fib = [0] * (n + 1)\n",
        "    fib[1] = 1\n",
        "\n",
        "    # Calculate Fibonacci numbers from 2 to n\n",
        "    for i in range(2, n + 1):\n",
        "        fib[i] = fib[i - 1] + fib[i - 2]\n",
        "\n",
        "    return fib[n]\n",
        "\n",
        "# Input the desired Fibonacci number\n",
        "n = int(input(\"Enter the value of n: \"))\n",
        "\n",
        "# Calculate and output the Fibonacci number\n",
        "result = fibonacci(n)\n",
        "print(f\"Fibonacci({n}) =\", result)\n"
      ],
      "metadata": {
        "colab": {
          "base_uri": "https://localhost:8080/"
        },
        "id": "A4ZbYUHV09J0",
        "outputId": "7954708f-3266-480f-a695-583f64ee31a5"
      },
      "execution_count": 1,
      "outputs": [
        {
          "output_type": "stream",
          "name": "stdout",
          "text": [
            "Enter the value of n: 6\n",
            "Fibonacci(6) = 8\n"
          ]
        }
      ]
    },
    {
      "cell_type": "code",
      "source": [
        "def coin_change(coins, amount):\n",
        "    solution = [[0 for i in range(amount + 1)] for j in range(len(coins) + 1)]\n",
        "\n",
        "    for i in range(len(coins) + 1):\n",
        "        for j in range(amount + 1):\n",
        "            if j == 0:\n",
        "                solution[i][j] = 0\n",
        "            elif i == 0:\n",
        "                solution[i][j] = float(\"inf\")\n",
        "            else:\n",
        "                solution[i][j] = min(solution[i - 1][j], solution[i][j - coins[i - 1]] + 1)\n",
        "\n",
        "    return solution[len(coins)][amount]\n",
        "\n",
        "\n",
        "def main():\n",
        "    coins = [1, 2, 6]\n",
        "    amount = 11\n",
        "\n",
        "    print(coin_change(coins, amount))\n",
        "\n",
        "\n",
        "if __name__ == \"__main__\":\n",
        "    main()\n"
      ],
      "metadata": {
        "id": "fcD0rBIircf6",
        "outputId": "3e012adf-61d5-478d-f68f-501e56c15f4f",
        "colab": {
          "base_uri": "https://localhost:8080/"
        }
      },
      "execution_count": null,
      "outputs": [
        {
          "output_type": "stream",
          "name": "stdout",
          "text": [
            "3\n"
          ]
        }
      ]
    },
    {
      "cell_type": "code",
      "source": [
        "class Parent1:\n",
        "    def __init__(self):\n",
        "        print(\"Parent1 init\")\n",
        "\n",
        "class Parent2:\n",
        "    def __init__(self):\n",
        "        print(\"Parent2 init\")\n",
        "\n",
        "class Child(Parent1, Parent2):\n",
        "    def __init__(self):\n",
        "        super().__init__()  # Calls the constructor of Parent1\n",
        "        Parent2.__init__(self)  # Calls the constructor of Parent2\n",
        "        print(\"Child init\")\n",
        "\n",
        "child = Child()\n",
        "# Output:\n",
        "# Parent1 init\n",
        "# Parent2 init\n",
        "# Child init\n"
      ],
      "metadata": {
        "colab": {
          "base_uri": "https://localhost:8080/"
        },
        "id": "ZNX8P6gh8mbx",
        "outputId": "98fdc8b9-1d36-4f35-c5c8-407bdc1d7f84"
      },
      "execution_count": null,
      "outputs": [
        {
          "output_type": "stream",
          "name": "stdout",
          "text": [
            "Parent1 init\n",
            "Parent2 init\n",
            "Child init\n"
          ]
        }
      ]
    },
    {
      "cell_type": "code",
      "source": [
        "# Creating a dictionary\n",
        "my_dict = {'apple': 5, 'banana': 3, 'cherry': 7}\n",
        "\n",
        "# Using get() to retrieve values\n",
        "apple_count = my_dict.get('apple', 0)  # Existing key, returns 5\n",
        "mango_count = my_dict.get('mango', 0)  # Non-existing key, returns 0 as specified\n",
        "\n",
        "print(apple_count)  # Output: 5\n",
        "print(mango_count)  # Output: 0\n"
      ],
      "metadata": {
        "colab": {
          "base_uri": "https://localhost:8080/"
        },
        "id": "CUPZuDw68qp7",
        "outputId": "7e9a6495-4578-426c-ae70-92bc61aacc85"
      },
      "execution_count": null,
      "outputs": [
        {
          "output_type": "stream",
          "name": "stdout",
          "text": [
            "5\n",
            "0\n"
          ]
        }
      ]
    },
    {
      "cell_type": "code",
      "source": [
        "# Creating a dictionary\n",
        "my_dict = {'apple': 5, 'banana': 3}\n",
        "\n",
        "# Using setdefault() to set key-value pairs\n",
        "my_dict.setdefault('cherry', 7)  # Adds 'cherry': 7 since it doesn't exist\n",
        "my_dict.setdefault('apple', 10)  # Key 'apple' already exists, returns 5\n",
        "\n",
        "print(my_dict)  # Output: {'apple': 5, 'banana': 3, 'cherry': 7}\n"
      ],
      "metadata": {
        "colab": {
          "base_uri": "https://localhost:8080/"
        },
        "id": "9NkxYeAD84iO",
        "outputId": "b9cf5693-163f-4c4a-b57e-e53d66a1b384"
      },
      "execution_count": null,
      "outputs": [
        {
          "output_type": "stream",
          "name": "stdout",
          "text": [
            "{'apple': 5, 'banana': 3, 'cherry': 7}\n"
          ]
        }
      ]
    },
    {
      "cell_type": "code",
      "source": [
        "l = [8,5,7,1,9]\n",
        "l.append(l)\n",
        "print(l)\n",
        "\n",
        "print(l[2][0])"
      ],
      "metadata": {
        "colab": {
          "base_uri": "https://localhost:8080/",
          "height": 232
        },
        "id": "AfBhMH48Rgik",
        "outputId": "c4937bde-a278-48f8-c581-3618428ea6c3"
      },
      "execution_count": null,
      "outputs": [
        {
          "output_type": "stream",
          "name": "stdout",
          "text": [
            "[8, 5, 7, 1, 9, [...]]\n"
          ]
        },
        {
          "output_type": "error",
          "ename": "TypeError",
          "evalue": "ignored",
          "traceback": [
            "\u001b[0;31m---------------------------------------------------------------------------\u001b[0m",
            "\u001b[0;31mTypeError\u001b[0m                                 Traceback (most recent call last)",
            "\u001b[0;32m<ipython-input-6-030ffd368dc3>\u001b[0m in \u001b[0;36m<cell line: 5>\u001b[0;34m()\u001b[0m\n\u001b[1;32m      3\u001b[0m \u001b[0mprint\u001b[0m\u001b[0;34m(\u001b[0m\u001b[0ml\u001b[0m\u001b[0;34m)\u001b[0m\u001b[0;34m\u001b[0m\u001b[0;34m\u001b[0m\u001b[0m\n\u001b[1;32m      4\u001b[0m \u001b[0;34m\u001b[0m\u001b[0m\n\u001b[0;32m----> 5\u001b[0;31m \u001b[0mprint\u001b[0m\u001b[0;34m(\u001b[0m\u001b[0ml\u001b[0m\u001b[0;34m[\u001b[0m\u001b[0;36m2\u001b[0m\u001b[0;34m]\u001b[0m\u001b[0;34m[\u001b[0m\u001b[0;36m0\u001b[0m\u001b[0;34m]\u001b[0m\u001b[0;34m)\u001b[0m\u001b[0;34m\u001b[0m\u001b[0;34m\u001b[0m\u001b[0m\n\u001b[0m",
            "\u001b[0;31mTypeError\u001b[0m: 'int' object is not subscriptable"
          ]
        }
      ]
    },
    {
      "cell_type": "code",
      "source": [
        "l = []\n",
        "l = 'ami'\n",
        "print(l.appen)"
      ],
      "metadata": {
        "colab": {
          "base_uri": "https://localhost:8080/"
        },
        "id": "0lxCLSfgdyRZ",
        "outputId": "41dea71a-6bb7-4565-8265-09d13167ef04"
      },
      "execution_count": null,
      "outputs": [
        {
          "output_type": "stream",
          "name": "stdout",
          "text": [
            "ami\n"
          ]
        }
      ]
    },
    {
      "cell_type": "code",
      "source": [
        "inp = open('input1.txt', 'r')\n",
        "out = open('output1.txt', 'w')\n",
        "\n",
        "# Define the Union-Find data structure functions\n",
        "def find(parents, vertex):\n",
        "    if parents[vertex] == vertex:\n",
        "        return vertex\n",
        "    parents[vertex] = find(parents, parents[vertex])\n",
        "    return parents[vertex]\n",
        "\n",
        "def union(parents, ranks, vertex1, vertex2):\n",
        "    root1 = find(parents, vertex1)\n",
        "    root2 = find(parents, vertex2)\n",
        "\n",
        "    if root1 != root2:\n",
        "        if ranks[root1] < ranks[root2]:\n",
        "            root1, root2 = root2, root1\n",
        "        parents[root2] = root1\n",
        "        if ranks[root1] == ranks[root2]:\n",
        "            ranks[root1] += 1\n",
        "    print(ranks)\n",
        "\n",
        "n, m = map(int, inp.readline().strip().split())\n",
        "edges = [list(map(int, inp.readline().strip().split())) for _ in range(m)]\n",
        "\n",
        "# Sort edges by weight\n",
        "edges.sort(key=lambda x: x[2])\n",
        "\n",
        "# Initialize Union-Find data structures\n",
        "parents = [i for i in range(n + 1)]\n",
        "ranks = [0] * (n + 1)\n",
        "\n",
        "total_weight = 0\n",
        "for a, b, c in edges:\n",
        "    if find(parents, a) != find(parents, b):\n",
        "        union(parents, ranks, a, b)\n",
        "        total_weight += c\n",
        "\n",
        "out.write(str(total_weight))\n",
        "\n",
        "inp.close()\n",
        "out.close()\n"
      ],
      "metadata": {
        "id": "36ubgNs3AZAA"
      },
      "execution_count": null,
      "outputs": []
    },
    {
      "cell_type": "code",
      "source": [
        "inp = open('input2.txt', 'r')\n",
        "out = open('output2.txt', 'w')\n",
        "\n",
        "n = int(inp.readline().strip())\n",
        "print(n)\n",
        "# like fibonacci number series in recursive ways\n",
        "\n",
        "def find(n):\n",
        "    if n == 0:\n",
        "        return 1\n",
        "    if n == 1:\n",
        "        return 1\n",
        "    x = find(n-1) + find(n-2)\n",
        "    return x\n",
        "\n",
        "print(find(n))\n",
        "\n",
        "inp.close()\n",
        "out.close()"
      ],
      "metadata": {
        "id": "rnvqSZcUDUej"
      },
      "execution_count": null,
      "outputs": []
    }
  ]
}