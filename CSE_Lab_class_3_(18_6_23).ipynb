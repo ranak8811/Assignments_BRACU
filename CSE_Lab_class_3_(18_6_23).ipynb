{
  "nbformat": 4,
  "nbformat_minor": 0,
  "metadata": {
    "colab": {
      "provenance": [],
      "authorship_tag": "ABX9TyPIIH0XoLrhM5UZwAaW4TRZ",
      "include_colab_link": true
    },
    "kernelspec": {
      "name": "python3",
      "display_name": "Python 3"
    },
    "language_info": {
      "name": "python"
    }
  },
  "cells": [
    {
      "cell_type": "markdown",
      "metadata": {
        "id": "view-in-github",
        "colab_type": "text"
      },
      "source": [
        "<a href=\"https://colab.research.google.com/github/ANWAR8811/Assignments/blob/main/CSE_Lab_class_3_(18_6_23).ipynb\" target=\"_parent\"><img src=\"https://colab.research.google.com/assets/colab-badge.svg\" alt=\"Open In Colab\"/></a>"
      ]
    },
    {
      "cell_type": "code",
      "execution_count": null,
      "metadata": {
        "id": "V8Ax_4x02L0q",
        "colab": {
          "base_uri": "https://localhost:8080/"
        },
        "outputId": "7268ec8b-12e6-4ddb-8548-3a50f172564c"
      },
      "outputs": [
        {
          "output_type": "stream",
          "name": "stdout",
          "text": [
            "6 2\n",
            "A B C D E F\n",
            "A B\n",
            "B E\n",
            "1\n"
          ]
        }
      ],
      "source": [
        "N, M = map(int, input().split())\n",
        "\n",
        "cards = list(input().split())\n",
        "\n",
        "reactions = []\n",
        "for _ in range(M):\n",
        "    reactions.append(tuple(input().split()))\n",
        "\n",
        "maxStack = 0\n",
        "for i in range(N):\n",
        "    count = 1\n",
        "    for j in range(M):\n",
        "        if reactions[j][0] == cards[i] or reactions[j][1] == cards[i]:\n",
        "            count = 0\n",
        "            break\n",
        "    maxStack = max(maxStack, count)\n",
        "\n",
        "print(maxStack)\n"
      ]
    },
    {
      "cell_type": "code",
      "source": [
        "# task 1 ----> using merge sort"
      ],
      "metadata": {
        "id": "1YAgtcUhTG6J"
      },
      "execution_count": null,
      "outputs": []
    },
    {
      "cell_type": "code",
      "source": [
        "# task 2 ----> using merge sort"
      ],
      "metadata": {
        "id": "ewneeMI8Y_C9"
      },
      "execution_count": null,
      "outputs": []
    },
    {
      "cell_type": "code",
      "source": [
        "# task-2\n",
        "\n",
        "def get_max(a):\n",
        "  n = len(a)\n",
        "\n",
        "  if n == 1:\n",
        "    return float('-inf')\n",
        "  if n == 2:\n",
        "    return a[0] + (a[1])**2\n",
        "\n",
        "  mid = len(a)//2\n",
        "\n",
        "  l = a[ : mid]\n",
        "  print(l)\n",
        "  r = a[mid : ]\n",
        "  print(r)\n",
        "  left_max = get_max(l)\n",
        "  print(\"lm\", left_max)\n",
        "\n",
        "  right_max = get_max(r)\n",
        "  print(\"rm\", right_max)\n",
        "  lm = max(l)\n",
        "  print(\"leftmax: \", lm)\n",
        "  m = abs(a[mid])\n",
        "  for i in range(mid, len(a)):\n",
        "    if m < abs(a[i]):\n",
        "      m = abs(i)\n",
        "  cross_max = lm + m**2\n",
        "  print(cross_max)\n",
        "\n",
        "  return max(left_max, right_max, cross_max)\n",
        "\n",
        "arr = [9, 6, 5, 8, 2]\n",
        "get_max(arr)"
      ],
      "metadata": {
        "colab": {
          "base_uri": "https://localhost:8080/"
        },
        "id": "t8sSi6nighsm",
        "outputId": "51eeb684-9eba-405c-bde8-a67163f0668c"
      },
      "execution_count": null,
      "outputs": [
        {
          "output_type": "stream",
          "name": "stdout",
          "text": [
            "[9, 6]\n",
            "[5, 8, 2]\n",
            "lm 45\n",
            "[5]\n",
            "[8, 2]\n",
            "lm -inf\n",
            "rm 12\n",
            "leftmax:  5\n",
            "69\n",
            "rm 69\n",
            "leftmax:  9\n",
            "18\n"
          ]
        },
        {
          "output_type": "execute_result",
          "data": {
            "text/plain": [
              "69"
            ]
          },
          "metadata": {},
          "execution_count": 9
        }
      ]
    },
    {
      "cell_type": "code",
      "source": [
        "a = -7\n",
        "print(abs(a))"
      ],
      "metadata": {
        "colab": {
          "base_uri": "https://localhost:8080/"
        },
        "id": "yeANMNNinZSd",
        "outputId": "bd92aa13-3687-4f49-8b4b-fb5a82f1a9db"
      },
      "execution_count": null,
      "outputs": [
        {
          "output_type": "stream",
          "name": "stdout",
          "text": [
            "7\n"
          ]
        }
      ]
    },
    {
      "cell_type": "code",
      "source": [
        "# task-2\n",
        "\n",
        "def get_max(a):\n",
        "  n = len(a)\n",
        "\n",
        "  if n == 1:\n",
        "    return float('-inf')\n",
        "  if n == 2:\n",
        "    return a[0] + (a[1])**2\n",
        "\n",
        "  mid = len(a)//2\n",
        "\n",
        "  l = a[ : mid]\n",
        "  # print(l)\n",
        "  r = a[mid : ]\n",
        "  # print(r)\n",
        "  left_max = get_max(l)\n",
        "  # print(\"lm\", left_max)\n",
        "\n",
        "  right_max = get_max(r)\n",
        "  # print(\"rm\", right_max)\n",
        "  lm = l[0]\n",
        "  for i in l:\n",
        "    if lm < i:\n",
        "      lm = i\n",
        "  # print(\"leftmax: \", lm)\n",
        "  rm = abs(r[0])\n",
        "  for i in r:\n",
        "    if abs(rm) < abs(i):\n",
        "      rm = abs(i)\n",
        "  cross_max = lm + rm**2\n",
        "  # print(cross_max)\n",
        "\n",
        "  return max(left_max, right_max, cross_max)\n",
        "\n",
        "# arr = [9, 6, 5, 8, 2]\n",
        "# arr =  [-5, -2, -6, -7, -1, 8, 2]\n",
        "arr = [5, 10, 4, -3, 1, 6, -10, 2]\n",
        "get_max(arr)"
      ],
      "metadata": {
        "colab": {
          "base_uri": "https://localhost:8080/"
        },
        "id": "modsKsonr7XL",
        "outputId": "8ff30854-9692-4c85-ca61-4f78c1555e2d"
      },
      "execution_count": null,
      "outputs": [
        {
          "output_type": "execute_result",
          "data": {
            "text/plain": [
              "110"
            ]
          },
          "metadata": {},
          "execution_count": 23
        }
      ]
    },
    {
      "cell_type": "code",
      "source": [
        "## Ternary Search\n",
        "\n",
        "def ternary_search(arr, target):\n",
        "  left = 0\n",
        "  right = len(arr)-1\n",
        "\n",
        "  while left <= right:\n",
        "    partition_size = (right - left) // 3\n",
        "    mid1 = left + partition_size\n",
        "    mid2 = right - partition_size\n",
        "\n",
        "    if arr[mid1] == target:\n",
        "      return mid1\n",
        "    elif arr[mid2] == target:\n",
        "      return mid2\n",
        "    elif target < arr[mid1]:\n",
        "      right = mid1 -1\n",
        "    elif target > arr[mid2]:\n",
        "      left = mid2 + 1\n",
        "    else:\n",
        "      left = mid1 + 1\n",
        "      right = mid2 -1\n",
        "  return -1\n",
        "\n",
        "arr = [1, 2, 3, 4, 5, 6, 7, 8, 9, 10]\n",
        "res = ternary_search(arr, 3)\n",
        "print(res)"
      ],
      "metadata": {
        "id": "LFioIPeSwdkE",
        "colab": {
          "base_uri": "https://localhost:8080/"
        },
        "outputId": "f99ea9ba-9e68-4ac5-b14f-4fe0180e51c3"
      },
      "execution_count": null,
      "outputs": [
        {
          "output_type": "stream",
          "name": "stdout",
          "text": [
            "2\n"
          ]
        }
      ]
    },
    {
      "cell_type": "code",
      "source": [
        "def max_subarray_sum(arr):\n",
        "  n = len(arr)\n",
        "  maxSum = 0\n",
        "\n",
        "  for i in range(n):\n",
        "    currentSum = arr[i]\n",
        "    for j in range(i+1, n):\n",
        "      currentSum += arr[j]\n",
        "      if currentSum > maxSum:\n",
        "        maxSum = currentSum\n",
        "  return maxSum\n",
        "\n",
        "arr = [13, -3, -25, 20, -3, -16, -23, 18, 20, -7, 12, -5]\n",
        "res = max_subarray_sum(arr)\n",
        "print(res)"
      ],
      "metadata": {
        "colab": {
          "base_uri": "https://localhost:8080/"
        },
        "id": "1snx1epjMeiz",
        "outputId": "8eb04a25-2898-407a-bb74-4c346b411d8f"
      },
      "execution_count": null,
      "outputs": [
        {
          "output_type": "stream",
          "name": "stdout",
          "text": [
            "43\n"
          ]
        }
      ]
    },
    {
      "cell_type": "code",
      "source": [
        "def maxSubArraySum(arr, low, high):\n",
        "  if low == high:\n",
        "    return arr[low]\n",
        "\n",
        "  mid = (low + high) // 2\n",
        "\n",
        "  left_sum = maxSubArraySum(arr, low, mid)\n",
        "  right_sum = maxSubArraySum(arr, mid+1, high)\n",
        "\n",
        "  left_cross_sum = float('-inf')\n",
        "  current_sum = 0\n",
        "  for i in range(mid, low-1, -1):\n",
        "    current_sum += arr[i]\n",
        "    if current_sum > left_cross_sum:\n",
        "      left_cross_sum = current_sum\n",
        "\n",
        "  right_cross_sum = float('-inf')\n",
        "  current_sum = 0\n",
        "  for i in range(mid+1, high+1):\n",
        "    current_sum += arr[i]\n",
        "    if current_sum > right_cross_sum:\n",
        "      right_cross_sum = current_sum\n",
        "\n",
        "  return max(left_sum, right_sum, left_cross_sum + right_cross_sum)\n",
        "\n",
        "arr = [13, -3, -25, 20, -3, -16, -23, 18, 20, -7, 12, -5]\n",
        "res = maxSubArraySum(arr, 0, len(arr)-1)\n",
        "print(res)"
      ],
      "metadata": {
        "colab": {
          "base_uri": "https://localhost:8080/"
        },
        "id": "Mg5FsRFhfXzG",
        "outputId": "416f43e6-1802-4e68-ded9-c025060896db"
      },
      "execution_count": null,
      "outputs": [
        {
          "output_type": "stream",
          "name": "stdout",
          "text": [
            "43\n"
          ]
        }
      ]
    },
    {
      "cell_type": "code",
      "source": [
        "import time\n",
        "\n",
        "from math import ceil, floor\n",
        "\n",
        "def karatsuba(x, y):\n",
        "  if x < 10 and y < 10:\n",
        "    return x*y\n",
        "\n",
        "  n = max(len(str(x)), len(str(y)))\n",
        "  m = ceil(n/2)\n",
        "\n",
        "  x_H = floor(x / 10**m)\n",
        "  x_L = x % (10**m)\n",
        "\n",
        "  y_H = floor(y / 10**m)\n",
        "  y_L = y % (10**m)\n",
        "\n",
        "  a = karatsuba(x_H, y_H)\n",
        "  d = karatsuba(x_L, y_L)\n",
        "  e = karatsuba(x_H + x_L, y_H +y_L) - a - d\n",
        "\n",
        "  return int(a*(10**(m*2)) + e*(10**m) + d)\n",
        "\n",
        "start_time = time.time()\n",
        "res = karatsuba(12,34)\n",
        "end_time = time.time()\n",
        "\n",
        "execution_time = end_time - start_time\n",
        "print(res)\n",
        "print(execution_time)"
      ],
      "metadata": {
        "colab": {
          "base_uri": "https://localhost:8080/"
        },
        "id": "1wevwhCAxKB_",
        "outputId": "896bde5b-b236-4962-eb72-a8e5ee7264c7"
      },
      "execution_count": null,
      "outputs": [
        {
          "output_type": "stream",
          "name": "stdout",
          "text": [
            "408\n",
            "8.416175842285156e-05\n"
          ]
        }
      ]
    },
    {
      "cell_type": "code",
      "source": [
        "\n",
        "class PCMaker:\n",
        "  def __init__(self,cat=\"Low\",budget = 30000):\n",
        "    self.cat = cat\n",
        "    self.budget = budget\n",
        "    self.procCat={[\"Low\",\"i3 8100\", \"ryzen 2200g\"],\n",
        "                  [\"Mid\",\"i7 8700k\",\"ryzen 3600x\"],\n",
        "                  [\"High\",\"i9 12900k\",\"ryzen 5950x\"]}\n",
        "    self.proc = None\n",
        "    self.mobo = None\n",
        "  def customizePC(self,specs):\n",
        "    if len(specs)< 2:\n",
        "      print(\"You need to select both components.\")\n",
        "    else:\n",
        "      if specs[\"proc\"] not in self.procCat[self.cat]:\n",
        "        print(f\"Your selected processor is not {self.cat} range.\")\n",
        "      else:\n",
        "        self.proc = specs[\"proc\"]\n",
        "        self.mobo = specs[\"mobo\"]\n",
        "        print(\"Building customized PC\")\n",
        "  def getDetails(self):\n",
        "    s=f\"PC category:{self.cat} End\\n\"\n",
        "    s+=f\"Budget:{self.budget} taka\\n\"\n",
        "    s+=f\"Processor:{self.proc}\\n\"\n",
        "    s+=f\"Motherboard:{self.mobo}\"\n",
        "    return s\n",
        "\n",
        "#Driver Code\n",
        "pm1 = PCMaker()\n",
        "pm1.customizePC({\"proc\":\"i3 8100\",\"mobo\":\"H310\"})\n",
        "print(\"1##########################\")\n",
        "print(pm1.getDetails())\n",
        "print(\"2==========================\")\n",
        "pm2 = PCMaker(\"Mid\",50000)\n",
        "pm2.customizePC({\"proc\":\"i9 12900k\",\"mobo\":\"B660M\"})\n",
        "print(\"3##########################\")\n",
        "print(pm2.getDetails())\n",
        "print(\"4==========================\")\n",
        "pm3 = PCMaker(\"High\",100000)\n",
        "pm3.customizePC(\"proc:ryzen 5950x\")\n",
        "print(\"5##########################\")\n",
        "print(pm3.getDetails())\n",
        "print(\"6==========================\")\n",
        "pm3.customizePC({\"proc\":\"ryzen 5950x\",\"mobo\":\"X570\"})\n",
        "print(\"7##########################\")\n",
        "print(pm3.getDetails())"
      ],
      "metadata": {
        "colab": {
          "base_uri": "https://localhost:8080/",
          "height": 365
        },
        "id": "WZyrYGOx2GZm",
        "outputId": "e593a587-a58e-48ef-b3d9-1fff37ba16be"
      },
      "execution_count": null,
      "outputs": [
        {
          "output_type": "error",
          "ename": "TypeError",
          "evalue": "ignored",
          "traceback": [
            "\u001b[0;31m---------------------------------------------------------------------------\u001b[0m",
            "\u001b[0;31mTypeError\u001b[0m                                 Traceback (most recent call last)",
            "\u001b[0;32m<ipython-input-17-eecf7c10c561>\u001b[0m in \u001b[0;36m<cell line: 28>\u001b[0;34m()\u001b[0m\n\u001b[1;32m     26\u001b[0m \u001b[0;34m\u001b[0m\u001b[0m\n\u001b[1;32m     27\u001b[0m \u001b[0;31m#Driver Code\u001b[0m\u001b[0;34m\u001b[0m\u001b[0;34m\u001b[0m\u001b[0m\n\u001b[0;32m---> 28\u001b[0;31m \u001b[0mpm1\u001b[0m \u001b[0;34m=\u001b[0m \u001b[0mPCMaker\u001b[0m\u001b[0;34m(\u001b[0m\u001b[0;34m)\u001b[0m\u001b[0;34m\u001b[0m\u001b[0;34m\u001b[0m\u001b[0m\n\u001b[0m\u001b[1;32m     29\u001b[0m \u001b[0mpm1\u001b[0m\u001b[0;34m.\u001b[0m\u001b[0mcustomizePC\u001b[0m\u001b[0;34m(\u001b[0m\u001b[0;34m{\u001b[0m\u001b[0;34m\"proc\"\u001b[0m\u001b[0;34m:\u001b[0m\u001b[0;34m\"i3 8100\"\u001b[0m\u001b[0;34m,\u001b[0m\u001b[0;34m\"mobo\"\u001b[0m\u001b[0;34m:\u001b[0m\u001b[0;34m\"H310\"\u001b[0m\u001b[0;34m}\u001b[0m\u001b[0;34m)\u001b[0m\u001b[0;34m\u001b[0m\u001b[0;34m\u001b[0m\u001b[0m\n\u001b[1;32m     30\u001b[0m \u001b[0mprint\u001b[0m\u001b[0;34m(\u001b[0m\u001b[0;34m\"1##########################\"\u001b[0m\u001b[0;34m)\u001b[0m\u001b[0;34m\u001b[0m\u001b[0;34m\u001b[0m\u001b[0m\n",
            "\u001b[0;32m<ipython-input-17-eecf7c10c561>\u001b[0m in \u001b[0;36m__init__\u001b[0;34m(self, cat, budget)\u001b[0m\n\u001b[1;32m      3\u001b[0m     \u001b[0mself\u001b[0m\u001b[0;34m.\u001b[0m\u001b[0mcat\u001b[0m \u001b[0;34m=\u001b[0m \u001b[0mcat\u001b[0m\u001b[0;34m\u001b[0m\u001b[0;34m\u001b[0m\u001b[0m\n\u001b[1;32m      4\u001b[0m     \u001b[0mself\u001b[0m\u001b[0;34m.\u001b[0m\u001b[0mbudget\u001b[0m \u001b[0;34m=\u001b[0m \u001b[0mbudget\u001b[0m\u001b[0;34m\u001b[0m\u001b[0;34m\u001b[0m\u001b[0m\n\u001b[0;32m----> 5\u001b[0;31m     self.procCat={[\"Low\",\"i3 8100\", \"ryzen 2200g\"],\n\u001b[0m\u001b[1;32m      6\u001b[0m                   \u001b[0;34m[\u001b[0m\u001b[0;34m\"Mid\"\u001b[0m\u001b[0;34m,\u001b[0m\u001b[0;34m\"i7 8700k\"\u001b[0m\u001b[0;34m,\u001b[0m\u001b[0;34m\"ryzen 3600x\"\u001b[0m\u001b[0;34m]\u001b[0m\u001b[0;34m,\u001b[0m\u001b[0;34m\u001b[0m\u001b[0;34m\u001b[0m\u001b[0m\n\u001b[1;32m      7\u001b[0m                   [\"High\",\"i9 12900k\",\"ryzen 5950x\"]}\n",
            "\u001b[0;31mTypeError\u001b[0m: unhashable type: 'list'"
          ]
        }
      ]
    },
    {
      "cell_type": "code",
      "source": [
        "class PCMaker:\n",
        "    def __init__(self, cat=\"Low\", budget=30000):\n",
        "        self.cat = cat\n",
        "        self.budget = budget\n",
        "        self.procCat = {\n",
        "            (\"Low\", \"i3 8100\", \"ryzen 2200g\"),\n",
        "            (\"Mid\", \"i7 8700k\", \"ryzen 3600x\"),\n",
        "            (\"High\", \"i9 12900k\", \"ryzen 5950x\")\n",
        "        }\n",
        "        self.proc = None\n",
        "        self.mobo = None\n",
        "\n",
        "    def customizePC(self, specs):\n",
        "        if len(specs) < 2:\n",
        "            print(\"You need to select both components.\")\n",
        "        else:\n",
        "            if specs[\"proc\"] not in self.procCat[self.cat]:\n",
        "                print(f\"Your selected processor is not in the {self.cat} range.\")\n",
        "            else:\n",
        "                self.proc = specs[\"proc\"]\n",
        "                self.mobo = specs[\"mobo\"]\n",
        "                print(\"Building customized PC\")\n",
        "\n",
        "    def getDetails(self):\n",
        "        s = f\"PC category: {self.cat}\\n\"\n",
        "        s += f\"Budget: {self.budget} taka\\n\"\n",
        "        s += f\"Processor: {self.proc}\\n\"\n",
        "        s += f\"Motherboard: {self.mobo}\"\n",
        "        return s\n",
        "\n",
        "\n",
        "# Driver Code\n",
        "pm1 = PCMaker()\n",
        "pm1.customizePC({\"proc\": \"i3 8100\", \"mobo\": \"H310\"})\n",
        "print(\"1##########################\")\n",
        "print(pm1.getDetails())\n",
        "print(\"2==========================\")\n",
        "pm2 = PCMaker(\"Mid\", 50000)\n",
        "pm2.customizePC({\"proc\": \"i9 12900k\", \"mobo\": \"B660M\"})\n",
        "print(\"3##########################\")\n",
        "print(pm2.getDetails())\n",
        "print(\"4==========================\")\n",
        "pm3 = PCMaker(\"High\", 100000)\n",
        "pm3.customizePC({\"proc\": \"ryzen 5950x\", \"mobo\": \"X570\"})\n",
        "print(\"5##########################\")\n",
        "print(pm3.getDetails())\n",
        "print(\"6==========================\")\n"
      ],
      "metadata": {
        "colab": {
          "base_uri": "https://localhost:8080/",
          "height": 365
        },
        "id": "IMjB7kLg3Z6C",
        "outputId": "d45b2257-afd8-4e63-a389-bc90f88d4beb"
      },
      "execution_count": null,
      "outputs": [
        {
          "output_type": "error",
          "ename": "TypeError",
          "evalue": "ignored",
          "traceback": [
            "\u001b[0;31m---------------------------------------------------------------------------\u001b[0m",
            "\u001b[0;31mTypeError\u001b[0m                                 Traceback (most recent call last)",
            "\u001b[0;32m<ipython-input-18-f7469bf057aa>\u001b[0m in \u001b[0;36m<cell line: 34>\u001b[0;34m()\u001b[0m\n\u001b[1;32m     32\u001b[0m \u001b[0;31m# Driver Code\u001b[0m\u001b[0;34m\u001b[0m\u001b[0;34m\u001b[0m\u001b[0m\n\u001b[1;32m     33\u001b[0m \u001b[0mpm1\u001b[0m \u001b[0;34m=\u001b[0m \u001b[0mPCMaker\u001b[0m\u001b[0;34m(\u001b[0m\u001b[0;34m)\u001b[0m\u001b[0;34m\u001b[0m\u001b[0;34m\u001b[0m\u001b[0m\n\u001b[0;32m---> 34\u001b[0;31m \u001b[0mpm1\u001b[0m\u001b[0;34m.\u001b[0m\u001b[0mcustomizePC\u001b[0m\u001b[0;34m(\u001b[0m\u001b[0;34m{\u001b[0m\u001b[0;34m\"proc\"\u001b[0m\u001b[0;34m:\u001b[0m \u001b[0;34m\"i3 8100\"\u001b[0m\u001b[0;34m,\u001b[0m \u001b[0;34m\"mobo\"\u001b[0m\u001b[0;34m:\u001b[0m \u001b[0;34m\"H310\"\u001b[0m\u001b[0;34m}\u001b[0m\u001b[0;34m)\u001b[0m\u001b[0;34m\u001b[0m\u001b[0;34m\u001b[0m\u001b[0m\n\u001b[0m\u001b[1;32m     35\u001b[0m \u001b[0mprint\u001b[0m\u001b[0;34m(\u001b[0m\u001b[0;34m\"1##########################\"\u001b[0m\u001b[0;34m)\u001b[0m\u001b[0;34m\u001b[0m\u001b[0;34m\u001b[0m\u001b[0m\n\u001b[1;32m     36\u001b[0m \u001b[0mprint\u001b[0m\u001b[0;34m(\u001b[0m\u001b[0mpm1\u001b[0m\u001b[0;34m.\u001b[0m\u001b[0mgetDetails\u001b[0m\u001b[0;34m(\u001b[0m\u001b[0;34m)\u001b[0m\u001b[0;34m)\u001b[0m\u001b[0;34m\u001b[0m\u001b[0;34m\u001b[0m\u001b[0m\n",
            "\u001b[0;32m<ipython-input-18-f7469bf057aa>\u001b[0m in \u001b[0;36mcustomizePC\u001b[0;34m(self, specs)\u001b[0m\n\u001b[1;32m     15\u001b[0m             \u001b[0mprint\u001b[0m\u001b[0;34m(\u001b[0m\u001b[0;34m\"You need to select both components.\"\u001b[0m\u001b[0;34m)\u001b[0m\u001b[0;34m\u001b[0m\u001b[0;34m\u001b[0m\u001b[0m\n\u001b[1;32m     16\u001b[0m         \u001b[0;32melse\u001b[0m\u001b[0;34m:\u001b[0m\u001b[0;34m\u001b[0m\u001b[0;34m\u001b[0m\u001b[0m\n\u001b[0;32m---> 17\u001b[0;31m             \u001b[0;32mif\u001b[0m \u001b[0mspecs\u001b[0m\u001b[0;34m[\u001b[0m\u001b[0;34m\"proc\"\u001b[0m\u001b[0;34m]\u001b[0m \u001b[0;32mnot\u001b[0m \u001b[0;32min\u001b[0m \u001b[0mself\u001b[0m\u001b[0;34m.\u001b[0m\u001b[0mprocCat\u001b[0m\u001b[0;34m[\u001b[0m\u001b[0mself\u001b[0m\u001b[0;34m.\u001b[0m\u001b[0mcat\u001b[0m\u001b[0;34m]\u001b[0m\u001b[0;34m:\u001b[0m\u001b[0;34m\u001b[0m\u001b[0;34m\u001b[0m\u001b[0m\n\u001b[0m\u001b[1;32m     18\u001b[0m                 \u001b[0mprint\u001b[0m\u001b[0;34m(\u001b[0m\u001b[0;34mf\"Your selected processor is not in the {self.cat} range.\"\u001b[0m\u001b[0;34m)\u001b[0m\u001b[0;34m\u001b[0m\u001b[0;34m\u001b[0m\u001b[0m\n\u001b[1;32m     19\u001b[0m             \u001b[0;32melse\u001b[0m\u001b[0;34m:\u001b[0m\u001b[0;34m\u001b[0m\u001b[0;34m\u001b[0m\u001b[0m\n",
            "\u001b[0;31mTypeError\u001b[0m: 'set' object is not subscriptable"
          ]
        }
      ]
    },
    {
      "cell_type": "code",
      "source": [
        "class PCMaker:\n",
        "    def __init__(self, cat=\"Low\", budget=30000):\n",
        "        self.cat = cat\n",
        "        self.budget = budget\n",
        "        self.procCat = {\n",
        "            \"Low\": [\"i3 8100\", \"ryzen 2200g\"],\n",
        "            \"Mid\": [\"i7 8700k\", \"ryzen 3600x\"],\n",
        "            \"High\": [\"i9 12900k\", \"ryzen 5950x\"]\n",
        "        }\n",
        "        self.proc = None\n",
        "        self.mobo = None\n",
        "\n",
        "    def customizePC(self, specs):\n",
        "        if len(specs) < 2:\n",
        "            print(\"You need to select both components.\")\n",
        "        else:\n",
        "            if specs[\"proc\"] not in self.procCat[self.cat]:\n",
        "                print(f\"Your selected processor is not in the {self.cat} range.\")\n",
        "            else:\n",
        "                self.proc = specs[\"proc\"]\n",
        "                self.mobo = specs[\"mobo\"]\n",
        "                print(\"Building customized PC\")\n",
        "\n",
        "    def getDetails(self):\n",
        "        s = f\"PC category: {self.cat}\\n\"\n",
        "        s += f\"Budget: {self.budget} taka\\n\"\n",
        "        s += f\"Processor: {self.proc}\\n\"\n",
        "        s += f\"Motherboard: {self.mobo}\"\n",
        "        return s\n",
        "\n",
        "\n",
        "# Driver Code\n",
        "pm1 = PCMaker()\n",
        "pm1.customizePC({\"proc\": \"i3 8100\", \"mobo\": \"H310\"})\n",
        "print(\"1##########################\")\n",
        "print(pm1.getDetails())\n",
        "print(\"2==========================\")\n",
        "pm2 = PCMaker(\"Mid\", 50000)\n",
        "pm2.customizePC({\"proc\": \"i9 12900k\", \"mobo\": \"B660M\"})\n",
        "print(\"3##########################\")\n",
        "print(pm2.getDetails())\n",
        "print(\"4==========================\")\n",
        "pm3 = PCMaker(\"High\", 100000)\n",
        "pm3.customizePC({\"proc\": \"ryzen 5950x\", \"mobo\": \"X570\"})\n",
        "print(\"5##########################\")\n",
        "print(pm3.getDetails())\n",
        "print(\"6==========================\")\n"
      ],
      "metadata": {
        "id": "ngrelbBz31rJ",
        "outputId": "6d0901ad-0a64-4276-ad86-e3e393baba45",
        "colab": {
          "base_uri": "https://localhost:8080/"
        }
      },
      "execution_count": null,
      "outputs": [
        {
          "output_type": "stream",
          "name": "stdout",
          "text": [
            "Building customized PC\n",
            "1##########################\n",
            "PC category: Low\n",
            "Budget: 30000 taka\n",
            "Processor: i3 8100\n",
            "Motherboard: H310\n",
            "2==========================\n",
            "Your selected processor is not in the Mid range.\n",
            "3##########################\n",
            "PC category: Mid\n",
            "Budget: 50000 taka\n",
            "Processor: None\n",
            "Motherboard: None\n",
            "4==========================\n",
            "Building customized PC\n",
            "5##########################\n",
            "PC category: High\n",
            "Budget: 100000 taka\n",
            "Processor: ryzen 5950x\n",
            "Motherboard: X570\n",
            "6==========================\n"
          ]
        }
      ]
    },
    {
      "cell_type": "code",
      "source": [
        "import sys\n",
        "\n",
        "def main():\n",
        "    input = sys.stdin.readline\n",
        "    n, m = map(int, input().split())\n",
        "    grid = []\n",
        "    for _ in range(n):\n",
        "        row = list(map(int, input().split()))\n",
        "        grid.append(row)\n",
        "    q = int(input())\n",
        "    for _ in range(q):\n",
        "        r, c = map(int, input().split())\n",
        "        a = grid[r-1][c-1]\n",
        "        b = grid[r-1][c]\n",
        "        cc = grid[r-1][c+1]\n",
        "        d = grid[r][c-1]\n",
        "        e = grid[r][c+1]\n",
        "        f = grid[r+1][c-1]\n",
        "        g = grid[r+1][c]\n",
        "        h = grid[r+1][c+1]\n",
        "        grid[r-1][c] = a\n",
        "        grid[r-1][c+1] = b\n",
        "        grid[r-1][c-1] = d\n",
        "        grid[r][c+1] = cc\n",
        "        grid[r][c-1] = f\n",
        "        grid[r+1][c+1] = e\n",
        "        grid[r+1][c] = h\n",
        "        grid[r+1][c-1] = g\n",
        "        for row in grid:\n",
        "            print(*row)\n",
        "        print()\n",
        "\n",
        "if __name__ == '__main__':\n",
        "    main()\n"
      ],
      "metadata": {
        "colab": {
          "base_uri": "https://localhost:8080/",
          "height": 329
        },
        "id": "b5F6OCPnT_IX",
        "outputId": "21495fad-7ee3-4d45-e0e7-59c9b72d0266"
      },
      "execution_count": null,
      "outputs": [
        {
          "output_type": "error",
          "ename": "ValueError",
          "evalue": "ignored",
          "traceback": [
            "\u001b[0;31m---------------------------------------------------------------------------\u001b[0m",
            "\u001b[0;31mValueError\u001b[0m                                Traceback (most recent call last)",
            "\u001b[0;32m<ipython-input-2-8297170f6080>\u001b[0m in \u001b[0;36m<cell line: 33>\u001b[0;34m()\u001b[0m\n\u001b[1;32m     32\u001b[0m \u001b[0;34m\u001b[0m\u001b[0m\n\u001b[1;32m     33\u001b[0m \u001b[0;32mif\u001b[0m \u001b[0m__name__\u001b[0m \u001b[0;34m==\u001b[0m \u001b[0;34m'__main__'\u001b[0m\u001b[0;34m:\u001b[0m\u001b[0;34m\u001b[0m\u001b[0;34m\u001b[0m\u001b[0m\n\u001b[0;32m---> 34\u001b[0;31m     \u001b[0mmain\u001b[0m\u001b[0;34m(\u001b[0m\u001b[0;34m)\u001b[0m\u001b[0;34m\u001b[0m\u001b[0;34m\u001b[0m\u001b[0m\n\u001b[0m",
            "\u001b[0;32m<ipython-input-2-8297170f6080>\u001b[0m in \u001b[0;36mmain\u001b[0;34m()\u001b[0m\n\u001b[1;32m      3\u001b[0m \u001b[0;32mdef\u001b[0m \u001b[0mmain\u001b[0m\u001b[0;34m(\u001b[0m\u001b[0;34m)\u001b[0m\u001b[0;34m:\u001b[0m\u001b[0;34m\u001b[0m\u001b[0;34m\u001b[0m\u001b[0m\n\u001b[1;32m      4\u001b[0m     \u001b[0minput\u001b[0m \u001b[0;34m=\u001b[0m \u001b[0msys\u001b[0m\u001b[0;34m.\u001b[0m\u001b[0mstdin\u001b[0m\u001b[0;34m.\u001b[0m\u001b[0mreadline\u001b[0m\u001b[0;34m\u001b[0m\u001b[0;34m\u001b[0m\u001b[0m\n\u001b[0;32m----> 5\u001b[0;31m     \u001b[0mn\u001b[0m\u001b[0;34m,\u001b[0m \u001b[0mm\u001b[0m \u001b[0;34m=\u001b[0m \u001b[0mmap\u001b[0m\u001b[0;34m(\u001b[0m\u001b[0mint\u001b[0m\u001b[0;34m,\u001b[0m \u001b[0minput\u001b[0m\u001b[0;34m(\u001b[0m\u001b[0;34m)\u001b[0m\u001b[0;34m.\u001b[0m\u001b[0msplit\u001b[0m\u001b[0;34m(\u001b[0m\u001b[0;34m)\u001b[0m\u001b[0;34m)\u001b[0m\u001b[0;34m\u001b[0m\u001b[0;34m\u001b[0m\u001b[0m\n\u001b[0m\u001b[1;32m      6\u001b[0m     \u001b[0mgrid\u001b[0m \u001b[0;34m=\u001b[0m \u001b[0;34m[\u001b[0m\u001b[0;34m]\u001b[0m\u001b[0;34m\u001b[0m\u001b[0;34m\u001b[0m\u001b[0m\n\u001b[1;32m      7\u001b[0m     \u001b[0;32mfor\u001b[0m \u001b[0m_\u001b[0m \u001b[0;32min\u001b[0m \u001b[0mrange\u001b[0m\u001b[0;34m(\u001b[0m\u001b[0mn\u001b[0m\u001b[0;34m)\u001b[0m\u001b[0;34m:\u001b[0m\u001b[0;34m\u001b[0m\u001b[0;34m\u001b[0m\u001b[0m\n",
            "\u001b[0;31mValueError\u001b[0m: not enough values to unpack (expected 2, got 0)"
          ]
        }
      ]
    },
    {
      "cell_type": "code",
      "source": [
        "def main():\n",
        "    n, m = map(int, input().split())\n",
        "    grid = []\n",
        "    for _ in range(n):\n",
        "        row = list(map(int, input().split()))\n",
        "        grid.append(row)\n",
        "    q = int(input())\n",
        "    for _ in range(q):\n",
        "        r, c = map(int, input().split())\n",
        "        a = grid[r-1][c-1]\n",
        "        b = grid[r-1][c]\n",
        "        cc = grid[r-1][c+1]\n",
        "        d = grid[r][c-1]\n",
        "        e = grid[r][c+1]\n",
        "        f = grid[r+1][c-1]\n",
        "        g = grid[r+1][c]\n",
        "        h = grid[r+1][c+1]\n",
        "        grid[r-1][c] = a\n",
        "        grid[r-1][c+1] = b\n",
        "        grid[r-1][c-1] = d\n",
        "        grid[r][c+1] = cc\n",
        "        grid[r][c-1] = f\n",
        "        grid[r+1][c+1] = e\n",
        "        grid[r+1][c] = h\n",
        "        grid[r+1][c-1] = g\n",
        "        for row in grid:\n",
        "            print(*row)\n",
        "        print()\n",
        "\n",
        "if __name__ == '__main__':\n",
        "    main()\n"
      ],
      "metadata": {
        "colab": {
          "base_uri": "https://localhost:8080/"
        },
        "id": "m6cukFwUUbUY",
        "outputId": "6b68a19f-c536-4961-e7be-0c89913f5aca"
      },
      "execution_count": null,
      "outputs": [
        {
          "output_type": "stream",
          "name": "stdout",
          "text": [
            "4 4\n",
            "1 2 3 4\n",
            "5 6 7 8\n",
            "9 10 11 12\n",
            "13 14 15 16\n",
            "2\n",
            "1 2\n",
            "1 6 2 3\n",
            "5 10 7 4\n",
            "9 11 12 8\n",
            "13 14 15 16\n",
            "\n",
            "2 1\n",
            "1 6 2 3\n",
            "9 5 10 4\n",
            "13 11 7 8\n",
            "14 15 12 16\n",
            "\n"
          ]
        }
      ]
    },
    {
      "cell_type": "code",
      "source": [
        "a = [1,2,3,4,8]\n",
        "b = []\n",
        "b.append(a)\n",
        "print(b)"
      ],
      "metadata": {
        "colab": {
          "base_uri": "https://localhost:8080/"
        },
        "id": "7zoWTLaXVoIx",
        "outputId": "7ff29411-ecbe-4f0a-e6ae-ef69f5385d66"
      },
      "execution_count": null,
      "outputs": [
        {
          "output_type": "stream",
          "name": "stdout",
          "text": [
            "[[1, 2, 3, 4, 8]]\n"
          ]
        }
      ]
    },
    {
      "cell_type": "code",
      "source": [
        "print(1, 2, 3)"
      ],
      "metadata": {
        "colab": {
          "base_uri": "https://localhost:8080/"
        },
        "id": "wyc3451RYiKU",
        "outputId": "53579811-dc87-4744-a4b0-dfd54b775e22"
      },
      "execution_count": null,
      "outputs": [
        {
          "output_type": "stream",
          "name": "stdout",
          "text": [
            "1 2 3\n"
          ]
        }
      ]
    },
    {
      "cell_type": "code",
      "source": [
        "a = [1,2,3,4,8]\n",
        "print(*a)"
      ],
      "metadata": {
        "colab": {
          "base_uri": "https://localhost:8080/"
        },
        "id": "8my43SroYkqv",
        "outputId": "74068bc0-e797-4bdd-a5e1-a4836cb6596b"
      },
      "execution_count": null,
      "outputs": [
        {
          "output_type": "stream",
          "name": "stdout",
          "text": [
            "1 2 3 4 8\n"
          ]
        }
      ]
    },
    {
      "cell_type": "code",
      "source": [
        "a = [1,2,3,4,8]\n",
        "print([[*a]])"
      ],
      "metadata": {
        "colab": {
          "base_uri": "https://localhost:8080/"
        },
        "id": "Le0KGAgnY5uk",
        "outputId": "005e41c7-4419-4c13-85ce-026da90bd258"
      },
      "execution_count": null,
      "outputs": [
        {
          "output_type": "stream",
          "name": "stdout",
          "text": [
            "[[1, 2, 3, 4, 8]]\n"
          ]
        }
      ]
    },
    {
      "cell_type": "code",
      "source": [
        "def greet(name):\n",
        "    print(f\"Hello, {name}!\")\n",
        "\n",
        "if __name__ == '__main__':\n",
        "    greet(\"Alice\")\n"
      ],
      "metadata": {
        "colab": {
          "base_uri": "https://localhost:8080/"
        },
        "id": "xWOaKJ8FblQy",
        "outputId": "0b4810df-ef1c-414d-fc17-1375c508543d"
      },
      "execution_count": null,
      "outputs": [
        {
          "output_type": "stream",
          "name": "stdout",
          "text": [
            "Hello, Alice!\n"
          ]
        }
      ]
    },
    {
      "cell_type": "code",
      "source": [
        "f = ''\n",
        "for i in range(3):\n",
        "  f = f + chr(65+i)\n",
        "print(f)"
      ],
      "metadata": {
        "colab": {
          "base_uri": "https://localhost:8080/"
        },
        "id": "Lo_1rXamX8XV",
        "outputId": "b3de2c3d-60e1-4749-b499-0deaab59f00b"
      },
      "execution_count": null,
      "outputs": [
        {
          "output_type": "stream",
          "name": "stdout",
          "text": [
            "ABC\n"
          ]
        }
      ]
    },
    {
      "cell_type": "code",
      "source": [
        "f = ''\n",
        "f += 'ami'\n",
        "print(f)"
      ],
      "metadata": {
        "colab": {
          "base_uri": "https://localhost:8080/"
        },
        "id": "3TuyL1HDYSLK",
        "outputId": "c65e9812-6d90-4234-8c74-15784a2b9880"
      },
      "execution_count": null,
      "outputs": [
        {
          "output_type": "stream",
          "name": "stdout",
          "text": [
            "ami\n"
          ]
        }
      ]
    },
    {
      "cell_type": "code",
      "source": [
        "f = \"rana\"\n",
        "k = f[-1]\n",
        "print(k)"
      ],
      "metadata": {
        "colab": {
          "base_uri": "https://localhost:8080/"
        },
        "id": "gQBOViYHZngS",
        "outputId": "5f3dc4ed-5167-4be5-e1d6-f07bd16efc9d"
      },
      "execution_count": null,
      "outputs": [
        {
          "output_type": "stream",
          "name": "stdout",
          "text": [
            "a\n"
          ]
        }
      ]
    },
    {
      "cell_type": "code",
      "source": [
        "f = \"rana\"\n",
        "k = f[:-1]\n",
        "print(k)"
      ],
      "metadata": {
        "colab": {
          "base_uri": "https://localhost:8080/"
        },
        "id": "Iut3Cx4FbDSN",
        "outputId": "e02be0a2-c101-45ce-c277-9bdbea8a9db4"
      },
      "execution_count": null,
      "outputs": [
        {
          "output_type": "stream",
          "name": "stdout",
          "text": [
            "ran\n"
          ]
        }
      ]
    },
    {
      "cell_type": "code",
      "source": [
        "t = 5/2\n",
        "print(t)"
      ],
      "metadata": {
        "colab": {
          "base_uri": "https://localhost:8080/"
        },
        "id": "OiMTNcEoOiXV",
        "outputId": "65287030-3a12-4251-9940-d353d9bfd551"
      },
      "execution_count": null,
      "outputs": [
        {
          "output_type": "stream",
          "name": "stdout",
          "text": [
            "2.5\n"
          ]
        }
      ]
    },
    {
      "cell_type": "code",
      "source": [
        "lst = list(map(str, input().split()))\n",
        "\n",
        "l = s = lst[0]\n",
        "r = {}\n",
        "for e in lst:\n",
        "  if ('.' not in e and ',' not in e and ';' not in e ):\n",
        "    if (len(e) > len(l)): l = e\n",
        "    elif (len(e) < len(s)): s = e\n",
        "\n",
        "    if (e not in r):  r[e] = 1\n",
        "    else: r[e] += 1\n",
        "  else:\n",
        "    k = e[ : -1]\n",
        "    if (len(e) > len(l)): l = e\n",
        "    elif (len(e) < len(s)): s = e\n",
        "\n",
        "    if (k not in r):  r[k] = 1\n",
        "    else: r[k] += 1\n",
        "\n",
        "m = 0\n",
        "mr = lst[0]\n",
        "for k,v in r.items():\n",
        "  if m < v:\n",
        "    m = v\n",
        "    mr = k\n",
        "\n",
        "print(l)\n",
        "print(s)\n",
        "print(mr)"
      ],
      "metadata": {
        "colab": {
          "base_uri": "https://localhost:8080/"
        },
        "id": "kxEFEggFOqMX",
        "outputId": "e1db13ce-eada-4e8c-d9d5-28b31333f5a9"
      },
      "execution_count": null,
      "outputs": [
        {
          "output_type": "stream",
          "name": "stdout",
          "text": [
            "Ac volutpat sapien augue, nec volutpat sem vehicula donec.\n",
            "volutpat\n",
            "Ac\n",
            "volutpat\n"
          ]
        }
      ]
    },
    {
      "cell_type": "code",
      "source": [
        "import re\n",
        "\n",
        "def get_word_statistics(text):\n",
        "    words = re.findall(r'\\b\\w+\\b', text.lower())  # Extract all words from the text\n",
        "\n",
        "    # Calculate the longest word\n",
        "    longest_word = max(words, key=len)\n",
        "\n",
        "    # Calculate the shortest word\n",
        "    shortest_word = min(words, key=len)\n",
        "\n",
        "    # Calculate the most repeated word\n",
        "    word_freq = {}\n",
        "    for word in words:\n",
        "        if word in word_freq:\n",
        "            word_freq[word] += 1\n",
        "        else:\n",
        "            word_freq[word] = 1\n",
        "\n",
        "    most_repeated_word = max(word_freq, key=lambda k: (word_freq[k], words.index(k)))\n",
        "\n",
        "    return longest_word, shortest_word, most_repeated_word\n",
        "\n",
        "# Read the input text\n",
        "text = input()\n",
        "\n",
        "# Get the word statistics\n",
        "longest_word, shortest_word, most_repeated_word = get_word_statistics(text)\n",
        "\n",
        "# Print the results\n",
        "print(longest_word)\n",
        "print(shortest_word)\n",
        "print(most_repeated_word)\n"
      ],
      "metadata": {
        "colab": {
          "base_uri": "https://localhost:8080/"
        },
        "id": "kXgH1fO_jcU6",
        "outputId": "e4f64e7f-31ff-4c97-a29f-dbe800b15741"
      },
      "execution_count": null,
      "outputs": [
        {
          "output_type": "stream",
          "name": "stdout",
          "text": [
            "Ac volutpat sapien augue, nec volutpat sem vehicula donec.\n",
            "volutpat\n",
            "ac\n",
            "volutpat\n"
          ]
        }
      ]
    },
    {
      "cell_type": "code",
      "source": [
        "import re\n",
        "\n",
        "# Function to get the word statistics\n",
        "def get_word_statistics(text):\n",
        "    # Extract all words from the text\n",
        "    words = re.findall(r'\\b\\w+\\b', text.lower())\n",
        "\n",
        "    # Calculate the longest word\n",
        "    longest_word = \"\"\n",
        "    for word in words:\n",
        "        if len(word) > len(longest_word):\n",
        "            longest_word = word\n",
        "\n",
        "    # Calculate the shortest word\n",
        "    shortest_word = longest_word  # Initialize with longest word\n",
        "    for word in words:\n",
        "        if len(word) < len(shortest_word):\n",
        "            shortest_word = word\n",
        "\n",
        "    # Calculate the most repeated word\n",
        "    word_freq = {}\n",
        "    for word in words:\n",
        "        if word in word_freq:\n",
        "            word_freq[word] += 1\n",
        "        else:\n",
        "            word_freq[word] = 1\n",
        "\n",
        "    most_repeated_word = \"\"\n",
        "    max_frequency = 0\n",
        "    for word, frequency in word_freq.items():\n",
        "        if frequency > max_frequency:\n",
        "            max_frequency = frequency\n",
        "            most_repeated_word = word\n",
        "\n",
        "    return longest_word, shortest_word, most_repeated_word\n",
        "\n",
        "# Read the input text\n",
        "text = input()\n",
        "\n",
        "# Get the word statistics\n",
        "longest_word, shortest_word, most_repeated_word = get_word_statistics(text)\n",
        "\n",
        "# Print the results\n",
        "print(longest_word)\n",
        "print(shortest_word)\n",
        "print(most_repeated_word)\n"
      ],
      "metadata": {
        "colab": {
          "base_uri": "https://localhost:8080/"
        },
        "id": "yFoJemJnj0H0",
        "outputId": "6f450fbc-6021-4efc-85c8-291f4461cd08"
      },
      "execution_count": null,
      "outputs": [
        {
          "output_type": "stream",
          "name": "stdout",
          "text": [
            "Ac volutpat sapien augue, nec volutpat sem vehicula donec.\n",
            "volutpat\n",
            "ac\n",
            "volutpat\n"
          ]
        }
      ]
    },
    {
      "cell_type": "code",
      "source": [
        "import re\n",
        "\n",
        "# Function to remove punctuation at the end of a word\n",
        "def remove_punctuation(word):\n",
        "    if word[-1] in [\".\", \",\", \";\"]:\n",
        "        return word[:-1]\n",
        "    return word\n",
        "\n",
        "# Read the input text\n",
        "input_text = input()\n",
        "\n",
        "# Split the input into words\n",
        "words = re.findall(r'\\b\\w+\\b', input_text)\n",
        "\n",
        "# Initialize variables\n",
        "longest_word = words[0]\n",
        "shortest_word = words[0]\n",
        "word_counts = {}\n",
        "word_counts[words[0]] = 1\n",
        "\n",
        "# Process each word\n",
        "for word in words:\n",
        "    # Update longest word\n",
        "    if len(word) > len(longest_word):\n",
        "        longest_word = word\n",
        "\n",
        "    # Update shortest word\n",
        "    if len(word) < len(shortest_word):\n",
        "        shortest_word = word\n",
        "\n",
        "    # Remove punctuation at the end of the word\n",
        "    word = remove_punctuation(word)\n",
        "\n",
        "    # Update word counts\n",
        "    if word in word_counts:\n",
        "        word_counts[word] += 1\n",
        "    else:\n",
        "        word_counts[word] = 1\n",
        "\n",
        "# Find the most repeated word\n",
        "max_count = 0\n",
        "most_repeated_word = words[0]\n",
        "\n",
        "for word, count in word_counts.items():\n",
        "    if count > max_count:\n",
        "        max_count = count\n",
        "        most_repeated_word = word\n",
        "\n",
        "# Print the results\n",
        "print(longest_word)\n",
        "print(shortest_word)\n",
        "print(most_repeated_word)\n"
      ],
      "metadata": {
        "colab": {
          "base_uri": "https://localhost:8080/"
        },
        "id": "89drLXXWqp1F",
        "outputId": "ed60e702-78eb-4e8f-ae02-50a4905bf495"
      },
      "execution_count": null,
      "outputs": [
        {
          "output_type": "stream",
          "name": "stdout",
          "text": [
            "Ac volutpat sapien augue, nec volutpat sem vehicula donec.\n",
            "volutpat\n",
            "Ac\n",
            "Ac\n"
          ]
        }
      ]
    },
    {
      "cell_type": "code",
      "source": [
        "import re\n",
        "\n",
        "# Function to remove punctuation at the end of a word\n",
        "def remove_punctuation(word):\n",
        "    if word[-1] in [\".\", \",\", \";\"]:\n",
        "        return word[:-1]\n",
        "    return word\n",
        "\n",
        "# Read the input text\n",
        "input_text = input()\n",
        "\n",
        "# Split the input into words\n",
        "words = re.findall(r'\\b\\w+\\b', input_text)\n",
        "\n",
        "# Initialize variables\n",
        "longest_word = words[0]\n",
        "shortest_word = words[0]\n",
        "word_counts = {}\n",
        "word_counts[words[0].lower()] = 1\n",
        "\n",
        "# Process each word\n",
        "for word in words:\n",
        "    # Update longest word\n",
        "    if len(word) > len(longest_word):\n",
        "        longest_word = word\n",
        "\n",
        "    # Update shortest word\n",
        "    if len(word) < len(shortest_word):\n",
        "        shortest_word = word\n",
        "\n",
        "    # Remove punctuation at the end of the word\n",
        "    word = remove_punctuation(word)\n",
        "\n",
        "    # Update word counts\n",
        "    lowercase_word = word.lower()\n",
        "    if lowercase_word in word_counts:\n",
        "        word_counts[lowercase_word] += 1\n",
        "    else:\n",
        "        word_counts[lowercase_word] = 1\n",
        "\n",
        "# Find the most repeated word\n",
        "max_count = 0\n",
        "most_repeated_word = words[0]\n",
        "\n",
        "for word in words:\n",
        "    lowercase_word = remove_punctuation(word).lower()\n",
        "    if word_counts[lowercase_word] > max_count:\n",
        "        max_count = word_counts[lowercase_word]\n",
        "        most_repeated_word = word\n",
        "\n",
        "# Print the results\n",
        "print(longest_word)\n",
        "print(shortest_word)\n",
        "print(most_repeated_word)\n"
      ],
      "metadata": {
        "colab": {
          "base_uri": "https://localhost:8080/"
        },
        "id": "-ftPmOJIrGQ9",
        "outputId": "e5ef0b87-cd9a-45cb-a520-41a00496a4dc"
      },
      "execution_count": null,
      "outputs": [
        {
          "output_type": "stream",
          "name": "stdout",
          "text": [
            "Ac volutpat sapien augue, nec volutpat sem vehicula donec.\n",
            "volutpat\n",
            "Ac\n",
            "Ac\n"
          ]
        }
      ]
    },
    {
      "cell_type": "code",
      "source": [
        "n = int(input())\n",
        "lst = list(map(int, input().split()))\n",
        "\n",
        "c = 0\n",
        "for i in range(2, n):\n",
        "  for j in range(2, n):\n",
        "    if ((lst[i-2])**2 + (lst[i-1])**2 == (lst[j])**2):\n",
        "      c += 3\n",
        "\n",
        "print(c)"
      ],
      "metadata": {
        "colab": {
          "base_uri": "https://localhost:8080/"
        },
        "id": "k4MjyLiBt9uu",
        "outputId": "3ff5e328-7136-4425-e35a-735289a5cf0a"
      },
      "execution_count": null,
      "outputs": [
        {
          "output_type": "stream",
          "name": "stdout",
          "text": [
            "5\n",
            "2 3 4 3 5\n",
            "6\n"
          ]
        }
      ]
    },
    {
      "cell_type": "code",
      "source": [
        "# Read the input\n",
        "n = int(input())\n",
        "sticks = list(map(int, input().split()))\n",
        "\n",
        "# Initialize the count\n",
        "count = 0\n",
        "\n",
        "# Check each combination of three sticks\n",
        "for i in range(n - 2):\n",
        "    for j in range(i + 1, n - 1):\n",
        "        for k in range(j + 1, n):\n",
        "            # Check if the sticks can form a right-angled triangle\n",
        "            if (\n",
        "                sticks[i] ** 2 + sticks[j] ** 2 == sticks[k] ** 2 or\n",
        "                sticks[j] ** 2 + sticks[k] ** 2 == sticks[i] ** 2 or\n",
        "                sticks[k] ** 2 + sticks[i] ** 2 == sticks[j] ** 2\n",
        "            ):\n",
        "                count += 1\n",
        "\n",
        "# Print the result\n",
        "print(count)\n"
      ],
      "metadata": {
        "colab": {
          "base_uri": "https://localhost:8080/"
        },
        "id": "LQYMXeFVxFPA",
        "outputId": "204da785-1653-40bb-d6a1-9d5dcf0e09ef"
      },
      "execution_count": null,
      "outputs": [
        {
          "output_type": "stream",
          "name": "stdout",
          "text": [
            "5\n",
            "2 3 4 3 5\n",
            "2\n"
          ]
        }
      ]
    },
    {
      "cell_type": "code",
      "source": [
        "# Read the input\n",
        "n = int(input())\n",
        "sticks = list(map(int, input().split()))\n",
        "\n",
        "# Initialize the count\n",
        "count = 0\n",
        "\n",
        "# Count the number of sticks that can form right-angled triangles\n",
        "for i in range(n):\n",
        "    for j in range(i + 1, n):\n",
        "        for k in range(j + 1, n):\n",
        "            # Check if the sticks can form a right-angled triangle\n",
        "            if (\n",
        "                sticks[i] ** 2 + sticks[j] ** 2 == sticks[k] ** 2 or\n",
        "                sticks[j] ** 2 + sticks[k] ** 2 == sticks[i] ** 2 or\n",
        "                sticks[k] ** 2 + sticks[i] ** 2 == sticks[j] ** 2\n",
        "            ):\n",
        "                count += 1\n",
        "\n",
        "# Print the result\n",
        "print(count)\n"
      ],
      "metadata": {
        "id": "9rYIT90vxexC",
        "outputId": "d21502e0-7396-41dd-aaa4-09320efb648c",
        "colab": {
          "base_uri": "https://localhost:8080/"
        }
      },
      "execution_count": null,
      "outputs": [
        {
          "output_type": "stream",
          "name": "stdout",
          "text": [
            "5\n",
            "2 3 4 3 5\n",
            "2\n"
          ]
        }
      ]
    },
    {
      "cell_type": "code",
      "source": [
        "n = int(input())\n",
        "temp = n\n",
        "primes = []\n",
        "for i in range(2, n+1):\n",
        "    while n % i == 0:\n",
        "        primes.append(i)\n",
        "        n = n / i\n",
        "print(primes)\n",
        "up= set(primes)\n",
        "print(up)\n",
        "exp = f'{temp} = '\n",
        "for i in up:\n",
        "    exp += f'{i} ^ {primes.count(i)} * '\n",
        "print(exp)\n",
        "print(exp[:-2])"
      ],
      "metadata": {
        "colab": {
          "base_uri": "https://localhost:8080/"
        },
        "id": "llH3rnqG1elM",
        "outputId": "1618fbd7-be1f-4a9c-a360-e836c845fb5c"
      },
      "execution_count": null,
      "outputs": [
        {
          "output_type": "stream",
          "name": "stdout",
          "text": [
            "20580\n",
            "[2, 2, 3, 5, 7, 7, 7]\n",
            "{2, 3, 5, 7}\n",
            "20580 = 2 ^ 2 * 3 ^ 1 * 5 ^ 1 * 7 ^ 3 * \n",
            "20580 = 2 ^ 2 * 3 ^ 1 * 5 ^ 1 * 7 ^ 3 \n"
          ]
        }
      ]
    },
    {
      "cell_type": "code",
      "source": [
        "n = int(input())\n",
        "l = []\n",
        "for i in range(n):\n",
        "  n, a = input().split()\n",
        "  l.append(int(a))\n",
        "\n",
        "print(l)"
      ],
      "metadata": {
        "colab": {
          "base_uri": "https://localhost:8080/"
        },
        "id": "PScAIhue7OCy",
        "outputId": "34007d95-f7d9-432f-8bb4-fdb4b791ff09"
      },
      "execution_count": null,
      "outputs": [
        {
          "output_type": "stream",
          "name": "stdout",
          "text": [
            "3\n",
            "a 44\n",
            "s 23\n",
            "a 33\n",
            "[44, 23, 33]\n"
          ]
        }
      ]
    },
    {
      "cell_type": "code",
      "source": [
        "l = [10, 20 ,30, 20]\n",
        "l.remove(20)\n",
        "print(l)"
      ],
      "metadata": {
        "colab": {
          "base_uri": "https://localhost:8080/"
        },
        "id": "9w8NtSq59XsI",
        "outputId": "4c84b624-5ae8-47dc-8345-78c43160e113"
      },
      "execution_count": null,
      "outputs": [
        {
          "output_type": "stream",
          "name": "stdout",
          "text": [
            "[10, 30, 20]\n"
          ]
        }
      ]
    },
    {
      "cell_type": "code",
      "source": [
        "a = pow(3,3)\n",
        "print(a)"
      ],
      "metadata": {
        "id": "ZKFXQFyM9ibq",
        "colab": {
          "base_uri": "https://localhost:8080/"
        },
        "outputId": "20341346-0ed4-484a-9ba9-0299df5e5270"
      },
      "execution_count": null,
      "outputs": [
        {
          "output_type": "stream",
          "name": "stdout",
          "text": [
            "27\n"
          ]
        }
      ]
    },
    {
      "cell_type": "code",
      "source": [
        "n = int(input())\n",
        "\n",
        "# Calculate a\n",
        "a = sum(range(1, n+1))\n",
        "\n",
        "# Calculate b\n",
        "b = pow(n, n, 1000000007)\n",
        "\n",
        "# Calculate c\n",
        "c = 1\n",
        "for i in range(1, n+1):\n",
        "    c = (c * i) % 1000000007\n",
        "\n",
        "# Calculate d\n",
        "d = (pow(2, n, 1000000007) + pow(3, n, 1000000007)) % 1000000007\n",
        "\n",
        "# Print the results\n",
        "print(a, b, c, d)\n"
      ],
      "metadata": {
        "colab": {
          "base_uri": "https://localhost:8080/"
        },
        "id": "1XLdKMALPLDI",
        "outputId": "2f640701-3d86-4829-fe51-44df81417543"
      },
      "execution_count": null,
      "outputs": [
        {
          "output_type": "stream",
          "name": "stdout",
          "text": [
            "100000\n",
            "5000050000 513479976 457992974 524625712\n"
          ]
        }
      ]
    },
    {
      "cell_type": "code",
      "source": [
        "n = int(input())\n",
        "\n",
        "# Calculate a\n",
        "a = (n * (n + 1) // 2) % 1000000007\n",
        "\n",
        "# Calculate b\n",
        "b = pow(n, n, 1000000007)\n",
        "\n",
        "# Calculate c\n",
        "c = 1\n",
        "for i in range(1, n + 1):\n",
        "    c = (c * i) % 1000000007\n",
        "\n",
        "# Calculate d\n",
        "d = ((pow(2, n, 1000000007) + pow(3, n, 1000000007)) % 1000000007)\n",
        "\n",
        "# Print the results\n",
        "print(a, b, c, d)\n"
      ],
      "metadata": {
        "colab": {
          "base_uri": "https://localhost:8080/"
        },
        "id": "sNfduJyEc72-",
        "outputId": "0174f93b-bf71-40a7-ea10-5400a041481c"
      },
      "execution_count": null,
      "outputs": [
        {
          "output_type": "stream",
          "name": "stdout",
          "text": [
            "400\n",
            "80200 895205374 390998217 177856269\n"
          ]
        }
      ]
    },
    {
      "cell_type": "code",
      "source": [
        "import math\n",
        "\n",
        "l = [[1,2], [3,4],[5,6]]\n",
        "for i in range(len(l)):\n",
        "  a, b = l[i]\n",
        "  # print(a, b)\n",
        "  for j in range(i+1, len(l)):\n",
        "    c, d = l[j]\n",
        "    r = math.sqrt((b - a)**2 + (d - c)**2)\n",
        "    print(r)\n",
        "# print(l[1])"
      ],
      "metadata": {
        "id": "z6whHdmLc8wB",
        "colab": {
          "base_uri": "https://localhost:8080/"
        },
        "outputId": "83b81e1b-3e55-4890-d715-33d8dbc1ae19"
      },
      "execution_count": null,
      "outputs": [
        {
          "output_type": "stream",
          "name": "stdout",
          "text": [
            "1.4142135623730951\n",
            "1.4142135623730951\n",
            "1.4142135623730951\n"
          ]
        }
      ]
    },
    {
      "cell_type": "code",
      "source": [
        "# Read input\n",
        "N, C = map(int, input().split())\n",
        "weights = []\n",
        "values = []\n",
        "for _ in range(N):\n",
        "    w, v = map(int, input().split())\n",
        "    weights.append(w)\n",
        "    values.append(v)\n",
        "\n",
        "# Initialize a list to store the maximum values\n",
        "max_values = [0] * (C + 1)\n",
        "\n",
        "# Iterate over the items\n",
        "for item in range(N):\n",
        "    # Iterate over the weights in reverse order\n",
        "    for weight in range(C, weights[item] - 1, -1):                    ## --> Jhamela ase ami kisu bujhi nai\n",
        "        # Calculate the maximum value for the current weight\n",
        "        if weight >= weights[item]:\n",
        "            # If the current weight can accommodate the current item\n",
        "            remaining_weight = weight - weights[item]\n",
        "            total_value = max_values[remaining_weight] + values[item]\n",
        "            max_values[weight] = max(max_values[weight], total_value)\n",
        "\n",
        "# Print the maximum total value\n",
        "print(max_values[C])\n"
      ],
      "metadata": {
        "id": "SW6SW6DMekzE"
      },
      "execution_count": null,
      "outputs": []
    },
    {
      "cell_type": "code",
      "source": [
        "strings = [\"apple\", \"banana\", \"cherry\", \"date\", \"elderberry\"]\n",
        "strings.sort(key=lambda x: len(x))\n",
        "print(strings)\n",
        "# Output: ['date', 'apple', 'cherry', 'banana', 'elderberry']\n"
      ],
      "metadata": {
        "colab": {
          "base_uri": "https://localhost:8080/"
        },
        "id": "kIOeQd9YnBrN",
        "outputId": "b900a777-d723-41e9-de6c-b977e7a91b06"
      },
      "execution_count": null,
      "outputs": [
        {
          "output_type": "stream",
          "name": "stdout",
          "text": [
            "['date', 'apple', 'banana', 'cherry', 'elderberry']\n"
          ]
        }
      ]
    },
    {
      "cell_type": "code",
      "source": [
        "n = int(input())\n",
        "lst = list(map(int, input().split()))\n",
        "\n",
        "c = 0\n",
        "def alienCount(arr):\n",
        "  global c\n",
        "  if (len(arr) > 1):\n",
        "    mid = (len(arr) // 2)\n",
        "    left_half = arr[ : mid]\n",
        "    right_half = arr[mid : ]\n",
        "\n",
        "    alienCount(left_half)\n",
        "    alienCount(right_half)\n",
        "\n",
        "    i = j = k = 0\n",
        "    while (i < len(left_half) and j < len(right_half)):\n",
        "      if (left_half[i] < right_half[j]):\n",
        "        arr[k] = left_half[i]\n",
        "        i += 1\n",
        "        c += 1\n",
        "      else:\n",
        "        arr[k] = right_half[j]\n",
        "        j += 1\n",
        "      k += 1\n",
        "\n",
        "    while (i < len(left_half)):\n",
        "      arr[k] = left_half[i]\n",
        "      i += 1\n",
        "      k += 1\n",
        "    while (j < len(right_half)):\n",
        "      arr[k] = right_half[j]\n",
        "      j += 1\n",
        "      k += 1\n",
        "\n",
        "alienCount(lst)\n",
        "print(c)"
      ],
      "metadata": {
        "colab": {
          "base_uri": "https://localhost:8080/"
        },
        "id": "eGLCtuHrY5OH",
        "outputId": "625ede43-640b-4f2c-b0e2-7d2f8e9c90ce"
      },
      "execution_count": null,
      "outputs": [
        {
          "output_type": "stream",
          "name": "stdout",
          "text": [
            "5\n",
            "5 4 3 2 1\n",
            "0\n"
          ]
        }
      ]
    },
    {
      "cell_type": "code",
      "source": [
        "n = int(input())\n",
        "lst = list(map(int, input().split()))\n",
        "\n",
        "c = 0\n",
        "\n",
        "def alienCount(arr):\n",
        "    global c\n",
        "    if len(arr) > 1:\n",
        "        mid = len(arr) // 2\n",
        "        left_half = arr[:mid]\n",
        "        right_half = arr[mid:]\n",
        "\n",
        "        alienCount(left_half)\n",
        "        alienCount(right_half)\n",
        "\n",
        "        i = j = k = 0\n",
        "        while i < len(left_half) and j < len(right_half):\n",
        "            if left_half[i] > right_half[j]:\n",
        "                arr[k] = left_half[i]\n",
        "                i += 1\n",
        "                c += len(right_half) - j\n",
        "            else:\n",
        "                arr[k] = right_half[j]\n",
        "                j += 1\n",
        "            k += 1\n",
        "\n",
        "        while i < len(left_half):\n",
        "            arr[k] = left_half[i]\n",
        "            i += 1\n",
        "            k += 1\n",
        "        while j < len(right_half):\n",
        "            arr[k] = right_half[j]\n",
        "            j += 1\n",
        "            k += 1\n",
        "\n",
        "alienCount(lst)\n",
        "print(c)\n"
      ],
      "metadata": {
        "colab": {
          "base_uri": "https://localhost:8080/"
        },
        "id": "pR6lnb4vdPBx",
        "outputId": "d4c1340e-62d9-4bdd-d17b-5b274014a2ad"
      },
      "execution_count": null,
      "outputs": [
        {
          "output_type": "stream",
          "name": "stdout",
          "text": [
            "5\n",
            "1 2 3 4 5\n",
            "0\n"
          ]
        }
      ]
    },
    {
      "cell_type": "code",
      "source": [
        "n = int(input())\n",
        "lst = list(map(int, input().split()))\n",
        "\n",
        "def alienCount(arr):\n",
        "    if len(arr) <= 1:\n",
        "        return arr, 0\n",
        "\n",
        "    mid = len(arr) // 2\n",
        "    left_half, inv_left = alienCount(arr[:mid])\n",
        "    right_half, inv_right = alienCount(arr[mid:])\n",
        "\n",
        "    merged, inv_merge = merge(left_half, right_half)\n",
        "\n",
        "    return merged, inv_left + inv_right + inv_merge\n",
        "\n",
        "def merge(left, right):\n",
        "    merged = []\n",
        "    inversions = 0\n",
        "    i = j = 0\n",
        "\n",
        "    while i < len(left) and j < len(right):\n",
        "        if left[i] <= right[j]:\n",
        "            merged.append(left[i])\n",
        "            i += 1\n",
        "        else:\n",
        "            merged.append(right[j])\n",
        "            j += 1\n",
        "            inversions += len(left) - i\n",
        "\n",
        "    while i < len(left):\n",
        "        merged.append(left[i])\n",
        "        i += 1\n",
        "\n",
        "    while j < len(right):\n",
        "        merged.append(right[j])\n",
        "        j += 1\n",
        "\n",
        "    return merged, inversions\n",
        "\n",
        "sorted_lst, inversions = alienCount(lst)\n",
        "print(inversions)\n"
      ],
      "metadata": {
        "colab": {
          "base_uri": "https://localhost:8080/"
        },
        "id": "Co9dDe1Cd7wA",
        "outputId": "96d8f0cc-9fac-45bf-c085-65710c56e7d5"
      },
      "execution_count": null,
      "outputs": [
        {
          "output_type": "stream",
          "name": "stdout",
          "text": [
            "5\n",
            "1 2 3 4 5\n",
            "0\n"
          ]
        }
      ]
    },
    {
      "cell_type": "code",
      "source": [
        "# task-2\n",
        "\n",
        "def get_max(a):\n",
        "  n = len(a)\n",
        "\n",
        "  if n == 1:\n",
        "    return float('-inf')\n",
        "  if n == 2:\n",
        "    return a[0] + (a[1])**2\n",
        "\n",
        "  mid = len(a)//2\n",
        "\n",
        "  l = a[ : mid]\n",
        "  # print(l)\n",
        "  r = a[mid : ]\n",
        "  # print(r)\n",
        "  left_max = get_max(l)\n",
        "  # print(\"lm\", left_max)\n",
        "\n",
        "  right_max = get_max(r)\n",
        "  # print(\"rm\", right_max)\n",
        "  lm = max(l)\n",
        "  # print(\"leftmax: \", lm)\n",
        "  m = abs(a[mid])\n",
        "  for i in range(mid, len(a)):\n",
        "    if m < abs(a[i]):\n",
        "      m = abs(a[i])\n",
        "  cross_max = lm + m**2\n",
        "  # print(cross_max)\n",
        "\n",
        "  return max(left_max, right_max, cross_max)\n",
        "\n",
        "arr = [9, 6, 5, 8, 2]\n",
        "get_max(arr)"
      ],
      "metadata": {
        "colab": {
          "base_uri": "https://localhost:8080/"
        },
        "id": "VbdVPnZpkMPz",
        "outputId": "1f53eeef-0f63-4f1f-df46-8f98d39147d4"
      },
      "execution_count": null,
      "outputs": [
        {
          "output_type": "execute_result",
          "data": {
            "text/plain": [
              "73"
            ]
          },
          "metadata": {},
          "execution_count": 20
        }
      ]
    },
    {
      "cell_type": "code",
      "source": [
        "# task-2\n",
        "\n",
        "n = int(input())\n",
        "lst = list(map(int, input().split()))\n",
        "\n",
        "def get_max(a):\n",
        "  n = len(a)\n",
        "\n",
        "  if n == 1:\n",
        "    return float('-inf')\n",
        "  if n == 2:\n",
        "    return a[0] + (a[1])**2\n",
        "\n",
        "  mid = len(a)//2\n",
        "\n",
        "  l = a[ : mid]\n",
        "  r = a[mid : ]\n",
        "\n",
        "  left_max = get_max(l)\n",
        "  right_max = get_max(r)\n",
        "\n",
        "  lm = max(l)\n",
        "  m = abs(a[mid])\n",
        "  for i in range(mid+1, len(a)):\n",
        "    if m < abs(a[i]):\n",
        "      m = abs(a[i])\n",
        "  cross_max = lm + m**2\n",
        "\n",
        "  return max(left_max, right_max, cross_max)\n",
        "\n",
        "# arr = [9, 6, 5, 8, 2]\n",
        "get_max(lst)"
      ],
      "metadata": {
        "colab": {
          "base_uri": "https://localhost:8080/"
        },
        "id": "M0AcqkIykjbl",
        "outputId": "4d8648c7-04ed-4bcc-9937-548b6a73ec02"
      },
      "execution_count": null,
      "outputs": [
        {
          "name": "stdout",
          "output_type": "stream",
          "text": [
            "5\n",
            "9 6 5 8 2\n"
          ]
        },
        {
          "output_type": "execute_result",
          "data": {
            "text/plain": [
              "73"
            ]
          },
          "metadata": {},
          "execution_count": 19
        }
      ]
    },
    {
      "cell_type": "code",
      "source": [
        "def quickSort(arr):\n",
        "    if len(arr) <= 1:\n",
        "        return arr\n",
        "\n",
        "    pivot = arr[len(arr) // 2]\n",
        "    smaller = [x for x in arr if x < pivot]\n",
        "    equal = [x for x in arr if x == pivot]\n",
        "    larger = [x for x in arr if x > pivot]\n",
        "\n",
        "    return quickSort(smaller) + equal + quickSort(larger)\n",
        "\n",
        "# Example usage:\n",
        "arr = [5, 3, 8, 1, 2, 1, 7, 6, 4]\n",
        "sorted_arr = quickSort(arr)\n",
        "print(sorted_arr)\n"
      ],
      "metadata": {
        "colab": {
          "base_uri": "https://localhost:8080/"
        },
        "id": "Pze7tjKgnOB6",
        "outputId": "eee1ae41-4cf3-4008-c696-53873dfdb4c3"
      },
      "execution_count": null,
      "outputs": [
        {
          "output_type": "stream",
          "name": "stdout",
          "text": [
            "[1, 1, 2, 3, 4, 5, 6, 7, 8]\n"
          ]
        }
      ]
    },
    {
      "cell_type": "code",
      "source": [
        "def partition(arr, low, high):\n",
        "    pivot = arr[high]\n",
        "    i = low - 1\n",
        "    for j in range(low, high):\n",
        "        if arr[j] <= pivot:\n",
        "            i += 1\n",
        "            arr[i], arr[j] = arr[j], arr[i]\n",
        "\n",
        "    arr[i + 1], arr[high] = arr[high], arr[i + 1]\n",
        "    return i + 1\n",
        "\n",
        "def quick_sort(arr, low, high):\n",
        "    if low < high:\n",
        "        pivot_index = partition(arr, low, high)\n",
        "        quick_sort(arr, low, pivot_index - 1)\n",
        "        quick_sort(arr, pivot_index + 1, high)\n",
        "\n",
        "data = [1, 7, 4, 1, 10, 9, 1, -2]\n",
        "quick_sort(data, 0, len(data) - 1)\n",
        "print(data)\n"
      ],
      "metadata": {
        "id": "-e4eUScs1bJ8",
        "outputId": "c2bce8f8-a341-47d1-a043-62e6909420b9",
        "colab": {
          "base_uri": "https://localhost:8080/"
        }
      },
      "execution_count": null,
      "outputs": [
        {
          "output_type": "stream",
          "name": "stdout",
          "text": [
            "[-2, 1, 1, 1, 4, 7, 9, 10]\n"
          ]
        }
      ]
    }
  ]
}