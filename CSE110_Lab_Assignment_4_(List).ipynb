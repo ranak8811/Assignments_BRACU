{
  "nbformat": 4,
  "nbformat_minor": 0,
  "metadata": {
    "kernelspec": {
      "display_name": "Python 3",
      "language": "python",
      "name": "python3"
    },
    "language_info": {
      "codemirror_mode": {
        "name": "ipython",
        "version": 3
      },
      "file_extension": ".py",
      "mimetype": "text/x-python",
      "name": "python",
      "nbconvert_exporter": "python",
      "pygments_lexer": "ipython3",
      "version": "3.7.6"
    },
    "colab": {
      "provenance": [],
      "include_colab_link": true
    }
  },
  "cells": [
    {
      "cell_type": "markdown",
      "metadata": {
        "id": "view-in-github",
        "colab_type": "text"
      },
      "source": [
        "<a href=\"https://colab.research.google.com/github/ANWAR8811/Assignment/blob/main/CSE110_Lab_Assignment_4_(List).ipynb\" target=\"_parent\"><img src=\"https://colab.research.google.com/assets/colab-badge.svg\" alt=\"Open In Colab\"/></a>"
      ]
    },
    {
      "cell_type": "markdown",
      "metadata": {
        "id": "xDNsncrtU1yM"
      },
      "source": [
        "# CSE110 Lab Assignment 4 (List)\n",
        "\n",
        "This Assignment is to help you develop your concept of Lists in Python.\n",
        "\n",
        "**<font color='red'>[Please follow variable naming conventions including using meaningful variable names for all the tasks]</font>**\\\n",
        "<font color='red'>When you run your code, please make sure your outputs exactly match the sample outputs for each of the sample inputs given. Check if your code works for other valid inputs not given in the samples.</font>\n",
        "\n",
        "## Write the code in Python to do the following tasks:"
      ]
    },
    {
      "cell_type": "markdown",
      "metadata": {
        "id": "gh4GUDaIU1yO"
      },
      "source": [
        "\n",
        "\n",
        "\n",
        "\n",
        "\n",
        "\n",
        "##Write your name, student ID and CSE110 theory section number below:\n",
        "\n",
        "\n",
        "\n",
        "\n",
        "\n"
      ]
    },
    {
      "cell_type": "code",
      "metadata": {
        "id": "OAYfzLIqgqyE"
      },
      "source": [
        "#Write your name, student ID and theory section number below:\n",
        "#Student Name: \n",
        "#Student ID: \n",
        "#CSE110 Theory Section No:"
      ],
      "execution_count": null,
      "outputs": []
    },
    {
      "cell_type": "markdown",
      "metadata": {
        "id": "pbdeIVcyU1yi"
      },
      "source": [
        "### Task 1\n",
        "Write a Python program that reads 5 numbers from the user into a list. After reading each number, print all the numbers that have been entered so far in the list. \n",
        "\n",
        "**Example:**\\\n",
        "If the user enters 3, prints “Numbers in the list: [3]”\\\n",
        "If the user enters 5 next, prints “Numbers in the list: [3, 5]”\\\n",
        "If the user enters 34, prints “Numbers in the list: [3, 5, 34]”\\\n",
        "If the user then enters -11, prints “Numbers in the list: [3, 5, 34, -11]”\\\n",
        "Finally, if the user enters 0 as the last number, prints “Numbers in the list: [3, 5, 34, -11, 0]”"
      ]
    },
    {
      "cell_type": "code",
      "metadata": {
        "id": "A5df9pmJU1yj",
        "colab": {
          "base_uri": "https://localhost:8080/"
        },
        "outputId": "42af5dc5-3c50-4bbc-a510-e07818f35787"
      },
      "source": [
        "#todo\n",
        "l = []\n",
        "\n",
        "for i in range(5):\n",
        "  l1 = int(input('write:'))\n",
        "\n",
        "  l.append(l1)\n",
        "\n",
        "print(l)"
      ],
      "execution_count": null,
      "outputs": [
        {
          "output_type": "stream",
          "name": "stdout",
          "text": [
            "write:3\n",
            "write:5\n",
            "write:34\n",
            "write:-11\n",
            "write:0\n",
            "[3, 5, 34, -11, 0]\n"
          ]
        }
      ]
    },
    {
      "cell_type": "markdown",
      "metadata": {
        "id": "ZrjtT-I_U1zD"
      },
      "source": [
        "### Task 2\n",
        "\n",
        "Write a Python program that takes a list as an input from the user, then creates a new list excluding the first and last two elements of the given list and prints the new list. If there are not enough elements in the list to do the task, print \"Not possible\".\n",
        "\n",
        "**Note:** You may use list slicing.\n",
        "\n",
        "===================================================================\n",
        "\n",
        "**Sample Input 1:**<br/>\n",
        "[10, 20, 24, 25, 26, 35, 70]<br/>\n",
        "\n",
        "**Sample Output 1:**<br/>\n",
        "[24, 25, 26]<br/>\n",
        "\n",
        "===================================================================\n",
        "\n",
        "**Sample Input 2:**<br/>\n",
        "[10, 20, 24, 25, 26]<br/>\n",
        "\n",
        "**Sample Output 2:**<br/>\n",
        "[24]<br/>\n",
        "\n",
        "===================================================================\n",
        "\n",
        "**Sample Input 3:**<br/>\n",
        "[10, 20, 24, 25]<br/>\n",
        "\n",
        "**Sample Output 3:**<br/>\n",
        "[]<br/>\n",
        "\n",
        "===================================================================\n",
        "\n",
        "**Sample Input 4:**<br/>\n",
        "[10, 20, 24]<br/>\n",
        "\n",
        "**Sample Output 4:**<br/>\n",
        "Not possible<br/>\n",
        "\n",
        "==================================================================="
      ]
    },
    {
      "cell_type": "code",
      "metadata": {
        "id": "3r7Ripj7U1zE",
        "colab": {
          "base_uri": "https://localhost:8080/"
        },
        "outputId": "5ffb39d4-c2e9-4514-dcf9-bafc83d090b9"
      },
      "source": [
        "#todo\n",
        "a = int(input('length:'))\n",
        "l = []\n",
        "\n",
        "for i in range(a):\n",
        "  ml = int(input('number:'))\n",
        "  l.append(ml)\n",
        "\n",
        "print(l)\n",
        "\n",
        "l1 = []\n",
        "\n",
        "for i in range(2,len(l)-2):\n",
        "  l1.append(l[i])\n",
        "\n",
        "  print(l1)\n",
        "\n"
      ],
      "execution_count": null,
      "outputs": [
        {
          "output_type": "stream",
          "name": "stdout",
          "text": [
            "length:7\n",
            "number:10\n",
            "number:20\n",
            "number:24\n",
            "number:25\n",
            "number:26\n",
            "number:35\n",
            "number:70\n",
            "[10, 20, 24, 25, 26, 35, 70]\n",
            "[24]\n",
            "[24, 25]\n",
            "[24, 25, 26]\n"
          ]
        }
      ]
    },
    {
      "cell_type": "markdown",
      "metadata": {
        "id": "AWgZaBZCzmaM"
      },
      "source": [
        "### Task 3\n",
        "\n",
        "Write a python program that reads 5 numbers from the user into a list, and then prints them in the reverse order.\n",
        "\n",
        "*Hint: You may create a list to store the input numbers and then use loop to print them in reverse order*\n",
        "\n",
        "===================================================================\n",
        "\n",
        "**Sample Input:**\\\n",
        "5\\\n",
        "-5\\\n",
        "100\\\n",
        "1\\\n",
        "0\n",
        "\n",
        "**Sample Output:**\\\n",
        "Input data: [5, -5, 100, 1, 0]\\\n",
        "Printing values from the list in reverse order:\\\n",
        "0\\\n",
        "1\\\n",
        "100\\\n",
        "-5\\\n",
        "5\n",
        "\n",
        "==================================================================="
      ]
    },
    {
      "cell_type": "code",
      "metadata": {
        "id": "ICW-03YOznTp",
        "colab": {
          "base_uri": "https://localhost:8080/"
        },
        "outputId": "e9b15b03-e362-4ce4-ffd0-f4b26a40d44e"
      },
      "source": [
        "#todo\n",
        "l = []\n",
        "\n",
        "for i in range(5):\n",
        "  l1 = int(input('number:'))\n",
        "  l.append(l1)\n",
        "\n",
        "print('input data:',l)\n",
        "\n",
        "for i in range(-1,-len(l)-1,-1):\n",
        "  print(l[i])\n",
        "\n",
        "\n",
        "\n"
      ],
      "execution_count": null,
      "outputs": [
        {
          "output_type": "stream",
          "name": "stdout",
          "text": [
            "number:5\n",
            "number:-5\n",
            "number:100\n",
            "number:1\n",
            "number:0\n",
            "input data: [5, -5, 100, 1, 0]\n",
            "0\n",
            "1\n",
            "100\n",
            "-5\n",
            "5\n"
          ]
        }
      ]
    },
    {
      "cell_type": "markdown",
      "metadata": {
        "id": "4pBLPmvre0jv"
      },
      "source": [
        "### Task 4\n",
        "\n",
        "Write a Python program that turns every item of a list into its square. [Your program should work for any lists; make changes to the lists below and check whether your program works correctly]\n",
        "\n",
        "===================================================================\n",
        "\n",
        "**Given list 1:**\\\n",
        "[1, 2, 3, 4, 5, 6, 7]\n",
        "\n",
        "**Sample Output 1:**\\\n",
        "[1, 4, 9, 16, 25, 36, 49]\n",
        "\n",
        "===================================================================\n",
        "\n",
        "**Given list 2:**\\\n",
        "[3, 5, 1, 6]\n",
        "\n",
        "**Sample Output 2:**\\\n",
        "[9, 25, 1, 36]\n",
        "\n",
        "\n",
        "===================================================================\n",
        "\n",
        "\n",
        "\n",
        "\n",
        "\n"
      ]
    },
    {
      "cell_type": "code",
      "metadata": {
        "id": "5NDg0odDfANt"
      },
      "source": [
        "#todo\n",
        "\n",
        "l1 = int(input('length:'))\n",
        "l = []\n",
        "\n",
        "for i in range(len(l1)):\n",
        "  l2 = int(input('number:'))\n",
        "  l.append(l2)\n",
        "\n",
        "\n",
        "l3 = []\n",
        "\n",
        "for i in range()\n",
        "\n"
      ],
      "execution_count": null,
      "outputs": []
    },
    {
      "cell_type": "markdown",
      "metadata": {
        "id": "G9jPuLWOetqd"
      },
      "source": [
        "### Task 5\n",
        "\n",
        "\n",
        "Write a Python program that removes all Empty strings from a **given list** and prints the modified list. [Your program should work for any given list; make changes to the list below and check whether your program works correctly]\n",
        "\n",
        "=========================================================================\n",
        "\n",
        "**Given List:**\n",
        "\n",
        "[\"hey\", \"there\", \"\", \"what's\", \"\", \"up\", \"\", \"?\"]\n",
        "\n",
        "**Sample Output:**\n",
        "\n",
        "Original List:\n",
        "['hey', 'there', '', \"what's\", '', 'up', '', '?']\n",
        "\n",
        "Modified List:\n",
        "['hey', 'there', \"what's\", 'up', '?']\n",
        "\n",
        "==========================================================================\n",
        "\n",
        "\n"
      ]
    },
    {
      "cell_type": "code",
      "metadata": {
        "id": "yIlAlqlGe7IA"
      },
      "source": [
        "#todo"
      ],
      "execution_count": null,
      "outputs": []
    },
    {
      "cell_type": "markdown",
      "metadata": {
        "id": "wfcSytFVU1zU"
      },
      "source": [
        "### Task 6\n",
        "\n",
        "Write a Python program that reads a string containing 7 numbers separated by commas, then makes a list of those numbers and prints the **largest number** and its location or index position in the list. <font color='red'>[You are not allowed to use the max(), sort(), sorted() function here]</font>\n",
        "\n",
        "[Your program should work for any given list; make changes to the list below and check whether your program works correctly]\n",
        "\n",
        "**Hint:** You may assume the first input to be the largest value initially and the largest value’s location to be 0.\n",
        "\n",
        "**Note:** You may need to be careful while printing the output. Depending on your code, you might need data conversion.\n",
        "\n",
        "===================================================================\n",
        "\n",
        "**Sample Input:**\\\n",
        " \"7, 13, 2, 10, 6, -11, 0\"\n",
        "\n",
        "**Sample Output:**\\\n",
        "My list: [7, 13, 2, 10, 6, -11, 0]\\\n",
        "Largest number in the list is 13 which was found at index 1.\n",
        "\n",
        "==================================================================="
      ]
    },
    {
      "cell_type": "code",
      "metadata": {
        "id": "kXbEh1t3U1zV",
        "colab": {
          "base_uri": "https://localhost:8080/"
        },
        "outputId": "09af5bdc-1713-46fe-d21d-233432a860f8"
      },
      "source": [
        "#todo\n",
        "a = input('write nums sep by commas:')\n",
        "\n",
        "na = a.split(',')\n",
        "\n",
        "n2 = []\n",
        "for i in range(len(na)):\n",
        "  n1 = int(na[i])\n",
        "  n2.append(n1)\n",
        "\n",
        "\n",
        "max = n2[0]\n",
        "\n",
        "for i in range(1,len(n2)):\n",
        "  if n2[i]>max:\n",
        "    nm = n2[i]\n",
        "print('ln:',nm)\n",
        "\n",
        "\n",
        "print(n2)\n",
        "\n",
        "print(na)"
      ],
      "execution_count": null,
      "outputs": [
        {
          "output_type": "stream",
          "name": "stdout",
          "text": [
            "write nums sep by commas:2,4,8,6\n",
            "ln: 6\n",
            "[2, 4, 8, 6]\n",
            "['2', '4', '8', '6']\n"
          ]
        }
      ]
    },
    {
      "cell_type": "markdown",
      "metadata": {
        "id": "UjTy79X6ewce"
      },
      "source": [
        "## Task 7\n",
        "\n",
        "Suppose you have been given two lists. Write a Python program that replaces the last element of the first list with the second list. [Your program should work for any two given lists; make changes to the lists below and check whether your program works correctly]\n",
        "\n",
        "\n",
        "===================================================================\n",
        "\n",
        "**Sample given lists 1:**\\\n",
        "List_one : [1, 4, 7, 5]\\\n",
        "List_two : [6, 1, 3, 9]\n",
        "\n",
        "**Sample Output 1:**\\\n",
        "[1, 4, 7, 6, 1, 3, 9]\n",
        "\n",
        "===================================================================\n",
        "\n",
        "**Sample given lists 2:**\\\n",
        "List_one : [1, 3, 5, 7, 9, 10]\\\n",
        "List_two : [2, 4, 6, 8]\n",
        "\n",
        "**Sample Output 2:**\\\n",
        "[1, 3, 5, 7, 9, 2, 4, 6, 8]\n",
        "\n",
        "===================================================================\n",
        "\n",
        "\n",
        "\n"
      ]
    },
    {
      "cell_type": "code",
      "metadata": {
        "id": "OlrhifBge-TA"
      },
      "source": [
        "#todo"
      ],
      "execution_count": null,
      "outputs": []
    },
    {
      "cell_type": "markdown",
      "metadata": {
        "id": "7a_1pYjfU1zI"
      },
      "source": [
        "### Task 8\n",
        "Assume, you have been given two lists. [Your program should work for any two given lists; change the following lists and check whether your program works correctly for the code you have written]\n",
        "\n",
        "list_one = [1, 2, 3, 4, 5, 6, 7, 8, 9]\\\n",
        "list_two = [10, 11, 12, -13, -14, -15, -16]\n",
        "\n",
        "Write a Python program that creates a new list with all the **even elements** of both of the given lists and prints the new list.\n",
        "\n",
        "**Hint:** You may create a third list to store the even elements of the given lists.\n",
        "\n",
        "===================================================================\n",
        "\n",
        "**Output for the above lists:** [2, 4, 6, 8, 10, 12, -14, -16]\n",
        "\n",
        "==================================================================="
      ]
    },
    {
      "cell_type": "code",
      "metadata": {
        "id": "vToa7yazU1zI"
      },
      "source": [
        "#todo"
      ],
      "execution_count": null,
      "outputs": []
    },
    {
      "cell_type": "markdown",
      "metadata": {
        "id": "vyFt-Ra5erR4"
      },
      "source": [
        "### Task 9\n",
        "\n",
        "Write a Python program that reads a string as an input from the user where multiple numbers are separated by spaces. Then, make a list of numbers from the input string without using the split() function and print the list. Finally, remove all the occurences of **even numbers** from the same input list and print the modified list.\n",
        "\n",
        "\n",
        "=========================================================================\n",
        "\n",
        "**Sample Input:**\n",
        "\n",
        "7 12 4 55 96 2 11 61 33 42\n",
        "\n",
        "**Sample Output:**\n",
        "\n",
        "Original list: [7, 12, 4, 55, 96, 2, 11, 61, 33, 42]\\\n",
        "Modified list: [7, 55, 11, 61, 33]\n",
        "\n",
        "=========================================================================\n",
        "\n",
        "\n",
        "\n"
      ]
    },
    {
      "cell_type": "code",
      "metadata": {
        "id": "fcPie0yUEBj6"
      },
      "source": [
        "#todo"
      ],
      "execution_count": null,
      "outputs": []
    },
    {
      "cell_type": "markdown",
      "metadata": {
        "id": "QaD4hLn92EKT"
      },
      "source": [
        "### Task 10\n",
        "Write a Python program that reads a string as an input from the user where multiple numbers are separated by commas. Then, make a list of numbers from the input string and print the list. Finally, remove multiple occurences of any numbers from the input list and print the modified list **without duplicate values**.\n",
        "\n",
        "*Hint: You may create a third list to store the results but you may try doing it in the same input list. You can use membership operators (in, not in) to make sure no duplicates are added.*\n",
        "\n",
        "===================================================================\n",
        "\n",
        "**Sample Input 1:**<br/>\n",
        "0, 0, 1, 2, 3, 4, 4, 5, 6, 6, 6, 7, 8, 9, 4, 4<br/>\n",
        "\n",
        "\n",
        "**Sample Output 1:**<br/>\n",
        "Input list: [0, 0, 1, 2, 3, 4, 4, 5, 6, 6, 6, 7, 8, 9, 4, 4]\\\n",
        "Modified list: [0, 1, 2, 3, 4, 5, 6, 7, 8, 9]\n",
        "\n",
        "===================================================================\n",
        "\n",
        "**Sample Input 2:**<br/>\n",
        "7, 7, 7, 1, 0, 3, 3, 55, 9<br/>\n",
        "\n",
        "\n",
        "**Sample Output 2:**<br/>\n",
        "Input list: [7, 7, 7, 1, 0, 3, 3, 55, 9]\\\n",
        "Modified list: [7, 1, 0, 3, 55, 9]\n",
        "\n",
        "==================================================================="
      ]
    },
    {
      "cell_type": "code",
      "metadata": {
        "id": "EUbQbz5hU1zP"
      },
      "source": [
        "#to do\n"
      ],
      "execution_count": null,
      "outputs": []
    },
    {
      "cell_type": "markdown",
      "metadata": {
        "id": "bvF30RQlemBW"
      },
      "source": [
        "### Task 11\n",
        "Assume, you have been given two lists: List_one and List_two. [Your program should work for any two given lists; change the following lists and check whether your program works correctly for the code you have written]\n",
        "\n",
        "Write a Python program that prints \"True\", if the given two lists have at least one common member. Otherwise, print \"False\". \n",
        "\n",
        "Note: Please use concepts of flag and break to solve this task.\n",
        "\n",
        "===================================================================\n",
        "\n",
        "**Given lists 1:**\\\n",
        "List_one : [1, 4, 3, 2, 6]\\\n",
        "List_two : [5, 6, 9, 8, 7]\n",
        "\n",
        "**Sample Output 1:**\\\n",
        "True\n",
        "\n",
        "===================================================================\n",
        "\n",
        "**Given lists 2:**\\\n",
        "List_one : [1, 4, 3, 2, 5]\\\n",
        "List_two : [8, 7, 6, 9]\n",
        "\n",
        "**Sample Output 2:**\\\n",
        "False\n",
        "\n",
        "===================================================================\n"
      ]
    },
    {
      "cell_type": "code",
      "metadata": {
        "id": "LEnaTlyoMJdS"
      },
      "source": [
        "#todo"
      ],
      "execution_count": null,
      "outputs": []
    },
    {
      "cell_type": "markdown",
      "metadata": {
        "id": "WZXnxHTdGrMC"
      },
      "source": [
        "## Optional Tasks (12-17) [Ungraded]"
      ]
    },
    {
      "cell_type": "markdown",
      "metadata": {
        "id": "nwRZ3_0tC3fq"
      },
      "source": [
        "### Task 12\n",
        "\n",
        "\n",
        "Write a Python program that reads 7 numbers into a list and prints the **second largest number** and its location or index position on the list. <font color='red'>[You are not allowed to use the max(), sort(), sorted() function here]</font>\n",
        "\n",
        "===================================================================\n",
        "\n",
        "**Sample Input:**\\\n",
        " 7, 13, 2, 10, 6, -11, 0\n",
        "\n",
        "**Sample Output:**\\\n",
        "My list: [7, 13, 2, 10, 6, -11, 0]\\\n",
        "Second largest number in the list is 10 which was found at index 3.\n",
        "\n",
        "===================================================================\n",
        "\n"
      ]
    },
    {
      "cell_type": "code",
      "metadata": {
        "id": "2fhPNFKGEOKi"
      },
      "source": [
        "#todo"
      ],
      "execution_count": null,
      "outputs": []
    },
    {
      "cell_type": "markdown",
      "metadata": {
        "id": "lvSiLaobU1zY"
      },
      "source": [
        "### Task 13\n",
        "\n",
        "Write a Python program that reads 5 numbers into a list and prints the smallest and largest number and their locations in the list. <font color='red'>[You are not allowed to use the max(), min(), sort(), sorted() functions here]</font>\n",
        "\n",
        "**Hint:** You may assume the first input to be the largest value initially and the largest value’s location to be 0. Similarly, you can assume the first input to be the smallest value initially and the smallest value’s location to be 0. \n",
        "\n",
        "**Note:** You may need to be careful while printing the output. Depending on your code, you might need data conversion.\n",
        "\n",
        "===================================================================\n",
        "\n",
        "**Sample Input:**\\\n",
        "7, 13, -5, 10, 6\n",
        "\n",
        "**Sample Output:**\\\n",
        "My list: [7, 13, -5, 10, 6]\\\n",
        "Smallest number in the list is -5 which was found at index 2\\\n",
        "Largest number in the list is 13 which was found at index 1\n",
        "\n",
        "==================================================================="
      ]
    },
    {
      "cell_type": "code",
      "metadata": {
        "id": "yiS5TWSDU1zY"
      },
      "source": [
        "#todo"
      ],
      "execution_count": null,
      "outputs": []
    },
    {
      "cell_type": "markdown",
      "metadata": {
        "id": "rguDZ8SBCHD8"
      },
      "source": [
        "### Task 14\n",
        "Write a Python program that takes two lists as an input from the user. Then print a new list with the **common elements** of both the input lists. \n",
        "\n",
        "*Hint: You may need to create a third list to store the results. You can use membership operators (in, not in) to make sure similar elements are added.*\n",
        "\n",
        "===================================================================\n",
        "\n",
        "**Sample Input 1:**<br/>\n",
        "A, B, C, D\n",
        "\n",
        "\n",
        "C, E, F, B\n",
        "\n",
        "\n",
        "**Sample Output 1:**<br/>\n",
        "['C', 'B']\n",
        "\n",
        "===================================================================\n",
        "\n",
        "**Sample Input 2:**<br/>\n",
        "1, 3, A, H, P\n",
        "\n",
        "\n",
        "A, G, 1, P, O\n",
        "\n",
        "\n",
        "**Sample Output 2:**<br/>\n",
        "['1', 'A', 'P']\n",
        "\n",
        "===================================================================\n"
      ]
    },
    {
      "cell_type": "code",
      "metadata": {
        "id": "3iueGiPPGG66"
      },
      "source": [
        "# todo"
      ],
      "execution_count": null,
      "outputs": []
    },
    {
      "cell_type": "markdown",
      "metadata": {
        "id": "tjcE5oitCM2s"
      },
      "source": [
        "### Task 15\n",
        "\n",
        "Assume, you have been given two lists. [Your program should work for any two given lists; make changes to the lists below and check whether your program works correctly]\n",
        "\n",
        "list_one = [1, 2 , 2, 4, 5, 5, 7, 99, 200, 303, 70]\\\n",
        "list_two = [1, 1, 2, 3, 3, 3, 4, 5, 200, 500, -5]\n",
        "\n",
        "Write a Python program that creates a new list with all the **unique elements** of both the given lists. \n",
        "<font color='red'> **You need to make sure that there are no duplicates in the resulting list.**</font> Finally, print the updated list.\n",
        "\n",
        "**Hint:** You may create a third list to store the results. You can use membership operators (in, not in) to make sure no duplicates are added.\n",
        "\n",
        "===================================================================\n",
        "\n",
        "**Output for the above two lists**: \n",
        "[1, 2, 4, 5, 7, 99, 200, 303, 70, 3, 500, -5]\n",
        "\n",
        "==================================================================="
      ]
    },
    {
      "cell_type": "code",
      "metadata": {
        "id": "b2TwkUqnGZU-"
      },
      "source": [
        "# todo"
      ],
      "execution_count": null,
      "outputs": []
    },
    {
      "cell_type": "markdown",
      "metadata": {
        "id": "A1GQ4lem2We7"
      },
      "source": [
        "### Task 16\n",
        "\n",
        "Write a python program to take a list as a string input from the user and print it back to the user as a list. Please look at the examples below for clarification. \n",
        "\n",
        "**<font color='red'>[Must use string split() and strip() functions]</font>**\n",
        "\n",
        "================================================================\n",
        "\n",
        "**Sample Input 1:**\\\n",
        "'1, &nbsp; &nbsp;&nbsp; &nbsp; 2  ,&nbsp; &nbsp;&nbsp; &nbsp;&nbsp; &nbsp;&nbsp; &nbsp;3, 50, 4'\n",
        "\n",
        "**Sample Output 1:**\\\n",
        "Original data: '1, &nbsp; &nbsp;&nbsp; &nbsp; 2  ,&nbsp; &nbsp;&nbsp; &nbsp;&nbsp; &nbsp;&nbsp; &nbsp;3, 50, 4'\\\n",
        "After removing square brackets: 1, &nbsp; &nbsp;&nbsp; &nbsp; 2  ,&nbsp; &nbsp;&nbsp; &nbsp;&nbsp; &nbsp;&nbsp; &nbsp;3, 50, 4\\\n",
        "Numbers in string format with extra white spaces: ['1', '&nbsp; &nbsp;&nbsp; &nbsp; 2'  ,'&nbsp; &nbsp;&nbsp; &nbsp;&nbsp; &nbsp;&nbsp; &nbsp;3', '50', '4']\\\n",
        "Final data (numbers in list format): [1, 2, 3, 50, 4]\n",
        "                \n",
        "                \n",
        "================================================================\n",
        "                \n",
        "  \n",
        "**Sample Input 2:**\n",
        "'[1,&nbsp; &nbsp;&nbsp; &nbsp;2&nbsp; &nbsp;,&nbsp; &nbsp;&nbsp; &nbsp;&nbsp; &nbsp;&nbsp; &nbsp;3, 50, 4]'\n",
        "\n",
        "**Sample Output 2:**\\\n",
        "Original data: [1,&nbsp; &nbsp;&nbsp; &nbsp;2&nbsp; &nbsp;,&nbsp; &nbsp;&nbsp; &nbsp;&nbsp; &nbsp;&nbsp; &nbsp;3, 50, 4]\\\n",
        "After removing square brackets: 1,&nbsp; &nbsp;&nbsp; &nbsp;2&nbsp; &nbsp;,&nbsp; &nbsp;&nbsp; &nbsp;&nbsp; &nbsp;&nbsp; &nbsp;3, 50, 4\\\n",
        "Numbers in string format with extra white spaces: ['1', '&nbsp; &nbsp;&nbsp; &nbsp;2&nbsp; &nbsp;', '&nbsp; &nbsp;&nbsp; &nbsp;&nbsp; &nbsp;&nbsp; &nbsp;3', '50', '4']\\\n",
        "Final data (numbers in list format): [1, 2, 3, 50, 4]\n",
        "                \n",
        "                \n",
        "================================================================\n",
        "\n",
        "                \n",
        "  \n",
        "**Sample Input 3:**\\\n",
        "\"&nbsp; &nbsp;&nbsp; &nbsp;[1,&nbsp; &nbsp;2&nbsp; &nbsp;,&nbsp; &nbsp;&nbsp; &nbsp;&nbsp; &nbsp;3,&nbsp; &nbsp;50,&nbsp; &nbsp;4]&nbsp; &nbsp;&nbsp; &nbsp;&nbsp; &nbsp;\"\n",
        "\n",
        "**Sample Output 3:**\\\n",
        "Original data: &nbsp; &nbsp;&nbsp; &nbsp;1,&nbsp; &nbsp;2&nbsp; &nbsp;,&nbsp; &nbsp;&nbsp; &nbsp;&nbsp; &nbsp;3,&nbsp; &nbsp;50,&nbsp; &nbsp;4&nbsp; &nbsp;&nbsp; &nbsp;&nbsp; &nbsp;\\\n",
        "After removing square brackets: 1,&nbsp; &nbsp;2&nbsp; &nbsp;,&nbsp; &nbsp;&nbsp; &nbsp;&nbsp; &nbsp;3,&nbsp; &nbsp;50,&nbsp; &nbsp;4\\\n",
        "Numbers in string format with extra white spaces: [' 1', '&nbsp; &nbsp;2&nbsp; &nbsp;', '&nbsp; &nbsp;&nbsp; &nbsp;&nbsp; &nbsp;3', '&nbsp; &nbsp;50', '&nbsp; &nbsp;4']\\\n",
        "Final data (numbers in list format): [1, 2, 3, 50, 4]\n",
        "\n",
        "                \n",
        "================================================================"
      ]
    },
    {
      "cell_type": "code",
      "metadata": {
        "id": "sV24bMYu2WPf"
      },
      "source": [
        "#todo"
      ],
      "execution_count": null,
      "outputs": []
    },
    {
      "cell_type": "markdown",
      "metadata": {
        "id": "Ju21t8um2jiS"
      },
      "source": [
        "\n",
        "### Task 17\n",
        "Write a Python program that takes a single string as an input from the user where few numbers are separated by commas. Now, make a list with the numbers of the given string.Then your task is to remove multiple occurences of any number and then finally print the list **without any duplicate values**.\n",
        "\n",
        "*Hint (1): For obtaining the numbers from the string, use split(). For cleaning the data, use strip().*\n",
        "\n",
        "*Hint (2): You may create a third list to store the results. You can use membership operators (in, not in) to make sure no duplicates are added.*\n",
        "\n",
        "===================================================================\n",
        "\n",
        "**Sample Input 1:**<br/>\n",
        "0, 0, 1, 2, 3, 4,&nbsp;&nbsp; &nbsp;&nbsp; 4, 5, 6, 6, 6,&nbsp;&nbsp;&nbsp;&nbsp;&nbsp;&nbsp;7, 8, 9, 4,&nbsp;&nbsp;&nbsp;&nbsp;&nbsp;&nbsp;&nbsp;&nbsp; 4<br/>\n",
        "\n",
        "\n",
        "**Sample Output 1:**<br/>\n",
        "Given numbers in list: [0, 0, 1, 2, 3, 4, 4, 5, 6, 6, 6, 7, 8, 9, 4, 4]\\\n",
        "List without any dupliacte values: [0, 1, 2, 3, 4, 5, 6, 7, 8, 9]<br/>\n",
        "\n",
        "===================================================================\n",
        "\n",
        "**Sample Input 2:**<br/>\n",
        "7, 7, 7, 1, &nbsp;&nbsp;&nbsp;&nbsp;&nbsp;&nbsp;&nbsp;&nbsp;&nbsp;&nbsp;0, 3, 3, &nbsp;&nbsp;55, 9<br/>\n",
        "\n",
        "\n",
        "**Sample Output 2:**<br/>\n",
        "Given numbers in list: [7, 7, 7, 1, 0, 3, 3, 55, 9]\\\n",
        "List without any dupliacte values: [7, 1, 0, 3, 55, 9]<br/>\n",
        "\n",
        "===================================================================\n"
      ]
    },
    {
      "cell_type": "code",
      "metadata": {
        "id": "fCEuh7r_2kgE"
      },
      "source": [
        "#todo"
      ],
      "execution_count": null,
      "outputs": []
    }
  ]
}