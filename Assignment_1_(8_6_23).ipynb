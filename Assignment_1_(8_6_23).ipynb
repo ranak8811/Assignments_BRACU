{
  "nbformat": 4,
  "nbformat_minor": 0,
  "metadata": {
    "colab": {
      "provenance": [],
      "authorship_tag": "ABX9TyNZpac1OLui8neZDPgsLrTX",
      "include_colab_link": true
    },
    "kernelspec": {
      "name": "python3",
      "display_name": "Python 3"
    },
    "language_info": {
      "name": "python"
    }
  },
  "cells": [
    {
      "cell_type": "markdown",
      "metadata": {
        "id": "view-in-github",
        "colab_type": "text"
      },
      "source": [
        "<a href=\"https://colab.research.google.com/github/ANWAR8811/Assignments/blob/main/Assignment_1_(8_6_23).ipynb\" target=\"_parent\"><img src=\"https://colab.research.google.com/assets/colab-badge.svg\" alt=\"Open In Colab\"/></a>"
      ]
    },
    {
      "cell_type": "code",
      "execution_count": 1,
      "metadata": {
        "colab": {
          "base_uri": "https://localhost:8080/"
        },
        "id": "Z8vwREHYMecj",
        "outputId": "d29a2b55-67fe-41ca-e820-a9cb2e7ee840"
      },
      "outputs": [
        {
          "output_type": "stream",
          "name": "stdout",
          "text": [
            "[40, 50, 60, 0, 0, 0]\n"
          ]
        }
      ],
      "source": [
        "# Task-1\n",
        "\n",
        "source=[10,20,30,40,50,60]\n",
        "\n",
        "def shiftLeft(s,k):\n",
        "  for j in range(k):\n",
        "    for i in range(len(s)-1):\n",
        "      s[i] = s[i+1]\n",
        "    s[len(s)-1] = 0\n",
        "  print(s)\n",
        "shiftLeft(source,3)"
      ]
    },
    {
      "cell_type": "code",
      "source": [
        "# Task-2\n",
        "\n",
        "source=[10,20,30,40,50,60]\n",
        "\n",
        "def rotateLeft(s,k):\n",
        "  for j in range(k):\n",
        "    a = s[0]\n",
        "    for i in range(len(s)-1):\n",
        "      s[i] = s[i+1]\n",
        "    s[len(s)-1] = a\n",
        "  print(s)\n",
        "rotateLeft(source,3)"
      ],
      "metadata": {
        "colab": {
          "base_uri": "https://localhost:8080/"
        },
        "id": "wISH-B2nM6f1",
        "outputId": "b67cfabb-7ae5-4efd-8913-21c6801d0763"
      },
      "execution_count": 4,
      "outputs": [
        {
          "output_type": "stream",
          "name": "stdout",
          "text": [
            "[40, 50, 60, 10, 20, 30]\n"
          ]
        }
      ]
    },
    {
      "cell_type": "code",
      "source": [
        "# Task-3\n",
        "\n",
        "source=[10,20,30,40,50,60]\n",
        "\n",
        "def shiftRight(s,k):\n",
        "  for j in range(k):\n",
        "    for i in range(len(s)-1,-1,-1):\n",
        "      s[i] = s[i-1]\n",
        "    s[0] = 0\n",
        "  print(s)\n",
        "shiftRight(source,3)\n"
      ],
      "metadata": {
        "colab": {
          "base_uri": "https://localhost:8080/"
        },
        "id": "2FKPy-8cNBL9",
        "outputId": "966bcc72-5ebc-40e6-95a1-e198c23f4ca7"
      },
      "execution_count": 5,
      "outputs": [
        {
          "output_type": "stream",
          "name": "stdout",
          "text": [
            "[0, 0, 0, 10, 20, 30]\n"
          ]
        }
      ]
    },
    {
      "cell_type": "code",
      "source": [
        "# Task-4\n",
        "\n",
        "source=[10,20,30,40,50,60]\n",
        "\n",
        "def rotateRight(s,k):\n",
        "  for j in range(k):\n",
        "    x = s[len(s)-1]\n",
        "    for i in range(len(s)-1,-1,-1):\n",
        "      s[i] = s[i-1]\n",
        "    s[0] = x\n",
        "  print(s)\n",
        "rotateRight(source,3)"
      ],
      "metadata": {
        "colab": {
          "base_uri": "https://localhost:8080/"
        },
        "id": "ALrV_BqnNE2N",
        "outputId": "f8abc2cb-42d4-4452-e02a-37c1b27f4fa9"
      },
      "execution_count": 6,
      "outputs": [
        {
          "output_type": "stream",
          "name": "stdout",
          "text": [
            "[40, 50, 60, 10, 20, 30]\n"
          ]
        }
      ]
    },
    {
      "cell_type": "code",
      "source": [
        "# Task-5\n",
        "\n",
        "source=[10,20,30,40,50,0,0]\n",
        "\n",
        "def remove(s,si,idx):\n",
        "  for i in range(idx, si):\n",
        "    s[i] = s[i+1]\n",
        "  print(s)\n",
        "remove(source,5,2)"
      ],
      "metadata": {
        "colab": {
          "base_uri": "https://localhost:8080/"
        },
        "id": "JbrWdfHtNKtU",
        "outputId": "9af1550c-8544-456d-b0af-6bf74e6406fe"
      },
      "execution_count": 7,
      "outputs": [
        {
          "output_type": "stream",
          "name": "stdout",
          "text": [
            "[10, 20, 40, 50, 0, 0, 0]\n"
          ]
        }
      ]
    },
    {
      "cell_type": "code",
      "source": [
        "# Task-6\n",
        "\n",
        "source=[10,2,30,2,50,2,2,0,0]\n",
        "\n",
        "def removeAll(s,si,e):\n",
        "  i = 0\n",
        "  while i<=si:\n",
        "    if s[i] == e:\n",
        "      for j in range(i, len(s)-1):\n",
        "        s[j] = s[j+1]\n",
        "    else:\n",
        "      i += 1\n",
        "  print(s)\n",
        "removeAll(source,7,2)"
      ],
      "metadata": {
        "colab": {
          "base_uri": "https://localhost:8080/"
        },
        "id": "hf9Kw8qeNOJT",
        "outputId": "d29269fb-c56b-4139-f8a4-99fe5f8e9545"
      },
      "execution_count": 8,
      "outputs": [
        {
          "output_type": "stream",
          "name": "stdout",
          "text": [
            "[10, 30, 50, 0, 0, 0, 0, 0, 0]\n"
          ]
        }
      ]
    },
    {
      "cell_type": "code",
      "source": [
        "# Task-7\n",
        "\n",
        "#source= [1, 1, 1, 2, 1]\n",
        "source = [2, 1, 1, 2, 1]\n",
        "\n",
        "def splittingArray(s):\n",
        "  s1 = 0\n",
        "  s2 = 0\n",
        "  flag = 'false'\n",
        "  for i in range(len(s)):\n",
        "    for j in range(i+1):\n",
        "      s1 += s[j]\n",
        "    for k in range(i+1, len(s)):\n",
        "      s2 += s[k]\n",
        "    if s1 == s2:\n",
        "      flag = 'true'\n",
        "    s1 = 0\n",
        "    s2 = 0\n",
        "  return flag\n",
        "x = splittingArray(source)\n",
        "print(x)\n"
      ],
      "metadata": {
        "colab": {
          "base_uri": "https://localhost:8080/"
        },
        "id": "R5F_znP7NRwE",
        "outputId": "7d4c38da-7961-4f4b-c334-22267da6f2ce"
      },
      "execution_count": 9,
      "outputs": [
        {
          "output_type": "stream",
          "name": "stdout",
          "text": [
            "false\n"
          ]
        }
      ]
    },
    {
      "cell_type": "code",
      "source": [
        "# Task-8\n",
        "\n",
        "def sequnce(n):\n",
        "  na = [0]*(n*n)\n",
        "  c = 0\n",
        "  for i in range(1,n+1):\n",
        "    for j in range(n-i):\n",
        "      na[c] = 0\n",
        "      c += 1\n",
        "    for k in range(i, 0, -1):\n",
        "      na[c] = k\n",
        "      c += 1\n",
        "  return na\n",
        "num = int(input())\n",
        "print(sequnce(num))"
      ],
      "metadata": {
        "colab": {
          "base_uri": "https://localhost:8080/"
        },
        "id": "xPcUkv6fNS00",
        "outputId": "1f8a9888-7a9a-4283-fab2-35768e883c3b"
      },
      "execution_count": 10,
      "outputs": [
        {
          "output_type": "stream",
          "name": "stdout",
          "text": [
            "4\n",
            "[0, 0, 0, 1, 0, 0, 2, 1, 0, 3, 2, 1, 4, 3, 2, 1]\n"
          ]
        }
      ]
    },
    {
      "cell_type": "code",
      "source": [
        "# Task-9\n",
        "\n",
        "arr = [1,1,2, 2, 1, 1,1,1]\n",
        "\n",
        "def MaxBunchCount(arr):\n",
        "  c = 0\n",
        "  max = 0\n",
        "  temp = arr[0]\n",
        "  for i in range(len(arr)):\n",
        "    if arr[i] == temp:\n",
        "      c += 1\n",
        "      if max<c:\n",
        "        max = c\n",
        "    else:\n",
        "      temp = arr[i]\n",
        "      c = 1\n",
        "  return max\n",
        "x = MaxBunchCount(arr)\n",
        "print(x)"
      ],
      "metadata": {
        "colab": {
          "base_uri": "https://localhost:8080/"
        },
        "id": "sDBwGofCNZ6b",
        "outputId": "fb04c856-d90d-40a7-bd54-b86910c5999d"
      },
      "execution_count": 11,
      "outputs": [
        {
          "output_type": "stream",
          "name": "stdout",
          "text": [
            "4\n"
          ]
        }
      ]
    },
    {
      "cell_type": "code",
      "source": [
        "# Task-10\n",
        "\n",
        "arr = [3,4,6,3,4,7,4,6,8,6,6]\n",
        "\n",
        "def Repetition(arr):\n",
        "  narr1 = [0]*len(arr)\n",
        "  narr2 = [0]*len(arr)\n",
        "  c1 = 0\n",
        "  c2 = 0\n",
        "  for i in range(len(arr)):\n",
        "    if arr[i] not in narr1:\n",
        "      narr1[c1] = arr[i]\n",
        "      for j in range(len(arr)):\n",
        "        if arr[j] == arr[i]:\n",
        "          c2 += 1\n",
        "      narr2[c1] = c2\n",
        "      c1 += 1\n",
        "      c2 = 0\n",
        "  for k in range(len(narr2)):\n",
        "     if narr2[k]!=0  and narr2[k]!=1:\n",
        "      for a in range(k+1, len(narr2)):\n",
        "          if narr2[k]==narr2[a]:\n",
        "            print(narr1)\n",
        "            print(narr2)\n",
        "            return 'True'\n",
        "  #print(narr1)\n",
        "  #print(narr2)\n",
        "  return 'False'\n",
        "\n",
        "x = Repetition(arr)\n",
        "print(x)\n"
      ],
      "metadata": {
        "colab": {
          "base_uri": "https://localhost:8080/"
        },
        "id": "stI9PjdiNekj",
        "outputId": "037de52f-92fe-4177-cce4-9a919f220976"
      },
      "execution_count": 12,
      "outputs": [
        {
          "output_type": "stream",
          "name": "stdout",
          "text": [
            "False\n"
          ]
        }
      ]
    }
  ]
}