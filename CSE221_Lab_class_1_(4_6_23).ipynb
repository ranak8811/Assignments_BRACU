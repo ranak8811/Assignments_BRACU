{
  "nbformat": 4,
  "nbformat_minor": 0,
  "metadata": {
    "colab": {
      "provenance": [],
      "authorship_tag": "ABX9TyMfxliKsAwVcsxw6XeWkUpq",
      "include_colab_link": true
    },
    "kernelspec": {
      "name": "python3",
      "display_name": "Python 3"
    },
    "language_info": {
      "name": "python"
    }
  },
  "cells": [
    {
      "cell_type": "markdown",
      "metadata": {
        "id": "view-in-github",
        "colab_type": "text"
      },
      "source": [
        "<a href=\"https://colab.research.google.com/github/ANWAR8811/Assignments/blob/main/CSE221_Lab_class_1_(4_6_23).ipynb\" target=\"_parent\"><img src=\"https://colab.research.google.com/assets/colab-badge.svg\" alt=\"Open In Colab\"/></a>"
      ]
    },
    {
      "cell_type": "code",
      "execution_count": null,
      "metadata": {
        "colab": {
          "base_uri": "https://localhost:8080/"
        },
        "id": "9HWblHitJnRU",
        "outputId": "b781887a-15b9-424e-f111-46a862f75cf1"
      },
      "outputs": [
        {
          "output_type": "stream",
          "name": "stdout",
          "text": [
            "[-9, -2, 0, 11, 45]\n"
          ]
        }
      ],
      "source": [
        "def bubbleSort(arr):\n",
        "  for i in range(len(arr)):\n",
        "    for j in range(0,len(arr)-i-1):\n",
        "      if arr[j] > arr[j+1]:\n",
        "        temp = arr[j]\n",
        "        arr[j] = arr[j+1]\n",
        "        arr[j+1] = temp\n",
        "\n",
        "data = [-2, 45, 0, 11, -9]\n",
        "\n",
        "sorted = bubbleSort(data)\n",
        "\n",
        "print(data)"
      ]
    },
    {
      "cell_type": "code",
      "source": [
        "# Bubble sort in Python\n",
        "\n",
        "def bubbleSort(array):\n",
        "\n",
        "  # loop to access each array element\n",
        "  for i in range(len(array)):\n",
        "\n",
        "    # loop to compare array elements\n",
        "    for j in range(0, len(array) - i - 1):\n",
        "\n",
        "      # compare two adjacent elements\n",
        "      # change > to < to sort in descending order\n",
        "      if array[j] > array[j + 1]:\n",
        "\n",
        "        # swapping elements if elements\n",
        "        # are not in the intended order\n",
        "        temp = array[j]\n",
        "        array[j] = array[j+1]\n",
        "        array[j+1] = temp\n",
        "\n",
        "\n",
        "data = [-2, 45, 0, 11, -9]\n",
        "\n",
        "bubbleSort(data)\n",
        "\n",
        "print('Sorted Array in Ascending Order:')\n",
        "print(data)"
      ],
      "metadata": {
        "colab": {
          "base_uri": "https://localhost:8080/"
        },
        "id": "9XfbEMM1MPvv",
        "outputId": "a1dcaa8a-631e-4368-81de-532d482078a9"
      },
      "execution_count": null,
      "outputs": [
        {
          "output_type": "stream",
          "name": "stdout",
          "text": [
            "Sorted Array in Ascending Order:\n",
            "[-9, -2, 0, 11, 45]\n"
          ]
        }
      ]
    },
    {
      "cell_type": "code",
      "source": [
        "s = \"Hello, World!\"\n",
        "\n",
        "start_index = 0 if len(s) < 10 else 6\n",
        "end_index = 5 if len(s) < 10 else len(s)\n",
        "\n",
        "substring = s[start_index:end_index]\n",
        "print(substring)\n"
      ],
      "metadata": {
        "colab": {
          "base_uri": "https://localhost:8080/"
        },
        "id": "1TcZ2fiADfAg",
        "outputId": "19036b3c-4850-4959-a398-468177d550ce"
      },
      "execution_count": null,
      "outputs": [
        {
          "output_type": "stream",
          "name": "stdout",
          "text": [
            " World!\n"
          ]
        }
      ]
    },
    {
      "cell_type": "code",
      "source": [
        "print(3:33 < 4:44)"
      ],
      "metadata": {
        "colab": {
          "base_uri": "https://localhost:8080/",
          "height": 133
        },
        "id": "bdlR4JOVN3bn",
        "outputId": "b909f951-e14f-4027-9542-6f45c5867eb5"
      },
      "execution_count": null,
      "outputs": [
        {
          "output_type": "error",
          "ename": "SyntaxError",
          "evalue": "ignored",
          "traceback": [
            "\u001b[0;36m  File \u001b[0;32m\"<ipython-input-3-31bdeba2065a>\"\u001b[0;36m, line \u001b[0;32m1\u001b[0m\n\u001b[0;31m    print(3:33 < 4:44)\u001b[0m\n\u001b[0m           ^\u001b[0m\n\u001b[0;31mSyntaxError\u001b[0m\u001b[0;31m:\u001b[0m invalid syntax\n"
          ]
        }
      ]
    },
    {
      "cell_type": "code",
      "source": [
        "l = [2,13,4,5]\n",
        "# k = map(str, l)\n",
        "# print(list(map(str, l)))\n",
        "# print(l)\n",
        "print(sum(l))"
      ],
      "metadata": {
        "colab": {
          "base_uri": "https://localhost:8080/"
        },
        "id": "6lVC5mAqYFtI",
        "outputId": "489abae5-c981-429a-fb6a-649bf0ac5263"
      },
      "execution_count": null,
      "outputs": [
        {
          "output_type": "stream",
          "name": "stdout",
          "text": [
            "24\n"
          ]
        }
      ]
    },
    {
      "cell_type": "code",
      "source": [
        "print('5:7'<'9:5')"
      ],
      "metadata": {
        "colab": {
          "base_uri": "https://localhost:8080/"
        },
        "id": "-hJD8ZoTXY9_",
        "outputId": "d3c4121c-537a-4b9b-cb25-bdcc71260d19"
      },
      "execution_count": null,
      "outputs": [
        {
          "output_type": "stream",
          "name": "stdout",
          "text": [
            "True\n"
          ]
        }
      ]
    },
    {
      "cell_type": "code",
      "source": [],
      "metadata": {
        "id": "Fwn0mOM0Xd8Y"
      },
      "execution_count": null,
      "outputs": []
    }
  ]
}