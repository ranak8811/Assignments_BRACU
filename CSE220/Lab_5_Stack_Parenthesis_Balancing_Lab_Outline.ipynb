{
  "nbformat": 4,
  "nbformat_minor": 0,
  "metadata": {
    "colab": {
      "provenance": [],
      "authorship_tag": "ABX9TyNUe8uKmZd1//zjORwrdNLh",
      "include_colab_link": true
    },
    "kernelspec": {
      "name": "python3",
      "display_name": "Python 3"
    },
    "language_info": {
      "name": "python"
    }
  },
  "cells": [
    {
      "cell_type": "markdown",
      "metadata": {
        "id": "view-in-github",
        "colab_type": "text"
      },
      "source": [
        "<a href=\"https://colab.research.google.com/github/ANWAR8811/Assignments/blob/main/Lab_5_Stack_Parenthesis_Balancing_Lab_Outline.ipynb\" target=\"_parent\"><img src=\"https://colab.research.google.com/assets/colab-badge.svg\" alt=\"Open In Colab\"/></a>"
      ]
    },
    {
      "cell_type": "code",
      "execution_count": 1,
      "metadata": {
        "colab": {
          "base_uri": "https://localhost:8080/"
        },
        "id": "sF7VajNxcOVx",
        "outputId": "16e511a0-b5ff-4031-993d-91ddd9fcfd86"
      },
      "outputs": [
        {
          "output_type": "stream",
          "name": "stdout",
          "text": [
            "1+2*[3*3+{4–5(6(7/8/9)+10)–11+(12*8)]+14\n",
            "This expression is NOT correct.\n",
            "Error at character #10. {- not closed.\n"
          ]
        }
      ],
      "source": [
        "## ArrayStack\n",
        "\n",
        "class ArrayStack:\n",
        "  def __init__(self):\n",
        "    self.arr = [None]*100\n",
        "    self.size = -1\n",
        "    \n",
        "  def push(self, elem):\n",
        "    if self.size == len(self.arr)-1:\n",
        "      print(\"Overflow\")\n",
        "    else:\n",
        "      self.size += 1 \n",
        "      self.arr[self.size] = elem \n",
        "          \n",
        "  def pop(self):\n",
        "    if self.size == -1:\n",
        "      print(\"Underflow\")\n",
        "    else:\n",
        "      poped_value = self.arr[self.size]\n",
        "      self.arr[self.size] = None\n",
        "      self.size -= 1\n",
        "      return poped_value\n",
        "\n",
        "  def peek(self):\n",
        "    if self.size == -1:\n",
        "      print(\"Underflow\")\n",
        "    else:\n",
        "      return self.arr[self.size]\n",
        "\n",
        "  def isEmpty(self):\n",
        "    if self.size == -1:\n",
        "      return True\n",
        "    else: \n",
        "      return False  \n",
        "\n",
        "def checking(s):\n",
        "  flag = True\n",
        "  s3 = ArrayStack()\n",
        "  d = {\")\":\"(\", \"}\":\"{\", \"]\":\"[\"}\n",
        "  no = 0\n",
        "  nc = [None]*len(s)\n",
        "  c = 0\n",
        "  \n",
        "  for i in range(len(s)):   \n",
        "    if s[i] == '[' or s[i] == '(' or s[i] == '{':\n",
        "      s3.push(s[i])\n",
        "      nc[c] = i\n",
        "      c += 1\n",
        "    elif s[i] == ']' or s[i] == '}' or s[i] == ')':\n",
        "      if s3.isEmpty():\n",
        "        flag = False\n",
        "        no = i\n",
        "        break\n",
        "      else:\n",
        "        val = s3.pop()\n",
        "        c -= 1\n",
        "       \n",
        "        if d[s[i]] != val:\n",
        "          flag = False\n",
        "          break\n",
        "      \n",
        "  if flag and s3.isEmpty():    \n",
        "    print('This expression is correct.') \n",
        "  else:    \n",
        "    print(\"This expression is NOT correct.\")       \n",
        "    if not s3.isEmpty() and flag:\n",
        "      print(f'Error at character #{nc[c-1]+1}. {s3.peek()}- not closed.')\n",
        "    elif not s3.isEmpty():\n",
        "      print(f'Error at character #{nc[c]+1}. {val}- not closed.')\n",
        "    else:\n",
        "      print(f\"Error at character #{no+1}. '{s[no]}'- not opened.\") \n",
        "\n",
        "\n",
        "          \n",
        "st = input()\n",
        "checking(st)\n"
      ]
    },
    {
      "cell_type": "code",
      "source": [
        "## LinkedListStack\n",
        "\n",
        "class Node:\n",
        "  def __init__(self,elem,next):\n",
        "    self.elem = elem\n",
        "    self.next = next\n",
        "\n",
        "class LinkedListStack:\n",
        "  def __init__(self):\n",
        "    self.head = None\n",
        "\n",
        "  def push(self, elem):\n",
        "    nN = Node(elem, None)\n",
        "    nN.next = self.head\n",
        "    self.head = nN\n",
        "\n",
        "  def pop(self):\n",
        "    if self.head != None:\n",
        "      poped_value = self.head\n",
        "      self.head = self.head.next\n",
        "      return poped_value.elem\n",
        "    else:\n",
        "      print(\"Stack Underflow\")\n",
        "\n",
        "  def peek(self):\n",
        "    if self.head != None:\n",
        "      return self.head.elem\n",
        "    else:\n",
        "      print(\"Stack Underflow\")\n",
        "\n",
        "  def isEmpty(self):\n",
        "    if self.head == None:\n",
        "      return True\n",
        "    else: \n",
        "      return False  \n",
        "\n",
        "def checking(s):\n",
        "  flag = True\n",
        "  stc = LinkedListStack()\n",
        "  d = {\")\":\"(\", \"}\":\"{\", \"]\":\"[\"}\n",
        "  no = 0\n",
        "  nc = [None]*len(s)\n",
        "  c = 0\n",
        "\n",
        "  for i in range(len(s)):\n",
        "    if s[i] == '[' or s[i] == '(' or s[i] == '{':\n",
        "      stc.push(s[i])\n",
        "      nc[c] = i\n",
        "      c += 1\n",
        "    elif s[i] == ']' or s[i] == '}' or s[i] == ')':\n",
        "      if stc.isEmpty():\n",
        "        flag = False\n",
        "        no = i\n",
        "        break\n",
        "      else:\n",
        "        val = stc.pop()\n",
        "        c -= 1\n",
        "       \n",
        "        if d[s[i]] != val:\n",
        "          flag = False\n",
        "          break\n",
        "\n",
        "  if flag and stc.isEmpty():    \n",
        "    print('This expression is correct.') \n",
        "  else:    \n",
        "    print(\"This expression is NOT correct.\")       \n",
        "    if not stc.isEmpty() and flag:\n",
        "      print(f'Error at character #{nc[c-1]+1}. {s3.peek()}- not closed.')\n",
        "    elif not stc.isEmpty():\n",
        "      print(f'Error at character #{nc[c]+1}. {val}- not closed.')\n",
        "    else:\n",
        "      print(f\"Error at character #{no+1}. '{s[no]}'- not opened.\") \n",
        "\n",
        "st = input()\n",
        "checking(st)"
      ],
      "metadata": {
        "colab": {
          "base_uri": "https://localhost:8080/"
        },
        "id": "ZWqJ_fBDezSN",
        "outputId": "789bc89e-964c-4be9-cf65-3674ec0dda0f"
      },
      "execution_count": 2,
      "outputs": [
        {
          "output_type": "stream",
          "name": "stdout",
          "text": [
            "1+2*[3*3+{4–5(6(7/8/9)+10)–11+(12*8)]+14\n",
            "This expression is NOT correct.\n",
            "Error at character #10. {- not closed.\n"
          ]
        }
      ]
    }
  ]
}